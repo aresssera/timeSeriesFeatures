{
 "cells": [
  {
   "cell_type": "code",
   "execution_count": null,
   "metadata": {},
   "outputs": [],
   "source": [
    "%matplotlib inline\n",
    "import matplotlib.pyplot as plt\n",
    "import seaborn as sns\n",
    "import numpy as np\n",
    "import pandas as pd\n",
    "import glob\n",
    "import os\n",
    "import feather\n",
    "from sklearn.pipeline import make_pipeline\n",
    "import sklearn\n",
    "sns.set(style=\"whitegrid\")"
   ]
  },
  {
   "cell_type": "code",
   "execution_count": null,
   "metadata": {},
   "outputs": [],
   "source": [
    "# feature extractors\n",
    "\n",
    "import pycatch22\n",
    "from kats.tsfeatures.tsfeatures import TsFeatures\n",
    "from kats.consts import TimeSeriesData\n",
    "tsFeatures = TsFeatures()\n",
    "from tsfresh import extract_features\n",
    "import tsfel"
   ]
  },
  {
   "cell_type": "markdown",
   "metadata": {},
   "source": [
    "--------------------------------------"
   ]
  },
  {
   "cell_type": "code",
   "execution_count": null,
   "metadata": {},
   "outputs": [],
   "source": [
    "from sktime.datasets import load_unit_test\n",
    "\n",
    "# load training data\n",
    "X_train, y_train = load_unit_test(split=\"train\", return_X_y=True)\n",
    "\n",
    "# load test data\n",
    "X_test, y_test = load_unit_test(split=\"test\", return_X_y=True)\n",
    "\n",
    "X_train"
   ]
  },
  {
   "cell_type": "markdown",
   "metadata": {},
   "source": [
    "### CREATE CLASSES"
   ]
  },
  {
   "cell_type": "markdown",
   "metadata": {},
   "source": [
    "#### CATCH22"
   ]
  },
  {
   "cell_type": "code",
   "execution_count": null,
   "metadata": {},
   "outputs": [],
   "source": [
    "class MyCatch22:\n",
    "    \n",
    "    # returns the class itself (shouldn't do anything on data --> fitting, the transformation is done)\n",
    "    def fit(X, y):\n",
    "        return MyCatch22\n",
    "    \n",
    "    # compute the features for all time series using the compute function\n",
    "    def transform(df):\n",
    "        \n",
    "        # stores the computed features\n",
    "        transformedFrame = pd.DataFrame()\n",
    "    \n",
    "        colNames = df.columns\n",
    "        nbrCols  = len(colNames)\n",
    "        nbrTS    = len(df)\n",
    "\n",
    "        for col in range(nbrCols):\n",
    "            dim = colNames[col]\n",
    "            currentDim = pd.DataFrame()\n",
    "        \n",
    "            for row in range(nbrTS):\n",
    "            \n",
    "                ts = df.iloc[row].values[0].tolist()\n",
    "                rawFeat = pycatch22.catch22_all(ts)\n",
    "\n",
    "                # create a dictionary with the feature name as key and the value as value\n",
    "                dictionary = {}\n",
    "                for name,value in zip(rawFeat['names'],rawFeat['values']):\n",
    "                    dictionary[name] = [value]\n",
    "            \n",
    "                # store feature values in a frame (feature names = columns)\n",
    "                features = pd.DataFrame.from_dict(dictionary)\n",
    "                currentDim = pd.concat([currentDim, features], axis=0, ignore_index=True)\n",
    "        \n",
    "            currentDim.columns = [dim + '_' + originalName for originalName in currentDim.columns]\n",
    "            transformedFrame = pd.concat([transformedFrame, currentDim], axis=1, ignore_index=False)\n",
    "        \n",
    "        return transformedFrame.dropna(axis=1)\n",
    "    \n",
    "    "
   ]
  },
  {
   "cell_type": "code",
   "execution_count": null,
   "metadata": {},
   "outputs": [],
   "source": [
    "#MyCatch22.transform(X_test)"
   ]
  },
  {
   "cell_type": "markdown",
   "metadata": {},
   "source": [
    "#### KATS"
   ]
  },
  {
   "cell_type": "code",
   "execution_count": null,
   "metadata": {},
   "outputs": [],
   "source": [
    "class MyKats:\n",
    "    \n",
    "    # returns the class itself (shouldn't do anything on data --> fitting, the transformation is done)\n",
    "    def fit(X, y):\n",
    "        return MyKats\n",
    "    \n",
    "    # compute the features for all time series using the compute function\n",
    "    def transform(df):\n",
    "        \n",
    "        # stores the computed features\n",
    "        transformedFrame = pd.DataFrame()\n",
    "    \n",
    "        colNames = df.columns\n",
    "        nbrCols  = len(colNames)\n",
    "        nbrTS    = len(df)\n",
    "\n",
    "        for col in range(nbrCols):\n",
    "            dim = colNames[col]\n",
    "            currentDim = pd.DataFrame()\n",
    "        \n",
    "            for row in range(nbrTS):\n",
    "                \n",
    "                # transform data to dataframe\n",
    "                ts = df.iloc[row].values[0].to_frame()\n",
    "                ts.columns = ['value']\n",
    "                \n",
    "                # returns dictionary with features as keys and values as values\n",
    "                rawFeatDict = TsFeatures().transform(ts)\n",
    "        \n",
    "                # then create a dataframe, and from that a dataframe row per feature\n",
    "                features = pd.DataFrame.from_dict([rawFeatDict])\n",
    "                currentDim = pd.concat([currentDim, features], axis=0, ignore_index=True)\n",
    "        \n",
    "            currentDim.columns = [dim + '_' + originalName for originalName in currentDim.columns]\n",
    "            transformedFrame = pd.concat([transformedFrame, currentDim], axis=1, ignore_index=False)\n",
    "        \n",
    "        return transformedFrame.dropna(axis=1)\n",
    "    "
   ]
  },
  {
   "cell_type": "code",
   "execution_count": null,
   "metadata": {},
   "outputs": [],
   "source": [
    "#MyKats.transform(X_train)"
   ]
  },
  {
   "cell_type": "markdown",
   "metadata": {},
   "source": [
    "#### TSFRESH"
   ]
  },
  {
   "cell_type": "code",
   "execution_count": null,
   "metadata": {},
   "outputs": [],
   "source": [
    "class MyTsfresh:\n",
    "    \n",
    "    # returns the class itself (shouldn't do anything on data --> fitting, the transformation is done)\n",
    "    def fit(X, y):\n",
    "        return MyTsfresh\n",
    "    \n",
    "    # compute the features for all time series using the compute function\n",
    "    def transform(df):\n",
    "        \n",
    "        # stores the computed features\n",
    "        transformedFrame = pd.DataFrame()\n",
    "    \n",
    "        colNames = df.columns\n",
    "        nbrCols  = len(colNames)\n",
    "        nbrTS    = len(df)\n",
    "\n",
    "        for col in range(nbrCols):\n",
    "            dim = colNames[col]\n",
    "            currentDim = pd.DataFrame()\n",
    "        \n",
    "            for row in range(nbrTS):\n",
    "                \n",
    "                # transform data to dataframe\n",
    "                ts = df.iloc[row].values[0].to_frame()\n",
    "                ts[1] = len(ts) * [1]\n",
    "                ts[2] = np.arange (1, len(ts)+1, 1.0)\n",
    "                ts.columns = ['value', 'id', 'time']\n",
    "                \n",
    "                # get features\n",
    "                features = extract_features(ts, column_id='id', column_value = 'value', column_sort = 'time')\n",
    "                currentDim = pd.concat([currentDim, features], axis=0, ignore_index=True)\n",
    "        \n",
    "            currentDim.columns = [dim + '_' + originalName for originalName in currentDim.columns]\n",
    "            transformedFrame = pd.concat([transformedFrame, currentDim], axis=1, ignore_index=False)\n",
    "        \n",
    "        return transformedFrame.dropna(axis=1)"
   ]
  },
  {
   "cell_type": "code",
   "execution_count": null,
   "metadata": {},
   "outputs": [],
   "source": [
    "#MyTsfresh.transform(X_train)"
   ]
  },
  {
   "cell_type": "markdown",
   "metadata": {},
   "source": [
    "#### TSFEL"
   ]
  },
  {
   "cell_type": "code",
   "execution_count": null,
   "metadata": {},
   "outputs": [],
   "source": [
    "class MyTsfel:\n",
    "    # returns the class itself (shouldn't do anything on data --> fitting, the transformation is done)\n",
    "    def fit(X, y):\n",
    "        return MyTsfel\n",
    "    \n",
    "    # compute the features for all time series using the compute function\n",
    "    def transform(df):\n",
    "        \n",
    "        # stores the computed features\n",
    "        transformedFrame = pd.DataFrame()\n",
    "    \n",
    "        colNames = df.columns\n",
    "        nbrCols  = len(colNames)\n",
    "        nbrTS    = len(df)\n",
    "\n",
    "        for col in range(nbrCols):\n",
    "            dim = colNames[col]\n",
    "            currentDim = pd.DataFrame()\n",
    "        \n",
    "            for row in range(nbrTS):\n",
    "                \n",
    "                # transform data to dataframe\n",
    "                ts = df.iloc[row].values[0].to_frame()\n",
    "                \n",
    "                # Retrieves a pre-defined feature configuration file to extract all available features\n",
    "                cfg = tsfel.get_features_by_domain()\n",
    "                \n",
    "                # get features\n",
    "                features = tsfel.time_series_features_extractor(cfg, ts)\n",
    "                currentDim = pd.concat([currentDim, features], axis=0, ignore_index=True)\n",
    "        \n",
    "            currentDim.columns = [dim + '_' + originalName for originalName in currentDim.columns]\n",
    "            transformedFrame = pd.concat([transformedFrame, currentDim], axis=1, ignore_index=False)\n",
    "        \n",
    "        return transformedFrame.dropna(axis=1)"
   ]
  },
  {
   "cell_type": "code",
   "execution_count": null,
   "metadata": {
    "scrolled": false
   },
   "outputs": [],
   "source": [
    "#MyTsfel.transform(X_train)"
   ]
  },
  {
   "cell_type": "code",
   "execution_count": null,
   "metadata": {},
   "outputs": [],
   "source": [
    "# SOME TESTING\n",
    "\n",
    "'''\n",
    "from sklearn.ensemble import RandomForestClassifier\n",
    "\n",
    "classifier = make_pipeline(\n",
    "    MyTsfresh, RandomForestClassifier(n_estimators=5)\n",
    ")\n",
    "\n",
    "classifier.fit(X_train, y_train)\n",
    "classifier.score(X_test, y_test)\n",
    "'''"
   ]
  },
  {
   "cell_type": "markdown",
   "metadata": {},
   "source": [
    "--------------------------------------"
   ]
  },
  {
   "cell_type": "code",
   "execution_count": null,
   "metadata": {},
   "outputs": [],
   "source": [
    "# needed \n",
    "from sklearn.metrics import accuracy_score\n",
    "\n",
    "#methods = ['catch22', 'kats', 'tsfel', 'tsfresh', 'feasts']\n",
    "methods = ['catch22', 'kats', 'tsfel', 'tsfresh']\n",
    "classes = [MyCatch22, MyKats, MyTsfel, MyTsfresh]\n",
    "\n",
    "def plotAccuracy(l1, l2, name):\n",
    "    \n",
    "    y_pos = np.arange(len(l1))\n",
    "    \n",
    "    # Create bars\n",
    "    plt.bar(y_pos, l1, color='navy')\n",
    "    \n",
    "    # Create names on the x-axis\n",
    "    plt.xticks(y_pos, l2,rotation='vertical')\n",
    "\n",
    "    # Show graphic\n",
    "    plt.xlabel('Method')\n",
    "    plt.ylabel('Accuracy')\n",
    "    # displaying the title\n",
    "    plt.title(name)\n",
    "    plt.show()"
   ]
  },
  {
   "cell_type": "code",
   "execution_count": null,
   "metadata": {},
   "outputs": [],
   "source": [
    "from sktime.classification.feature_based import TSFreshClassifier\n",
    "from sklearn.model_selection import train_test_split\n",
    "from sklearn.preprocessing import StandardScaler\n",
    "from sklearn.datasets import make_moons, make_circles, make_classification\n",
    "from sklearn.neural_network import MLPClassifier\n",
    "from sklearn.neighbors import KNeighborsClassifier\n",
    "from sklearn.svm import SVC\n",
    "from sklearn.gaussian_process import GaussianProcessClassifier\n",
    "from sklearn.gaussian_process.kernels import RBF\n",
    "from sklearn.tree import DecisionTreeClassifier\n",
    "from sklearn.ensemble import RandomForestClassifier, AdaBoostClassifier\n",
    "from sklearn.naive_bayes import GaussianNB\n",
    "from sklearn.discriminant_analysis import QuadraticDiscriminantAnalysis\n",
    "from sklearn.inspection import DecisionBoundaryDisplay\n",
    "from sktime.classification.sklearn import RotationForest\n",
    "from sklearn.dummy import DummyClassifier\n",
    "\n",
    "names = [\"Nearest Neighbors\",\n",
    "         \"Linear SVM\",\n",
    "         \"RBF SVM\",\n",
    "         \"Gaussian Process\",\n",
    "         \"Decision Tree\",\n",
    "         \"Random Forest\",\n",
    "         \"Neural Net\",\n",
    "         \"AdaBoost\",\n",
    "         \"Naive Bayes\",\n",
    "         \"QDA\",\n",
    "         #\"RotationForest\",\n",
    "         \"DummyClassifier\"]\n",
    "\n",
    "classifiers = [KNeighborsClassifier(3),\n",
    "               SVC(kernel=\"linear\", C=0.025),\n",
    "               SVC(gamma=2, C=1),\n",
    "               GaussianProcessClassifier(1.0 * RBF(1.0)),\n",
    "               DecisionTreeClassifier(max_depth=5),\n",
    "               RandomForestClassifier(max_depth=5, n_estimators=10, max_features=1),\n",
    "               MLPClassifier(alpha=1, max_iter=1000),\n",
    "               AdaBoostClassifier(),\n",
    "               GaussianNB(),\n",
    "               QuadraticDiscriminantAnalysis(),\n",
    "               #RotationForest(),\n",
    "               DummyClassifier()]"
   ]
  },
  {
   "cell_type": "code",
   "execution_count": null,
   "metadata": {},
   "outputs": [],
   "source": [
    "nbrClassifiers = len(classifiers)\n",
    "scores = []\n",
    "\n",
    "for c in range(nbrClassifiers):\n",
    "    classifier = TSFreshClassifier(estimator=classifiers[c])\n",
    "    classifier.fit(X_train, y_train)\n",
    "    scores.append(classifier.score(X_test, y_test))\n",
    "    \n"
   ]
  },
  {
   "cell_type": "code",
   "execution_count": null,
   "metadata": {},
   "outputs": [],
   "source": [
    "plotAccuracy(scores, names, 'TSFreshClassifier')"
   ]
  },
  {
   "cell_type": "markdown",
   "metadata": {},
   "source": [
    "--------------------------------------"
   ]
  }
 ],
 "metadata": {
  "interpreter": {
   "hash": "9d800c14abb2bd109b7479fe8830174a66f0a4a77373f77c2c7334932e1a4922"
  },
  "kernelspec": {
   "display_name": "Python 3 (ipykernel)",
   "language": "python",
   "name": "python3"
  },
  "language_info": {
   "codemirror_mode": {
    "name": "ipython",
    "version": 3
   },
   "file_extension": ".py",
   "mimetype": "text/x-python",
   "name": "python",
   "nbconvert_exporter": "python",
   "pygments_lexer": "ipython3",
   "version": "3.8.10"
  }
 },
 "nbformat": 4,
 "nbformat_minor": 1
}
