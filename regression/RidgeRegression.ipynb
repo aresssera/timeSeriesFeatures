{
 "cells": [
  {
   "cell_type": "code",
   "execution_count": 1,
   "metadata": {},
   "outputs": [],
   "source": [
    "%matplotlib inline\n",
    "import matplotlib.pyplot as plt\n",
    "import seaborn as sns\n",
    "import numpy as np\n",
    "import pandas as pd\n",
    "import glob\n",
    "import os\n",
    "import feather\n",
    "sns.set(style=\"whitegrid\")"
   ]
  },
  {
   "cell_type": "code",
   "execution_count": 2,
   "metadata": {},
   "outputs": [],
   "source": [
    "from basicFunction import getAccuracyValues\n",
    "from basicFunction import plotError"
   ]
  },
  {
   "cell_type": "markdown",
   "metadata": {},
   "source": [
    "--------------------------------------"
   ]
  },
  {
   "cell_type": "code",
   "execution_count": 3,
   "metadata": {},
   "outputs": [],
   "source": [
    "from sklearn.linear_model import Ridge\n",
    "reg = Ridge(alpha=1.0)"
   ]
  },
  {
   "cell_type": "code",
   "execution_count": 4,
   "metadata": {},
   "outputs": [
    {
     "name": "stdout",
     "output_type": "stream",
     "text": [
      "Round 1\n",
      "GlobalClimate\n",
      "HumidityHouse\n",
      "HungaryChickenpox\n",
      "IstanbulStockExchange\n",
      "ParkingBirmingham\n",
      "PedalMe\n",
      "\n",
      "Round  2\n",
      "GlobalClimate\n",
      "HumidityHouse\n",
      "HungaryChickenpox\n",
      "IstanbulStockExchange\n",
      "ParkingBirmingham\n",
      "PedalMe\n",
      "\n",
      "\n",
      "Round  3\n",
      "GlobalClimate\n",
      "HumidityHouse\n",
      "HungaryChickenpox\n",
      "IstanbulStockExchange\n",
      "ParkingBirmingham\n",
      "PedalMe\n",
      "\n",
      "\n",
      "Round  4\n",
      "GlobalClimate\n",
      "HumidityHouse\n",
      "HungaryChickenpox\n",
      "IstanbulStockExchange\n",
      "ParkingBirmingham\n"
     ]
    },
    {
     "name": "stderr",
     "output_type": "stream",
     "text": [
      "/home/jastoj/.local/share/virtualenvs/katsTest-PKZRu5Zk/lib/python3.8/site-packages/sklearn/linear_model/_ridge.py:255: UserWarning: Singular matrix in solving dual problem. Using least-squares solution instead.\n",
      "  warnings.warn(\n",
      "/home/jastoj/.local/share/virtualenvs/katsTest-PKZRu5Zk/lib/python3.8/site-packages/sklearn/linear_model/_ridge.py:253: LinAlgWarning: Ill-conditioned matrix (rcond=6.74488e-19): result may not be accurate.\n",
      "  dual_coef = linalg.solve(K, y, assume_a=\"pos\", overwrite_a=False)\n",
      "/home/jastoj/.local/share/virtualenvs/katsTest-PKZRu5Zk/lib/python3.8/site-packages/sklearn/linear_model/_ridge.py:253: LinAlgWarning: Ill-conditioned matrix (rcond=1.80891e-17): result may not be accurate.\n",
      "  dual_coef = linalg.solve(K, y, assume_a=\"pos\", overwrite_a=False)\n"
     ]
    },
    {
     "name": "stdout",
     "output_type": "stream",
     "text": [
      "PedalMe\n",
      "\n",
      "\n",
      "Round  5\n",
      "GlobalClimate\n",
      "HumidityHouse\n",
      "HungaryChickenpox\n",
      "IstanbulStockExchange\n",
      "ParkingBirmingham\n",
      "PedalMe\n",
      "\n",
      "\n",
      "Round  6\n",
      "GlobalClimate\n",
      "HumidityHouse\n",
      "HungaryChickenpox\n",
      "IstanbulStockExchange\n",
      "ParkingBirmingham\n",
      "PedalMe\n",
      "\n",
      "\n"
     ]
    },
    {
     "name": "stderr",
     "output_type": "stream",
     "text": [
      "/home/jastoj/.local/share/virtualenvs/katsTest-PKZRu5Zk/lib/python3.8/site-packages/sklearn/linear_model/_ridge.py:253: LinAlgWarning: Ill-conditioned matrix (rcond=6.15999e-18): result may not be accurate.\n",
      "  dual_coef = linalg.solve(K, y, assume_a=\"pos\", overwrite_a=False)\n"
     ]
    },
    {
     "data": {
      "text/html": [
       "<div>\n",
       "<style scoped>\n",
       "    .dataframe tbody tr th:only-of-type {\n",
       "        vertical-align: middle;\n",
       "    }\n",
       "\n",
       "    .dataframe tbody tr th {\n",
       "        vertical-align: top;\n",
       "    }\n",
       "\n",
       "    .dataframe thead th {\n",
       "        text-align: right;\n",
       "    }\n",
       "</style>\n",
       "<table border=\"1\" class=\"dataframe\">\n",
       "  <thead>\n",
       "    <tr style=\"text-align: right;\">\n",
       "      <th></th>\n",
       "      <th>GlobalClimate</th>\n",
       "      <th>HumidityHouse</th>\n",
       "      <th>HungaryChickenpox</th>\n",
       "      <th>IstanbulStockExchange</th>\n",
       "      <th>ParkingBirmingham</th>\n",
       "      <th>PedalMe</th>\n",
       "    </tr>\n",
       "  </thead>\n",
       "  <tbody>\n",
       "    <tr>\n",
       "      <th>0</th>\n",
       "      <td>0.995766</td>\n",
       "      <td>-0.840921</td>\n",
       "      <td>0.703897</td>\n",
       "      <td>-0.376424</td>\n",
       "      <td>0.999917</td>\n",
       "      <td>0.436563</td>\n",
       "    </tr>\n",
       "    <tr>\n",
       "      <th>1</th>\n",
       "      <td>-0.161090</td>\n",
       "      <td>-34.166775</td>\n",
       "      <td>-7.995779</td>\n",
       "      <td>0.968301</td>\n",
       "      <td>-0.839345</td>\n",
       "      <td>-17.975171</td>\n",
       "    </tr>\n",
       "    <tr>\n",
       "      <th>2</th>\n",
       "      <td>0.916058</td>\n",
       "      <td>-7.031135</td>\n",
       "      <td>-0.591347</td>\n",
       "      <td>-50.523042</td>\n",
       "      <td>-0.730615</td>\n",
       "      <td>-3.272209</td>\n",
       "    </tr>\n",
       "    <tr>\n",
       "      <th>3</th>\n",
       "      <td>0.117972</td>\n",
       "      <td>-0.552971</td>\n",
       "      <td>-3.176355</td>\n",
       "      <td>-13.978541</td>\n",
       "      <td>-2.802010</td>\n",
       "      <td>-40.814541</td>\n",
       "    </tr>\n",
       "    <tr>\n",
       "      <th>4</th>\n",
       "      <td>0.927589</td>\n",
       "      <td>-34.556905</td>\n",
       "      <td>0.625296</td>\n",
       "      <td>-1.585956</td>\n",
       "      <td>0.952816</td>\n",
       "      <td>-0.870781</td>\n",
       "    </tr>\n",
       "    <tr>\n",
       "      <th>5</th>\n",
       "      <td>0.957088</td>\n",
       "      <td>-1.346114</td>\n",
       "      <td>0.566257</td>\n",
       "      <td>0.589593</td>\n",
       "      <td>0.920816</td>\n",
       "      <td>0.695508</td>\n",
       "    </tr>\n",
       "  </tbody>\n",
       "</table>\n",
       "</div>"
      ],
      "text/plain": [
       "   GlobalClimate  HumidityHouse  HungaryChickenpox  IstanbulStockExchange  \\\n",
       "0       0.995766      -0.840921           0.703897              -0.376424   \n",
       "1      -0.161090     -34.166775          -7.995779               0.968301   \n",
       "2       0.916058      -7.031135          -0.591347             -50.523042   \n",
       "3       0.117972      -0.552971          -3.176355             -13.978541   \n",
       "4       0.927589     -34.556905           0.625296              -1.585956   \n",
       "5       0.957088      -1.346114           0.566257               0.589593   \n",
       "\n",
       "   ParkingBirmingham    PedalMe  \n",
       "0           0.999917   0.436563  \n",
       "1          -0.839345 -17.975171  \n",
       "2          -0.730615  -3.272209  \n",
       "3          -2.802010 -40.814541  \n",
       "4           0.952816  -0.870781  \n",
       "5           0.920816   0.695508  "
      ]
     },
     "execution_count": 4,
     "metadata": {},
     "output_type": "execute_result"
    }
   ],
   "source": [
    "cod = getAccuracyValues(reg)\n",
    "cod"
   ]
  },
  {
   "cell_type": "markdown",
   "metadata": {},
   "source": [
    "--------------------------------------"
   ]
  },
  {
   "cell_type": "code",
   "execution_count": 6,
   "metadata": {},
   "outputs": [],
   "source": [
    "regressors = ['BRR_sklearn', \n",
    "              'BRR_catch22',\n",
    "              'BRR_kats',\n",
    "              'BRR_tsfeatures',\n",
    "              'BRR_tsfel',\n",
    "              'BRR_tsfresh']"
   ]
  },
  {
   "cell_type": "code",
   "execution_count": 7,
   "metadata": {},
   "outputs": [
    {
     "ename": "TypeError",
     "evalue": "plotError() missing 1 required positional argument: 'dateiName'",
     "output_type": "error",
     "traceback": [
      "\u001b[0;31m---------------------------------------------------------------------------\u001b[0m",
      "\u001b[0;31mTypeError\u001b[0m                                 Traceback (most recent call last)",
      "Cell \u001b[0;32mIn[7], line 1\u001b[0m\n\u001b[0;32m----> 1\u001b[0m \u001b[43mplotError\u001b[49m\u001b[43m(\u001b[49m\u001b[43mcod\u001b[49m\u001b[43m,\u001b[49m\u001b[43m \u001b[49m\u001b[43mregressors\u001b[49m\u001b[43m,\u001b[49m\u001b[43m \u001b[49m\u001b[43mperDataset\u001b[49m\u001b[43m \u001b[49m\u001b[38;5;241;43m=\u001b[39;49m\u001b[43m \u001b[49m\u001b[38;5;28;43;01mTrue\u001b[39;49;00m\u001b[43m)\u001b[49m\n",
      "\u001b[0;31mTypeError\u001b[0m: plotError() missing 1 required positional argument: 'dateiName'"
     ]
    }
   ],
   "source": [
    "plotError(cod, regressors, perDataset = True)"
   ]
  },
  {
   "cell_type": "code",
   "execution_count": null,
   "metadata": {},
   "outputs": [],
   "source": []
  }
 ],
 "metadata": {
  "interpreter": {
   "hash": "9d800c14abb2bd109b7479fe8830174a66f0a4a77373f77c2c7334932e1a4922"
  },
  "kernelspec": {
   "display_name": "Python 3 (ipykernel)",
   "language": "python",
   "name": "python3"
  },
  "language_info": {
   "codemirror_mode": {
    "name": "ipython",
    "version": 3
   },
   "file_extension": ".py",
   "mimetype": "text/x-python",
   "name": "python",
   "nbconvert_exporter": "python",
   "pygments_lexer": "ipython3",
   "version": "3.8.10"
  }
 },
 "nbformat": 4,
 "nbformat_minor": 1
}
