{
 "cells": [
  {
   "cell_type": "markdown",
   "metadata": {},
   "source": [
    "### Import libraries"
   ]
  },
  {
   "cell_type": "code",
   "execution_count": null,
   "metadata": {},
   "outputs": [],
   "source": [
    "%matplotlib inline\n",
    "import matplotlib.pyplot as plt\n",
    "import seaborn as sns\n",
    "import numpy as np\n",
    "import pandas as pd\n",
    "import random\n",
    "import statistics\n",
    "import time\n",
    "import glob\n",
    "import os\n",
    "import feather\n",
    "from sklearn.model_selection import train_test_split\n",
    "sns.set(style=\"whitegrid\")"
   ]
  },
  {
   "cell_type": "code",
   "execution_count": null,
   "metadata": {},
   "outputs": [],
   "source": [
    "# feature extractors\n",
    "\n",
    "import pycatch22\n",
    "from kats.tsfeatures.tsfeatures import TsFeatures\n",
    "from kats.consts import TimeSeriesData\n",
    "tsFeatures = TsFeatures()\n",
    "\n",
    "from tsfeatures import tsfeatures\n",
    "from tsfresh import extract_features\n",
    "import tsfel"
   ]
  },
  {
   "cell_type": "markdown",
   "metadata": {},
   "source": [
    "--------------------------------------"
   ]
  },
  {
   "cell_type": "markdown",
   "metadata": {},
   "source": [
    "### Functions to calculate the features for _catch22_, _Kats_, _tsfel_ and _tsfresh_"
   ]
  },
  {
   "cell_type": "code",
   "execution_count": null,
   "metadata": {},
   "outputs": [],
   "source": [
    "# takes the columns of a dataframe as the rows\n",
    "def getFeatureRows(features, i, group, extractor):\n",
    "    \n",
    "    df = pd.DataFrame(columns=['id', 'group', 'names', 'values', 'method'])\n",
    "\n",
    "    for column in features:\n",
    "        df2 = {'id': i, 'group': group, 'names': column, 'values': features[column].values, 'method': extractor}\n",
    "        df = pd.concat([df, pd.DataFrame.from_dict(df2)], ignore_index=True)\n",
    "        \n",
    "    return df\n"
   ]
  },
  {
   "cell_type": "code",
   "execution_count": null,
   "metadata": {},
   "outputs": [],
   "source": [
    "#########################################################\n",
    "# functions to compute according to the feature extractor\n",
    "\n",
    "\n",
    "def computeCatch22(d, i, time_var, values_var, group):\n",
    "    \n",
    "    ts = dataFrameToList(d[values_var].to_frame())\n",
    "    rawFeat = pycatch22.catch22_all(ts)\n",
    "    \n",
    "    # create a dictionary with the feature name as key and the value as value\n",
    "    dictionary = {}\n",
    "    for name,value in zip(rawFeat['names'],rawFeat['values']):\n",
    "        dictionary[name] = [value]\n",
    "        \n",
    "    # then create a dataframe, and from that a dataframe row per feature\n",
    "    features = pd.DataFrame.from_dict(dictionary)\n",
    "    return getFeatureRows(features, i, group, 'catch22')\n",
    "    \n",
    "    \n",
    "def computeKats(d, i, time_var, values_var, group):\n",
    "    \n",
    "    rawFeatDict = TsFeatures().transform(d)\n",
    "        \n",
    "    # then create a dataframe, and from that a dataframe row per feature\n",
    "    features = pd.DataFrame.from_dict([rawFeatDict])\n",
    "    return getFeatureRows(features, i, group, 'kats')\n",
    "    \n",
    "\n",
    "def computeTsfeatures(d, i, time_var, values_var, group):\n",
    "    \n",
    "    ts = d[values_var].to_frame()\n",
    "    \n",
    "    ts.rename(columns={values_var: \"y\"}, inplace=True)\n",
    "    ts.insert(0, 'ds', pd.date_range(start='2020/12/01', periods=len(ts)))\n",
    "    ts.insert(0, 'unique_id', len(ts) * [i])\n",
    "    \n",
    "    features = tsfeatures(ts)\n",
    "    return getFeatureRows(features, i, group, 'tsfeatures')\n",
    "    \n",
    "    \n",
    "def computeTsfel(d, i, time_var, values_var, group):\n",
    "    \n",
    "    ts = d[values_var].to_frame()\n",
    "    \n",
    "    # if no argument is passed retrieves all available features\n",
    "    cfg = tsfel.get_features_by_domain()\n",
    "    features = tsfel.time_series_features_extractor(cfg, ts)\n",
    "    return getFeatureRows(features, i, group, 'tsfel')\n",
    "    \n",
    "    \n",
    "def computeTsfresh(d, i, time_var, values_var, group):\n",
    "    features = extract_features(d, column_id='id', column_value = values_var, column_sort = time_var)\n",
    "    return getFeatureRows(features, i, group, 'tsfresh')\n",
    "\n",
    "\n",
    "# create a switch which chooses the correct function depending on the chosen extractor\n",
    "switch = {'catch22' : computeCatch22, 'kats' : computeKats, 'tsfeatures': computeTsfeatures, 'tsfel' : computeTsfel, 'tsfresh' : computeTsfresh}\n"
   ]
  },
  {
   "cell_type": "code",
   "execution_count": null,
   "metadata": {},
   "outputs": [],
   "source": [
    "def calculate_features(df, id_var, time_var, values_var, group_var, feature_set):\n",
    "    \n",
    "    calculatedFeatures = pd.DataFrame()\n",
    "    \n",
    "    for i in df['id'].unique():\n",
    "        \n",
    "        print(\"Computing features for \", i)\n",
    "        # d as all the data available for the current time series\n",
    "        d = df.loc[df[id_var] == i]\n",
    "        group = d[group_var].unique()[0]\n",
    "        computeFeat = switch[feature_set](d, i, time_var, values_var, group)\n",
    "        calculatedFeatures = pd.concat([calculatedFeatures, computeFeat], ignore_index=True)\n",
    "        \n",
    "    return calculatedFeatures#.sort_values(['names', 'id'], ascending=[False, True], inplace=False, ignore_index=True) #needs to be sorted\n",
    "        "
   ]
  },
  {
   "cell_type": "markdown",
   "metadata": {},
   "source": [
    "--------------------------------------"
   ]
  },
  {
   "cell_type": "markdown",
   "metadata": {},
   "source": [
    "### Load the whole data set and calculate features"
   ]
  },
  {
   "cell_type": "code",
   "execution_count": null,
   "metadata": {},
   "outputs": [],
   "source": [
    "# load the time series'\n",
    "emp604        = feather.read_dataframe('data/emp604.feather')\n",
    "\n",
    "outs_catch22    = calculate_features(emp604, 'id', 'timepoint', 'value', 'Keywords', 'catch22')\n",
    "outs_kats       = calculate_features(emp604, 'id', 'timepoint', 'value', 'Keywords', 'kats')\n",
    "outs_tsfel      = calculate_features(emp604, 'id', 'timepoint', 'value', 'Keywords', 'tsfel')\n",
    "outs_tsfresh    = calculate_features(emp604, 'id', 'timepoint', 'value', 'Keywords', 'tsfresh')\n",
    "outs_tsfeatures = calculate_features(emp604, 'id', 'timepoint', 'value', 'Keywords', 'tsfeatures')\n",
    "        "
   ]
  },
  {
   "cell_type": "code",
   "execution_count": null,
   "metadata": {},
   "outputs": [],
   "source": [
    "# saved in files so no need to recalculate the features\n",
    "\n",
    "outs_catch22.to_feather('data/outs_catch22_exp.feather')\n",
    "outs_kats.to_feather('data/outs_kats_exp.feather')\n",
    "outs_tsfel.to_feather('data/outs_tsfel_exp.feather')\n",
    "outs_tsfresh.to_feather('data/outs_tsfresh_exp.feather')\n",
    "outs_tsfeatures.to_feather('data/outs_tsfresh_exp.feather')"
   ]
  },
  {
   "cell_type": "code",
   "execution_count": null,
   "metadata": {},
   "outputs": [],
   "source": [
    "# merge all the feature dataframes from the python extractors and save in file\n",
    "'''\n",
    "pythonFeatures = pd.concat([outs_catch22, outs_kats, outs_tsfel, outs_tsfresh], ignore_index=True)\n",
    "pythonFeatures.to_feather('data/pythonFeatures.feather')\n",
    "'''"
   ]
  },
  {
   "cell_type": "markdown",
   "metadata": {},
   "source": [
    "--------------------------------------"
   ]
  },
  {
   "cell_type": "code",
   "execution_count": null,
   "metadata": {},
   "outputs": [],
   "source": [
    "f.to_feather('data/EmpFeatMat.feather')"
   ]
  },
  {
   "cell_type": "code",
   "execution_count": null,
   "metadata": {},
   "outputs": [],
   "source": [
    "# merge all features (hctsa still missing)\n",
    "Emp1000FeatMat = pd.concat([pythonFeatures, rFeatures], ignore_index=True)\n",
    "Emp1000FeatMat.to_csv('data/Emp1000FeatMatOhneHCTSA.csv')\n",
    "Emp1000FeatMat.to_feather('data/Emp1000FeatMatOhneHCTSA.feather')"
   ]
  },
  {
   "cell_type": "markdown",
   "metadata": {},
   "source": [
    "--------------------------------------"
   ]
  }
 ],
 "metadata": {
  "kernelspec": {
   "display_name": "Python 3 (ipykernel)",
   "language": "python",
   "name": "python3"
  },
  "language_info": {
   "codemirror_mode": {
    "name": "ipython",
    "version": 3
   },
   "file_extension": ".py",
   "mimetype": "text/x-python",
   "name": "python",
   "nbconvert_exporter": "python",
   "pygments_lexer": "ipython3",
   "version": "3.8.10"
  }
 },
 "nbformat": 4,
 "nbformat_minor": 4
}
