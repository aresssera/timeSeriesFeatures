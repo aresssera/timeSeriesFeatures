{
 "cells": [
  {
   "cell_type": "markdown",
   "metadata": {},
   "source": [
    "### Import libraries"
   ]
  },
  {
   "cell_type": "code",
   "execution_count": null,
   "metadata": {},
   "outputs": [],
   "source": [
    "%matplotlib inline\n",
    "import matplotlib.pyplot as plt\n",
    "import seaborn as sns\n",
    "import numpy as np\n",
    "import pandas as pd\n",
    "import glob\n",
    "import os\n",
    "import feather\n",
    "sns.set(style=\"whitegrid\")"
   ]
  },
  {
   "cell_type": "markdown",
   "metadata": {},
   "source": [
    "--------------------------------------"
   ]
  },
  {
   "cell_type": "markdown",
   "metadata": {},
   "source": [
    "### Load calculated features"
   ]
  },
  {
   "cell_type": "code",
   "execution_count": null,
   "metadata": {
    "scrolled": true
   },
   "outputs": [],
   "source": [
    "fullFeatMat = feather.read_dataframe('data/EmpFeatMat.feather')\n",
    "filt        = feather.read_dataframe('data/fullFeatMatFilt.feather')"
   ]
  },
  {
   "cell_type": "code",
   "execution_count": null,
   "metadata": {},
   "outputs": [],
   "source": [
    "tsfel = filt[filt['method'] == 'tsfel']\n",
    "tsfresh = filt[filt['method'] == 'tsfresh']\n",
    "\n",
    "# add column comb_id\n",
    "tsfel['comb_id']   = tsfel.apply(lambda row: row['method'] + '_' + row['names'], axis=1)\n",
    "tsfresh['comb_id'] = tsfresh.apply(lambda row: row['method'] + '_' + row['names'], axis=1)\n"
   ]
  },
  {
   "cell_type": "code",
   "execution_count": null,
   "metadata": {},
   "outputs": [],
   "source": [
    "def withinCorrelation(dataset):\n",
    "    \n",
    "    # each column represents the value of a feature for all the given time series'\n",
    "    pivotTable = pd.pivot_table(dataset, index=['id'], columns=['comb_id'])\n",
    "    \n",
    "    # get the spearman correlation - feature by feature\n",
    "    df = pivotTable.corr(method='spearman')\n",
    "\n",
    "    tmpDF = df.stack()\n",
    "    tmpDF.index.names = [None, 'V1', 'V2']\n",
    "    tmpDF.columns = ['correlation']\n",
    "    return tmpDF.reset_index().iloc[: , 1:], df.iloc[:, ::-1]\n",
    "    "
   ]
  },
  {
   "cell_type": "code",
   "execution_count": null,
   "metadata": {},
   "outputs": [],
   "source": [
    "tsfel_corrFrame, tsfel_corrMatrix      = withinCorrelation(tsfel)\n",
    "tsfresh_corrFrame, tsfresh_corrMatrix  = withinCorrelation(tsfresh)"
   ]
  },
  {
   "cell_type": "code",
   "execution_count": null,
   "metadata": {},
   "outputs": [],
   "source": [
    "l = len(tsfel_corrFrame['V1'].unique()) * [None]\n",
    "l[0] = 'F1'\n",
    "l[99] = 'F100'\n",
    "l[199] = 'F200'\n",
    "l[299] = 'F300'\n",
    "l[377] = 'F378'\n",
    "l.reverse()\n",
    "p = l.copy()\n",
    "l.reverse()"
   ]
  },
  {
   "cell_type": "code",
   "execution_count": null,
   "metadata": {},
   "outputs": [],
   "source": [
    "ax = plt.axes()\n",
    "featBfeat = sns.heatmap(tsfel_corrMatrix, ax = ax, cmap='viridis', xticklabels = l, yticklabels = p)\n",
    "\n",
    "yticks = np.linspace(10,100,10)\n",
    "ylabels = np.linspace(100,378,5)\n",
    "\n",
    "\n",
    "#ax.set_title('Feature by feature correlation - TSFEL')\n",
    "ax.set(xlabel=None, ylabel=None)\n",
    "plt.show()\n",
    "\n",
    "fig = featBfeat.get_figure()\n",
    "fig.savefig('outputs/featByFeat_tsfel.pdf')"
   ]
  },
  {
   "cell_type": "code",
   "execution_count": null,
   "metadata": {},
   "outputs": [],
   "source": [
    "len(tsfresh_corrFrame['V1'].unique())"
   ]
  },
  {
   "cell_type": "code",
   "execution_count": null,
   "metadata": {},
   "outputs": [],
   "source": [
    "l = len(tsfresh_corrFrame['V1'].unique()) * [None]\n",
    "l[0] = 'F1'\n",
    "l[149] = 'F150'\n",
    "l[299] = 'F300'\n",
    "l[449] = 'F450'\n",
    "l[599] = 'F600'\n",
    "l[743] = 'F744'\n",
    "l.reverse()\n",
    "p = l.copy()\n",
    "l.reverse()"
   ]
  },
  {
   "cell_type": "code",
   "execution_count": null,
   "metadata": {},
   "outputs": [],
   "source": [
    "ax = plt.axes()\n",
    "featBfeat = sns.heatmap(tsfresh_corrMatrix, ax = ax, cmap='viridis', yticklabels=p, xticklabels=l)\n",
    "\n",
    "#ax.set_title('Feature by feature correlation - TSFRESH')\n",
    "ax.set(xlabel=None, ylabel=None)\n",
    "plt.show()\n",
    "\n",
    "fig = featBfeat.get_figure()\n",
    "fig.savefig('outputs/featByFeat_tsfresh.pdf')"
   ]
  },
  {
   "cell_type": "markdown",
   "metadata": {},
   "source": [
    "--------------------------------------"
   ]
  }
 ],
 "metadata": {
  "kernelspec": {
   "display_name": "Python 3 (ipykernel)",
   "language": "python",
   "name": "python3"
  },
  "language_info": {
   "codemirror_mode": {
    "name": "ipython",
    "version": 3
   },
   "file_extension": ".py",
   "mimetype": "text/x-python",
   "name": "python",
   "nbconvert_exporter": "python",
   "pygments_lexer": "ipython3",
   "version": "3.8.10"
  }
 },
 "nbformat": 4,
 "nbformat_minor": 4
}
