{
 "cells": [
  {
   "cell_type": "code",
   "execution_count": null,
   "metadata": {},
   "outputs": [],
   "source": [
    "%matplotlib inline\n",
    "import matplotlib.pyplot as plt\n",
    "import seaborn as sns\n",
    "import numpy as np\n",
    "import pandas as pd\n",
    "import glob\n",
    "import os\n",
    "import feather\n",
    "from sklearn.pipeline import make_pipeline\n",
    "from sktime.datasets import load_from_tsfile_to_dataframe\n",
    "sns.set(style=\"whitegrid\")"
   ]
  },
  {
   "cell_type": "markdown",
   "metadata": {},
   "source": [
    "--------------------------------------"
   ]
  },
  {
   "cell_type": "markdown",
   "metadata": {},
   "source": [
    "### Preparing the frames to store information"
   ]
  },
  {
   "cell_type": "code",
   "execution_count": null,
   "metadata": {},
   "outputs": [],
   "source": [
    "# row corresponds to classifier, col to dataset\n",
    "accuracy = pd.DataFrame(columns=datasets)"
   ]
  },
  {
   "cell_type": "code",
   "execution_count": null,
   "metadata": {},
   "outputs": [],
   "source": [
    "classifiers = ['RF_sumCl', \n",
    "               'RF_sklearn', \n",
    "               'RF_catch22',\n",
    "               'RF_kats',\n",
    "               'RF_tsfeatures',\n",
    "               'RF_tsfel',\n",
    "               'RF_tsfresh']\n",
    "\n",
    "Adiac_pred        = pd.DataFrame(columns=classifiers)\n",
    "Fish_pred         = pd.DataFrame(columns=classifiers)\n",
    "OliveOil_pred     = pd.DataFrame(columns=classifiers)\n",
    "Phoneme_pred      = pd.DataFrame(columns=classifiers)\n",
    "ShapesAll_pred    = pd.DataFrame(columns=classifiers)\n",
    "SwedishLeaf_pred  = pd.DataFrame(columns=classifiers)\n",
    "WordSynonyms_pred = pd.DataFrame(columns=classifiers)\n",
    "\n",
    "predictionFrames = [Adiac_pred,\n",
    "                    Fish_pred,\n",
    "                    OliveOil_pred,\n",
    "                    Phoneme_pred,\n",
    "                    ShapesAll_pred,\n",
    "                    SwedishLeaf_pred,\n",
    "                    WordSynonyms_pred]"
   ]
  },
  {
   "cell_type": "markdown",
   "metadata": {},
   "source": [
    "--------------------------------------"
   ]
  },
  {
   "cell_type": "markdown",
   "metadata": {},
   "source": [
    "### Starting with SKTIME"
   ]
  },
  {
   "cell_type": "code",
   "execution_count": null,
   "metadata": {},
   "outputs": [],
   "source": [
    "from sklearn.ensemble import RandomForestClassifier\n",
    "from sktime.classification.feature_based import SummaryClassifier\n",
    "\n",
    "sklearn_classifier = RandomForestClassifier()\n",
    "sc_classifier       = SummaryClassifier(estimator=sklearn_classifier)"
   ]
  },
  {
   "cell_type": "code",
   "execution_count": null,
   "metadata": {},
   "outputs": [],
   "source": [
    "score2 = []\n",
    "\n",
    "for dataset, i in zip(datasets, range(len(predictionFrames))):\n",
    "    print(dataset)\n",
    "    \n",
    "    # load training data\n",
    "    X_train, y_train = load_from_tsfile_to_dataframe('data/' + dataset + '_TRAIN.ts')\n",
    "\n",
    "    # load test data\n",
    "    X_test, y_test = load_from_tsfile_to_dataframe('data/' + dataset + '_TEST.ts')\n",
    "    \n",
    "    ############################\n",
    "    # sktime - SummaryClassifier\n",
    "    \n",
    "    if dataset == 'Phoneme':\n",
    "        score2.append(np.nan)\n",
    "        continue\n",
    "    else:\n",
    "        sc_classifier.fit(X_train, y_train)\n",
    "        score2.append(sc_classifier.score(X_test, y_test))\n",
    "        predictionFrames[i][classifiers[0]] = sc_classifier.predict(X_test)"
   ]
  },
  {
   "cell_type": "code",
   "execution_count": null,
   "metadata": {},
   "outputs": [],
   "source": [
    "accuracy.loc[0] = score2\n",
    "accuracy"
   ]
  },
  {
   "cell_type": "markdown",
   "metadata": {},
   "source": [
    "--------------------------------------"
   ]
  },
  {
   "cell_type": "markdown",
   "metadata": {},
   "source": [
    "### SKLEARN - basic"
   ]
  },
  {
   "cell_type": "code",
   "execution_count": null,
   "metadata": {},
   "outputs": [],
   "source": [
    "def getFrame(dataset, labels):\n",
    "    \n",
    "    # stores series \n",
    "    finalFrame = pd.DataFrame()\n",
    "    \n",
    "    for row in dataset.iterrows():\n",
    "        finalFrame = pd.concat([finalFrame, row[1].values[0].to_frame().T], ignore_index=True)\n",
    "    \n",
    "    # adds labels at the end of the frame\n",
    "    finalFrame['label'] = [int(i) for i in labels]\n",
    "\n",
    "    return finalFrame"
   ]
  },
  {
   "cell_type": "code",
   "execution_count": null,
   "metadata": {},
   "outputs": [],
   "source": [
    "score3 = []\n",
    "\n",
    "for dataset, i in zip(datasets, range(len(predictionFrames))):\n",
    "    \n",
    "    # load training data\n",
    "    X_train, y_train = load_from_tsfile_to_dataframe('data/' + dataset + '_TRAIN.ts')\n",
    "    trainData = getFrame(X_train, y_train)\n",
    "\n",
    "    # load test data\n",
    "    X_test, y_test = load_from_tsfile_to_dataframe('data/' + dataset + '_TEST.ts')\n",
    "    testData = getFrame(X_test, y_test)\n",
    "    \n",
    "    sklearn_classifier.fit(trainData.iloc[:, :-1], trainData['label'])\n",
    "    score3.append(sklearn_classifier.score(testData.iloc[:, :-1], testData['label']))\n",
    "    predictionFrames[i][classifiers[1]] = sklearn_classifier.predict(testData.iloc[:, :-1])"
   ]
  },
  {
   "cell_type": "code",
   "execution_count": null,
   "metadata": {},
   "outputs": [],
   "source": [
    "accuracy.loc[1] = score3\n",
    "accuracy"
   ]
  },
  {
   "cell_type": "markdown",
   "metadata": {},
   "source": [
    "--------------------------------------"
   ]
  },
  {
   "cell_type": "markdown",
   "metadata": {},
   "source": [
    "### SKLEARN x Features"
   ]
  },
  {
   "cell_type": "code",
   "execution_count": null,
   "metadata": {},
   "outputs": [],
   "source": [
    "j = 2\n",
    "for ex, name in zip(extractors, classifiers[-5:]) :\n",
    "    scoreX = []\n",
    "    \n",
    "    for dataset, i in zip(datasets, range(len(predictionFrames))):\n",
    "        \n",
    "        train = ex.loc[(ex['data'] == dataset) & (ex['set'] == 'train')]\n",
    "        test  = ex.loc[(ex['data'] == dataset) & (ex['set'] == 'test')]\n",
    "        \n",
    "        sklearn_classifier.fit(train.iloc[:, :-3], train['label'])\n",
    "        scoreX.append(sklearn_classifier.score(test.iloc[:, :-3], test['label']))\n",
    "        \n",
    "        pred = sklearn_classifier.predict(test.iloc[:, :-3])\n",
    "        \n",
    "        if len(pred) == len(predictionFrames[i][name]):\n",
    "            predictionFrames[i][name] = pred\n",
    "        else:\n",
    "            continue\n",
    "        \n",
    "    accuracy.loc[j] = scoreX\n",
    "    j += 1"
   ]
  },
  {
   "cell_type": "code",
   "execution_count": null,
   "metadata": {},
   "outputs": [],
   "source": [
    "accuracy"
   ]
  },
  {
   "cell_type": "markdown",
   "metadata": {},
   "source": [
    "--------------------------------------"
   ]
  },
  {
   "cell_type": "markdown",
   "metadata": {},
   "source": [
    "### Plotting accuracy"
   ]
  },
  {
   "cell_type": "markdown",
   "metadata": {},
   "source": [
    "#### Plot for each dataset"
   ]
  },
  {
   "cell_type": "code",
   "execution_count": null,
   "metadata": {},
   "outputs": [],
   "source": [
    "plotAccuracy(accuracy, classifiers, True)"
   ]
  },
  {
   "cell_type": "markdown",
   "metadata": {},
   "source": [
    "#### Plot for each classifier"
   ]
  },
  {
   "cell_type": "code",
   "execution_count": null,
   "metadata": {},
   "outputs": [],
   "source": [
    "plotAccuracy(accuracy, classifiers, False)"
   ]
  },
  {
   "cell_type": "markdown",
   "metadata": {},
   "source": [
    "--------------------------------------"
   ]
  }
 ],
 "metadata": {
  "interpreter": {
   "hash": "9d800c14abb2bd109b7479fe8830174a66f0a4a77373f77c2c7334932e1a4922"
  },
  "kernelspec": {
   "display_name": "Python 3 (ipykernel)",
   "language": "python",
   "name": "python3"
  },
  "language_info": {
   "codemirror_mode": {
    "name": "ipython",
    "version": 3
   },
   "file_extension": ".py",
   "mimetype": "text/x-python",
   "name": "python",
   "nbconvert_exporter": "python",
   "pygments_lexer": "ipython3",
   "version": "3.8.10"
  }
 },
 "nbformat": 4,
 "nbformat_minor": 1
}
