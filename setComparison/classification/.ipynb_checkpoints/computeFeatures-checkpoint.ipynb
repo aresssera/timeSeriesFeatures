{
 "cells": [
  {
   "cell_type": "code",
   "execution_count": null,
   "metadata": {},
   "outputs": [],
   "source": [
    "%matplotlib inline\n",
    "import matplotlib.pyplot as plt\n",
    "import seaborn as sns\n",
    "import numpy as np\n",
    "import pandas as pd\n",
    "import statistics\n",
    "import time\n",
    "import glob\n",
    "import os\n",
    "import feather\n",
    "from sktime.datasets import load_from_tsfile_to_dataframe\n",
    "sns.set(style=\"whitegrid\")"
   ]
  },
  {
   "cell_type": "code",
   "execution_count": null,
   "metadata": {},
   "outputs": [],
   "source": [
    "from featureExtraction import *"
   ]
  },
  {
   "cell_type": "markdown",
   "metadata": {},
   "source": [
    "--------------------------------------"
   ]
  },
  {
   "cell_type": "markdown",
   "metadata": {},
   "source": [
    "### LOAD DATA"
   ]
  },
  {
   "cell_type": "code",
   "execution_count": null,
   "metadata": {},
   "outputs": [],
   "source": [
    "datasets = ['Adiac', 'Fish', 'OliveOil', 'Phoneme', 'ShapesAll', 'SwedishLeaf', 'WordSynonyms']"
   ]
  },
  {
   "cell_type": "markdown",
   "metadata": {},
   "source": [
    "Compute for CATCH22:"
   ]
  },
  {
   "cell_type": "code",
   "execution_count": null,
   "metadata": {},
   "outputs": [],
   "source": [
    "df = pd.DataFrame()\n",
    "\n",
    "for dataset in datasets:\n",
    "    print(dataset)\n",
    "    \n",
    "    xTrain, yTrain = load_from_tsfile_to_dataframe('data/' + dataset + '_TRAIN.ts')\n",
    "    xTest, yTest   = load_from_tsfile_to_dataframe('data/' + dataset + '_TEST.ts')\n",
    "    \n",
    "    frameTrain = Catch22.transform(xTrain)\n",
    "    l = len(frameTrain)\n",
    "    frameTrain['data'] = l * [dataset]\n",
    "    frameTrain['set'] = l * ['train'] \n",
    "    frameTrain['label'] = [int(i) for i in yTrain]\n",
    "    \n",
    "    frameTest = Catch22.transform(xTest)\n",
    "    l = len(frameTest)\n",
    "    frameTest['data'] = l * [dataset]\n",
    "    frameTest['set'] = len(frameTest) * ['test'] \n",
    "    frameTest['label'] = [int(i) for i in yTest]\n",
    "    \n",
    "    df = pd.concat([df, frameTrain, frameTest], ignore_index=True)\n",
    "\n",
    "# remove features with more than 10% NaN\n",
    "output_catch22 = df.drop(df.columns[df.apply(lambda col: (col.isnull().sum() / len(df)) > 0.1)], axis=1)\n",
    "\n",
    "# drop time series with nan values\n",
    "output_catch22 = output_catch22.dropna(axis=0)\n",
    "output_catch22.to_feather('featureFrames/output_catch22.feather')"
   ]
  },
  {
   "cell_type": "markdown",
   "metadata": {},
   "source": [
    "Compute for KATS:"
   ]
  },
  {
   "cell_type": "code",
   "execution_count": null,
   "metadata": {},
   "outputs": [],
   "source": [
    "df = pd.DataFrame()\n",
    "\n",
    "for dataset in datasets:\n",
    "    print(dataset)\n",
    "    \n",
    "    xTrain, yTrain = load_from_tsfile_to_dataframe('data/' + dataset + '_TRAIN.ts')\n",
    "    xTest, yTest   = load_from_tsfile_to_dataframe('data/' + dataset + '_TEST.ts')\n",
    "    \n",
    "    frameTrain = Kats.transform(xTrain)\n",
    "    l = len(frameTrain)\n",
    "    frameTrain['data'] = l * [dataset]\n",
    "    frameTrain['set'] = l * ['train'] \n",
    "    frameTrain['label'] = [int(i) for i in yTrain]\n",
    "    \n",
    "    frameTest = Kats.transform(xTest)\n",
    "    l = len(frameTest)\n",
    "    frameTest['data'] = l * [dataset]\n",
    "    frameTest['set'] = len(frameTest) * ['test'] \n",
    "    frameTest['label'] = [int(i) for i in yTest]\n",
    "    \n",
    "    df = pd.concat([df, frameTrain, frameTest], ignore_index=True)\n",
    "\n",
    "# remove features with more than 10% NaN\n",
    "output_kats = df.drop(df.columns[df.apply(lambda col: (col.isnull().sum() / len(df)) > 0.1)], axis=1)\n",
    "\n",
    "# drop time series with nan values\n",
    "output_kats = output_kats.dropna(axis=0)\n",
    "output_kats.to_feather('featureFrames/output_kats.feather')"
   ]
  },
  {
   "cell_type": "markdown",
   "metadata": {},
   "source": [
    "Compute for TSFEATURES:"
   ]
  },
  {
   "cell_type": "code",
   "execution_count": null,
   "metadata": {},
   "outputs": [],
   "source": [
    "df = pd.DataFrame()\n",
    "\n",
    "for dataset in datasets:\n",
    "    print(dataset)\n",
    "    \n",
    "    xTrain, yTrain = load_from_tsfile_to_dataframe('data/' + dataset + '_TRAIN.ts')\n",
    "    xTest, yTest   = load_from_tsfile_to_dataframe('data/' + dataset + '_TEST.ts')\n",
    "    \n",
    "    frameTrain = TSFeatures.transform(xTrain)\n",
    "    l = len(frameTrain)\n",
    "    frameTrain['data'] = l * [dataset]\n",
    "    frameTrain['set'] = l * ['train'] \n",
    "    frameTrain['label'] = [int(i) for i in yTrain]\n",
    "    \n",
    "    frameTest = TSFeatures.transform(xTest)\n",
    "    l = len(frameTest)\n",
    "    frameTest['data'] = l * [dataset]\n",
    "    frameTest['set'] = len(frameTest) * ['test'] \n",
    "    frameTest['label'] = [int(i) for i in yTest]\n",
    "    \n",
    "    df = pd.concat([df, frameTrain, frameTest], ignore_index=True)\n",
    "\n",
    "# remove features with more than 10% NaN\n",
    "output_tsfeature = df.drop(df.columns[df.apply(lambda col: (col.isnull().sum() / len(df)) > 0.1)], axis=1)\n",
    "\n",
    "# drop time series with nan values\n",
    "output_tsfeature = output_tsfeature.dropna(axis=0)\n",
    "output_tsfeature = output_tsfeature.reset_index().iloc[:, 1:]\n",
    "output_tsfeature.to_feather('featureFrames/output_tsfeature.feather')"
   ]
  },
  {
   "cell_type": "code",
   "execution_count": null,
   "metadata": {},
   "outputs": [],
   "source": [
    "output_tsfeature = output_tsfeature.reset_index()\n",
    "output_tsfeature.iloc[:,2:].to_feather('featureFrames/test.feather')"
   ]
  },
  {
   "cell_type": "markdown",
   "metadata": {},
   "source": [
    "Compute for TSFEL:"
   ]
  },
  {
   "cell_type": "code",
   "execution_count": null,
   "metadata": {},
   "outputs": [],
   "source": [
    "df = pd.DataFrame()\n",
    "\n",
    "for dataset in datasets:\n",
    "    print(dataset)\n",
    "    \n",
    "    xTrain, yTrain = load_from_tsfile_to_dataframe('data/' + dataset + '_TRAIN.ts')\n",
    "    xTest, yTest   = load_from_tsfile_to_dataframe('data/' + dataset + '_TEST.ts')\n",
    "    \n",
    "    frameTrain = TSFel.transform(xTrain)\n",
    "    l = len(frameTrain)\n",
    "    frameTrain['data'] = l * [dataset]\n",
    "    frameTrain['set'] = l * ['train'] \n",
    "    frameTrain['label'] = [int(i) for i in yTrain]\n",
    "    \n",
    "    frameTest = TSFel.transform(xTest)\n",
    "    l = len(frameTest)\n",
    "    frameTest['data'] = l * [dataset]\n",
    "    frameTest['set'] = len(frameTest) * ['test'] \n",
    "    frameTest['label'] = [int(i) for i in yTest]\n",
    "    \n",
    "    df = pd.concat([df, frameTrain, frameTest], ignore_index=True)\n",
    "\n",
    "# remove features with more than 10% NaN\n",
    "output_tsfel = df.drop(df.columns[df.apply(lambda col: (col.isnull().sum() / len(df)) > 0.1)], axis=1)\n",
    "\n",
    "# drop time series with nan values\n",
    "output_tsfel = output_tsfel.dropna(axis=0)\n",
    "output_tsfel.to_feather('featureFrames/output_tsfel.feather')"
   ]
  },
  {
   "cell_type": "markdown",
   "metadata": {},
   "source": [
    "Compute for TSFRESH:"
   ]
  },
  {
   "cell_type": "code",
   "execution_count": null,
   "metadata": {},
   "outputs": [],
   "source": [
    "df = pd.DataFrame()\n",
    "\n",
    "for dataset in datasets:\n",
    "    print(dataset)\n",
    "    \n",
    "    xTrain, yTrain = load_from_tsfile_to_dataframe('data/' + dataset + '_TRAIN.ts')\n",
    "    xTest, yTest   = load_from_tsfile_to_dataframe('data/' + dataset + '_TEST.ts')\n",
    "    \n",
    "    frameTrain = TSFresh.transform(xTrain)\n",
    "    l = len(frameTrain)\n",
    "    frameTrain['data'] = l * [dataset]\n",
    "    frameTrain['set'] = l * ['train'] \n",
    "    frameTrain['label'] = [int(i) for i in yTrain]\n",
    "    \n",
    "    frameTest = TSFresh.transform(xTest)\n",
    "    l = len(frameTest)\n",
    "    frameTest['data'] = l * [dataset]\n",
    "    frameTest['set'] = len(frameTest) * ['test'] \n",
    "    frameTest['label'] = [int(i) for i in yTest]\n",
    "    \n",
    "    df = pd.concat([df, frameTrain, frameTest], ignore_index=True)\n",
    "\n",
    "# remove features with more than 10% NaN\n",
    "output_tsfresh = df.drop(df.columns[df.apply(lambda col: (col.isnull().sum() / len(df)) > 0.1)], axis=1)\n",
    "\n",
    "# drop time series with nan values\n",
    "output_tsfresh = output_tsfresh.dropna(axis=0)\n",
    "output_tsfresh.to_feather('featureFrames/output_tsfresh.feather')"
   ]
  },
  {
   "cell_type": "code",
   "execution_count": null,
   "metadata": {},
   "outputs": [],
   "source": [
    "d = output_tsfresh.reset_index()\n",
    "d.to_feather('featureFrames/output_tsfresh.feather')"
   ]
  }
 ],
 "metadata": {
  "interpreter": {
   "hash": "9d800c14abb2bd109b7479fe8830174a66f0a4a77373f77c2c7334932e1a4922"
  },
  "kernelspec": {
   "display_name": "Python 3 (ipykernel)",
   "language": "python",
   "name": "python3"
  },
  "language_info": {
   "codemirror_mode": {
    "name": "ipython",
    "version": 3
   },
   "file_extension": ".py",
   "mimetype": "text/x-python",
   "name": "python",
   "nbconvert_exporter": "python",
   "pygments_lexer": "ipython3",
   "version": "3.8.10"
  }
 },
 "nbformat": 4,
 "nbformat_minor": 1
}
