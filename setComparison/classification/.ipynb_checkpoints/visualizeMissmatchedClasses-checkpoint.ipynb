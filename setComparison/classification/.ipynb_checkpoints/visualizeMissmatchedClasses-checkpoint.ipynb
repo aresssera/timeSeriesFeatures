{
 "cells": [
  {
   "cell_type": "code",
   "execution_count": null,
   "metadata": {},
   "outputs": [],
   "source": [
    "%matplotlib inline\n",
    "import matplotlib.pyplot as plt\n",
    "import seaborn as sns\n",
    "import numpy as np\n",
    "import pandas as pd\n",
    "import glob\n",
    "import os\n",
    "import feather\n",
    "sns.set(style=\"whitegrid\")"
   ]
  },
  {
   "cell_type": "markdown",
   "metadata": {},
   "source": [
    "--------------------------------------"
   ]
  },
  {
   "cell_type": "code",
   "execution_count": null,
   "metadata": {},
   "outputs": [],
   "source": [
    "def getOneFrame(dataset, labels, predictions1, predictions2):\n",
    "    \n",
    "    # stores series \n",
    "    finalFrame = pd.DataFrame()\n",
    "    \n",
    "    for row in dataset.iterrows():\n",
    "        finalFrame = pd.concat([finalFrame, row[1].values[0].to_frame().T], ignore_index=True)\n",
    "    \n",
    "    # adds labels at the end of the frame\n",
    "    finalFrame['label'] = [int(i) for i in labels]\n",
    "    finalFrame['pred1']  = [int(i) for i in predictions1]\n",
    "    finalFrame['pred2']  = [int(i) for i in predictions2]\n",
    "\n",
    "    return finalFrame"
   ]
  },
  {
   "cell_type": "code",
   "execution_count": null,
   "metadata": {},
   "outputs": [],
   "source": [
    "def plotTsClasses(df, axes, colors, predX, i, c):\n",
    "    classFrame = df[df['label'] == (c)]\n",
    "            \n",
    "    axes[i].set_title('Time series type ' + str(c))\n",
    "    axes[i].set_xlabel('Time')\n",
    "    axes[i].set_ylabel('Value')\n",
    "        \n",
    "    for j in range(len(classFrame)):\n",
    "            \n",
    "        ts = classFrame.iloc[j]\n",
    "            \n",
    "        if ts['label'] != ts[predX]:\n",
    "            axes[i].plot(range(len(ts)-3), ts[:-3], color=colors[int(ts[predX])-1], linewidth=6, linestyle='dashdot')\n",
    "        else:\n",
    "            axes[i].plot(range(len(ts)-3), ts[:-3], color=colors[int(ts[predX])-1], linewidth=4)"
   ]
  },
  {
   "cell_type": "code",
   "execution_count": null,
   "metadata": {},
   "outputs": [],
   "source": [
    "def plotSeriesPerClass(dataset, labels, predictions1, predictions2, title):\n",
    "    \n",
    "    df = getOneFrame(dataset, labels, predictions1, predictions2)\n",
    "    \n",
    "    classes = df['label'].unique()\n",
    "    nbrClasses = len(classes)\n",
    "    cols = 2\n",
    "    #rows = len(predictions1)\n",
    "    \n",
    "    fig, ax = plt.subplots(nbrClasses, cols, figsize=(30, 70))\n",
    "    # using padding\n",
    "    fig.tight_layout(pad=7.0)\n",
    "    fig.suptitle(title)\n",
    "    \n",
    "    # colours\n",
    "    #----------------------------------\n",
    "    colors = ['darkmagenta', \n",
    "              'darkkhaki', \n",
    "              'cyan', \n",
    "              'slategrey',\n",
    "              'tomato', \n",
    "              'navy',\n",
    "              'mediumaquamarine', \n",
    "              'palegreen',\n",
    "              'fuchsia',\n",
    "              'darkgreen',\n",
    "              'orange',\n",
    "              'orchid',\n",
    "              'dimgrey',\n",
    "              'darksalmon',\n",
    "              'rebeccapurple',\n",
    "              'cadetblue']\n",
    "    #----------------------------------\n",
    "    \n",
    "    \n",
    "    axes = ax.flatten()\n",
    "    \n",
    "    # first for the left side\n",
    "    for i, c in zip(range(0, (2*nbrClasses)+1, 2), classes):\n",
    "        plotTsClasses(df, axes, colors, 'pred1', i, c)\n",
    "        \n",
    "    # then for the right side:\n",
    "    for i, c in zip(range(1, (2*nbrClasses)+1, 2), classes):\n",
    "        plotTsClasses(df, axes, colors, 'pred2', i, c)\n",
    "                "
   ]
  },
  {
   "cell_type": "code",
   "execution_count": null,
   "metadata": {},
   "outputs": [],
   "source": [
    "plotSeriesPerClass(X_test, y_test, y_predict1, y_predict2, 'catch22 x ' + names[8])"
   ]
  },
  {
   "cell_type": "markdown",
   "metadata": {},
   "source": [
    "--------------------------------------"
   ]
  }
 ],
 "metadata": {
  "interpreter": {
   "hash": "9d800c14abb2bd109b7479fe8830174a66f0a4a77373f77c2c7334932e1a4922"
  },
  "kernelspec": {
   "display_name": "Python 3 (ipykernel)",
   "language": "python",
   "name": "python3"
  },
  "language_info": {
   "codemirror_mode": {
    "name": "ipython",
    "version": 3
   },
   "file_extension": ".py",
   "mimetype": "text/x-python",
   "name": "python",
   "nbconvert_exporter": "python",
   "pygments_lexer": "ipython3",
   "version": "3.8.10"
  }
 },
 "nbformat": 4,
 "nbformat_minor": 1
}
