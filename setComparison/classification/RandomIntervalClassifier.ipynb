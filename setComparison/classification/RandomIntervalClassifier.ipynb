{
 "cells": [
  {
   "cell_type": "code",
   "execution_count": null,
   "metadata": {},
   "outputs": [],
   "source": [
    "%matplotlib inline\n",
    "import matplotlib.pyplot as plt\n",
    "import seaborn as sns\n",
    "import numpy as np\n",
    "import pandas as pd\n",
    "import glob\n",
    "import os\n",
    "import time\n",
    "import feather\n",
    "from sktime.classification.feature_based import RandomIntervalClassifier\n",
    "from sktime.datasets import load_from_tsfile_to_dataframe\n",
    "sns.set(style=\"whitegrid\")"
   ]
  },
  {
   "cell_type": "code",
   "execution_count": null,
   "metadata": {},
   "outputs": [],
   "source": [
    "from RIC_transformers import *"
   ]
  },
  {
   "cell_type": "markdown",
   "metadata": {},
   "source": [
    "--------------------------------------"
   ]
  },
  {
   "cell_type": "markdown",
   "metadata": {},
   "source": [
    "### LOAD DATA"
   ]
  },
  {
   "cell_type": "code",
   "execution_count": null,
   "metadata": {},
   "outputs": [],
   "source": [
    "# load training data\n",
    "X_train, y_train = load_from_tsfile_to_dataframe('data/OliveOil_TRAIN.ts')\n",
    "\n",
    "# load test data\n",
    "X_test, y_test = load_from_tsfile_to_dataframe('data/OliveOil_TEST.ts')"
   ]
  },
  {
   "cell_type": "code",
   "execution_count": null,
   "metadata": {},
   "outputs": [],
   "source": [
    "#datasets = ['Adiac', 'Fish', 'OliveOil', 'SwedishLeaf']\n",
    "datasets = [Fish', 'OliveOil', 'SwedishLeaf']\n",
    "\n",
    "\n",
    "# --> reduce runtime, number of intervals < 31\n",
    "nbrIntervals = [30, 24, 12, 27]\n",
    "\n",
    "classifiers = ['RIC', \n",
    "               'RIC_catch22', \n",
    "               'RIC_kats',\n",
    "               'RIC_tsfel',\n",
    "               'RIC_tsfresh']\n",
    "\n",
    "transformers = [None, Catch22(), Kats(), TSFel(), TSFresh()]\n",
    "scores = np.zeros((len(transformers), len(datasets)))"
   ]
  },
  {
   "cell_type": "markdown",
   "metadata": {},
   "source": [
    "--------------------------------------"
   ]
  },
  {
   "cell_type": "code",
   "execution_count": null,
   "metadata": {},
   "outputs": [],
   "source": [
    "def calcScore(X_train, y_train, X_test, y_test, nbrIntervals, transformer=None):\n",
    "    \n",
    "    classifier = RandomIntervalClassifier(n_intervals=nbrIntervals, interval_transformers=transformer, random_state=2)\n",
    "    \n",
    "    #start = time.time()\n",
    "    classifier.fit(X_train, y_train)\n",
    "    #end = time.time()\n",
    "\n",
    "    #t0 = time.time()\n",
    "    score = classifier.score(X_test, y_test)\n",
    "    #t1 = time.time()\n",
    "\n",
    "    #print('Fitting time: ', end-start)\n",
    "    #print('Prediction time: ', t1-t0)\n",
    "    \n",
    "    return score\n",
    "    "
   ]
  },
  {
   "cell_type": "code",
   "execution_count": null,
   "metadata": {},
   "outputs": [],
   "source": [
    "datasets = ['Adiac', 'Fish', 'OliveOil', 'SwedishLeaf']\n",
    "for i in [0]:\n",
    "    \n",
    "    dataset   = datasets[i]\n",
    "    intervals = nbrIntervals[i]\n",
    "    print(dataset)\n",
    "    \n",
    "    # load training data\n",
    "    X_train, y_train = load_from_tsfile_to_dataframe('data/' + dataset + '_TRAIN.ts')\n",
    "\n",
    "    # load test data\n",
    "    X_test, y_test = load_from_tsfile_to_dataframe('data/' + dataset + '_TEST.ts')\n",
    "    \n",
    "    j = 1\n",
    "    transformer = transformers[j]\n",
    "    scores[j,i] = calcScore(X_train, y_train, X_test, y_test, intervals, transformer)"
   ]
  },
  {
   "cell_type": "code",
   "execution_count": null,
   "metadata": {},
   "outputs": [],
   "source": [
    "scores"
   ]
  },
  {
   "cell_type": "markdown",
   "metadata": {},
   "source": [
    "--------------------------------------"
   ]
  },
  {
   "cell_type": "code",
   "execution_count": null,
   "metadata": {},
   "outputs": [],
   "source": [
    "datasets = ['Adiac', 'Fish', 'OliveOil', 'SwedishLeaf']\n",
    "for i in range(2,4):\n",
    "    \n",
    "    dataset = datasets[i]\n",
    "    print(dataset)\n",
    "    \n",
    "    # load training data\n",
    "    X_train, y_train = load_from_tsfile_to_dataframe('data/' + dataset + '_TRAIN.ts')\n",
    "\n",
    "    # load test data\n",
    "    X_test, y_test = load_from_tsfile_to_dataframe('data/' + dataset + '_TEST.ts')\n",
    "    \n",
    "    j = 4\n",
    "    scores[j,i] = calcScore(X_train, y_train, X_test, y_test, TSFresh())"
   ]
  },
  {
   "cell_type": "code",
   "execution_count": null,
   "metadata": {},
   "outputs": [],
   "source": [
    "scores = np.array([[0.77749361, 0.92571429, 0.93333333, 0.928     ],\n",
    "       [0.76726343, 0.91428571, 0.9       , 0.912     ],\n",
    "       [0.        , 0.        , 0.86666667, 0.        ],\n",
    "       [0.78005115, 0.        , 0.9       , 0.        ],\n",
    "       [0.        , 0.        , 0.9       , 0.        ]])"
   ]
  },
  {
   "cell_type": "code",
   "execution_count": null,
   "metadata": {},
   "outputs": [],
   "source": [
    "names = ['RIC', 'RIC_catch22', 'RIC_kats', 'RIC_tsfel', 'RIC_tsfresh']\n",
    "scores = []\n",
    "\n",
    "def calcScore(transformer=None, X_train, y_train, X_test, y_test):\n",
    "    \n",
    "    classifier = RandomIntervalClassifier(n_intervals=12, interval_transformers=transformer, random_state=2)\n",
    "    \n",
    "    start = time.time()\n",
    "    classifier.fit(X_train, y_train)\n",
    "    end = time.time()\n",
    "    \n",
    "\n",
    "    t0 = time.time()\n",
    "    scores.append(classifier.score(X_test, y_test))\n",
    "    t1 = time.time()\n",
    "\n",
    "    #print('Fitting time: ', end-start)\n",
    "    #print('Prediction time: ', t1-t0)\n",
    "    "
   ]
  },
  {
   "cell_type": "markdown",
   "metadata": {},
   "source": [
    "--------------------------------------"
   ]
  },
  {
   "cell_type": "markdown",
   "metadata": {},
   "source": [
    "ORIGINAL"
   ]
  },
  {
   "cell_type": "code",
   "execution_count": null,
   "metadata": {},
   "outputs": [],
   "source": [
    "calcScore()"
   ]
  },
  {
   "cell_type": "markdown",
   "metadata": {},
   "source": [
    "CATCH22"
   ]
  },
  {
   "cell_type": "code",
   "execution_count": null,
   "metadata": {},
   "outputs": [],
   "source": [
    "calcScore(transformer=Catch22())"
   ]
  },
  {
   "cell_type": "markdown",
   "metadata": {},
   "source": [
    "KATS"
   ]
  },
  {
   "cell_type": "code",
   "execution_count": null,
   "metadata": {},
   "outputs": [],
   "source": [
    "calcScore(transformer=Kats())"
   ]
  },
  {
   "cell_type": "markdown",
   "metadata": {},
   "source": [
    "TSFEL"
   ]
  },
  {
   "cell_type": "code",
   "execution_count": null,
   "metadata": {},
   "outputs": [],
   "source": [
    "calcScore(transformer=TSFel())"
   ]
  },
  {
   "cell_type": "markdown",
   "metadata": {},
   "source": [
    "TSFRESH"
   ]
  },
  {
   "cell_type": "code",
   "execution_count": null,
   "metadata": {
    "scrolled": false
   },
   "outputs": [],
   "source": [
    "calcScore(transformer=TSFresh())"
   ]
  },
  {
   "cell_type": "code",
   "execution_count": null,
   "metadata": {},
   "outputs": [],
   "source": []
  },
  {
   "cell_type": "markdown",
   "metadata": {},
   "source": [
    "--------------------------------------"
   ]
  },
  {
   "cell_type": "markdown",
   "metadata": {},
   "source": [
    "### Plot"
   ]
  },
  {
   "cell_type": "code",
   "execution_count": null,
   "metadata": {},
   "outputs": [],
   "source": [
    "# row corresponds to classifier, col to dataset\n",
    "accuracy = pd.DataFrame(scores, columns=datasets)\n",
    "accuracy"
   ]
  },
  {
   "cell_type": "code",
   "execution_count": null,
   "metadata": {},
   "outputs": [],
   "source": [
    "scores"
   ]
  },
  {
   "cell_type": "code",
   "execution_count": null,
   "metadata": {},
   "outputs": [],
   "source": [
    "def plotPerDataset(axes, y_pos, nbrPlots, df):\n",
    "    \n",
    "    for c in range(nbrPlots):\n",
    "        \n",
    "        axes[c].set_title(df.columns[c])\n",
    "        axes[c].set_xlabel('Classifier')\n",
    "        axes[c].set_ylabel('Accuracy')\n",
    "        \n",
    "        # Create bars\n",
    "        axes[c].bar(y_pos, df.iloc[:, c], color='maroon')\n",
    "        \n",
    "        #\n",
    "        axes[c].set_xticks(y_pos, classifiers, rotation='vertical')\n",
    "    \n",
    "    \n",
    "def plotPerClassifier(axes, y_pos, nbrPlots, df):\n",
    "    \n",
    "    for c in range(nbrPlots):\n",
    "        \n",
    "        axes[c].set_title(classifiers[c])\n",
    "        axes[c].set_xlabel('Dataset')\n",
    "        axes[c].set_ylabel('Accuracy')\n",
    "        \n",
    "        # Create bars\n",
    "        axes[c].bar(y_pos, df.iloc[c], color='maroon')\n",
    "        \n",
    "        #\n",
    "        axes[c].set_xticks(y_pos, datasets, rotation='vertical') \n",
    "    \n",
    "\n",
    "def plotAccuracy(df, perDataset = True):\n",
    "    \n",
    "    cols = 3\n",
    "    \n",
    "    if perDataset:\n",
    "        nbrPlots = len(df.columns)\n",
    "        y_pos    = np.arange(len(df))\n",
    "    else:\n",
    "        nbrPlots = len(df)\n",
    "        y_pos    = np.arange(len(df.columns))\n",
    "    \n",
    "    rows = int(np.ceil(nbrPlots/cols))\n",
    "    \n",
    "    fig, ax = plt.subplots(rows, cols, figsize=(30, 30))\n",
    "    # using padding\n",
    "    fig.tight_layout(pad=14.0)\n",
    "    \n",
    "    axes = ax.flatten()\n",
    "    \n",
    "    if perDataset:\n",
    "        plotPerDataset(axes, y_pos, nbrPlots, df)\n",
    "    else:\n",
    "        plotPerClassifier(axes, y_pos, nbrPlots, df)\n",
    "    \n",
    "     "
   ]
  },
  {
   "cell_type": "code",
   "execution_count": null,
   "metadata": {},
   "outputs": [],
   "source": [
    "plotAccuracy(accuracy)"
   ]
  },
  {
   "cell_type": "code",
   "execution_count": null,
   "metadata": {},
   "outputs": [],
   "source": [
    "plotAccuracy(accuracy, False)"
   ]
  },
  {
   "cell_type": "code",
   "execution_count": null,
   "metadata": {},
   "outputs": [],
   "source": [
    "def plotAccuracy(l1, l2, title):\n",
    "    \n",
    "    y_pos = np.arange(len(l1))\n",
    "    \n",
    "    # Create bars\n",
    "    plt.bar(y_pos, l1, color='darkslategrey')\n",
    "    \n",
    "    # Create names on the x-axis\n",
    "    plt.xticks(y_pos, l2,rotation='vertical')\n",
    "\n",
    "    plt.xlabel('Method')\n",
    "    plt.ylabel('Accuracy')\n",
    "    plt.title(title)\n",
    "    plt.show()\n",
    "    \n",
    "plotAccuracy(scores, names, 'RandomIntervalClassifier')"
   ]
  },
  {
   "cell_type": "code",
   "execution_count": null,
   "metadata": {},
   "outputs": [],
   "source": []
  }
 ],
 "metadata": {
  "interpreter": {
   "hash": "9d800c14abb2bd109b7479fe8830174a66f0a4a77373f77c2c7334932e1a4922"
  },
  "kernelspec": {
   "display_name": "Python 3 (ipykernel)",
   "language": "python",
   "name": "python3"
  },
  "language_info": {
   "codemirror_mode": {
    "name": "ipython",
    "version": 3
   },
   "file_extension": ".py",
   "mimetype": "text/x-python",
   "name": "python",
   "nbconvert_exporter": "python",
   "pygments_lexer": "ipython3",
   "version": "3.8.10"
  }
 },
 "nbformat": 4,
 "nbformat_minor": 1
}
