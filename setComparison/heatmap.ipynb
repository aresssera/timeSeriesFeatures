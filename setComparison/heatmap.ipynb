{
 "cells": [
  {
   "cell_type": "markdown",
   "metadata": {},
   "source": [
    "### Import libraries"
   ]
  },
  {
   "cell_type": "code",
   "execution_count": null,
   "metadata": {},
   "outputs": [],
   "source": [
    "%matplotlib inline\n",
    "import matplotlib.pyplot as plt\n",
    "import seaborn as sns\n",
    "import numpy as np\n",
    "import pandas as pd\n",
    "import time\n",
    "import feather\n",
    "from os import listdir\n",
    "from os.path import join, isfile\n",
    "sns.set(style=\"whitegrid\")\n",
    "pd.options.mode.chained_assignment = None "
   ]
  },
  {
   "cell_type": "markdown",
   "metadata": {},
   "source": [
    "--------------------------------------"
   ]
  },
  {
   "cell_type": "markdown",
   "metadata": {},
   "source": [
    "### Load correlation matrices"
   ]
  },
  {
   "cell_type": "code",
   "execution_count": null,
   "metadata": {},
   "outputs": [],
   "source": [
    "#fileList = ['corrMatsNormExp/' + f for f in listdir('corrMatsNormExp/') if isfile(join('corrMatsNormExp/', f))]\n",
    "fileList = ['corrMats/' + f for f in listdir('corrMats/') if isfile(join('corrMats/', f))]\n",
    "fileList"
   ]
  },
  {
   "cell_type": "markdown",
   "metadata": {},
   "source": [
    "--------------------------------------"
   ]
  },
  {
   "cell_type": "markdown",
   "metadata": {},
   "source": [
    "### Compute the max-abs-mean correlation"
   ]
  },
  {
   "cell_type": "markdown",
   "metadata": {},
   "source": [
    "Functions used to compute the correlation between two methods, calculating 2 ways:\n",
    "1. method1 as test, method2 as benchmark\n",
    "2. method2 as test, method1 as benchmark"
   ]
  },
  {
   "cell_type": "code",
   "execution_count": null,
   "metadata": {},
   "outputs": [],
   "source": [
    "def compute_correlation(absMat, feat_i):\n",
    "    \n",
    "    # for each feature in the method, take the maximum correlation\n",
    "    maxList = []\n",
    "    \n",
    "    for feat in absMat[feat_i].unique():\n",
    "        \n",
    "        maxList.append(absMat[absMat[feat_i] == feat]['corr'].max())\n",
    "    \n",
    "    # last step: take the mean of all the maximum values\n",
    "    return (sum(maxList) / len(maxList))\n",
    "\n",
    "\n",
    "def correlation_between_methods(corrMat, resDF):\n",
    "    \n",
    "    # drop all rows with NaN value\n",
    "    absMat = corrMat.dropna()\n",
    "    absMat['corr'] = absMat['corr'].abs()\n",
    "    \n",
    "    method1 = corrMat['method1'].unique()[0]\n",
    "    method2 = corrMat['method2'].unique()[0]\n",
    "    \n",
    "    corr1 = compute_correlation(absMat, 'feat1')\n",
    "    corr2 = compute_correlation(absMat, 'feat2')\n",
    "    \n",
    "    newRow1 = {'test': method1, 'benchmark': method2, 'corr': corr1}\n",
    "    newRow2 = {'test': method2, 'benchmark': method1, 'corr': corr2}\n",
    "    \n",
    "    resDF = pd.concat([resDF, pd.DataFrame.from_dict([newRow1]), pd.DataFrame.from_dict([newRow2])], ignore_index=True)\n",
    "    \n",
    "    return resDF"
   ]
  },
  {
   "cell_type": "code",
   "execution_count": null,
   "metadata": {},
   "outputs": [],
   "source": [
    "mat = pd.DataFrame(columns=['test', 'benchmark', 'corr'])\n",
    "corrMatList = []\n",
    "\n",
    "for file in fileList:\n",
    "    \n",
    "    df = feather.read_dataframe(file)\n",
    "    corrMatList.append(df)\n",
    "    mat = correlation_between_methods(df, mat)"
   ]
  },
  {
   "cell_type": "markdown",
   "metadata": {},
   "source": [
    "Store the correlation values in an orderer (smallest to biggest feature set)."
   ]
  },
  {
   "cell_type": "code",
   "execution_count": null,
   "metadata": {},
   "outputs": [],
   "source": [
    "methodsRev = ['tsfresh', 'tsfel', 'tsfeatures', 'kats', 'catch22']\n",
    "methods    = ['catch22', 'kats', 'tsfeatures', 'tsfel', 'tsfresh']\n",
    "\n",
    "results = []\n",
    "\n",
    "for benchmark in methodsRev:\n",
    "    \n",
    "    correlations = pd.pivot_table(mat[mat['benchmark'] == benchmark], columns=['test'])\n",
    "    correlations[benchmark] = 1\n",
    "    \n",
    "    # to store the values\n",
    "    arr = np.ones(len(correlations.columns))\n",
    "    \n",
    "    for col in correlations:\n",
    "        ind = methods.index(col)\n",
    "        \n",
    "        arr[ind] = correlations[col]\n",
    "    \n",
    "    results.append(arr)\n",
    "    \n",
    "res = pd.DataFrame(results, methodsRev, methods)"
   ]
  },
  {
   "cell_type": "markdown",
   "metadata": {},
   "source": [
    "--------------------------------------"
   ]
  },
  {
   "cell_type": "markdown",
   "metadata": {},
   "source": [
    "### Plot heatmap"
   ]
  },
  {
   "cell_type": "markdown",
   "metadata": {},
   "source": [
    "Reconstructed correlation matrix:"
   ]
  },
  {
   "cell_type": "code",
   "execution_count": null,
   "metadata": {},
   "outputs": [],
   "source": [
    "correlationMatrix = sns.heatmap(res, annot=True)\n",
    "#correlationMatrix.set(xlabel='Test', ylabel='Benchmark')\n",
    "\n",
    "ax = correlationMatrix\n",
    "\n",
    "ax.set_ylabel('Benchmark', labelpad=20)\n",
    "ax.set_xlabel('Test', labelpad=30)\n",
    "ax.collections[0].colorbar.set_label(\"S(T|B)\", labelpad=30)\n",
    "\n",
    "fig = correlationMatrix.get_figure()\n",
    "fig.savefig('outputs/correlationMatrix.pdf', bbox_inches='tight') "
   ]
  },
  {
   "cell_type": "code",
   "execution_count": null,
   "metadata": {},
   "outputs": [],
   "source": []
  }
 ],
 "metadata": {
  "kernelspec": {
   "display_name": "Python 3 (ipykernel)",
   "language": "python",
   "name": "python3"
  },
  "language_info": {
   "codemirror_mode": {
    "name": "ipython",
    "version": 3
   },
   "file_extension": ".py",
   "mimetype": "text/x-python",
   "name": "python",
   "nbconvert_exporter": "python",
   "pygments_lexer": "ipython3",
   "version": "3.8.10"
  }
 },
 "nbformat": 4,
 "nbformat_minor": 4
}
