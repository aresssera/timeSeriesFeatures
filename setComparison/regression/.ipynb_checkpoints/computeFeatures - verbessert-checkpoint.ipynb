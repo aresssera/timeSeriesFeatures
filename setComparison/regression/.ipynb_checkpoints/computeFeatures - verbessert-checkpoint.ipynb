{
 "cells": [
  {
   "cell_type": "code",
   "execution_count": 8,
   "metadata": {},
   "outputs": [],
   "source": [
    "%matplotlib inline\n",
    "import matplotlib.pyplot as plt\n",
    "import seaborn as sns\n",
    "import numpy as np\n",
    "import pandas as pd\n",
    "import statistics\n",
    "import time\n",
    "import glob\n",
    "import os\n",
    "import feather\n",
    "import scipy.stats as stats\n",
    "import itertools\n",
    "from sklearn.pipeline import make_pipeline\n",
    "from sktime.datasets import load_from_tsfile_to_dataframe\n",
    "sns.set(style=\"whitegrid\")"
   ]
  },
  {
   "cell_type": "code",
   "execution_count": 9,
   "metadata": {},
   "outputs": [],
   "source": [
    "from featureExtraction import *"
   ]
  },
  {
   "cell_type": "markdown",
   "metadata": {},
   "source": [
    "--------------------------------------"
   ]
  },
  {
   "cell_type": "markdown",
   "metadata": {},
   "source": [
    "### LOAD DATA"
   ]
  },
  {
   "cell_type": "code",
   "execution_count": 92,
   "metadata": {},
   "outputs": [],
   "source": [
    "datasets = ['GlobalClimate', 'HumidityHouse',\n",
    "            'HungaryChickenpox', 'IstanbulStockExchange', \n",
    "            'ParkingBirmingham', 'PedalMe']\n",
    "\n",
    "#errors = pd.DataFrame(columns=datasets)\n",
    "badIDs = []\n",
    "\n",
    "\n",
    "plain = []\n",
    "for dataset in datasets:\n",
    "    \n",
    "    plain.append(pd.read_feather('data/' + dataset + '.feather'))"
   ]
  },
  {
   "cell_type": "markdown",
   "metadata": {},
   "source": [
    "--------------------------------------"
   ]
  },
  {
   "cell_type": "markdown",
   "metadata": {},
   "source": [
    "CATCH22"
   ]
  },
  {
   "cell_type": "code",
   "execution_count": 94,
   "metadata": {},
   "outputs": [
    {
     "name": "stdout",
     "output_type": "stream",
     "text": [
      "GlobalClimate\n",
      "HumidityHouse\n",
      "HungaryChickenpox\n",
      "IstanbulStockExchange\n",
      "ParkingBirmingham\n",
      "PedalMe\n",
      "\n",
      "\n",
      "# bad features =  26  -  26\n",
      "Bad IDs:  []\n"
     ]
    },
    {
     "data": {
      "text/html": [
       "<div>\n",
       "<style scoped>\n",
       "    .dataframe tbody tr th:only-of-type {\n",
       "        vertical-align: middle;\n",
       "    }\n",
       "\n",
       "    .dataframe tbody tr th {\n",
       "        vertical-align: top;\n",
       "    }\n",
       "\n",
       "    .dataframe thead th {\n",
       "        text-align: right;\n",
       "    }\n",
       "</style>\n",
       "<table border=\"1\" class=\"dataframe\">\n",
       "  <thead>\n",
       "    <tr style=\"text-align: right;\">\n",
       "      <th></th>\n",
       "      <th>DN_HistogramMode_5</th>\n",
       "      <th>DN_HistogramMode_10</th>\n",
       "      <th>CO_f1ecac</th>\n",
       "      <th>CO_FirstMin_ac</th>\n",
       "      <th>CO_HistogramAMI_even_2_5</th>\n",
       "      <th>CO_trev_1_num</th>\n",
       "      <th>MD_hrv_classic_pnn40</th>\n",
       "      <th>SB_BinaryStats_mean_longstretch1</th>\n",
       "      <th>SB_TransitionMatrix_3ac_sumdiagcov</th>\n",
       "      <th>PD_PeriodicityWang_th0_01</th>\n",
       "      <th>...</th>\n",
       "      <th>SB_BinaryStats_diff_longstretch0</th>\n",
       "      <th>SB_MotifThree_quantile_hh</th>\n",
       "      <th>SC_FluctAnal_2_rsrangefit_50_1_logi_prop_r1</th>\n",
       "      <th>SC_FluctAnal_2_dfa_50_1_2_logi_prop_r1</th>\n",
       "      <th>SP_Summaries_welch_rect_centroid</th>\n",
       "      <th>FC_LocalSimple_mean3_stderr</th>\n",
       "      <th>y</th>\n",
       "      <th>ind</th>\n",
       "      <th>data</th>\n",
       "      <th>set</th>\n",
       "    </tr>\n",
       "  </thead>\n",
       "  <tbody>\n",
       "    <tr>\n",
       "      <th>0</th>\n",
       "      <td>-0.102414</td>\n",
       "      <td>0.169514</td>\n",
       "      <td>2.162565</td>\n",
       "      <td>6</td>\n",
       "      <td>0.123507</td>\n",
       "      <td>0.008020</td>\n",
       "      <td>0.962534</td>\n",
       "      <td>10.0</td>\n",
       "      <td>0.069971</td>\n",
       "      <td>11</td>\n",
       "      <td>...</td>\n",
       "      <td>7.0</td>\n",
       "      <td>1.886681</td>\n",
       "      <td>0.854167</td>\n",
       "      <td>0.666667</td>\n",
       "      <td>0.524621</td>\n",
       "      <td>0.970380</td>\n",
       "      <td>24.541</td>\n",
       "      <td>0</td>\n",
       "      <td>GlobalClimate</td>\n",
       "      <td>train</td>\n",
       "    </tr>\n",
       "    <tr>\n",
       "      <th>1</th>\n",
       "      <td>-0.861291</td>\n",
       "      <td>-0.586311</td>\n",
       "      <td>1.966056</td>\n",
       "      <td>6</td>\n",
       "      <td>0.066139</td>\n",
       "      <td>-0.060007</td>\n",
       "      <td>0.955041</td>\n",
       "      <td>17.0</td>\n",
       "      <td>0.017036</td>\n",
       "      <td>11</td>\n",
       "      <td>...</td>\n",
       "      <td>7.0</td>\n",
       "      <td>1.945680</td>\n",
       "      <td>0.125000</td>\n",
       "      <td>0.833333</td>\n",
       "      <td>0.524621</td>\n",
       "      <td>1.006550</td>\n",
       "      <td>19.005</td>\n",
       "      <td>1</td>\n",
       "      <td>GlobalClimate</td>\n",
       "      <td>train</td>\n",
       "    </tr>\n",
       "    <tr>\n",
       "      <th>2</th>\n",
       "      <td>-0.094535</td>\n",
       "      <td>0.117020</td>\n",
       "      <td>1.823707</td>\n",
       "      <td>6</td>\n",
       "      <td>0.213968</td>\n",
       "      <td>0.131929</td>\n",
       "      <td>0.952316</td>\n",
       "      <td>9.0</td>\n",
       "      <td>0.015150</td>\n",
       "      <td>11</td>\n",
       "      <td>...</td>\n",
       "      <td>9.0</td>\n",
       "      <td>1.899738</td>\n",
       "      <td>0.125000</td>\n",
       "      <td>0.875000</td>\n",
       "      <td>0.524621</td>\n",
       "      <td>1.077594</td>\n",
       "      <td>27.512</td>\n",
       "      <td>2</td>\n",
       "      <td>GlobalClimate</td>\n",
       "      <td>train</td>\n",
       "    </tr>\n",
       "    <tr>\n",
       "      <th>3</th>\n",
       "      <td>-0.831160</td>\n",
       "      <td>1.199724</td>\n",
       "      <td>2.236980</td>\n",
       "      <td>6</td>\n",
       "      <td>0.410579</td>\n",
       "      <td>-0.033642</td>\n",
       "      <td>0.956403</td>\n",
       "      <td>8.0</td>\n",
       "      <td>0.008618</td>\n",
       "      <td>11</td>\n",
       "      <td>...</td>\n",
       "      <td>8.0</td>\n",
       "      <td>1.820387</td>\n",
       "      <td>0.125000</td>\n",
       "      <td>0.750000</td>\n",
       "      <td>0.524621</td>\n",
       "      <td>0.964970</td>\n",
       "      <td>29.704</td>\n",
       "      <td>3</td>\n",
       "      <td>GlobalClimate</td>\n",
       "      <td>train</td>\n",
       "    </tr>\n",
       "    <tr>\n",
       "      <th>4</th>\n",
       "      <td>0.696066</td>\n",
       "      <td>1.255214</td>\n",
       "      <td>2.233632</td>\n",
       "      <td>6</td>\n",
       "      <td>0.323375</td>\n",
       "      <td>-0.047472</td>\n",
       "      <td>0.970027</td>\n",
       "      <td>8.0</td>\n",
       "      <td>0.077465</td>\n",
       "      <td>11</td>\n",
       "      <td>...</td>\n",
       "      <td>8.0</td>\n",
       "      <td>1.821596</td>\n",
       "      <td>0.125000</td>\n",
       "      <td>0.645833</td>\n",
       "      <td>0.524621</td>\n",
       "      <td>0.964222</td>\n",
       "      <td>27.453</td>\n",
       "      <td>4</td>\n",
       "      <td>GlobalClimate</td>\n",
       "      <td>train</td>\n",
       "    </tr>\n",
       "    <tr>\n",
       "      <th>...</th>\n",
       "      <td>...</td>\n",
       "      <td>...</td>\n",
       "      <td>...</td>\n",
       "      <td>...</td>\n",
       "      <td>...</td>\n",
       "      <td>...</td>\n",
       "      <td>...</td>\n",
       "      <td>...</td>\n",
       "      <td>...</td>\n",
       "      <td>...</td>\n",
       "      <td>...</td>\n",
       "      <td>...</td>\n",
       "      <td>...</td>\n",
       "      <td>...</td>\n",
       "      <td>...</td>\n",
       "      <td>...</td>\n",
       "      <td>...</td>\n",
       "      <td>...</td>\n",
       "      <td>...</td>\n",
       "      <td>...</td>\n",
       "      <td>...</td>\n",
       "    </tr>\n",
       "    <tr>\n",
       "      <th>160</th>\n",
       "      <td>-0.632790</td>\n",
       "      <td>-0.632790</td>\n",
       "      <td>2.427861</td>\n",
       "      <td>7</td>\n",
       "      <td>0.319088</td>\n",
       "      <td>0.399489</td>\n",
       "      <td>0.941176</td>\n",
       "      <td>11.0</td>\n",
       "      <td>0.125000</td>\n",
       "      <td>8</td>\n",
       "      <td>...</td>\n",
       "      <td>4.0</td>\n",
       "      <td>2.004593</td>\n",
       "      <td>0.461538</td>\n",
       "      <td>0.538462</td>\n",
       "      <td>0.589049</td>\n",
       "      <td>0.858057</td>\n",
       "      <td>2.000</td>\n",
       "      <td>10</td>\n",
       "      <td>PedalMe</td>\n",
       "      <td>train</td>\n",
       "    </tr>\n",
       "    <tr>\n",
       "      <th>161</th>\n",
       "      <td>-0.693492</td>\n",
       "      <td>-0.409222</td>\n",
       "      <td>0.594194</td>\n",
       "      <td>1</td>\n",
       "      <td>0.130777</td>\n",
       "      <td>-1.067725</td>\n",
       "      <td>0.941176</td>\n",
       "      <td>8.0</td>\n",
       "      <td>0.012111</td>\n",
       "      <td>4</td>\n",
       "      <td>...</td>\n",
       "      <td>3.0</td>\n",
       "      <td>2.074109</td>\n",
       "      <td>0.461538</td>\n",
       "      <td>0.461538</td>\n",
       "      <td>1.767146</td>\n",
       "      <td>1.157429</td>\n",
       "      <td>0.000</td>\n",
       "      <td>11</td>\n",
       "      <td>PedalMe</td>\n",
       "      <td>train</td>\n",
       "    </tr>\n",
       "    <tr>\n",
       "      <th>162</th>\n",
       "      <td>0.041543</td>\n",
       "      <td>-0.540054</td>\n",
       "      <td>1.044193</td>\n",
       "      <td>3</td>\n",
       "      <td>0.317309</td>\n",
       "      <td>-0.105895</td>\n",
       "      <td>0.911765</td>\n",
       "      <td>6.0</td>\n",
       "      <td>0.020761</td>\n",
       "      <td>5</td>\n",
       "      <td>...</td>\n",
       "      <td>5.0</td>\n",
       "      <td>2.068187</td>\n",
       "      <td>0.538462</td>\n",
       "      <td>0.538462</td>\n",
       "      <td>1.079922</td>\n",
       "      <td>1.165428</td>\n",
       "      <td>0.000</td>\n",
       "      <td>12</td>\n",
       "      <td>PedalMe</td>\n",
       "      <td>test</td>\n",
       "    </tr>\n",
       "    <tr>\n",
       "      <th>163</th>\n",
       "      <td>0.024114</td>\n",
       "      <td>0.261965</td>\n",
       "      <td>0.827027</td>\n",
       "      <td>3</td>\n",
       "      <td>0.415299</td>\n",
       "      <td>0.841928</td>\n",
       "      <td>1.000000</td>\n",
       "      <td>5.0</td>\n",
       "      <td>0.028835</td>\n",
       "      <td>4</td>\n",
       "      <td>...</td>\n",
       "      <td>4.0</td>\n",
       "      <td>2.165976</td>\n",
       "      <td>0.538462</td>\n",
       "      <td>0.538462</td>\n",
       "      <td>1.079922</td>\n",
       "      <td>1.094808</td>\n",
       "      <td>1.000</td>\n",
       "      <td>13</td>\n",
       "      <td>PedalMe</td>\n",
       "      <td>test</td>\n",
       "    </tr>\n",
       "    <tr>\n",
       "      <th>164</th>\n",
       "      <td>0.435215</td>\n",
       "      <td>-0.009780</td>\n",
       "      <td>1.525854</td>\n",
       "      <td>4</td>\n",
       "      <td>0.209539</td>\n",
       "      <td>0.297717</td>\n",
       "      <td>0.970588</td>\n",
       "      <td>11.0</td>\n",
       "      <td>0.036458</td>\n",
       "      <td>9</td>\n",
       "      <td>...</td>\n",
       "      <td>3.0</td>\n",
       "      <td>2.129275</td>\n",
       "      <td>0.461538</td>\n",
       "      <td>0.461538</td>\n",
       "      <td>0.589049</td>\n",
       "      <td>0.961080</td>\n",
       "      <td>0.000</td>\n",
       "      <td>14</td>\n",
       "      <td>PedalMe</td>\n",
       "      <td>test</td>\n",
       "    </tr>\n",
       "  </tbody>\n",
       "</table>\n",
       "<p>165 rows × 26 columns</p>\n",
       "</div>"
      ],
      "text/plain": [
       "     DN_HistogramMode_5  DN_HistogramMode_10  CO_f1ecac  CO_FirstMin_ac  \\\n",
       "0             -0.102414             0.169514   2.162565               6   \n",
       "1             -0.861291            -0.586311   1.966056               6   \n",
       "2             -0.094535             0.117020   1.823707               6   \n",
       "3             -0.831160             1.199724   2.236980               6   \n",
       "4              0.696066             1.255214   2.233632               6   \n",
       "..                  ...                  ...        ...             ...   \n",
       "160           -0.632790            -0.632790   2.427861               7   \n",
       "161           -0.693492            -0.409222   0.594194               1   \n",
       "162            0.041543            -0.540054   1.044193               3   \n",
       "163            0.024114             0.261965   0.827027               3   \n",
       "164            0.435215            -0.009780   1.525854               4   \n",
       "\n",
       "     CO_HistogramAMI_even_2_5  CO_trev_1_num  MD_hrv_classic_pnn40  \\\n",
       "0                    0.123507       0.008020              0.962534   \n",
       "1                    0.066139      -0.060007              0.955041   \n",
       "2                    0.213968       0.131929              0.952316   \n",
       "3                    0.410579      -0.033642              0.956403   \n",
       "4                    0.323375      -0.047472              0.970027   \n",
       "..                        ...            ...                   ...   \n",
       "160                  0.319088       0.399489              0.941176   \n",
       "161                  0.130777      -1.067725              0.941176   \n",
       "162                  0.317309      -0.105895              0.911765   \n",
       "163                  0.415299       0.841928              1.000000   \n",
       "164                  0.209539       0.297717              0.970588   \n",
       "\n",
       "     SB_BinaryStats_mean_longstretch1  SB_TransitionMatrix_3ac_sumdiagcov  \\\n",
       "0                                10.0                            0.069971   \n",
       "1                                17.0                            0.017036   \n",
       "2                                 9.0                            0.015150   \n",
       "3                                 8.0                            0.008618   \n",
       "4                                 8.0                            0.077465   \n",
       "..                                ...                                 ...   \n",
       "160                              11.0                            0.125000   \n",
       "161                               8.0                            0.012111   \n",
       "162                               6.0                            0.020761   \n",
       "163                               5.0                            0.028835   \n",
       "164                              11.0                            0.036458   \n",
       "\n",
       "     PD_PeriodicityWang_th0_01  ...  SB_BinaryStats_diff_longstretch0  \\\n",
       "0                           11  ...                               7.0   \n",
       "1                           11  ...                               7.0   \n",
       "2                           11  ...                               9.0   \n",
       "3                           11  ...                               8.0   \n",
       "4                           11  ...                               8.0   \n",
       "..                         ...  ...                               ...   \n",
       "160                          8  ...                               4.0   \n",
       "161                          4  ...                               3.0   \n",
       "162                          5  ...                               5.0   \n",
       "163                          4  ...                               4.0   \n",
       "164                          9  ...                               3.0   \n",
       "\n",
       "     SB_MotifThree_quantile_hh  SC_FluctAnal_2_rsrangefit_50_1_logi_prop_r1  \\\n",
       "0                     1.886681                                     0.854167   \n",
       "1                     1.945680                                     0.125000   \n",
       "2                     1.899738                                     0.125000   \n",
       "3                     1.820387                                     0.125000   \n",
       "4                     1.821596                                     0.125000   \n",
       "..                         ...                                          ...   \n",
       "160                   2.004593                                     0.461538   \n",
       "161                   2.074109                                     0.461538   \n",
       "162                   2.068187                                     0.538462   \n",
       "163                   2.165976                                     0.538462   \n",
       "164                   2.129275                                     0.461538   \n",
       "\n",
       "     SC_FluctAnal_2_dfa_50_1_2_logi_prop_r1  SP_Summaries_welch_rect_centroid  \\\n",
       "0                                  0.666667                          0.524621   \n",
       "1                                  0.833333                          0.524621   \n",
       "2                                  0.875000                          0.524621   \n",
       "3                                  0.750000                          0.524621   \n",
       "4                                  0.645833                          0.524621   \n",
       "..                                      ...                               ...   \n",
       "160                                0.538462                          0.589049   \n",
       "161                                0.461538                          1.767146   \n",
       "162                                0.538462                          1.079922   \n",
       "163                                0.538462                          1.079922   \n",
       "164                                0.461538                          0.589049   \n",
       "\n",
       "     FC_LocalSimple_mean3_stderr       y  ind           data    set  \n",
       "0                       0.970380  24.541    0  GlobalClimate  train  \n",
       "1                       1.006550  19.005    1  GlobalClimate  train  \n",
       "2                       1.077594  27.512    2  GlobalClimate  train  \n",
       "3                       0.964970  29.704    3  GlobalClimate  train  \n",
       "4                       0.964222  27.453    4  GlobalClimate  train  \n",
       "..                           ...     ...  ...            ...    ...  \n",
       "160                     0.858057   2.000   10        PedalMe  train  \n",
       "161                     1.157429   0.000   11        PedalMe  train  \n",
       "162                     1.165428   0.000   12        PedalMe   test  \n",
       "163                     1.094808   1.000   13        PedalMe   test  \n",
       "164                     0.961080   0.000   14        PedalMe   test  \n",
       "\n",
       "[165 rows x 26 columns]"
      ]
     },
     "execution_count": 94,
     "metadata": {},
     "output_type": "execute_result"
    }
   ],
   "source": [
    "df = pd.DataFrame()\n",
    "\n",
    "\n",
    "for frame, dataset in zip(plain,datasets):\n",
    "    print(dataset)\n",
    "    \n",
    "    # exclude last element of the series\n",
    "    X = frame.iloc[:,:-4].copy()\n",
    "    info = frame.iloc[:,-4:].copy()\n",
    "    info.columns = ['y', 'ind', 'data', 'set']\n",
    "    \n",
    "    features = Catch22.transform(X)\n",
    "    f = pd.concat([features, info], axis=1)\n",
    "    \n",
    "    df = pd.concat([df, f], ignore_index=True)\n",
    "\n",
    "# replace infinite values with NaN\n",
    "df.replace([np.inf, -np.inf], np.nan, inplace=True)\n",
    "\n",
    "# remove features with more than 10% NaN\n",
    "k = len(df.loc[0])\n",
    "\n",
    "output_catch22 = df.drop(df.columns[df.apply(lambda col: (col.isnull().sum() / len(df)) > 0.1)], axis=1)\n",
    "\n",
    "print('\\n')\n",
    "print('# bad features = ', k, ' - ', len(output_catch22.loc[0]))\n",
    "\n",
    "\n",
    "schlechteIDs = output_catch22[output_catch22.isna().any(axis=1)].index.values\n",
    "badIDs.append(schlechteIDs)\n",
    "\n",
    "print('Bad IDs: ', schlechteIDs)\n",
    "output_catch22"
   ]
  },
  {
   "cell_type": "markdown",
   "metadata": {},
   "source": [
    "KATS"
   ]
  },
  {
   "cell_type": "code",
   "execution_count": 95,
   "metadata": {},
   "outputs": [
    {
     "name": "stdout",
     "output_type": "stream",
     "text": [
      "GlobalClimate\n"
     ]
    },
    {
     "name": "stderr",
     "output_type": "stream",
     "text": [
      "WARNING:root:Holt-Winters failed Data must be positive.\n",
      "WARNING:root:Holt-Winters failed Data must be positive.\n",
      "WARNING:root:Holt-Winters failed Data must be positive.\n",
      "WARNING:root:Holt-Winters failed Data must be positive.\n",
      "WARNING:root:Holt-Winters failed Data must be positive.\n",
      "WARNING:root:Holt-Winters failed Data must be positive.\n",
      "WARNING:root:Holt-Winters failed Data must be positive.\n",
      "WARNING:root:Holt-Winters failed Data must be positive.\n",
      "WARNING:root:Holt-Winters failed Data must be positive.\n",
      "WARNING:root:Holt-Winters failed Data must be positive.\n",
      "WARNING:root:Holt-Winters failed Data must be positive.\n",
      "WARNING:root:Holt-Winters failed Data must be positive.\n",
      "WARNING:root:Holt-Winters failed Data must be positive.\n",
      "WARNING:root:Holt-Winters failed Data must be positive.\n",
      "WARNING:root:Holt-Winters failed Data must be positive.\n",
      "WARNING:root:Holt-Winters failed Data must be positive.\n",
      "WARNING:root:Holt-Winters failed Data must be positive.\n",
      "WARNING:root:Holt-Winters failed Data must be positive.\n",
      "WARNING:root:Holt-Winters failed Data must be positive.\n",
      "WARNING:root:Holt-Winters failed Data must be positive.\n",
      "WARNING:root:Holt-Winters failed Data must be positive.\n",
      "WARNING:root:Holt-Winters failed Data must be positive.\n",
      "WARNING:root:Holt-Winters failed Data must be positive.\n",
      "WARNING:root:Holt-Winters failed Data must be positive.\n",
      "WARNING:root:Holt-Winters failed Data must be positive.\n",
      "WARNING:root:Holt-Winters failed Data must be positive.\n",
      "WARNING:root:Holt-Winters failed Data must be positive.\n",
      "WARNING:root:Holt-Winters failed Data must be positive.\n",
      "WARNING:root:Holt-Winters failed Data must be positive.\n",
      "WARNING:root:Holt-Winters failed Data must be positive.\n",
      "WARNING:root:Holt-Winters failed Data must be positive.\n"
     ]
    },
    {
     "name": "stdout",
     "output_type": "stream",
     "text": [
      "HumidityHouse\n"
     ]
    },
    {
     "name": "stderr",
     "output_type": "stream",
     "text": [
      "WARNING:root:Holt-Winters failed Data must be positive.\n",
      "WARNING:root:Holt-Winters failed Data must be positive.\n"
     ]
    },
    {
     "name": "stdout",
     "output_type": "stream",
     "text": [
      "HungaryChickenpox\n"
     ]
    },
    {
     "name": "stderr",
     "output_type": "stream",
     "text": [
      "WARNING:root:Holt-Winters failed Data must be positive.\n",
      "WARNING:root:Holt-Winters failed Data must be positive.\n",
      "WARNING:root:Holt-Winters failed Data must be positive.\n",
      "WARNING:root:Holt-Winters failed Data must be positive.\n",
      "WARNING:root:Holt-Winters failed Data must be positive.\n",
      "WARNING:root:Holt-Winters failed Data must be positive.\n",
      "WARNING:root:Holt-Winters failed Data must be positive.\n",
      "WARNING:root:Holt-Winters failed Data must be positive.\n",
      "WARNING:root:Holt-Winters failed Data must be positive.\n",
      "WARNING:root:Holt-Winters failed Data must be positive.\n",
      "WARNING:root:Holt-Winters failed Data must be positive.\n",
      "WARNING:root:Holt-Winters failed Data must be positive.\n",
      "WARNING:root:Holt-Winters failed Data must be positive.\n",
      "WARNING:root:Holt-Winters failed Data must be positive.\n",
      "WARNING:root:Holt-Winters failed Data must be positive.\n",
      "WARNING:root:Holt-Winters failed Data must be positive.\n",
      "WARNING:root:Holt-Winters failed Data must be positive.\n",
      "WARNING:root:Holt-Winters failed Data must be positive.\n",
      "WARNING:root:Holt-Winters failed Data must be positive.\n",
      "WARNING:root:Holt-Winters failed Data must be positive.\n"
     ]
    },
    {
     "name": "stdout",
     "output_type": "stream",
     "text": [
      "IstanbulStockExchange\n"
     ]
    },
    {
     "name": "stderr",
     "output_type": "stream",
     "text": [
      "WARNING:root:Holt-Winters failed Data must be positive.\n",
      "WARNING:root:Holt-Winters failed Data must be positive.\n",
      "WARNING:root:Holt-Winters failed Data must be positive.\n",
      "WARNING:root:Holt-Winters failed Data must be positive.\n",
      "WARNING:root:Holt-Winters failed Data must be positive.\n"
     ]
    },
    {
     "name": "stdout",
     "output_type": "stream",
     "text": [
      "ParkingBirmingham\n",
      "PedalMe\n"
     ]
    },
    {
     "name": "stderr",
     "output_type": "stream",
     "text": [
      "WARNING:root:Holt-Winters failed Data must be positive.\n",
      "WARNING:root:Holt-Winters failed Data must be positive.\n",
      "WARNING:root:Holt-Winters failed Data must be positive.\n",
      "WARNING:root:Holt-Winters failed Data must be positive.\n",
      "WARNING:root:Holt-Winters failed Data must be positive.\n",
      "WARNING:root:Holt-Winters failed Data must be positive.\n",
      "WARNING:root:Holt-Winters failed Data must be positive.\n",
      "WARNING:root:Holt-Winters failed Data must be positive.\n"
     ]
    },
    {
     "name": "stdout",
     "output_type": "stream",
     "text": [
      "\n",
      "\n",
      "# bad features =  44  -  41\n",
      "Bad IDs:  []\n"
     ]
    },
    {
     "data": {
      "text/html": [
       "<div>\n",
       "<style scoped>\n",
       "    .dataframe tbody tr th:only-of-type {\n",
       "        vertical-align: middle;\n",
       "    }\n",
       "\n",
       "    .dataframe tbody tr th {\n",
       "        vertical-align: top;\n",
       "    }\n",
       "\n",
       "    .dataframe thead th {\n",
       "        text-align: right;\n",
       "    }\n",
       "</style>\n",
       "<table border=\"1\" class=\"dataframe\">\n",
       "  <thead>\n",
       "    <tr style=\"text-align: right;\">\n",
       "      <th></th>\n",
       "      <th>length</th>\n",
       "      <th>mean</th>\n",
       "      <th>var</th>\n",
       "      <th>entropy</th>\n",
       "      <th>lumpiness</th>\n",
       "      <th>stability</th>\n",
       "      <th>flat_spots</th>\n",
       "      <th>hurst</th>\n",
       "      <th>std1st_der</th>\n",
       "      <th>crossing_points</th>\n",
       "      <th>...</th>\n",
       "      <th>seas_acf1</th>\n",
       "      <th>seas_pacf1</th>\n",
       "      <th>firstmin_ac</th>\n",
       "      <th>firstzero_ac</th>\n",
       "      <th>holt_alpha</th>\n",
       "      <th>holt_beta</th>\n",
       "      <th>y</th>\n",
       "      <th>ind</th>\n",
       "      <th>data</th>\n",
       "      <th>set</th>\n",
       "    </tr>\n",
       "  </thead>\n",
       "  <tbody>\n",
       "    <tr>\n",
       "      <th>0</th>\n",
       "      <td>1469</td>\n",
       "      <td>26.292099</td>\n",
       "      <td>1.923835</td>\n",
       "      <td>0.429059</td>\n",
       "      <td>0.143078</td>\n",
       "      <td>0.233313</td>\n",
       "      <td>2</td>\n",
       "      <td>-0.090137</td>\n",
       "      <td>0.739809</td>\n",
       "      <td>312</td>\n",
       "      <td>...</td>\n",
       "      <td>-0.505582</td>\n",
       "      <td>-0.073343</td>\n",
       "      <td>6</td>\n",
       "      <td>4</td>\n",
       "      <td>1.000000e+00</td>\n",
       "      <td>7.808657e-11</td>\n",
       "      <td>24.541</td>\n",
       "      <td>0</td>\n",
       "      <td>GlobalClimate</td>\n",
       "      <td>train</td>\n",
       "    </tr>\n",
       "    <tr>\n",
       "      <th>1</th>\n",
       "      <td>1469</td>\n",
       "      <td>17.585001</td>\n",
       "      <td>1.480955</td>\n",
       "      <td>0.502446</td>\n",
       "      <td>0.120927</td>\n",
       "      <td>0.188495</td>\n",
       "      <td>2</td>\n",
       "      <td>-0.062900</td>\n",
       "      <td>0.691264</td>\n",
       "      <td>333</td>\n",
       "      <td>...</td>\n",
       "      <td>-0.372608</td>\n",
       "      <td>-0.070607</td>\n",
       "      <td>6</td>\n",
       "      <td>3</td>\n",
       "      <td>1.000000e+00</td>\n",
       "      <td>1.033788e-08</td>\n",
       "      <td>19.005</td>\n",
       "      <td>1</td>\n",
       "      <td>GlobalClimate</td>\n",
       "      <td>train</td>\n",
       "    </tr>\n",
       "    <tr>\n",
       "      <th>2</th>\n",
       "      <td>1469</td>\n",
       "      <td>26.773884</td>\n",
       "      <td>18.285459</td>\n",
       "      <td>0.348842</td>\n",
       "      <td>10.160037</td>\n",
       "      <td>0.741062</td>\n",
       "      <td>1</td>\n",
       "      <td>-0.119607</td>\n",
       "      <td>2.558594</td>\n",
       "      <td>336</td>\n",
       "      <td>...</td>\n",
       "      <td>-0.547440</td>\n",
       "      <td>-0.436982</td>\n",
       "      <td>6</td>\n",
       "      <td>3</td>\n",
       "      <td>9.999955e-01</td>\n",
       "      <td>9.999938e-01</td>\n",
       "      <td>27.512</td>\n",
       "      <td>2</td>\n",
       "      <td>GlobalClimate</td>\n",
       "      <td>train</td>\n",
       "    </tr>\n",
       "    <tr>\n",
       "      <th>3</th>\n",
       "      <td>1469</td>\n",
       "      <td>17.649008</td>\n",
       "      <td>72.923142</td>\n",
       "      <td>0.281619</td>\n",
       "      <td>65.930376</td>\n",
       "      <td>2.443344</td>\n",
       "      <td>1</td>\n",
       "      <td>-0.138653</td>\n",
       "      <td>4.327891</td>\n",
       "      <td>245</td>\n",
       "      <td>...</td>\n",
       "      <td>-0.826881</td>\n",
       "      <td>-0.144717</td>\n",
       "      <td>6</td>\n",
       "      <td>3</td>\n",
       "      <td>9.999991e-01</td>\n",
       "      <td>9.999991e-01</td>\n",
       "      <td>29.704</td>\n",
       "      <td>3</td>\n",
       "      <td>GlobalClimate</td>\n",
       "      <td>train</td>\n",
       "    </tr>\n",
       "    <tr>\n",
       "      <th>4</th>\n",
       "      <td>1469</td>\n",
       "      <td>20.571498</td>\n",
       "      <td>20.584056</td>\n",
       "      <td>0.300835</td>\n",
       "      <td>6.420367</td>\n",
       "      <td>0.854469</td>\n",
       "      <td>1</td>\n",
       "      <td>-0.130178</td>\n",
       "      <td>2.307597</td>\n",
       "      <td>245</td>\n",
       "      <td>...</td>\n",
       "      <td>-0.805860</td>\n",
       "      <td>-0.028419</td>\n",
       "      <td>6</td>\n",
       "      <td>4</td>\n",
       "      <td>9.738799e-01</td>\n",
       "      <td>9.738799e-01</td>\n",
       "      <td>27.453</td>\n",
       "      <td>4</td>\n",
       "      <td>GlobalClimate</td>\n",
       "      <td>train</td>\n",
       "    </tr>\n",
       "    <tr>\n",
       "      <th>...</th>\n",
       "      <td>...</td>\n",
       "      <td>...</td>\n",
       "      <td>...</td>\n",
       "      <td>...</td>\n",
       "      <td>...</td>\n",
       "      <td>...</td>\n",
       "      <td>...</td>\n",
       "      <td>...</td>\n",
       "      <td>...</td>\n",
       "      <td>...</td>\n",
       "      <td>...</td>\n",
       "      <td>...</td>\n",
       "      <td>...</td>\n",
       "      <td>...</td>\n",
       "      <td>...</td>\n",
       "      <td>...</td>\n",
       "      <td>...</td>\n",
       "      <td>...</td>\n",
       "      <td>...</td>\n",
       "      <td>...</td>\n",
       "      <td>...</td>\n",
       "    </tr>\n",
       "    <tr>\n",
       "      <th>160</th>\n",
       "      <td>35</td>\n",
       "      <td>56.314286</td>\n",
       "      <td>778.558367</td>\n",
       "      <td>0.659685</td>\n",
       "      <td>28452.861407</td>\n",
       "      <td>0.043744</td>\n",
       "      <td>1</td>\n",
       "      <td>0.045664</td>\n",
       "      <td>15.521677</td>\n",
       "      <td>11</td>\n",
       "      <td>...</td>\n",
       "      <td>-0.063982</td>\n",
       "      <td>-0.127356</td>\n",
       "      <td>7</td>\n",
       "      <td>7</td>\n",
       "      <td>3.832233e-01</td>\n",
       "      <td>1.342662e-01</td>\n",
       "      <td>2.000</td>\n",
       "      <td>10</td>\n",
       "      <td>PedalMe</td>\n",
       "      <td>train</td>\n",
       "    </tr>\n",
       "    <tr>\n",
       "      <th>161</th>\n",
       "      <td>35</td>\n",
       "      <td>8.657143</td>\n",
       "      <td>45.711020</td>\n",
       "      <td>0.877139</td>\n",
       "      <td>853.150443</td>\n",
       "      <td>4.436117</td>\n",
       "      <td>2</td>\n",
       "      <td>0.094984</td>\n",
       "      <td>4.453524</td>\n",
       "      <td>14</td>\n",
       "      <td>...</td>\n",
       "      <td>0.116940</td>\n",
       "      <td>0.124037</td>\n",
       "      <td>1</td>\n",
       "      <td>4</td>\n",
       "      <td>1.490116e-08</td>\n",
       "      <td>1.424620e-08</td>\n",
       "      <td>0.000</td>\n",
       "      <td>11</td>\n",
       "      <td>PedalMe</td>\n",
       "      <td>train</td>\n",
       "    </tr>\n",
       "    <tr>\n",
       "      <th>162</th>\n",
       "      <td>35</td>\n",
       "      <td>7.828571</td>\n",
       "      <td>16.542041</td>\n",
       "      <td>0.737882</td>\n",
       "      <td>9.723985</td>\n",
       "      <td>0.954772</td>\n",
       "      <td>2</td>\n",
       "      <td>0.055443</td>\n",
       "      <td>2.907976</td>\n",
       "      <td>10</td>\n",
       "      <td>...</td>\n",
       "      <td>0.008182</td>\n",
       "      <td>-0.160258</td>\n",
       "      <td>3</td>\n",
       "      <td>2</td>\n",
       "      <td>1.639288e-01</td>\n",
       "      <td>1.639288e-01</td>\n",
       "      <td>0.000</td>\n",
       "      <td>12</td>\n",
       "      <td>PedalMe</td>\n",
       "      <td>test</td>\n",
       "    </tr>\n",
       "    <tr>\n",
       "      <th>163</th>\n",
       "      <td>35</td>\n",
       "      <td>19.342857</td>\n",
       "      <td>41.253878</td>\n",
       "      <td>0.825689</td>\n",
       "      <td>177.159182</td>\n",
       "      <td>0.047941</td>\n",
       "      <td>1</td>\n",
       "      <td>0.082061</td>\n",
       "      <td>4.641121</td>\n",
       "      <td>17</td>\n",
       "      <td>...</td>\n",
       "      <td>-0.036703</td>\n",
       "      <td>0.018765</td>\n",
       "      <td>3</td>\n",
       "      <td>2</td>\n",
       "      <td>2.181700e-07</td>\n",
       "      <td>1.140460e-17</td>\n",
       "      <td>1.000</td>\n",
       "      <td>13</td>\n",
       "      <td>PedalMe</td>\n",
       "      <td>test</td>\n",
       "    </tr>\n",
       "    <tr>\n",
       "      <th>164</th>\n",
       "      <td>35</td>\n",
       "      <td>10.457143</td>\n",
       "      <td>33.162449</td>\n",
       "      <td>0.682657</td>\n",
       "      <td>14.710988</td>\n",
       "      <td>1.086772</td>\n",
       "      <td>1</td>\n",
       "      <td>-0.017586</td>\n",
       "      <td>3.319516</td>\n",
       "      <td>13</td>\n",
       "      <td>...</td>\n",
       "      <td>-0.116340</td>\n",
       "      <td>-0.277885</td>\n",
       "      <td>4</td>\n",
       "      <td>4</td>\n",
       "      <td>4.658555e-01</td>\n",
       "      <td>0.000000e+00</td>\n",
       "      <td>0.000</td>\n",
       "      <td>14</td>\n",
       "      <td>PedalMe</td>\n",
       "      <td>test</td>\n",
       "    </tr>\n",
       "  </tbody>\n",
       "</table>\n",
       "<p>165 rows × 41 columns</p>\n",
       "</div>"
      ],
      "text/plain": [
       "     length       mean         var   entropy     lumpiness  stability  \\\n",
       "0      1469  26.292099    1.923835  0.429059      0.143078   0.233313   \n",
       "1      1469  17.585001    1.480955  0.502446      0.120927   0.188495   \n",
       "2      1469  26.773884   18.285459  0.348842     10.160037   0.741062   \n",
       "3      1469  17.649008   72.923142  0.281619     65.930376   2.443344   \n",
       "4      1469  20.571498   20.584056  0.300835      6.420367   0.854469   \n",
       "..      ...        ...         ...       ...           ...        ...   \n",
       "160      35  56.314286  778.558367  0.659685  28452.861407   0.043744   \n",
       "161      35   8.657143   45.711020  0.877139    853.150443   4.436117   \n",
       "162      35   7.828571   16.542041  0.737882      9.723985   0.954772   \n",
       "163      35  19.342857   41.253878  0.825689    177.159182   0.047941   \n",
       "164      35  10.457143   33.162449  0.682657     14.710988   1.086772   \n",
       "\n",
       "     flat_spots     hurst  std1st_der  crossing_points  ...  seas_acf1  \\\n",
       "0             2 -0.090137    0.739809              312  ...  -0.505582   \n",
       "1             2 -0.062900    0.691264              333  ...  -0.372608   \n",
       "2             1 -0.119607    2.558594              336  ...  -0.547440   \n",
       "3             1 -0.138653    4.327891              245  ...  -0.826881   \n",
       "4             1 -0.130178    2.307597              245  ...  -0.805860   \n",
       "..          ...       ...         ...              ...  ...        ...   \n",
       "160           1  0.045664   15.521677               11  ...  -0.063982   \n",
       "161           2  0.094984    4.453524               14  ...   0.116940   \n",
       "162           2  0.055443    2.907976               10  ...   0.008182   \n",
       "163           1  0.082061    4.641121               17  ...  -0.036703   \n",
       "164           1 -0.017586    3.319516               13  ...  -0.116340   \n",
       "\n",
       "     seas_pacf1  firstmin_ac  firstzero_ac    holt_alpha     holt_beta  \\\n",
       "0     -0.073343            6             4  1.000000e+00  7.808657e-11   \n",
       "1     -0.070607            6             3  1.000000e+00  1.033788e-08   \n",
       "2     -0.436982            6             3  9.999955e-01  9.999938e-01   \n",
       "3     -0.144717            6             3  9.999991e-01  9.999991e-01   \n",
       "4     -0.028419            6             4  9.738799e-01  9.738799e-01   \n",
       "..          ...          ...           ...           ...           ...   \n",
       "160   -0.127356            7             7  3.832233e-01  1.342662e-01   \n",
       "161    0.124037            1             4  1.490116e-08  1.424620e-08   \n",
       "162   -0.160258            3             2  1.639288e-01  1.639288e-01   \n",
       "163    0.018765            3             2  2.181700e-07  1.140460e-17   \n",
       "164   -0.277885            4             4  4.658555e-01  0.000000e+00   \n",
       "\n",
       "          y  ind           data    set  \n",
       "0    24.541    0  GlobalClimate  train  \n",
       "1    19.005    1  GlobalClimate  train  \n",
       "2    27.512    2  GlobalClimate  train  \n",
       "3    29.704    3  GlobalClimate  train  \n",
       "4    27.453    4  GlobalClimate  train  \n",
       "..      ...  ...            ...    ...  \n",
       "160   2.000   10        PedalMe  train  \n",
       "161   0.000   11        PedalMe  train  \n",
       "162   0.000   12        PedalMe   test  \n",
       "163   1.000   13        PedalMe   test  \n",
       "164   0.000   14        PedalMe   test  \n",
       "\n",
       "[165 rows x 41 columns]"
      ]
     },
     "execution_count": 95,
     "metadata": {},
     "output_type": "execute_result"
    }
   ],
   "source": [
    "df = pd.DataFrame()\n",
    "\n",
    "for frame, dataset in zip(plain,datasets):\n",
    "    print(dataset)\n",
    "    \n",
    "    # exclude last element of the series\n",
    "    X = frame.iloc[:,:-4].copy()\n",
    "    info = frame.iloc[:,-4:].copy()\n",
    "    info.columns = ['y', 'ind', 'data', 'set']\n",
    "    \n",
    "    features = Kats.transform(X)\n",
    "    features = pd.concat([features, info], axis=1)\n",
    "    \n",
    "    df = pd.concat([df, features], ignore_index=True)\n",
    "\n",
    "# replace infinite values with NaN\n",
    "df.replace([np.inf, -np.inf], np.nan, inplace=True)\n",
    "    \n",
    "# remove features with more than 10% NaN\n",
    "k = len(df.loc[0])\n",
    "output_kats = df.drop(df.columns[df.apply(lambda col: (col.isnull().sum() / len(df)) > 0.1)], axis=1)\n",
    "\n",
    "print('\\n')\n",
    "print('# bad features = ', k, ' - ', len(output_kats.loc[0]))\n",
    "\n",
    "\n",
    "schlechteIDs = output_kats[output_kats.isna().any(axis=1)].index.values\n",
    "badIDs.append(schlechteIDs)\n",
    "\n",
    "print('Bad IDs: ', schlechteIDs)\n",
    "output_kats"
   ]
  },
  {
   "cell_type": "markdown",
   "metadata": {},
   "source": [
    "TSFEATURES"
   ]
  },
  {
   "cell_type": "code",
   "execution_count": 96,
   "metadata": {},
   "outputs": [
    {
     "name": "stdout",
     "output_type": "stream",
     "text": [
      "GlobalClimate\n",
      "HumidityHouse\n",
      "HungaryChickenpox\n",
      "IstanbulStockExchange\n",
      "ParkingBirmingham\n",
      "PedalMe\n",
      "\n",
      "\n",
      "# bad features =  42  -  39\n",
      "Bad IDs:  [  1 104 111 148 149 150 151 152 153 154 155 156 157 158 159 160 161 162\n",
      " 163 164]\n"
     ]
    },
    {
     "data": {
      "text/html": [
       "<div>\n",
       "<style scoped>\n",
       "    .dataframe tbody tr th:only-of-type {\n",
       "        vertical-align: middle;\n",
       "    }\n",
       "\n",
       "    .dataframe tbody tr th {\n",
       "        vertical-align: top;\n",
       "    }\n",
       "\n",
       "    .dataframe thead th {\n",
       "        text-align: right;\n",
       "    }\n",
       "</style>\n",
       "<table border=\"1\" class=\"dataframe\">\n",
       "  <thead>\n",
       "    <tr style=\"text-align: right;\">\n",
       "      <th></th>\n",
       "      <th>unique_id</th>\n",
       "      <th>hurst</th>\n",
       "      <th>series_length</th>\n",
       "      <th>unitroot_pp</th>\n",
       "      <th>unitroot_kpss</th>\n",
       "      <th>stability</th>\n",
       "      <th>nperiods</th>\n",
       "      <th>seasonal_period</th>\n",
       "      <th>trend</th>\n",
       "      <th>spike</th>\n",
       "      <th>...</th>\n",
       "      <th>x_acf1</th>\n",
       "      <th>x_acf10</th>\n",
       "      <th>diff1_acf1</th>\n",
       "      <th>diff1_acf10</th>\n",
       "      <th>diff2_acf1</th>\n",
       "      <th>diff2_acf10</th>\n",
       "      <th>y</th>\n",
       "      <th>ind</th>\n",
       "      <th>data</th>\n",
       "      <th>set</th>\n",
       "    </tr>\n",
       "  </thead>\n",
       "  <tbody>\n",
       "    <tr>\n",
       "      <th>0</th>\n",
       "      <td>1</td>\n",
       "      <td>0.814447</td>\n",
       "      <td>1469</td>\n",
       "      <td>-283.631863</td>\n",
       "      <td>4.431138</td>\n",
       "      <td>0.143664</td>\n",
       "      <td>0</td>\n",
       "      <td>1</td>\n",
       "      <td>0.080524</td>\n",
       "      <td>4.445401e-07</td>\n",
       "      <td>...</td>\n",
       "      <td>0.793330</td>\n",
       "      <td>1.989262</td>\n",
       "      <td>0.376255</td>\n",
       "      <td>0.709205</td>\n",
       "      <td>-0.265758</td>\n",
       "      <td>0.116166</td>\n",
       "      <td>24.541</td>\n",
       "      <td>0</td>\n",
       "      <td>GlobalClimate</td>\n",
       "      <td>train</td>\n",
       "    </tr>\n",
       "    <tr>\n",
       "      <th>1</th>\n",
       "      <td>1</td>\n",
       "      <td>0.787603</td>\n",
       "      <td>1469</td>\n",
       "      <td>-324.532037</td>\n",
       "      <td>4.528505</td>\n",
       "      <td>0.145537</td>\n",
       "      <td>0</td>\n",
       "      <td>1</td>\n",
       "      <td>0.082861</td>\n",
       "      <td>4.528816e-07</td>\n",
       "      <td>...</td>\n",
       "      <td>0.735666</td>\n",
       "      <td>1.303933</td>\n",
       "      <td>0.220496</td>\n",
       "      <td>0.301660</td>\n",
       "      <td>-0.330056</td>\n",
       "      <td>0.174848</td>\n",
       "      <td>19.005</td>\n",
       "      <td>1</td>\n",
       "      <td>GlobalClimate</td>\n",
       "      <td>train</td>\n",
       "    </tr>\n",
       "    <tr>\n",
       "      <th>2</th>\n",
       "      <td>1</td>\n",
       "      <td>0.399954</td>\n",
       "      <td>1469</td>\n",
       "      <td>-296.949686</td>\n",
       "      <td>0.467596</td>\n",
       "      <td>0.050177</td>\n",
       "      <td>0</td>\n",
       "      <td>1</td>\n",
       "      <td>0.004776</td>\n",
       "      <td>5.005596e-07</td>\n",
       "      <td>...</td>\n",
       "      <td>0.766970</td>\n",
       "      <td>2.146671</td>\n",
       "      <td>0.542499</td>\n",
       "      <td>1.019084</td>\n",
       "      <td>0.123627</td>\n",
       "      <td>0.709426</td>\n",
       "      <td>27.512</td>\n",
       "      <td>2</td>\n",
       "      <td>GlobalClimate</td>\n",
       "      <td>train</td>\n",
       "    </tr>\n",
       "    <tr>\n",
       "      <th>3</th>\n",
       "      <td>1</td>\n",
       "      <td>0.411151</td>\n",
       "      <td>1469</td>\n",
       "      <td>-271.747725</td>\n",
       "      <td>0.169900</td>\n",
       "      <td>0.042555</td>\n",
       "      <td>0</td>\n",
       "      <td>1</td>\n",
       "      <td>0.002308</td>\n",
       "      <td>2.717534e-07</td>\n",
       "      <td>...</td>\n",
       "      <td>0.850193</td>\n",
       "      <td>3.956861</td>\n",
       "      <td>0.730770</td>\n",
       "      <td>3.142027</td>\n",
       "      <td>0.081377</td>\n",
       "      <td>0.640094</td>\n",
       "      <td>29.704</td>\n",
       "      <td>3</td>\n",
       "      <td>GlobalClimate</td>\n",
       "      <td>train</td>\n",
       "    </tr>\n",
       "    <tr>\n",
       "      <th>4</th>\n",
       "      <td>1</td>\n",
       "      <td>0.511579</td>\n",
       "      <td>1469</td>\n",
       "      <td>-271.566454</td>\n",
       "      <td>0.465491</td>\n",
       "      <td>0.052071</td>\n",
       "      <td>0</td>\n",
       "      <td>1</td>\n",
       "      <td>0.007321</td>\n",
       "      <td>2.694099e-07</td>\n",
       "      <td>...</td>\n",
       "      <td>0.843654</td>\n",
       "      <td>3.792603</td>\n",
       "      <td>0.669894</td>\n",
       "      <td>2.729536</td>\n",
       "      <td>-0.052848</td>\n",
       "      <td>0.361374</td>\n",
       "      <td>27.453</td>\n",
       "      <td>4</td>\n",
       "      <td>GlobalClimate</td>\n",
       "      <td>train</td>\n",
       "    </tr>\n",
       "    <tr>\n",
       "      <th>...</th>\n",
       "      <td>...</td>\n",
       "      <td>...</td>\n",
       "      <td>...</td>\n",
       "      <td>...</td>\n",
       "      <td>...</td>\n",
       "      <td>...</td>\n",
       "      <td>...</td>\n",
       "      <td>...</td>\n",
       "      <td>...</td>\n",
       "      <td>...</td>\n",
       "      <td>...</td>\n",
       "      <td>...</td>\n",
       "      <td>...</td>\n",
       "      <td>...</td>\n",
       "      <td>...</td>\n",
       "      <td>...</td>\n",
       "      <td>...</td>\n",
       "      <td>...</td>\n",
       "      <td>...</td>\n",
       "      <td>...</td>\n",
       "      <td>...</td>\n",
       "    </tr>\n",
       "    <tr>\n",
       "      <th>160</th>\n",
       "      <td>1</td>\n",
       "      <td>0.880898</td>\n",
       "      <td>35</td>\n",
       "      <td>-18.170116</td>\n",
       "      <td>0.215171</td>\n",
       "      <td>0.309037</td>\n",
       "      <td>0</td>\n",
       "      <td>1</td>\n",
       "      <td>NaN</td>\n",
       "      <td>NaN</td>\n",
       "      <td>...</td>\n",
       "      <td>0.453793</td>\n",
       "      <td>0.541748</td>\n",
       "      <td>-0.433017</td>\n",
       "      <td>0.229258</td>\n",
       "      <td>-0.654407</td>\n",
       "      <td>0.489476</td>\n",
       "      <td>2.000</td>\n",
       "      <td>10</td>\n",
       "      <td>PedalMe</td>\n",
       "      <td>train</td>\n",
       "    </tr>\n",
       "    <tr>\n",
       "      <th>161</th>\n",
       "      <td>1</td>\n",
       "      <td>0.711506</td>\n",
       "      <td>35</td>\n",
       "      <td>-37.093217</td>\n",
       "      <td>0.335722</td>\n",
       "      <td>0.061488</td>\n",
       "      <td>0</td>\n",
       "      <td>1</td>\n",
       "      <td>NaN</td>\n",
       "      <td>NaN</td>\n",
       "      <td>...</td>\n",
       "      <td>-0.063828</td>\n",
       "      <td>0.123218</td>\n",
       "      <td>-0.588751</td>\n",
       "      <td>0.604802</td>\n",
       "      <td>-0.728328</td>\n",
       "      <td>0.929083</td>\n",
       "      <td>0.000</td>\n",
       "      <td>11</td>\n",
       "      <td>PedalMe</td>\n",
       "      <td>train</td>\n",
       "    </tr>\n",
       "    <tr>\n",
       "      <th>162</th>\n",
       "      <td>1</td>\n",
       "      <td>0.660120</td>\n",
       "      <td>35</td>\n",
       "      <td>-18.747292</td>\n",
       "      <td>0.257269</td>\n",
       "      <td>0.001370</td>\n",
       "      <td>0</td>\n",
       "      <td>1</td>\n",
       "      <td>NaN</td>\n",
       "      <td>NaN</td>\n",
       "      <td>...</td>\n",
       "      <td>0.388323</td>\n",
       "      <td>0.398712</td>\n",
       "      <td>-0.094730</td>\n",
       "      <td>0.333362</td>\n",
       "      <td>-0.414049</td>\n",
       "      <td>0.356734</td>\n",
       "      <td>0.000</td>\n",
       "      <td>12</td>\n",
       "      <td>PedalMe</td>\n",
       "      <td>test</td>\n",
       "    </tr>\n",
       "    <tr>\n",
       "      <th>163</th>\n",
       "      <td>1</td>\n",
       "      <td>0.709009</td>\n",
       "      <td>35</td>\n",
       "      <td>-24.635176</td>\n",
       "      <td>0.084399</td>\n",
       "      <td>0.108397</td>\n",
       "      <td>0</td>\n",
       "      <td>1</td>\n",
       "      <td>NaN</td>\n",
       "      <td>NaN</td>\n",
       "      <td>...</td>\n",
       "      <td>0.235671</td>\n",
       "      <td>0.297565</td>\n",
       "      <td>-0.298930</td>\n",
       "      <td>0.214062</td>\n",
       "      <td>-0.585358</td>\n",
       "      <td>0.459609</td>\n",
       "      <td>1.000</td>\n",
       "      <td>13</td>\n",
       "      <td>PedalMe</td>\n",
       "      <td>test</td>\n",
       "    </tr>\n",
       "    <tr>\n",
       "      <th>164</th>\n",
       "      <td>1</td>\n",
       "      <td>0.840443</td>\n",
       "      <td>35</td>\n",
       "      <td>-17.037811</td>\n",
       "      <td>0.248819</td>\n",
       "      <td>0.469958</td>\n",
       "      <td>0</td>\n",
       "      <td>1</td>\n",
       "      <td>NaN</td>\n",
       "      <td>NaN</td>\n",
       "      <td>...</td>\n",
       "      <td>0.463905</td>\n",
       "      <td>0.369114</td>\n",
       "      <td>-0.334497</td>\n",
       "      <td>0.395109</td>\n",
       "      <td>-0.566419</td>\n",
       "      <td>0.678487</td>\n",
       "      <td>0.000</td>\n",
       "      <td>14</td>\n",
       "      <td>PedalMe</td>\n",
       "      <td>test</td>\n",
       "    </tr>\n",
       "  </tbody>\n",
       "</table>\n",
       "<p>165 rows × 39 columns</p>\n",
       "</div>"
      ],
      "text/plain": [
       "     unique_id     hurst  series_length  unitroot_pp  unitroot_kpss  \\\n",
       "0            1  0.814447           1469  -283.631863       4.431138   \n",
       "1            1  0.787603           1469  -324.532037       4.528505   \n",
       "2            1  0.399954           1469  -296.949686       0.467596   \n",
       "3            1  0.411151           1469  -271.747725       0.169900   \n",
       "4            1  0.511579           1469  -271.566454       0.465491   \n",
       "..         ...       ...            ...          ...            ...   \n",
       "160          1  0.880898             35   -18.170116       0.215171   \n",
       "161          1  0.711506             35   -37.093217       0.335722   \n",
       "162          1  0.660120             35   -18.747292       0.257269   \n",
       "163          1  0.709009             35   -24.635176       0.084399   \n",
       "164          1  0.840443             35   -17.037811       0.248819   \n",
       "\n",
       "     stability  nperiods  seasonal_period     trend         spike  ...  \\\n",
       "0     0.143664         0                1  0.080524  4.445401e-07  ...   \n",
       "1     0.145537         0                1  0.082861  4.528816e-07  ...   \n",
       "2     0.050177         0                1  0.004776  5.005596e-07  ...   \n",
       "3     0.042555         0                1  0.002308  2.717534e-07  ...   \n",
       "4     0.052071         0                1  0.007321  2.694099e-07  ...   \n",
       "..         ...       ...              ...       ...           ...  ...   \n",
       "160   0.309037         0                1       NaN           NaN  ...   \n",
       "161   0.061488         0                1       NaN           NaN  ...   \n",
       "162   0.001370         0                1       NaN           NaN  ...   \n",
       "163   0.108397         0                1       NaN           NaN  ...   \n",
       "164   0.469958         0                1       NaN           NaN  ...   \n",
       "\n",
       "       x_acf1   x_acf10  diff1_acf1  diff1_acf10  diff2_acf1  diff2_acf10  \\\n",
       "0    0.793330  1.989262    0.376255     0.709205   -0.265758     0.116166   \n",
       "1    0.735666  1.303933    0.220496     0.301660   -0.330056     0.174848   \n",
       "2    0.766970  2.146671    0.542499     1.019084    0.123627     0.709426   \n",
       "3    0.850193  3.956861    0.730770     3.142027    0.081377     0.640094   \n",
       "4    0.843654  3.792603    0.669894     2.729536   -0.052848     0.361374   \n",
       "..        ...       ...         ...          ...         ...          ...   \n",
       "160  0.453793  0.541748   -0.433017     0.229258   -0.654407     0.489476   \n",
       "161 -0.063828  0.123218   -0.588751     0.604802   -0.728328     0.929083   \n",
       "162  0.388323  0.398712   -0.094730     0.333362   -0.414049     0.356734   \n",
       "163  0.235671  0.297565   -0.298930     0.214062   -0.585358     0.459609   \n",
       "164  0.463905  0.369114   -0.334497     0.395109   -0.566419     0.678487   \n",
       "\n",
       "          y  ind           data    set  \n",
       "0    24.541    0  GlobalClimate  train  \n",
       "1    19.005    1  GlobalClimate  train  \n",
       "2    27.512    2  GlobalClimate  train  \n",
       "3    29.704    3  GlobalClimate  train  \n",
       "4    27.453    4  GlobalClimate  train  \n",
       "..      ...  ...            ...    ...  \n",
       "160   2.000   10        PedalMe  train  \n",
       "161   0.000   11        PedalMe  train  \n",
       "162   0.000   12        PedalMe   test  \n",
       "163   1.000   13        PedalMe   test  \n",
       "164   0.000   14        PedalMe   test  \n",
       "\n",
       "[165 rows x 39 columns]"
      ]
     },
     "execution_count": 96,
     "metadata": {},
     "output_type": "execute_result"
    }
   ],
   "source": [
    "df = pd.DataFrame()\n",
    "\n",
    "\n",
    "for frame, dataset in zip(plain,datasets):\n",
    "    print(dataset)\n",
    "    \n",
    "    # exclude last element of the series\n",
    "    X = frame.iloc[:,:-4].copy()\n",
    "    info = frame.iloc[:,-4:].copy()\n",
    "    info.columns = ['y', 'ind', 'data', 'set']\n",
    "    \n",
    "    features = TSFeatures.transform(X)\n",
    "    features = pd.concat([features, info], axis=1)\n",
    "    \n",
    "    df = pd.concat([df, features], ignore_index=True)\n",
    "    \n",
    "# replace infinite values with NaN\n",
    "df.replace([np.inf, -np.inf], np.nan, inplace=True)\n",
    "\n",
    "# remove features with more than 10% NaN\n",
    "k = len(df.loc[0])\n",
    "output_tsfeatures = df.drop(df.columns[df.apply(lambda col: (col.isnull().sum() / len(df)) > 0.1)], axis=1)\n",
    "\n",
    "print('\\n')\n",
    "print('# bad features = ', k, ' - ', len(output_tsfeatures.loc[0]))\n",
    "\n",
    "\n",
    "schlechteIDs = output_tsfeatures[output_tsfeatures.isna().any(axis=1)].index.values\n",
    "badIDs.append(schlechteIDs)\n",
    "\n",
    "print('Bad IDs: ', schlechteIDs)\n",
    "output_tsfeatures"
   ]
  },
  {
   "cell_type": "markdown",
   "metadata": {},
   "source": [
    "TSFEL"
   ]
  },
  {
   "cell_type": "code",
   "execution_count": 97,
   "metadata": {},
   "outputs": [
    {
     "name": "stdout",
     "output_type": "stream",
     "text": [
      "GlobalClimate\n",
      "*** Feature extraction started ***\n",
      "60\n"
     ]
    },
    {
     "data": {
      "text/html": [
       "\n",
       "              <p>\n",
       "                  Progress: 100% Complete\n",
       "              <p/>            \n",
       "              <progress\n",
       "                  value='60'\n",
       "                  max='60',\n",
       "                  style='width: 25%',\n",
       "              >\n",
       "                  60\n",
       "              </progress>\n",
       "\n",
       "    "
      ],
      "text/plain": [
       "<IPython.core.display.HTML object>"
      ]
     },
     "metadata": {},
     "output_type": "display_data"
    },
    {
     "name": "stdout",
     "output_type": "stream",
     "text": [
      "\n",
      "*** Feature extraction finished ***\n",
      "*** Feature extraction started ***\n",
      "60\n"
     ]
    },
    {
     "data": {
      "text/html": [
       "\n",
       "              <p>\n",
       "                  Progress: 100% Complete\n",
       "              <p/>            \n",
       "              <progress\n",
       "                  value='60'\n",
       "                  max='60',\n",
       "                  style='width: 25%',\n",
       "              >\n",
       "                  60\n",
       "              </progress>\n",
       "\n",
       "    "
      ],
      "text/plain": [
       "<IPython.core.display.HTML object>"
      ]
     },
     "metadata": {},
     "output_type": "display_data"
    },
    {
     "name": "stdout",
     "output_type": "stream",
     "text": [
      "\n",
      "*** Feature extraction finished ***\n",
      "*** Feature extraction started ***\n",
      "60\n"
     ]
    },
    {
     "data": {
      "text/html": [
       "\n",
       "              <p>\n",
       "                  Progress: 100% Complete\n",
       "              <p/>            \n",
       "              <progress\n",
       "                  value='60'\n",
       "                  max='60',\n",
       "                  style='width: 25%',\n",
       "              >\n",
       "                  60\n",
       "              </progress>\n",
       "\n",
       "    "
      ],
      "text/plain": [
       "<IPython.core.display.HTML object>"
      ]
     },
     "metadata": {},
     "output_type": "display_data"
    },
    {
     "name": "stdout",
     "output_type": "stream",
     "text": [
      "\n",
      "*** Feature extraction finished ***\n",
      "*** Feature extraction started ***\n",
      "60\n"
     ]
    },
    {
     "data": {
      "text/html": [
       "\n",
       "              <p>\n",
       "                  Progress: 100% Complete\n",
       "              <p/>            \n",
       "              <progress\n",
       "                  value='60'\n",
       "                  max='60',\n",
       "                  style='width: 25%',\n",
       "              >\n",
       "                  60\n",
       "              </progress>\n",
       "\n",
       "    "
      ],
      "text/plain": [
       "<IPython.core.display.HTML object>"
      ]
     },
     "metadata": {},
     "output_type": "display_data"
    },
    {
     "name": "stdout",
     "output_type": "stream",
     "text": [
      "\n",
      "*** Feature extraction finished ***\n",
      "*** Feature extraction started ***\n",
      "60\n"
     ]
    },
    {
     "data": {
      "text/html": [
       "\n",
       "              <p>\n",
       "                  Progress: 100% Complete\n",
       "              <p/>            \n",
       "              <progress\n",
       "                  value='60'\n",
       "                  max='60',\n",
       "                  style='width: 25%',\n",
       "              >\n",
       "                  60\n",
       "              </progress>\n",
       "\n",
       "    "
      ],
      "text/plain": [
       "<IPython.core.display.HTML object>"
      ]
     },
     "metadata": {},
     "output_type": "display_data"
    },
    {
     "name": "stdout",
     "output_type": "stream",
     "text": [
      "\n",
      "*** Feature extraction finished ***\n",
      "*** Feature extraction started ***\n",
      "60\n"
     ]
    },
    {
     "data": {
      "text/html": [
       "\n",
       "              <p>\n",
       "                  Progress: 100% Complete\n",
       "              <p/>            \n",
       "              <progress\n",
       "                  value='60'\n",
       "                  max='60',\n",
       "                  style='width: 25%',\n",
       "              >\n",
       "                  60\n",
       "              </progress>\n",
       "\n",
       "    "
      ],
      "text/plain": [
       "<IPython.core.display.HTML object>"
      ]
     },
     "metadata": {},
     "output_type": "display_data"
    },
    {
     "name": "stdout",
     "output_type": "stream",
     "text": [
      "\n",
      "*** Feature extraction finished ***\n",
      "*** Feature extraction started ***\n",
      "60\n"
     ]
    },
    {
     "data": {
      "text/html": [
       "\n",
       "              <p>\n",
       "                  Progress: 100% Complete\n",
       "              <p/>            \n",
       "              <progress\n",
       "                  value='60'\n",
       "                  max='60',\n",
       "                  style='width: 25%',\n",
       "              >\n",
       "                  60\n",
       "              </progress>\n",
       "\n",
       "    "
      ],
      "text/plain": [
       "<IPython.core.display.HTML object>"
      ]
     },
     "metadata": {},
     "output_type": "display_data"
    },
    {
     "name": "stdout",
     "output_type": "stream",
     "text": [
      "\n",
      "*** Feature extraction finished ***\n",
      "*** Feature extraction started ***\n",
      "60\n"
     ]
    },
    {
     "data": {
      "text/html": [
       "\n",
       "              <p>\n",
       "                  Progress: 100% Complete\n",
       "              <p/>            \n",
       "              <progress\n",
       "                  value='60'\n",
       "                  max='60',\n",
       "                  style='width: 25%',\n",
       "              >\n",
       "                  60\n",
       "              </progress>\n",
       "\n",
       "    "
      ],
      "text/plain": [
       "<IPython.core.display.HTML object>"
      ]
     },
     "metadata": {},
     "output_type": "display_data"
    },
    {
     "name": "stdout",
     "output_type": "stream",
     "text": [
      "\n",
      "*** Feature extraction finished ***\n",
      "*** Feature extraction started ***\n",
      "60\n"
     ]
    },
    {
     "data": {
      "text/html": [
       "\n",
       "              <p>\n",
       "                  Progress: 100% Complete\n",
       "              <p/>            \n",
       "              <progress\n",
       "                  value='60'\n",
       "                  max='60',\n",
       "                  style='width: 25%',\n",
       "              >\n",
       "                  60\n",
       "              </progress>\n",
       "\n",
       "    "
      ],
      "text/plain": [
       "<IPython.core.display.HTML object>"
      ]
     },
     "metadata": {},
     "output_type": "display_data"
    },
    {
     "name": "stdout",
     "output_type": "stream",
     "text": [
      "\n",
      "*** Feature extraction finished ***\n",
      "*** Feature extraction started ***\n",
      "60\n"
     ]
    },
    {
     "data": {
      "text/html": [
       "\n",
       "              <p>\n",
       "                  Progress: 100% Complete\n",
       "              <p/>            \n",
       "              <progress\n",
       "                  value='60'\n",
       "                  max='60',\n",
       "                  style='width: 25%',\n",
       "              >\n",
       "                  60\n",
       "              </progress>\n",
       "\n",
       "    "
      ],
      "text/plain": [
       "<IPython.core.display.HTML object>"
      ]
     },
     "metadata": {},
     "output_type": "display_data"
    },
    {
     "name": "stdout",
     "output_type": "stream",
     "text": [
      "\n",
      "*** Feature extraction finished ***\n",
      "*** Feature extraction started ***\n",
      "60\n"
     ]
    },
    {
     "data": {
      "text/html": [
       "\n",
       "              <p>\n",
       "                  Progress: 100% Complete\n",
       "              <p/>            \n",
       "              <progress\n",
       "                  value='60'\n",
       "                  max='60',\n",
       "                  style='width: 25%',\n",
       "              >\n",
       "                  60\n",
       "              </progress>\n",
       "\n",
       "    "
      ],
      "text/plain": [
       "<IPython.core.display.HTML object>"
      ]
     },
     "metadata": {},
     "output_type": "display_data"
    },
    {
     "name": "stdout",
     "output_type": "stream",
     "text": [
      "\n",
      "*** Feature extraction finished ***\n",
      "*** Feature extraction started ***\n",
      "60\n"
     ]
    },
    {
     "data": {
      "text/html": [
       "\n",
       "              <p>\n",
       "                  Progress: 100% Complete\n",
       "              <p/>            \n",
       "              <progress\n",
       "                  value='60'\n",
       "                  max='60',\n",
       "                  style='width: 25%',\n",
       "              >\n",
       "                  60\n",
       "              </progress>\n",
       "\n",
       "    "
      ],
      "text/plain": [
       "<IPython.core.display.HTML object>"
      ]
     },
     "metadata": {},
     "output_type": "display_data"
    },
    {
     "name": "stdout",
     "output_type": "stream",
     "text": [
      "\n",
      "*** Feature extraction finished ***\n",
      "*** Feature extraction started ***\n",
      "60\n"
     ]
    },
    {
     "data": {
      "text/html": [
       "\n",
       "              <p>\n",
       "                  Progress: 100% Complete\n",
       "              <p/>            \n",
       "              <progress\n",
       "                  value='60'\n",
       "                  max='60',\n",
       "                  style='width: 25%',\n",
       "              >\n",
       "                  60\n",
       "              </progress>\n",
       "\n",
       "    "
      ],
      "text/plain": [
       "<IPython.core.display.HTML object>"
      ]
     },
     "metadata": {},
     "output_type": "display_data"
    },
    {
     "name": "stdout",
     "output_type": "stream",
     "text": [
      "\n",
      "*** Feature extraction finished ***\n",
      "*** Feature extraction started ***\n",
      "60\n"
     ]
    },
    {
     "data": {
      "text/html": [
       "\n",
       "              <p>\n",
       "                  Progress: 100% Complete\n",
       "              <p/>            \n",
       "              <progress\n",
       "                  value='60'\n",
       "                  max='60',\n",
       "                  style='width: 25%',\n",
       "              >\n",
       "                  60\n",
       "              </progress>\n",
       "\n",
       "    "
      ],
      "text/plain": [
       "<IPython.core.display.HTML object>"
      ]
     },
     "metadata": {},
     "output_type": "display_data"
    },
    {
     "name": "stdout",
     "output_type": "stream",
     "text": [
      "\n",
      "*** Feature extraction finished ***\n",
      "*** Feature extraction started ***\n",
      "60\n"
     ]
    },
    {
     "data": {
      "text/html": [
       "\n",
       "              <p>\n",
       "                  Progress: 100% Complete\n",
       "              <p/>            \n",
       "              <progress\n",
       "                  value='60'\n",
       "                  max='60',\n",
       "                  style='width: 25%',\n",
       "              >\n",
       "                  60\n",
       "              </progress>\n",
       "\n",
       "    "
      ],
      "text/plain": [
       "<IPython.core.display.HTML object>"
      ]
     },
     "metadata": {},
     "output_type": "display_data"
    },
    {
     "name": "stdout",
     "output_type": "stream",
     "text": [
      "\n",
      "*** Feature extraction finished ***\n",
      "*** Feature extraction started ***\n",
      "60\n"
     ]
    },
    {
     "data": {
      "text/html": [
       "\n",
       "              <p>\n",
       "                  Progress: 100% Complete\n",
       "              <p/>            \n",
       "              <progress\n",
       "                  value='60'\n",
       "                  max='60',\n",
       "                  style='width: 25%',\n",
       "              >\n",
       "                  60\n",
       "              </progress>\n",
       "\n",
       "    "
      ],
      "text/plain": [
       "<IPython.core.display.HTML object>"
      ]
     },
     "metadata": {},
     "output_type": "display_data"
    },
    {
     "name": "stdout",
     "output_type": "stream",
     "text": [
      "\n",
      "*** Feature extraction finished ***\n",
      "*** Feature extraction started ***\n",
      "60\n"
     ]
    },
    {
     "data": {
      "text/html": [
       "\n",
       "              <p>\n",
       "                  Progress: 100% Complete\n",
       "              <p/>            \n",
       "              <progress\n",
       "                  value='60'\n",
       "                  max='60',\n",
       "                  style='width: 25%',\n",
       "              >\n",
       "                  60\n",
       "              </progress>\n",
       "\n",
       "    "
      ],
      "text/plain": [
       "<IPython.core.display.HTML object>"
      ]
     },
     "metadata": {},
     "output_type": "display_data"
    },
    {
     "name": "stdout",
     "output_type": "stream",
     "text": [
      "\n",
      "*** Feature extraction finished ***\n",
      "*** Feature extraction started ***\n",
      "60\n"
     ]
    },
    {
     "data": {
      "text/html": [
       "\n",
       "              <p>\n",
       "                  Progress: 100% Complete\n",
       "              <p/>            \n",
       "              <progress\n",
       "                  value='60'\n",
       "                  max='60',\n",
       "                  style='width: 25%',\n",
       "              >\n",
       "                  60\n",
       "              </progress>\n",
       "\n",
       "    "
      ],
      "text/plain": [
       "<IPython.core.display.HTML object>"
      ]
     },
     "metadata": {},
     "output_type": "display_data"
    },
    {
     "name": "stdout",
     "output_type": "stream",
     "text": [
      "\n",
      "*** Feature extraction finished ***\n",
      "*** Feature extraction started ***\n",
      "60\n"
     ]
    },
    {
     "data": {
      "text/html": [
       "\n",
       "              <p>\n",
       "                  Progress: 100% Complete\n",
       "              <p/>            \n",
       "              <progress\n",
       "                  value='60'\n",
       "                  max='60',\n",
       "                  style='width: 25%',\n",
       "              >\n",
       "                  60\n",
       "              </progress>\n",
       "\n",
       "    "
      ],
      "text/plain": [
       "<IPython.core.display.HTML object>"
      ]
     },
     "metadata": {},
     "output_type": "display_data"
    },
    {
     "name": "stdout",
     "output_type": "stream",
     "text": [
      "\n",
      "*** Feature extraction finished ***\n",
      "*** Feature extraction started ***\n",
      "60\n"
     ]
    },
    {
     "data": {
      "text/html": [
       "\n",
       "              <p>\n",
       "                  Progress: 100% Complete\n",
       "              <p/>            \n",
       "              <progress\n",
       "                  value='60'\n",
       "                  max='60',\n",
       "                  style='width: 25%',\n",
       "              >\n",
       "                  60\n",
       "              </progress>\n",
       "\n",
       "    "
      ],
      "text/plain": [
       "<IPython.core.display.HTML object>"
      ]
     },
     "metadata": {},
     "output_type": "display_data"
    },
    {
     "name": "stdout",
     "output_type": "stream",
     "text": [
      "\n",
      "*** Feature extraction finished ***\n",
      "*** Feature extraction started ***\n",
      "60\n"
     ]
    },
    {
     "data": {
      "text/html": [
       "\n",
       "              <p>\n",
       "                  Progress: 100% Complete\n",
       "              <p/>            \n",
       "              <progress\n",
       "                  value='60'\n",
       "                  max='60',\n",
       "                  style='width: 25%',\n",
       "              >\n",
       "                  60\n",
       "              </progress>\n",
       "\n",
       "    "
      ],
      "text/plain": [
       "<IPython.core.display.HTML object>"
      ]
     },
     "metadata": {},
     "output_type": "display_data"
    },
    {
     "name": "stdout",
     "output_type": "stream",
     "text": [
      "\n",
      "*** Feature extraction finished ***\n",
      "*** Feature extraction started ***\n",
      "60\n"
     ]
    },
    {
     "data": {
      "text/html": [
       "\n",
       "              <p>\n",
       "                  Progress: 100% Complete\n",
       "              <p/>            \n",
       "              <progress\n",
       "                  value='60'\n",
       "                  max='60',\n",
       "                  style='width: 25%',\n",
       "              >\n",
       "                  60\n",
       "              </progress>\n",
       "\n",
       "    "
      ],
      "text/plain": [
       "<IPython.core.display.HTML object>"
      ]
     },
     "metadata": {},
     "output_type": "display_data"
    },
    {
     "name": "stdout",
     "output_type": "stream",
     "text": [
      "\n",
      "*** Feature extraction finished ***\n",
      "*** Feature extraction started ***\n",
      "60\n"
     ]
    },
    {
     "data": {
      "text/html": [
       "\n",
       "              <p>\n",
       "                  Progress: 100% Complete\n",
       "              <p/>            \n",
       "              <progress\n",
       "                  value='60'\n",
       "                  max='60',\n",
       "                  style='width: 25%',\n",
       "              >\n",
       "                  60\n",
       "              </progress>\n",
       "\n",
       "    "
      ],
      "text/plain": [
       "<IPython.core.display.HTML object>"
      ]
     },
     "metadata": {},
     "output_type": "display_data"
    },
    {
     "name": "stdout",
     "output_type": "stream",
     "text": [
      "\n",
      "*** Feature extraction finished ***\n",
      "*** Feature extraction started ***\n",
      "60\n"
     ]
    },
    {
     "data": {
      "text/html": [
       "\n",
       "              <p>\n",
       "                  Progress: 100% Complete\n",
       "              <p/>            \n",
       "              <progress\n",
       "                  value='60'\n",
       "                  max='60',\n",
       "                  style='width: 25%',\n",
       "              >\n",
       "                  60\n",
       "              </progress>\n",
       "\n",
       "    "
      ],
      "text/plain": [
       "<IPython.core.display.HTML object>"
      ]
     },
     "metadata": {},
     "output_type": "display_data"
    },
    {
     "name": "stdout",
     "output_type": "stream",
     "text": [
      "\n",
      "*** Feature extraction finished ***\n",
      "*** Feature extraction started ***\n",
      "60\n"
     ]
    },
    {
     "data": {
      "text/html": [
       "\n",
       "              <p>\n",
       "                  Progress: 100% Complete\n",
       "              <p/>            \n",
       "              <progress\n",
       "                  value='60'\n",
       "                  max='60',\n",
       "                  style='width: 25%',\n",
       "              >\n",
       "                  60\n",
       "              </progress>\n",
       "\n",
       "    "
      ],
      "text/plain": [
       "<IPython.core.display.HTML object>"
      ]
     },
     "metadata": {},
     "output_type": "display_data"
    },
    {
     "name": "stdout",
     "output_type": "stream",
     "text": [
      "\n",
      "*** Feature extraction finished ***\n",
      "*** Feature extraction started ***\n",
      "60\n"
     ]
    },
    {
     "data": {
      "text/html": [
       "\n",
       "              <p>\n",
       "                  Progress: 100% Complete\n",
       "              <p/>            \n",
       "              <progress\n",
       "                  value='60'\n",
       "                  max='60',\n",
       "                  style='width: 25%',\n",
       "              >\n",
       "                  60\n",
       "              </progress>\n",
       "\n",
       "    "
      ],
      "text/plain": [
       "<IPython.core.display.HTML object>"
      ]
     },
     "metadata": {},
     "output_type": "display_data"
    },
    {
     "name": "stdout",
     "output_type": "stream",
     "text": [
      "\n",
      "*** Feature extraction finished ***\n",
      "*** Feature extraction started ***\n",
      "60\n"
     ]
    },
    {
     "data": {
      "text/html": [
       "\n",
       "              <p>\n",
       "                  Progress: 100% Complete\n",
       "              <p/>            \n",
       "              <progress\n",
       "                  value='60'\n",
       "                  max='60',\n",
       "                  style='width: 25%',\n",
       "              >\n",
       "                  60\n",
       "              </progress>\n",
       "\n",
       "    "
      ],
      "text/plain": [
       "<IPython.core.display.HTML object>"
      ]
     },
     "metadata": {},
     "output_type": "display_data"
    },
    {
     "name": "stdout",
     "output_type": "stream",
     "text": [
      "\n",
      "*** Feature extraction finished ***\n",
      "*** Feature extraction started ***\n",
      "60\n"
     ]
    },
    {
     "data": {
      "text/html": [
       "\n",
       "              <p>\n",
       "                  Progress: 100% Complete\n",
       "              <p/>            \n",
       "              <progress\n",
       "                  value='60'\n",
       "                  max='60',\n",
       "                  style='width: 25%',\n",
       "              >\n",
       "                  60\n",
       "              </progress>\n",
       "\n",
       "    "
      ],
      "text/plain": [
       "<IPython.core.display.HTML object>"
      ]
     },
     "metadata": {},
     "output_type": "display_data"
    },
    {
     "name": "stdout",
     "output_type": "stream",
     "text": [
      "\n",
      "*** Feature extraction finished ***\n",
      "*** Feature extraction started ***\n",
      "60\n"
     ]
    },
    {
     "data": {
      "text/html": [
       "\n",
       "              <p>\n",
       "                  Progress: 100% Complete\n",
       "              <p/>            \n",
       "              <progress\n",
       "                  value='60'\n",
       "                  max='60',\n",
       "                  style='width: 25%',\n",
       "              >\n",
       "                  60\n",
       "              </progress>\n",
       "\n",
       "    "
      ],
      "text/plain": [
       "<IPython.core.display.HTML object>"
      ]
     },
     "metadata": {},
     "output_type": "display_data"
    },
    {
     "name": "stdout",
     "output_type": "stream",
     "text": [
      "\n",
      "*** Feature extraction finished ***\n",
      "*** Feature extraction started ***\n",
      "60\n"
     ]
    },
    {
     "data": {
      "text/html": [
       "\n",
       "              <p>\n",
       "                  Progress: 100% Complete\n",
       "              <p/>            \n",
       "              <progress\n",
       "                  value='60'\n",
       "                  max='60',\n",
       "                  style='width: 25%',\n",
       "              >\n",
       "                  60\n",
       "              </progress>\n",
       "\n",
       "    "
      ],
      "text/plain": [
       "<IPython.core.display.HTML object>"
      ]
     },
     "metadata": {},
     "output_type": "display_data"
    },
    {
     "name": "stdout",
     "output_type": "stream",
     "text": [
      "\n",
      "*** Feature extraction finished ***\n",
      "*** Feature extraction started ***\n",
      "60\n"
     ]
    },
    {
     "data": {
      "text/html": [
       "\n",
       "              <p>\n",
       "                  Progress: 100% Complete\n",
       "              <p/>            \n",
       "              <progress\n",
       "                  value='60'\n",
       "                  max='60',\n",
       "                  style='width: 25%',\n",
       "              >\n",
       "                  60\n",
       "              </progress>\n",
       "\n",
       "    "
      ],
      "text/plain": [
       "<IPython.core.display.HTML object>"
      ]
     },
     "metadata": {},
     "output_type": "display_data"
    },
    {
     "name": "stdout",
     "output_type": "stream",
     "text": [
      "\n",
      "*** Feature extraction finished ***\n",
      "*** Feature extraction started ***\n",
      "60\n"
     ]
    },
    {
     "data": {
      "text/html": [
       "\n",
       "              <p>\n",
       "                  Progress: 100% Complete\n",
       "              <p/>            \n",
       "              <progress\n",
       "                  value='60'\n",
       "                  max='60',\n",
       "                  style='width: 25%',\n",
       "              >\n",
       "                  60\n",
       "              </progress>\n",
       "\n",
       "    "
      ],
      "text/plain": [
       "<IPython.core.display.HTML object>"
      ]
     },
     "metadata": {},
     "output_type": "display_data"
    },
    {
     "name": "stdout",
     "output_type": "stream",
     "text": [
      "\n",
      "*** Feature extraction finished ***\n",
      "*** Feature extraction started ***\n",
      "60\n"
     ]
    },
    {
     "data": {
      "text/html": [
       "\n",
       "              <p>\n",
       "                  Progress: 100% Complete\n",
       "              <p/>            \n",
       "              <progress\n",
       "                  value='60'\n",
       "                  max='60',\n",
       "                  style='width: 25%',\n",
       "              >\n",
       "                  60\n",
       "              </progress>\n",
       "\n",
       "    "
      ],
      "text/plain": [
       "<IPython.core.display.HTML object>"
      ]
     },
     "metadata": {},
     "output_type": "display_data"
    },
    {
     "name": "stdout",
     "output_type": "stream",
     "text": [
      "\n",
      "*** Feature extraction finished ***\n",
      "*** Feature extraction started ***\n",
      "60\n"
     ]
    },
    {
     "data": {
      "text/html": [
       "\n",
       "              <p>\n",
       "                  Progress: 100% Complete\n",
       "              <p/>            \n",
       "              <progress\n",
       "                  value='60'\n",
       "                  max='60',\n",
       "                  style='width: 25%',\n",
       "              >\n",
       "                  60\n",
       "              </progress>\n",
       "\n",
       "    "
      ],
      "text/plain": [
       "<IPython.core.display.HTML object>"
      ]
     },
     "metadata": {},
     "output_type": "display_data"
    },
    {
     "name": "stdout",
     "output_type": "stream",
     "text": [
      "\n",
      "*** Feature extraction finished ***\n",
      "*** Feature extraction started ***\n",
      "60\n"
     ]
    },
    {
     "data": {
      "text/html": [
       "\n",
       "              <p>\n",
       "                  Progress: 100% Complete\n",
       "              <p/>            \n",
       "              <progress\n",
       "                  value='60'\n",
       "                  max='60',\n",
       "                  style='width: 25%',\n",
       "              >\n",
       "                  60\n",
       "              </progress>\n",
       "\n",
       "    "
      ],
      "text/plain": [
       "<IPython.core.display.HTML object>"
      ]
     },
     "metadata": {},
     "output_type": "display_data"
    },
    {
     "name": "stdout",
     "output_type": "stream",
     "text": [
      "\n",
      "*** Feature extraction finished ***\n",
      "*** Feature extraction started ***\n",
      "60\n"
     ]
    },
    {
     "data": {
      "text/html": [
       "\n",
       "              <p>\n",
       "                  Progress: 100% Complete\n",
       "              <p/>            \n",
       "              <progress\n",
       "                  value='60'\n",
       "                  max='60',\n",
       "                  style='width: 25%',\n",
       "              >\n",
       "                  60\n",
       "              </progress>\n",
       "\n",
       "    "
      ],
      "text/plain": [
       "<IPython.core.display.HTML object>"
      ]
     },
     "metadata": {},
     "output_type": "display_data"
    },
    {
     "name": "stdout",
     "output_type": "stream",
     "text": [
      "\n",
      "*** Feature extraction finished ***\n",
      "*** Feature extraction started ***\n",
      "60\n"
     ]
    },
    {
     "data": {
      "text/html": [
       "\n",
       "              <p>\n",
       "                  Progress: 100% Complete\n",
       "              <p/>            \n",
       "              <progress\n",
       "                  value='60'\n",
       "                  max='60',\n",
       "                  style='width: 25%',\n",
       "              >\n",
       "                  60\n",
       "              </progress>\n",
       "\n",
       "    "
      ],
      "text/plain": [
       "<IPython.core.display.HTML object>"
      ]
     },
     "metadata": {},
     "output_type": "display_data"
    },
    {
     "name": "stdout",
     "output_type": "stream",
     "text": [
      "\n",
      "*** Feature extraction finished ***\n",
      "*** Feature extraction started ***\n",
      "60\n"
     ]
    },
    {
     "data": {
      "text/html": [
       "\n",
       "              <p>\n",
       "                  Progress: 100% Complete\n",
       "              <p/>            \n",
       "              <progress\n",
       "                  value='60'\n",
       "                  max='60',\n",
       "                  style='width: 25%',\n",
       "              >\n",
       "                  60\n",
       "              </progress>\n",
       "\n",
       "    "
      ],
      "text/plain": [
       "<IPython.core.display.HTML object>"
      ]
     },
     "metadata": {},
     "output_type": "display_data"
    },
    {
     "name": "stdout",
     "output_type": "stream",
     "text": [
      "\n",
      "*** Feature extraction finished ***\n",
      "*** Feature extraction started ***\n",
      "60\n"
     ]
    },
    {
     "data": {
      "text/html": [
       "\n",
       "              <p>\n",
       "                  Progress: 100% Complete\n",
       "              <p/>            \n",
       "              <progress\n",
       "                  value='60'\n",
       "                  max='60',\n",
       "                  style='width: 25%',\n",
       "              >\n",
       "                  60\n",
       "              </progress>\n",
       "\n",
       "    "
      ],
      "text/plain": [
       "<IPython.core.display.HTML object>"
      ]
     },
     "metadata": {},
     "output_type": "display_data"
    },
    {
     "name": "stdout",
     "output_type": "stream",
     "text": [
      "\n",
      "*** Feature extraction finished ***\n",
      "*** Feature extraction started ***\n",
      "60\n"
     ]
    },
    {
     "data": {
      "text/html": [
       "\n",
       "              <p>\n",
       "                  Progress: 100% Complete\n",
       "              <p/>            \n",
       "              <progress\n",
       "                  value='60'\n",
       "                  max='60',\n",
       "                  style='width: 25%',\n",
       "              >\n",
       "                  60\n",
       "              </progress>\n",
       "\n",
       "    "
      ],
      "text/plain": [
       "<IPython.core.display.HTML object>"
      ]
     },
     "metadata": {},
     "output_type": "display_data"
    },
    {
     "name": "stdout",
     "output_type": "stream",
     "text": [
      "\n",
      "*** Feature extraction finished ***\n",
      "*** Feature extraction started ***\n",
      "60\n"
     ]
    },
    {
     "data": {
      "text/html": [
       "\n",
       "              <p>\n",
       "                  Progress: 100% Complete\n",
       "              <p/>            \n",
       "              <progress\n",
       "                  value='60'\n",
       "                  max='60',\n",
       "                  style='width: 25%',\n",
       "              >\n",
       "                  60\n",
       "              </progress>\n",
       "\n",
       "    "
      ],
      "text/plain": [
       "<IPython.core.display.HTML object>"
      ]
     },
     "metadata": {},
     "output_type": "display_data"
    },
    {
     "name": "stdout",
     "output_type": "stream",
     "text": [
      "\n",
      "*** Feature extraction finished ***\n",
      "*** Feature extraction started ***\n",
      "60\n"
     ]
    },
    {
     "data": {
      "text/html": [
       "\n",
       "              <p>\n",
       "                  Progress: 100% Complete\n",
       "              <p/>            \n",
       "              <progress\n",
       "                  value='60'\n",
       "                  max='60',\n",
       "                  style='width: 25%',\n",
       "              >\n",
       "                  60\n",
       "              </progress>\n",
       "\n",
       "    "
      ],
      "text/plain": [
       "<IPython.core.display.HTML object>"
      ]
     },
     "metadata": {},
     "output_type": "display_data"
    },
    {
     "name": "stdout",
     "output_type": "stream",
     "text": [
      "\n",
      "*** Feature extraction finished ***\n",
      "*** Feature extraction started ***\n",
      "60\n"
     ]
    },
    {
     "data": {
      "text/html": [
       "\n",
       "              <p>\n",
       "                  Progress: 100% Complete\n",
       "              <p/>            \n",
       "              <progress\n",
       "                  value='60'\n",
       "                  max='60',\n",
       "                  style='width: 25%',\n",
       "              >\n",
       "                  60\n",
       "              </progress>\n",
       "\n",
       "    "
      ],
      "text/plain": [
       "<IPython.core.display.HTML object>"
      ]
     },
     "metadata": {},
     "output_type": "display_data"
    },
    {
     "name": "stdout",
     "output_type": "stream",
     "text": [
      "\n",
      "*** Feature extraction finished ***\n",
      "*** Feature extraction started ***\n",
      "60\n"
     ]
    },
    {
     "data": {
      "text/html": [
       "\n",
       "              <p>\n",
       "                  Progress: 100% Complete\n",
       "              <p/>            \n",
       "              <progress\n",
       "                  value='60'\n",
       "                  max='60',\n",
       "                  style='width: 25%',\n",
       "              >\n",
       "                  60\n",
       "              </progress>\n",
       "\n",
       "    "
      ],
      "text/plain": [
       "<IPython.core.display.HTML object>"
      ]
     },
     "metadata": {},
     "output_type": "display_data"
    },
    {
     "name": "stdout",
     "output_type": "stream",
     "text": [
      "\n",
      "*** Feature extraction finished ***\n",
      "*** Feature extraction started ***\n",
      "60\n"
     ]
    },
    {
     "data": {
      "text/html": [
       "\n",
       "              <p>\n",
       "                  Progress: 100% Complete\n",
       "              <p/>            \n",
       "              <progress\n",
       "                  value='60'\n",
       "                  max='60',\n",
       "                  style='width: 25%',\n",
       "              >\n",
       "                  60\n",
       "              </progress>\n",
       "\n",
       "    "
      ],
      "text/plain": [
       "<IPython.core.display.HTML object>"
      ]
     },
     "metadata": {},
     "output_type": "display_data"
    },
    {
     "name": "stdout",
     "output_type": "stream",
     "text": [
      "\n",
      "*** Feature extraction finished ***\n",
      "*** Feature extraction started ***\n",
      "60\n"
     ]
    },
    {
     "data": {
      "text/html": [
       "\n",
       "              <p>\n",
       "                  Progress: 100% Complete\n",
       "              <p/>            \n",
       "              <progress\n",
       "                  value='60'\n",
       "                  max='60',\n",
       "                  style='width: 25%',\n",
       "              >\n",
       "                  60\n",
       "              </progress>\n",
       "\n",
       "    "
      ],
      "text/plain": [
       "<IPython.core.display.HTML object>"
      ]
     },
     "metadata": {},
     "output_type": "display_data"
    },
    {
     "name": "stdout",
     "output_type": "stream",
     "text": [
      "\n",
      "*** Feature extraction finished ***\n",
      "*** Feature extraction started ***\n",
      "60\n"
     ]
    },
    {
     "data": {
      "text/html": [
       "\n",
       "              <p>\n",
       "                  Progress: 100% Complete\n",
       "              <p/>            \n",
       "              <progress\n",
       "                  value='60'\n",
       "                  max='60',\n",
       "                  style='width: 25%',\n",
       "              >\n",
       "                  60\n",
       "              </progress>\n",
       "\n",
       "    "
      ],
      "text/plain": [
       "<IPython.core.display.HTML object>"
      ]
     },
     "metadata": {},
     "output_type": "display_data"
    },
    {
     "name": "stdout",
     "output_type": "stream",
     "text": [
      "\n",
      "*** Feature extraction finished ***\n",
      "*** Feature extraction started ***\n",
      "60\n"
     ]
    },
    {
     "data": {
      "text/html": [
       "\n",
       "              <p>\n",
       "                  Progress: 100% Complete\n",
       "              <p/>            \n",
       "              <progress\n",
       "                  value='60'\n",
       "                  max='60',\n",
       "                  style='width: 25%',\n",
       "              >\n",
       "                  60\n",
       "              </progress>\n",
       "\n",
       "    "
      ],
      "text/plain": [
       "<IPython.core.display.HTML object>"
      ]
     },
     "metadata": {},
     "output_type": "display_data"
    },
    {
     "name": "stdout",
     "output_type": "stream",
     "text": [
      "\n",
      "*** Feature extraction finished ***\n",
      "*** Feature extraction started ***\n",
      "60\n"
     ]
    },
    {
     "data": {
      "text/html": [
       "\n",
       "              <p>\n",
       "                  Progress: 100% Complete\n",
       "              <p/>            \n",
       "              <progress\n",
       "                  value='60'\n",
       "                  max='60',\n",
       "                  style='width: 25%',\n",
       "              >\n",
       "                  60\n",
       "              </progress>\n",
       "\n",
       "    "
      ],
      "text/plain": [
       "<IPython.core.display.HTML object>"
      ]
     },
     "metadata": {},
     "output_type": "display_data"
    },
    {
     "name": "stdout",
     "output_type": "stream",
     "text": [
      "\n",
      "*** Feature extraction finished ***\n",
      "*** Feature extraction started ***\n",
      "60\n"
     ]
    },
    {
     "data": {
      "text/html": [
       "\n",
       "              <p>\n",
       "                  Progress: 100% Complete\n",
       "              <p/>            \n",
       "              <progress\n",
       "                  value='60'\n",
       "                  max='60',\n",
       "                  style='width: 25%',\n",
       "              >\n",
       "                  60\n",
       "              </progress>\n",
       "\n",
       "    "
      ],
      "text/plain": [
       "<IPython.core.display.HTML object>"
      ]
     },
     "metadata": {},
     "output_type": "display_data"
    },
    {
     "name": "stdout",
     "output_type": "stream",
     "text": [
      "\n",
      "*** Feature extraction finished ***\n",
      "*** Feature extraction started ***\n",
      "60\n"
     ]
    },
    {
     "data": {
      "text/html": [
       "\n",
       "              <p>\n",
       "                  Progress: 100% Complete\n",
       "              <p/>            \n",
       "              <progress\n",
       "                  value='60'\n",
       "                  max='60',\n",
       "                  style='width: 25%',\n",
       "              >\n",
       "                  60\n",
       "              </progress>\n",
       "\n",
       "    "
      ],
      "text/plain": [
       "<IPython.core.display.HTML object>"
      ]
     },
     "metadata": {},
     "output_type": "display_data"
    },
    {
     "name": "stdout",
     "output_type": "stream",
     "text": [
      "\n",
      "*** Feature extraction finished ***\n",
      "*** Feature extraction started ***\n",
      "60\n"
     ]
    },
    {
     "data": {
      "text/html": [
       "\n",
       "              <p>\n",
       "                  Progress: 100% Complete\n",
       "              <p/>            \n",
       "              <progress\n",
       "                  value='60'\n",
       "                  max='60',\n",
       "                  style='width: 25%',\n",
       "              >\n",
       "                  60\n",
       "              </progress>\n",
       "\n",
       "    "
      ],
      "text/plain": [
       "<IPython.core.display.HTML object>"
      ]
     },
     "metadata": {},
     "output_type": "display_data"
    },
    {
     "name": "stdout",
     "output_type": "stream",
     "text": [
      "\n",
      "*** Feature extraction finished ***\n",
      "*** Feature extraction started ***\n",
      "60\n"
     ]
    },
    {
     "data": {
      "text/html": [
       "\n",
       "              <p>\n",
       "                  Progress: 100% Complete\n",
       "              <p/>            \n",
       "              <progress\n",
       "                  value='60'\n",
       "                  max='60',\n",
       "                  style='width: 25%',\n",
       "              >\n",
       "                  60\n",
       "              </progress>\n",
       "\n",
       "    "
      ],
      "text/plain": [
       "<IPython.core.display.HTML object>"
      ]
     },
     "metadata": {},
     "output_type": "display_data"
    },
    {
     "name": "stdout",
     "output_type": "stream",
     "text": [
      "\n",
      "*** Feature extraction finished ***\n",
      "*** Feature extraction started ***\n",
      "60\n"
     ]
    },
    {
     "data": {
      "text/html": [
       "\n",
       "              <p>\n",
       "                  Progress: 100% Complete\n",
       "              <p/>            \n",
       "              <progress\n",
       "                  value='60'\n",
       "                  max='60',\n",
       "                  style='width: 25%',\n",
       "              >\n",
       "                  60\n",
       "              </progress>\n",
       "\n",
       "    "
      ],
      "text/plain": [
       "<IPython.core.display.HTML object>"
      ]
     },
     "metadata": {},
     "output_type": "display_data"
    },
    {
     "name": "stdout",
     "output_type": "stream",
     "text": [
      "\n",
      "*** Feature extraction finished ***\n",
      "*** Feature extraction started ***\n",
      "60\n"
     ]
    },
    {
     "data": {
      "text/html": [
       "\n",
       "              <p>\n",
       "                  Progress: 100% Complete\n",
       "              <p/>            \n",
       "              <progress\n",
       "                  value='60'\n",
       "                  max='60',\n",
       "                  style='width: 25%',\n",
       "              >\n",
       "                  60\n",
       "              </progress>\n",
       "\n",
       "    "
      ],
      "text/plain": [
       "<IPython.core.display.HTML object>"
      ]
     },
     "metadata": {},
     "output_type": "display_data"
    },
    {
     "name": "stdout",
     "output_type": "stream",
     "text": [
      "\n",
      "*** Feature extraction finished ***\n",
      "*** Feature extraction started ***\n",
      "60\n"
     ]
    },
    {
     "data": {
      "text/html": [
       "\n",
       "              <p>\n",
       "                  Progress: 100% Complete\n",
       "              <p/>            \n",
       "              <progress\n",
       "                  value='60'\n",
       "                  max='60',\n",
       "                  style='width: 25%',\n",
       "              >\n",
       "                  60\n",
       "              </progress>\n",
       "\n",
       "    "
      ],
      "text/plain": [
       "<IPython.core.display.HTML object>"
      ]
     },
     "metadata": {},
     "output_type": "display_data"
    },
    {
     "name": "stdout",
     "output_type": "stream",
     "text": [
      "\n",
      "*** Feature extraction finished ***\n",
      "*** Feature extraction started ***\n",
      "60\n"
     ]
    },
    {
     "data": {
      "text/html": [
       "\n",
       "              <p>\n",
       "                  Progress: 100% Complete\n",
       "              <p/>            \n",
       "              <progress\n",
       "                  value='60'\n",
       "                  max='60',\n",
       "                  style='width: 25%',\n",
       "              >\n",
       "                  60\n",
       "              </progress>\n",
       "\n",
       "    "
      ],
      "text/plain": [
       "<IPython.core.display.HTML object>"
      ]
     },
     "metadata": {},
     "output_type": "display_data"
    },
    {
     "name": "stdout",
     "output_type": "stream",
     "text": [
      "\n",
      "*** Feature extraction finished ***\n",
      "*** Feature extraction started ***\n",
      "60\n"
     ]
    },
    {
     "data": {
      "text/html": [
       "\n",
       "              <p>\n",
       "                  Progress: 100% Complete\n",
       "              <p/>            \n",
       "              <progress\n",
       "                  value='60'\n",
       "                  max='60',\n",
       "                  style='width: 25%',\n",
       "              >\n",
       "                  60\n",
       "              </progress>\n",
       "\n",
       "    "
      ],
      "text/plain": [
       "<IPython.core.display.HTML object>"
      ]
     },
     "metadata": {},
     "output_type": "display_data"
    },
    {
     "name": "stdout",
     "output_type": "stream",
     "text": [
      "\n",
      "*** Feature extraction finished ***\n",
      "*** Feature extraction started ***\n",
      "60\n"
     ]
    },
    {
     "data": {
      "text/html": [
       "\n",
       "              <p>\n",
       "                  Progress: 100% Complete\n",
       "              <p/>            \n",
       "              <progress\n",
       "                  value='60'\n",
       "                  max='60',\n",
       "                  style='width: 25%',\n",
       "              >\n",
       "                  60\n",
       "              </progress>\n",
       "\n",
       "    "
      ],
      "text/plain": [
       "<IPython.core.display.HTML object>"
      ]
     },
     "metadata": {},
     "output_type": "display_data"
    },
    {
     "name": "stdout",
     "output_type": "stream",
     "text": [
      "\n",
      "*** Feature extraction finished ***\n",
      "*** Feature extraction started ***\n",
      "60\n"
     ]
    },
    {
     "data": {
      "text/html": [
       "\n",
       "              <p>\n",
       "                  Progress: 100% Complete\n",
       "              <p/>            \n",
       "              <progress\n",
       "                  value='60'\n",
       "                  max='60',\n",
       "                  style='width: 25%',\n",
       "              >\n",
       "                  60\n",
       "              </progress>\n",
       "\n",
       "    "
      ],
      "text/plain": [
       "<IPython.core.display.HTML object>"
      ]
     },
     "metadata": {},
     "output_type": "display_data"
    },
    {
     "name": "stdout",
     "output_type": "stream",
     "text": [
      "\n",
      "*** Feature extraction finished ***\n",
      "*** Feature extraction started ***\n",
      "60\n"
     ]
    },
    {
     "data": {
      "text/html": [
       "\n",
       "              <p>\n",
       "                  Progress: 100% Complete\n",
       "              <p/>            \n",
       "              <progress\n",
       "                  value='60'\n",
       "                  max='60',\n",
       "                  style='width: 25%',\n",
       "              >\n",
       "                  60\n",
       "              </progress>\n",
       "\n",
       "    "
      ],
      "text/plain": [
       "<IPython.core.display.HTML object>"
      ]
     },
     "metadata": {},
     "output_type": "display_data"
    },
    {
     "name": "stdout",
     "output_type": "stream",
     "text": [
      "\n",
      "*** Feature extraction finished ***\n",
      "*** Feature extraction started ***\n",
      "60\n"
     ]
    },
    {
     "data": {
      "text/html": [
       "\n",
       "              <p>\n",
       "                  Progress: 100% Complete\n",
       "              <p/>            \n",
       "              <progress\n",
       "                  value='60'\n",
       "                  max='60',\n",
       "                  style='width: 25%',\n",
       "              >\n",
       "                  60\n",
       "              </progress>\n",
       "\n",
       "    "
      ],
      "text/plain": [
       "<IPython.core.display.HTML object>"
      ]
     },
     "metadata": {},
     "output_type": "display_data"
    },
    {
     "name": "stdout",
     "output_type": "stream",
     "text": [
      "\n",
      "*** Feature extraction finished ***\n",
      "*** Feature extraction started ***\n",
      "60\n"
     ]
    },
    {
     "data": {
      "text/html": [
       "\n",
       "              <p>\n",
       "                  Progress: 100% Complete\n",
       "              <p/>            \n",
       "              <progress\n",
       "                  value='60'\n",
       "                  max='60',\n",
       "                  style='width: 25%',\n",
       "              >\n",
       "                  60\n",
       "              </progress>\n",
       "\n",
       "    "
      ],
      "text/plain": [
       "<IPython.core.display.HTML object>"
      ]
     },
     "metadata": {},
     "output_type": "display_data"
    },
    {
     "name": "stdout",
     "output_type": "stream",
     "text": [
      "\n",
      "*** Feature extraction finished ***\n",
      "*** Feature extraction started ***\n",
      "60\n"
     ]
    },
    {
     "data": {
      "text/html": [
       "\n",
       "              <p>\n",
       "                  Progress: 100% Complete\n",
       "              <p/>            \n",
       "              <progress\n",
       "                  value='60'\n",
       "                  max='60',\n",
       "                  style='width: 25%',\n",
       "              >\n",
       "                  60\n",
       "              </progress>\n",
       "\n",
       "    "
      ],
      "text/plain": [
       "<IPython.core.display.HTML object>"
      ]
     },
     "metadata": {},
     "output_type": "display_data"
    },
    {
     "name": "stdout",
     "output_type": "stream",
     "text": [
      "\n",
      "*** Feature extraction finished ***\n",
      "*** Feature extraction started ***\n",
      "60\n"
     ]
    },
    {
     "data": {
      "text/html": [
       "\n",
       "              <p>\n",
       "                  Progress: 100% Complete\n",
       "              <p/>            \n",
       "              <progress\n",
       "                  value='60'\n",
       "                  max='60',\n",
       "                  style='width: 25%',\n",
       "              >\n",
       "                  60\n",
       "              </progress>\n",
       "\n",
       "    "
      ],
      "text/plain": [
       "<IPython.core.display.HTML object>"
      ]
     },
     "metadata": {},
     "output_type": "display_data"
    },
    {
     "name": "stdout",
     "output_type": "stream",
     "text": [
      "\n",
      "*** Feature extraction finished ***\n",
      "*** Feature extraction started ***\n",
      "60\n"
     ]
    },
    {
     "data": {
      "text/html": [
       "\n",
       "              <p>\n",
       "                  Progress: 100% Complete\n",
       "              <p/>            \n",
       "              <progress\n",
       "                  value='60'\n",
       "                  max='60',\n",
       "                  style='width: 25%',\n",
       "              >\n",
       "                  60\n",
       "              </progress>\n",
       "\n",
       "    "
      ],
      "text/plain": [
       "<IPython.core.display.HTML object>"
      ]
     },
     "metadata": {},
     "output_type": "display_data"
    },
    {
     "name": "stdout",
     "output_type": "stream",
     "text": [
      "\n",
      "*** Feature extraction finished ***\n",
      "*** Feature extraction started ***\n",
      "60\n"
     ]
    },
    {
     "data": {
      "text/html": [
       "\n",
       "              <p>\n",
       "                  Progress: 100% Complete\n",
       "              <p/>            \n",
       "              <progress\n",
       "                  value='60'\n",
       "                  max='60',\n",
       "                  style='width: 25%',\n",
       "              >\n",
       "                  60\n",
       "              </progress>\n",
       "\n",
       "    "
      ],
      "text/plain": [
       "<IPython.core.display.HTML object>"
      ]
     },
     "metadata": {},
     "output_type": "display_data"
    },
    {
     "name": "stdout",
     "output_type": "stream",
     "text": [
      "\n",
      "*** Feature extraction finished ***\n",
      "*** Feature extraction started ***\n",
      "60\n"
     ]
    },
    {
     "data": {
      "text/html": [
       "\n",
       "              <p>\n",
       "                  Progress: 100% Complete\n",
       "              <p/>            \n",
       "              <progress\n",
       "                  value='60'\n",
       "                  max='60',\n",
       "                  style='width: 25%',\n",
       "              >\n",
       "                  60\n",
       "              </progress>\n",
       "\n",
       "    "
      ],
      "text/plain": [
       "<IPython.core.display.HTML object>"
      ]
     },
     "metadata": {},
     "output_type": "display_data"
    },
    {
     "name": "stdout",
     "output_type": "stream",
     "text": [
      "\n",
      "*** Feature extraction finished ***\n",
      "*** Feature extraction started ***\n",
      "60\n"
     ]
    },
    {
     "data": {
      "text/html": [
       "\n",
       "              <p>\n",
       "                  Progress: 100% Complete\n",
       "              <p/>            \n",
       "              <progress\n",
       "                  value='60'\n",
       "                  max='60',\n",
       "                  style='width: 25%',\n",
       "              >\n",
       "                  60\n",
       "              </progress>\n",
       "\n",
       "    "
      ],
      "text/plain": [
       "<IPython.core.display.HTML object>"
      ]
     },
     "metadata": {},
     "output_type": "display_data"
    },
    {
     "name": "stdout",
     "output_type": "stream",
     "text": [
      "\n",
      "*** Feature extraction finished ***\n",
      "*** Feature extraction started ***\n",
      "60\n"
     ]
    },
    {
     "data": {
      "text/html": [
       "\n",
       "              <p>\n",
       "                  Progress: 100% Complete\n",
       "              <p/>            \n",
       "              <progress\n",
       "                  value='60'\n",
       "                  max='60',\n",
       "                  style='width: 25%',\n",
       "              >\n",
       "                  60\n",
       "              </progress>\n",
       "\n",
       "    "
      ],
      "text/plain": [
       "<IPython.core.display.HTML object>"
      ]
     },
     "metadata": {},
     "output_type": "display_data"
    },
    {
     "name": "stdout",
     "output_type": "stream",
     "text": [
      "\n",
      "*** Feature extraction finished ***\n",
      "*** Feature extraction started ***\n",
      "60\n"
     ]
    },
    {
     "data": {
      "text/html": [
       "\n",
       "              <p>\n",
       "                  Progress: 100% Complete\n",
       "              <p/>            \n",
       "              <progress\n",
       "                  value='60'\n",
       "                  max='60',\n",
       "                  style='width: 25%',\n",
       "              >\n",
       "                  60\n",
       "              </progress>\n",
       "\n",
       "    "
      ],
      "text/plain": [
       "<IPython.core.display.HTML object>"
      ]
     },
     "metadata": {},
     "output_type": "display_data"
    },
    {
     "name": "stdout",
     "output_type": "stream",
     "text": [
      "\n",
      "*** Feature extraction finished ***\n",
      "*** Feature extraction started ***\n",
      "60\n"
     ]
    },
    {
     "data": {
      "text/html": [
       "\n",
       "              <p>\n",
       "                  Progress: 100% Complete\n",
       "              <p/>            \n",
       "              <progress\n",
       "                  value='60'\n",
       "                  max='60',\n",
       "                  style='width: 25%',\n",
       "              >\n",
       "                  60\n",
       "              </progress>\n",
       "\n",
       "    "
      ],
      "text/plain": [
       "<IPython.core.display.HTML object>"
      ]
     },
     "metadata": {},
     "output_type": "display_data"
    },
    {
     "name": "stdout",
     "output_type": "stream",
     "text": [
      "\n",
      "*** Feature extraction finished ***\n",
      "*** Feature extraction started ***\n",
      "60\n"
     ]
    },
    {
     "data": {
      "text/html": [
       "\n",
       "              <p>\n",
       "                  Progress: 100% Complete\n",
       "              <p/>            \n",
       "              <progress\n",
       "                  value='60'\n",
       "                  max='60',\n",
       "                  style='width: 25%',\n",
       "              >\n",
       "                  60\n",
       "              </progress>\n",
       "\n",
       "    "
      ],
      "text/plain": [
       "<IPython.core.display.HTML object>"
      ]
     },
     "metadata": {},
     "output_type": "display_data"
    },
    {
     "name": "stdout",
     "output_type": "stream",
     "text": [
      "\n",
      "*** Feature extraction finished ***\n",
      "*** Feature extraction started ***\n",
      "60\n"
     ]
    },
    {
     "data": {
      "text/html": [
       "\n",
       "              <p>\n",
       "                  Progress: 100% Complete\n",
       "              <p/>            \n",
       "              <progress\n",
       "                  value='60'\n",
       "                  max='60',\n",
       "                  style='width: 25%',\n",
       "              >\n",
       "                  60\n",
       "              </progress>\n",
       "\n",
       "    "
      ],
      "text/plain": [
       "<IPython.core.display.HTML object>"
      ]
     },
     "metadata": {},
     "output_type": "display_data"
    },
    {
     "name": "stdout",
     "output_type": "stream",
     "text": [
      "\n",
      "*** Feature extraction finished ***\n",
      "*** Feature extraction started ***\n",
      "60\n"
     ]
    },
    {
     "data": {
      "text/html": [
       "\n",
       "              <p>\n",
       "                  Progress: 100% Complete\n",
       "              <p/>            \n",
       "              <progress\n",
       "                  value='60'\n",
       "                  max='60',\n",
       "                  style='width: 25%',\n",
       "              >\n",
       "                  60\n",
       "              </progress>\n",
       "\n",
       "    "
      ],
      "text/plain": [
       "<IPython.core.display.HTML object>"
      ]
     },
     "metadata": {},
     "output_type": "display_data"
    },
    {
     "name": "stdout",
     "output_type": "stream",
     "text": [
      "\n",
      "*** Feature extraction finished ***\n",
      "*** Feature extraction started ***\n",
      "60\n"
     ]
    },
    {
     "data": {
      "text/html": [
       "\n",
       "              <p>\n",
       "                  Progress: 100% Complete\n",
       "              <p/>            \n",
       "              <progress\n",
       "                  value='60'\n",
       "                  max='60',\n",
       "                  style='width: 25%',\n",
       "              >\n",
       "                  60\n",
       "              </progress>\n",
       "\n",
       "    "
      ],
      "text/plain": [
       "<IPython.core.display.HTML object>"
      ]
     },
     "metadata": {},
     "output_type": "display_data"
    },
    {
     "name": "stdout",
     "output_type": "stream",
     "text": [
      "\n",
      "*** Feature extraction finished ***\n",
      "*** Feature extraction started ***\n",
      "60\n"
     ]
    },
    {
     "data": {
      "text/html": [
       "\n",
       "              <p>\n",
       "                  Progress: 100% Complete\n",
       "              <p/>            \n",
       "              <progress\n",
       "                  value='60'\n",
       "                  max='60',\n",
       "                  style='width: 25%',\n",
       "              >\n",
       "                  60\n",
       "              </progress>\n",
       "\n",
       "    "
      ],
      "text/plain": [
       "<IPython.core.display.HTML object>"
      ]
     },
     "metadata": {},
     "output_type": "display_data"
    },
    {
     "name": "stdout",
     "output_type": "stream",
     "text": [
      "\n",
      "*** Feature extraction finished ***\n",
      "*** Feature extraction started ***\n",
      "60\n"
     ]
    },
    {
     "data": {
      "text/html": [
       "\n",
       "              <p>\n",
       "                  Progress: 100% Complete\n",
       "              <p/>            \n",
       "              <progress\n",
       "                  value='60'\n",
       "                  max='60',\n",
       "                  style='width: 25%',\n",
       "              >\n",
       "                  60\n",
       "              </progress>\n",
       "\n",
       "    "
      ],
      "text/plain": [
       "<IPython.core.display.HTML object>"
      ]
     },
     "metadata": {},
     "output_type": "display_data"
    },
    {
     "name": "stdout",
     "output_type": "stream",
     "text": [
      "\n",
      "*** Feature extraction finished ***\n",
      "*** Feature extraction started ***\n",
      "60\n"
     ]
    },
    {
     "data": {
      "text/html": [
       "\n",
       "              <p>\n",
       "                  Progress: 100% Complete\n",
       "              <p/>            \n",
       "              <progress\n",
       "                  value='60'\n",
       "                  max='60',\n",
       "                  style='width: 25%',\n",
       "              >\n",
       "                  60\n",
       "              </progress>\n",
       "\n",
       "    "
      ],
      "text/plain": [
       "<IPython.core.display.HTML object>"
      ]
     },
     "metadata": {},
     "output_type": "display_data"
    },
    {
     "name": "stdout",
     "output_type": "stream",
     "text": [
      "\n",
      "*** Feature extraction finished ***\n",
      "*** Feature extraction started ***\n",
      "60\n"
     ]
    },
    {
     "data": {
      "text/html": [
       "\n",
       "              <p>\n",
       "                  Progress: 100% Complete\n",
       "              <p/>            \n",
       "              <progress\n",
       "                  value='60'\n",
       "                  max='60',\n",
       "                  style='width: 25%',\n",
       "              >\n",
       "                  60\n",
       "              </progress>\n",
       "\n",
       "    "
      ],
      "text/plain": [
       "<IPython.core.display.HTML object>"
      ]
     },
     "metadata": {},
     "output_type": "display_data"
    },
    {
     "name": "stdout",
     "output_type": "stream",
     "text": [
      "\n",
      "*** Feature extraction finished ***\n",
      "*** Feature extraction started ***\n",
      "60\n"
     ]
    },
    {
     "data": {
      "text/html": [
       "\n",
       "              <p>\n",
       "                  Progress: 100% Complete\n",
       "              <p/>            \n",
       "              <progress\n",
       "                  value='60'\n",
       "                  max='60',\n",
       "                  style='width: 25%',\n",
       "              >\n",
       "                  60\n",
       "              </progress>\n",
       "\n",
       "    "
      ],
      "text/plain": [
       "<IPython.core.display.HTML object>"
      ]
     },
     "metadata": {},
     "output_type": "display_data"
    },
    {
     "name": "stdout",
     "output_type": "stream",
     "text": [
      "\n",
      "*** Feature extraction finished ***\n",
      "*** Feature extraction started ***\n",
      "60\n"
     ]
    },
    {
     "data": {
      "text/html": [
       "\n",
       "              <p>\n",
       "                  Progress: 100% Complete\n",
       "              <p/>            \n",
       "              <progress\n",
       "                  value='60'\n",
       "                  max='60',\n",
       "                  style='width: 25%',\n",
       "              >\n",
       "                  60\n",
       "              </progress>\n",
       "\n",
       "    "
      ],
      "text/plain": [
       "<IPython.core.display.HTML object>"
      ]
     },
     "metadata": {},
     "output_type": "display_data"
    },
    {
     "name": "stdout",
     "output_type": "stream",
     "text": [
      "\n",
      "*** Feature extraction finished ***\n",
      "*** Feature extraction started ***\n",
      "60\n"
     ]
    },
    {
     "data": {
      "text/html": [
       "\n",
       "              <p>\n",
       "                  Progress: 100% Complete\n",
       "              <p/>            \n",
       "              <progress\n",
       "                  value='60'\n",
       "                  max='60',\n",
       "                  style='width: 25%',\n",
       "              >\n",
       "                  60\n",
       "              </progress>\n",
       "\n",
       "    "
      ],
      "text/plain": [
       "<IPython.core.display.HTML object>"
      ]
     },
     "metadata": {},
     "output_type": "display_data"
    },
    {
     "name": "stdout",
     "output_type": "stream",
     "text": [
      "\n",
      "*** Feature extraction finished ***\n",
      "*** Feature extraction started ***\n",
      "60\n"
     ]
    },
    {
     "data": {
      "text/html": [
       "\n",
       "              <p>\n",
       "                  Progress: 100% Complete\n",
       "              <p/>            \n",
       "              <progress\n",
       "                  value='60'\n",
       "                  max='60',\n",
       "                  style='width: 25%',\n",
       "              >\n",
       "                  60\n",
       "              </progress>\n",
       "\n",
       "    "
      ],
      "text/plain": [
       "<IPython.core.display.HTML object>"
      ]
     },
     "metadata": {},
     "output_type": "display_data"
    },
    {
     "name": "stdout",
     "output_type": "stream",
     "text": [
      "\n",
      "*** Feature extraction finished ***\n",
      "*** Feature extraction started ***\n",
      "60\n"
     ]
    },
    {
     "data": {
      "text/html": [
       "\n",
       "              <p>\n",
       "                  Progress: 100% Complete\n",
       "              <p/>            \n",
       "              <progress\n",
       "                  value='60'\n",
       "                  max='60',\n",
       "                  style='width: 25%',\n",
       "              >\n",
       "                  60\n",
       "              </progress>\n",
       "\n",
       "    "
      ],
      "text/plain": [
       "<IPython.core.display.HTML object>"
      ]
     },
     "metadata": {},
     "output_type": "display_data"
    },
    {
     "name": "stdout",
     "output_type": "stream",
     "text": [
      "\n",
      "*** Feature extraction finished ***\n",
      "*** Feature extraction started ***\n",
      "60\n"
     ]
    },
    {
     "data": {
      "text/html": [
       "\n",
       "              <p>\n",
       "                  Progress: 100% Complete\n",
       "              <p/>            \n",
       "              <progress\n",
       "                  value='60'\n",
       "                  max='60',\n",
       "                  style='width: 25%',\n",
       "              >\n",
       "                  60\n",
       "              </progress>\n",
       "\n",
       "    "
      ],
      "text/plain": [
       "<IPython.core.display.HTML object>"
      ]
     },
     "metadata": {},
     "output_type": "display_data"
    },
    {
     "name": "stdout",
     "output_type": "stream",
     "text": [
      "\n",
      "*** Feature extraction finished ***\n",
      "*** Feature extraction started ***\n",
      "60\n"
     ]
    },
    {
     "data": {
      "text/html": [
       "\n",
       "              <p>\n",
       "                  Progress: 100% Complete\n",
       "              <p/>            \n",
       "              <progress\n",
       "                  value='60'\n",
       "                  max='60',\n",
       "                  style='width: 25%',\n",
       "              >\n",
       "                  60\n",
       "              </progress>\n",
       "\n",
       "    "
      ],
      "text/plain": [
       "<IPython.core.display.HTML object>"
      ]
     },
     "metadata": {},
     "output_type": "display_data"
    },
    {
     "name": "stdout",
     "output_type": "stream",
     "text": [
      "\n",
      "*** Feature extraction finished ***\n",
      "*** Feature extraction started ***\n",
      "60\n"
     ]
    },
    {
     "data": {
      "text/html": [
       "\n",
       "              <p>\n",
       "                  Progress: 100% Complete\n",
       "              <p/>            \n",
       "              <progress\n",
       "                  value='60'\n",
       "                  max='60',\n",
       "                  style='width: 25%',\n",
       "              >\n",
       "                  60\n",
       "              </progress>\n",
       "\n",
       "    "
      ],
      "text/plain": [
       "<IPython.core.display.HTML object>"
      ]
     },
     "metadata": {},
     "output_type": "display_data"
    },
    {
     "name": "stdout",
     "output_type": "stream",
     "text": [
      "\n",
      "*** Feature extraction finished ***\n",
      "*** Feature extraction started ***\n",
      "60\n"
     ]
    },
    {
     "data": {
      "text/html": [
       "\n",
       "              <p>\n",
       "                  Progress: 100% Complete\n",
       "              <p/>            \n",
       "              <progress\n",
       "                  value='60'\n",
       "                  max='60',\n",
       "                  style='width: 25%',\n",
       "              >\n",
       "                  60\n",
       "              </progress>\n",
       "\n",
       "    "
      ],
      "text/plain": [
       "<IPython.core.display.HTML object>"
      ]
     },
     "metadata": {},
     "output_type": "display_data"
    },
    {
     "name": "stdout",
     "output_type": "stream",
     "text": [
      "\n",
      "*** Feature extraction finished ***\n",
      "*** Feature extraction started ***\n",
      "60\n"
     ]
    },
    {
     "data": {
      "text/html": [
       "\n",
       "              <p>\n",
       "                  Progress: 100% Complete\n",
       "              <p/>            \n",
       "              <progress\n",
       "                  value='60'\n",
       "                  max='60',\n",
       "                  style='width: 25%',\n",
       "              >\n",
       "                  60\n",
       "              </progress>\n",
       "\n",
       "    "
      ],
      "text/plain": [
       "<IPython.core.display.HTML object>"
      ]
     },
     "metadata": {},
     "output_type": "display_data"
    },
    {
     "name": "stdout",
     "output_type": "stream",
     "text": [
      "\n",
      "*** Feature extraction finished ***\n",
      "*** Feature extraction started ***\n",
      "60\n"
     ]
    },
    {
     "data": {
      "text/html": [
       "\n",
       "              <p>\n",
       "                  Progress: 100% Complete\n",
       "              <p/>            \n",
       "              <progress\n",
       "                  value='60'\n",
       "                  max='60',\n",
       "                  style='width: 25%',\n",
       "              >\n",
       "                  60\n",
       "              </progress>\n",
       "\n",
       "    "
      ],
      "text/plain": [
       "<IPython.core.display.HTML object>"
      ]
     },
     "metadata": {},
     "output_type": "display_data"
    },
    {
     "name": "stdout",
     "output_type": "stream",
     "text": [
      "\n",
      "*** Feature extraction finished ***\n",
      "*** Feature extraction started ***\n",
      "60\n"
     ]
    },
    {
     "data": {
      "text/html": [
       "\n",
       "              <p>\n",
       "                  Progress: 100% Complete\n",
       "              <p/>            \n",
       "              <progress\n",
       "                  value='60'\n",
       "                  max='60',\n",
       "                  style='width: 25%',\n",
       "              >\n",
       "                  60\n",
       "              </progress>\n",
       "\n",
       "    "
      ],
      "text/plain": [
       "<IPython.core.display.HTML object>"
      ]
     },
     "metadata": {},
     "output_type": "display_data"
    },
    {
     "name": "stdout",
     "output_type": "stream",
     "text": [
      "\n",
      "*** Feature extraction finished ***\n",
      "*** Feature extraction started ***\n",
      "60\n"
     ]
    },
    {
     "data": {
      "text/html": [
       "\n",
       "              <p>\n",
       "                  Progress: 100% Complete\n",
       "              <p/>            \n",
       "              <progress\n",
       "                  value='60'\n",
       "                  max='60',\n",
       "                  style='width: 25%',\n",
       "              >\n",
       "                  60\n",
       "              </progress>\n",
       "\n",
       "    "
      ],
      "text/plain": [
       "<IPython.core.display.HTML object>"
      ]
     },
     "metadata": {},
     "output_type": "display_data"
    },
    {
     "name": "stdout",
     "output_type": "stream",
     "text": [
      "\n",
      "*** Feature extraction finished ***\n",
      "*** Feature extraction started ***\n",
      "60\n"
     ]
    },
    {
     "data": {
      "text/html": [
       "\n",
       "              <p>\n",
       "                  Progress: 100% Complete\n",
       "              <p/>            \n",
       "              <progress\n",
       "                  value='60'\n",
       "                  max='60',\n",
       "                  style='width: 25%',\n",
       "              >\n",
       "                  60\n",
       "              </progress>\n",
       "\n",
       "    "
      ],
      "text/plain": [
       "<IPython.core.display.HTML object>"
      ]
     },
     "metadata": {},
     "output_type": "display_data"
    },
    {
     "name": "stdout",
     "output_type": "stream",
     "text": [
      "\n",
      "*** Feature extraction finished ***\n",
      "*** Feature extraction started ***\n",
      "60\n"
     ]
    },
    {
     "data": {
      "text/html": [
       "\n",
       "              <p>\n",
       "                  Progress: 100% Complete\n",
       "              <p/>            \n",
       "              <progress\n",
       "                  value='60'\n",
       "                  max='60',\n",
       "                  style='width: 25%',\n",
       "              >\n",
       "                  60\n",
       "              </progress>\n",
       "\n",
       "    "
      ],
      "text/plain": [
       "<IPython.core.display.HTML object>"
      ]
     },
     "metadata": {},
     "output_type": "display_data"
    },
    {
     "name": "stdout",
     "output_type": "stream",
     "text": [
      "\n",
      "*** Feature extraction finished ***\n",
      "*** Feature extraction started ***\n",
      "60\n"
     ]
    },
    {
     "data": {
      "text/html": [
       "\n",
       "              <p>\n",
       "                  Progress: 100% Complete\n",
       "              <p/>            \n",
       "              <progress\n",
       "                  value='60'\n",
       "                  max='60',\n",
       "                  style='width: 25%',\n",
       "              >\n",
       "                  60\n",
       "              </progress>\n",
       "\n",
       "    "
      ],
      "text/plain": [
       "<IPython.core.display.HTML object>"
      ]
     },
     "metadata": {},
     "output_type": "display_data"
    },
    {
     "name": "stdout",
     "output_type": "stream",
     "text": [
      "\n",
      "*** Feature extraction finished ***\n",
      "*** Feature extraction started ***\n",
      "60\n"
     ]
    },
    {
     "data": {
      "text/html": [
       "\n",
       "              <p>\n",
       "                  Progress: 100% Complete\n",
       "              <p/>            \n",
       "              <progress\n",
       "                  value='60'\n",
       "                  max='60',\n",
       "                  style='width: 25%',\n",
       "              >\n",
       "                  60\n",
       "              </progress>\n",
       "\n",
       "    "
      ],
      "text/plain": [
       "<IPython.core.display.HTML object>"
      ]
     },
     "metadata": {},
     "output_type": "display_data"
    },
    {
     "name": "stdout",
     "output_type": "stream",
     "text": [
      "\n",
      "*** Feature extraction finished ***\n",
      "*** Feature extraction started ***\n",
      "60\n"
     ]
    },
    {
     "data": {
      "text/html": [
       "\n",
       "              <p>\n",
       "                  Progress: 100% Complete\n",
       "              <p/>            \n",
       "              <progress\n",
       "                  value='60'\n",
       "                  max='60',\n",
       "                  style='width: 25%',\n",
       "              >\n",
       "                  60\n",
       "              </progress>\n",
       "\n",
       "    "
      ],
      "text/plain": [
       "<IPython.core.display.HTML object>"
      ]
     },
     "metadata": {},
     "output_type": "display_data"
    },
    {
     "name": "stdout",
     "output_type": "stream",
     "text": [
      "\n",
      "*** Feature extraction finished ***\n",
      "*** Feature extraction started ***\n",
      "60\n"
     ]
    },
    {
     "data": {
      "text/html": [
       "\n",
       "              <p>\n",
       "                  Progress: 100% Complete\n",
       "              <p/>            \n",
       "              <progress\n",
       "                  value='60'\n",
       "                  max='60',\n",
       "                  style='width: 25%',\n",
       "              >\n",
       "                  60\n",
       "              </progress>\n",
       "\n",
       "    "
      ],
      "text/plain": [
       "<IPython.core.display.HTML object>"
      ]
     },
     "metadata": {},
     "output_type": "display_data"
    },
    {
     "name": "stdout",
     "output_type": "stream",
     "text": [
      "\n",
      "*** Feature extraction finished ***\n",
      "*** Feature extraction started ***\n",
      "60\n"
     ]
    },
    {
     "data": {
      "text/html": [
       "\n",
       "              <p>\n",
       "                  Progress: 100% Complete\n",
       "              <p/>            \n",
       "              <progress\n",
       "                  value='60'\n",
       "                  max='60',\n",
       "                  style='width: 25%',\n",
       "              >\n",
       "                  60\n",
       "              </progress>\n",
       "\n",
       "    "
      ],
      "text/plain": [
       "<IPython.core.display.HTML object>"
      ]
     },
     "metadata": {},
     "output_type": "display_data"
    },
    {
     "name": "stdout",
     "output_type": "stream",
     "text": [
      "\n",
      "*** Feature extraction finished ***\n",
      "HumidityHouse\n",
      "*** Feature extraction started ***\n",
      "60\n"
     ]
    },
    {
     "data": {
      "text/html": [
       "\n",
       "              <p>\n",
       "                  Progress: 100% Complete\n",
       "              <p/>            \n",
       "              <progress\n",
       "                  value='60'\n",
       "                  max='60',\n",
       "                  style='width: 25%',\n",
       "              >\n",
       "                  60\n",
       "              </progress>\n",
       "\n",
       "    "
      ],
      "text/plain": [
       "<IPython.core.display.HTML object>"
      ]
     },
     "metadata": {},
     "output_type": "display_data"
    },
    {
     "name": "stdout",
     "output_type": "stream",
     "text": [
      "\n",
      "*** Feature extraction finished ***\n",
      "*** Feature extraction started ***\n",
      "60\n"
     ]
    },
    {
     "data": {
      "text/html": [
       "\n",
       "              <p>\n",
       "                  Progress: 100% Complete\n",
       "              <p/>            \n",
       "              <progress\n",
       "                  value='60'\n",
       "                  max='60',\n",
       "                  style='width: 25%',\n",
       "              >\n",
       "                  60\n",
       "              </progress>\n",
       "\n",
       "    "
      ],
      "text/plain": [
       "<IPython.core.display.HTML object>"
      ]
     },
     "metadata": {},
     "output_type": "display_data"
    },
    {
     "name": "stdout",
     "output_type": "stream",
     "text": [
      "\n",
      "*** Feature extraction finished ***\n",
      "*** Feature extraction started ***\n",
      "60\n"
     ]
    },
    {
     "data": {
      "text/html": [
       "\n",
       "              <p>\n",
       "                  Progress: 100% Complete\n",
       "              <p/>            \n",
       "              <progress\n",
       "                  value='60'\n",
       "                  max='60',\n",
       "                  style='width: 25%',\n",
       "              >\n",
       "                  60\n",
       "              </progress>\n",
       "\n",
       "    "
      ],
      "text/plain": [
       "<IPython.core.display.HTML object>"
      ]
     },
     "metadata": {},
     "output_type": "display_data"
    },
    {
     "name": "stdout",
     "output_type": "stream",
     "text": [
      "\n",
      "*** Feature extraction finished ***\n",
      "*** Feature extraction started ***\n",
      "60\n"
     ]
    },
    {
     "data": {
      "text/html": [
       "\n",
       "              <p>\n",
       "                  Progress: 100% Complete\n",
       "              <p/>            \n",
       "              <progress\n",
       "                  value='60'\n",
       "                  max='60',\n",
       "                  style='width: 25%',\n",
       "              >\n",
       "                  60\n",
       "              </progress>\n",
       "\n",
       "    "
      ],
      "text/plain": [
       "<IPython.core.display.HTML object>"
      ]
     },
     "metadata": {},
     "output_type": "display_data"
    },
    {
     "name": "stdout",
     "output_type": "stream",
     "text": [
      "\n",
      "*** Feature extraction finished ***\n",
      "*** Feature extraction started ***\n",
      "60\n"
     ]
    },
    {
     "data": {
      "text/html": [
       "\n",
       "              <p>\n",
       "                  Progress: 100% Complete\n",
       "              <p/>            \n",
       "              <progress\n",
       "                  value='60'\n",
       "                  max='60',\n",
       "                  style='width: 25%',\n",
       "              >\n",
       "                  60\n",
       "              </progress>\n",
       "\n",
       "    "
      ],
      "text/plain": [
       "<IPython.core.display.HTML object>"
      ]
     },
     "metadata": {},
     "output_type": "display_data"
    },
    {
     "name": "stdout",
     "output_type": "stream",
     "text": [
      "\n",
      "*** Feature extraction finished ***\n",
      "*** Feature extraction started ***\n",
      "60\n"
     ]
    },
    {
     "data": {
      "text/html": [
       "\n",
       "              <p>\n",
       "                  Progress: 100% Complete\n",
       "              <p/>            \n",
       "              <progress\n",
       "                  value='60'\n",
       "                  max='60',\n",
       "                  style='width: 25%',\n",
       "              >\n",
       "                  60\n",
       "              </progress>\n",
       "\n",
       "    "
      ],
      "text/plain": [
       "<IPython.core.display.HTML object>"
      ]
     },
     "metadata": {},
     "output_type": "display_data"
    },
    {
     "name": "stdout",
     "output_type": "stream",
     "text": [
      "\n",
      "*** Feature extraction finished ***\n",
      "*** Feature extraction started ***\n",
      "60\n"
     ]
    },
    {
     "data": {
      "text/html": [
       "\n",
       "              <p>\n",
       "                  Progress: 100% Complete\n",
       "              <p/>            \n",
       "              <progress\n",
       "                  value='60'\n",
       "                  max='60',\n",
       "                  style='width: 25%',\n",
       "              >\n",
       "                  60\n",
       "              </progress>\n",
       "\n",
       "    "
      ],
      "text/plain": [
       "<IPython.core.display.HTML object>"
      ]
     },
     "metadata": {},
     "output_type": "display_data"
    },
    {
     "name": "stdout",
     "output_type": "stream",
     "text": [
      "\n",
      "*** Feature extraction finished ***\n",
      "*** Feature extraction started ***\n",
      "60\n"
     ]
    },
    {
     "data": {
      "text/html": [
       "\n",
       "              <p>\n",
       "                  Progress: 100% Complete\n",
       "              <p/>            \n",
       "              <progress\n",
       "                  value='60'\n",
       "                  max='60',\n",
       "                  style='width: 25%',\n",
       "              >\n",
       "                  60\n",
       "              </progress>\n",
       "\n",
       "    "
      ],
      "text/plain": [
       "<IPython.core.display.HTML object>"
      ]
     },
     "metadata": {},
     "output_type": "display_data"
    },
    {
     "name": "stdout",
     "output_type": "stream",
     "text": [
      "\n",
      "*** Feature extraction finished ***\n",
      "*** Feature extraction started ***\n",
      "60\n"
     ]
    },
    {
     "data": {
      "text/html": [
       "\n",
       "              <p>\n",
       "                  Progress: 100% Complete\n",
       "              <p/>            \n",
       "              <progress\n",
       "                  value='60'\n",
       "                  max='60',\n",
       "                  style='width: 25%',\n",
       "              >\n",
       "                  60\n",
       "              </progress>\n",
       "\n",
       "    "
      ],
      "text/plain": [
       "<IPython.core.display.HTML object>"
      ]
     },
     "metadata": {},
     "output_type": "display_data"
    },
    {
     "name": "stdout",
     "output_type": "stream",
     "text": [
      "\n",
      "*** Feature extraction finished ***\n",
      "HungaryChickenpox\n",
      "*** Feature extraction started ***\n",
      "60\n"
     ]
    },
    {
     "data": {
      "text/html": [
       "\n",
       "              <p>\n",
       "                  Progress: 100% Complete\n",
       "              <p/>            \n",
       "              <progress\n",
       "                  value='60'\n",
       "                  max='60',\n",
       "                  style='width: 25%',\n",
       "              >\n",
       "                  60\n",
       "              </progress>\n",
       "\n",
       "    "
      ],
      "text/plain": [
       "<IPython.core.display.HTML object>"
      ]
     },
     "metadata": {},
     "output_type": "display_data"
    },
    {
     "name": "stdout",
     "output_type": "stream",
     "text": [
      "\n",
      "*** Feature extraction finished ***\n",
      "*** Feature extraction started ***\n",
      "60\n"
     ]
    },
    {
     "data": {
      "text/html": [
       "\n",
       "              <p>\n",
       "                  Progress: 100% Complete\n",
       "              <p/>            \n",
       "              <progress\n",
       "                  value='60'\n",
       "                  max='60',\n",
       "                  style='width: 25%',\n",
       "              >\n",
       "                  60\n",
       "              </progress>\n",
       "\n",
       "    "
      ],
      "text/plain": [
       "<IPython.core.display.HTML object>"
      ]
     },
     "metadata": {},
     "output_type": "display_data"
    },
    {
     "name": "stdout",
     "output_type": "stream",
     "text": [
      "\n",
      "*** Feature extraction finished ***\n",
      "*** Feature extraction started ***\n",
      "60\n"
     ]
    },
    {
     "data": {
      "text/html": [
       "\n",
       "              <p>\n",
       "                  Progress: 100% Complete\n",
       "              <p/>            \n",
       "              <progress\n",
       "                  value='60'\n",
       "                  max='60',\n",
       "                  style='width: 25%',\n",
       "              >\n",
       "                  60\n",
       "              </progress>\n",
       "\n",
       "    "
      ],
      "text/plain": [
       "<IPython.core.display.HTML object>"
      ]
     },
     "metadata": {},
     "output_type": "display_data"
    },
    {
     "name": "stdout",
     "output_type": "stream",
     "text": [
      "\n",
      "*** Feature extraction finished ***\n",
      "*** Feature extraction started ***\n",
      "60\n"
     ]
    },
    {
     "data": {
      "text/html": [
       "\n",
       "              <p>\n",
       "                  Progress: 100% Complete\n",
       "              <p/>            \n",
       "              <progress\n",
       "                  value='60'\n",
       "                  max='60',\n",
       "                  style='width: 25%',\n",
       "              >\n",
       "                  60\n",
       "              </progress>\n",
       "\n",
       "    "
      ],
      "text/plain": [
       "<IPython.core.display.HTML object>"
      ]
     },
     "metadata": {},
     "output_type": "display_data"
    },
    {
     "name": "stdout",
     "output_type": "stream",
     "text": [
      "\n",
      "*** Feature extraction finished ***\n",
      "*** Feature extraction started ***\n",
      "60\n"
     ]
    },
    {
     "data": {
      "text/html": [
       "\n",
       "              <p>\n",
       "                  Progress: 100% Complete\n",
       "              <p/>            \n",
       "              <progress\n",
       "                  value='60'\n",
       "                  max='60',\n",
       "                  style='width: 25%',\n",
       "              >\n",
       "                  60\n",
       "              </progress>\n",
       "\n",
       "    "
      ],
      "text/plain": [
       "<IPython.core.display.HTML object>"
      ]
     },
     "metadata": {},
     "output_type": "display_data"
    },
    {
     "name": "stdout",
     "output_type": "stream",
     "text": [
      "\n",
      "*** Feature extraction finished ***\n",
      "*** Feature extraction started ***\n",
      "60\n"
     ]
    },
    {
     "data": {
      "text/html": [
       "\n",
       "              <p>\n",
       "                  Progress: 100% Complete\n",
       "              <p/>            \n",
       "              <progress\n",
       "                  value='60'\n",
       "                  max='60',\n",
       "                  style='width: 25%',\n",
       "              >\n",
       "                  60\n",
       "              </progress>\n",
       "\n",
       "    "
      ],
      "text/plain": [
       "<IPython.core.display.HTML object>"
      ]
     },
     "metadata": {},
     "output_type": "display_data"
    },
    {
     "name": "stdout",
     "output_type": "stream",
     "text": [
      "\n",
      "*** Feature extraction finished ***\n",
      "*** Feature extraction started ***\n",
      "60\n"
     ]
    },
    {
     "data": {
      "text/html": [
       "\n",
       "              <p>\n",
       "                  Progress: 100% Complete\n",
       "              <p/>            \n",
       "              <progress\n",
       "                  value='60'\n",
       "                  max='60',\n",
       "                  style='width: 25%',\n",
       "              >\n",
       "                  60\n",
       "              </progress>\n",
       "\n",
       "    "
      ],
      "text/plain": [
       "<IPython.core.display.HTML object>"
      ]
     },
     "metadata": {},
     "output_type": "display_data"
    },
    {
     "name": "stdout",
     "output_type": "stream",
     "text": [
      "\n",
      "*** Feature extraction finished ***\n",
      "*** Feature extraction started ***\n",
      "60\n"
     ]
    },
    {
     "data": {
      "text/html": [
       "\n",
       "              <p>\n",
       "                  Progress: 100% Complete\n",
       "              <p/>            \n",
       "              <progress\n",
       "                  value='60'\n",
       "                  max='60',\n",
       "                  style='width: 25%',\n",
       "              >\n",
       "                  60\n",
       "              </progress>\n",
       "\n",
       "    "
      ],
      "text/plain": [
       "<IPython.core.display.HTML object>"
      ]
     },
     "metadata": {},
     "output_type": "display_data"
    },
    {
     "name": "stdout",
     "output_type": "stream",
     "text": [
      "\n",
      "*** Feature extraction finished ***\n",
      "*** Feature extraction started ***\n",
      "60\n"
     ]
    },
    {
     "data": {
      "text/html": [
       "\n",
       "              <p>\n",
       "                  Progress: 100% Complete\n",
       "              <p/>            \n",
       "              <progress\n",
       "                  value='60'\n",
       "                  max='60',\n",
       "                  style='width: 25%',\n",
       "              >\n",
       "                  60\n",
       "              </progress>\n",
       "\n",
       "    "
      ],
      "text/plain": [
       "<IPython.core.display.HTML object>"
      ]
     },
     "metadata": {},
     "output_type": "display_data"
    },
    {
     "name": "stdout",
     "output_type": "stream",
     "text": [
      "\n",
      "*** Feature extraction finished ***\n",
      "*** Feature extraction started ***\n",
      "60\n"
     ]
    },
    {
     "data": {
      "text/html": [
       "\n",
       "              <p>\n",
       "                  Progress: 100% Complete\n",
       "              <p/>            \n",
       "              <progress\n",
       "                  value='60'\n",
       "                  max='60',\n",
       "                  style='width: 25%',\n",
       "              >\n",
       "                  60\n",
       "              </progress>\n",
       "\n",
       "    "
      ],
      "text/plain": [
       "<IPython.core.display.HTML object>"
      ]
     },
     "metadata": {},
     "output_type": "display_data"
    },
    {
     "name": "stdout",
     "output_type": "stream",
     "text": [
      "\n",
      "*** Feature extraction finished ***\n",
      "*** Feature extraction started ***\n",
      "60\n"
     ]
    },
    {
     "data": {
      "text/html": [
       "\n",
       "              <p>\n",
       "                  Progress: 100% Complete\n",
       "              <p/>            \n",
       "              <progress\n",
       "                  value='60'\n",
       "                  max='60',\n",
       "                  style='width: 25%',\n",
       "              >\n",
       "                  60\n",
       "              </progress>\n",
       "\n",
       "    "
      ],
      "text/plain": [
       "<IPython.core.display.HTML object>"
      ]
     },
     "metadata": {},
     "output_type": "display_data"
    },
    {
     "name": "stdout",
     "output_type": "stream",
     "text": [
      "\n",
      "*** Feature extraction finished ***\n",
      "*** Feature extraction started ***\n",
      "60\n"
     ]
    },
    {
     "data": {
      "text/html": [
       "\n",
       "              <p>\n",
       "                  Progress: 100% Complete\n",
       "              <p/>            \n",
       "              <progress\n",
       "                  value='60'\n",
       "                  max='60',\n",
       "                  style='width: 25%',\n",
       "              >\n",
       "                  60\n",
       "              </progress>\n",
       "\n",
       "    "
      ],
      "text/plain": [
       "<IPython.core.display.HTML object>"
      ]
     },
     "metadata": {},
     "output_type": "display_data"
    },
    {
     "name": "stdout",
     "output_type": "stream",
     "text": [
      "\n",
      "*** Feature extraction finished ***\n",
      "*** Feature extraction started ***\n",
      "60\n"
     ]
    },
    {
     "data": {
      "text/html": [
       "\n",
       "              <p>\n",
       "                  Progress: 100% Complete\n",
       "              <p/>            \n",
       "              <progress\n",
       "                  value='60'\n",
       "                  max='60',\n",
       "                  style='width: 25%',\n",
       "              >\n",
       "                  60\n",
       "              </progress>\n",
       "\n",
       "    "
      ],
      "text/plain": [
       "<IPython.core.display.HTML object>"
      ]
     },
     "metadata": {},
     "output_type": "display_data"
    },
    {
     "name": "stdout",
     "output_type": "stream",
     "text": [
      "\n",
      "*** Feature extraction finished ***\n",
      "*** Feature extraction started ***\n",
      "60\n"
     ]
    },
    {
     "data": {
      "text/html": [
       "\n",
       "              <p>\n",
       "                  Progress: 100% Complete\n",
       "              <p/>            \n",
       "              <progress\n",
       "                  value='60'\n",
       "                  max='60',\n",
       "                  style='width: 25%',\n",
       "              >\n",
       "                  60\n",
       "              </progress>\n",
       "\n",
       "    "
      ],
      "text/plain": [
       "<IPython.core.display.HTML object>"
      ]
     },
     "metadata": {},
     "output_type": "display_data"
    },
    {
     "name": "stdout",
     "output_type": "stream",
     "text": [
      "\n",
      "*** Feature extraction finished ***\n",
      "*** Feature extraction started ***\n",
      "60\n"
     ]
    },
    {
     "data": {
      "text/html": [
       "\n",
       "              <p>\n",
       "                  Progress: 100% Complete\n",
       "              <p/>            \n",
       "              <progress\n",
       "                  value='60'\n",
       "                  max='60',\n",
       "                  style='width: 25%',\n",
       "              >\n",
       "                  60\n",
       "              </progress>\n",
       "\n",
       "    "
      ],
      "text/plain": [
       "<IPython.core.display.HTML object>"
      ]
     },
     "metadata": {},
     "output_type": "display_data"
    },
    {
     "name": "stdout",
     "output_type": "stream",
     "text": [
      "\n",
      "*** Feature extraction finished ***\n",
      "*** Feature extraction started ***\n",
      "60\n"
     ]
    },
    {
     "data": {
      "text/html": [
       "\n",
       "              <p>\n",
       "                  Progress: 100% Complete\n",
       "              <p/>            \n",
       "              <progress\n",
       "                  value='60'\n",
       "                  max='60',\n",
       "                  style='width: 25%',\n",
       "              >\n",
       "                  60\n",
       "              </progress>\n",
       "\n",
       "    "
      ],
      "text/plain": [
       "<IPython.core.display.HTML object>"
      ]
     },
     "metadata": {},
     "output_type": "display_data"
    },
    {
     "name": "stdout",
     "output_type": "stream",
     "text": [
      "\n",
      "*** Feature extraction finished ***\n",
      "*** Feature extraction started ***\n",
      "60\n"
     ]
    },
    {
     "data": {
      "text/html": [
       "\n",
       "              <p>\n",
       "                  Progress: 100% Complete\n",
       "              <p/>            \n",
       "              <progress\n",
       "                  value='60'\n",
       "                  max='60',\n",
       "                  style='width: 25%',\n",
       "              >\n",
       "                  60\n",
       "              </progress>\n",
       "\n",
       "    "
      ],
      "text/plain": [
       "<IPython.core.display.HTML object>"
      ]
     },
     "metadata": {},
     "output_type": "display_data"
    },
    {
     "name": "stdout",
     "output_type": "stream",
     "text": [
      "\n",
      "*** Feature extraction finished ***\n",
      "*** Feature extraction started ***\n",
      "60\n"
     ]
    },
    {
     "data": {
      "text/html": [
       "\n",
       "              <p>\n",
       "                  Progress: 100% Complete\n",
       "              <p/>            \n",
       "              <progress\n",
       "                  value='60'\n",
       "                  max='60',\n",
       "                  style='width: 25%',\n",
       "              >\n",
       "                  60\n",
       "              </progress>\n",
       "\n",
       "    "
      ],
      "text/plain": [
       "<IPython.core.display.HTML object>"
      ]
     },
     "metadata": {},
     "output_type": "display_data"
    },
    {
     "name": "stdout",
     "output_type": "stream",
     "text": [
      "\n",
      "*** Feature extraction finished ***\n",
      "*** Feature extraction started ***\n",
      "60\n"
     ]
    },
    {
     "data": {
      "text/html": [
       "\n",
       "              <p>\n",
       "                  Progress: 100% Complete\n",
       "              <p/>            \n",
       "              <progress\n",
       "                  value='60'\n",
       "                  max='60',\n",
       "                  style='width: 25%',\n",
       "              >\n",
       "                  60\n",
       "              </progress>\n",
       "\n",
       "    "
      ],
      "text/plain": [
       "<IPython.core.display.HTML object>"
      ]
     },
     "metadata": {},
     "output_type": "display_data"
    },
    {
     "name": "stdout",
     "output_type": "stream",
     "text": [
      "\n",
      "*** Feature extraction finished ***\n",
      "*** Feature extraction started ***\n",
      "60\n"
     ]
    },
    {
     "data": {
      "text/html": [
       "\n",
       "              <p>\n",
       "                  Progress: 100% Complete\n",
       "              <p/>            \n",
       "              <progress\n",
       "                  value='60'\n",
       "                  max='60',\n",
       "                  style='width: 25%',\n",
       "              >\n",
       "                  60\n",
       "              </progress>\n",
       "\n",
       "    "
      ],
      "text/plain": [
       "<IPython.core.display.HTML object>"
      ]
     },
     "metadata": {},
     "output_type": "display_data"
    },
    {
     "name": "stdout",
     "output_type": "stream",
     "text": [
      "\n",
      "*** Feature extraction finished ***\n",
      "IstanbulStockExchange\n",
      "*** Feature extraction started ***\n",
      "60\n"
     ]
    },
    {
     "data": {
      "text/html": [
       "\n",
       "              <p>\n",
       "                  Progress: 100% Complete\n",
       "              <p/>            \n",
       "              <progress\n",
       "                  value='60'\n",
       "                  max='60',\n",
       "                  style='width: 25%',\n",
       "              >\n",
       "                  60\n",
       "              </progress>\n",
       "\n",
       "    "
      ],
      "text/plain": [
       "<IPython.core.display.HTML object>"
      ]
     },
     "metadata": {},
     "output_type": "display_data"
    },
    {
     "name": "stdout",
     "output_type": "stream",
     "text": [
      "\n",
      "*** Feature extraction finished ***\n",
      "*** Feature extraction started ***\n",
      "60\n"
     ]
    },
    {
     "data": {
      "text/html": [
       "\n",
       "              <p>\n",
       "                  Progress: 100% Complete\n",
       "              <p/>            \n",
       "              <progress\n",
       "                  value='60'\n",
       "                  max='60',\n",
       "                  style='width: 25%',\n",
       "              >\n",
       "                  60\n",
       "              </progress>\n",
       "\n",
       "    "
      ],
      "text/plain": [
       "<IPython.core.display.HTML object>"
      ]
     },
     "metadata": {},
     "output_type": "display_data"
    },
    {
     "name": "stdout",
     "output_type": "stream",
     "text": [
      "\n",
      "*** Feature extraction finished ***\n",
      "*** Feature extraction started ***\n",
      "60\n"
     ]
    },
    {
     "data": {
      "text/html": [
       "\n",
       "              <p>\n",
       "                  Progress: 100% Complete\n",
       "              <p/>            \n",
       "              <progress\n",
       "                  value='60'\n",
       "                  max='60',\n",
       "                  style='width: 25%',\n",
       "              >\n",
       "                  60\n",
       "              </progress>\n",
       "\n",
       "    "
      ],
      "text/plain": [
       "<IPython.core.display.HTML object>"
      ]
     },
     "metadata": {},
     "output_type": "display_data"
    },
    {
     "name": "stdout",
     "output_type": "stream",
     "text": [
      "\n",
      "*** Feature extraction finished ***\n",
      "*** Feature extraction started ***\n",
      "60\n"
     ]
    },
    {
     "data": {
      "text/html": [
       "\n",
       "              <p>\n",
       "                  Progress: 100% Complete\n",
       "              <p/>            \n",
       "              <progress\n",
       "                  value='60'\n",
       "                  max='60',\n",
       "                  style='width: 25%',\n",
       "              >\n",
       "                  60\n",
       "              </progress>\n",
       "\n",
       "    "
      ],
      "text/plain": [
       "<IPython.core.display.HTML object>"
      ]
     },
     "metadata": {},
     "output_type": "display_data"
    },
    {
     "name": "stdout",
     "output_type": "stream",
     "text": [
      "\n",
      "*** Feature extraction finished ***\n",
      "*** Feature extraction started ***\n",
      "60\n"
     ]
    },
    {
     "data": {
      "text/html": [
       "\n",
       "              <p>\n",
       "                  Progress: 100% Complete\n",
       "              <p/>            \n",
       "              <progress\n",
       "                  value='60'\n",
       "                  max='60',\n",
       "                  style='width: 25%',\n",
       "              >\n",
       "                  60\n",
       "              </progress>\n",
       "\n",
       "    "
      ],
      "text/plain": [
       "<IPython.core.display.HTML object>"
      ]
     },
     "metadata": {},
     "output_type": "display_data"
    },
    {
     "name": "stdout",
     "output_type": "stream",
     "text": [
      "\n",
      "*** Feature extraction finished ***\n",
      "*** Feature extraction started ***\n",
      "60\n"
     ]
    },
    {
     "data": {
      "text/html": [
       "\n",
       "              <p>\n",
       "                  Progress: 100% Complete\n",
       "              <p/>            \n",
       "              <progress\n",
       "                  value='60'\n",
       "                  max='60',\n",
       "                  style='width: 25%',\n",
       "              >\n",
       "                  60\n",
       "              </progress>\n",
       "\n",
       "    "
      ],
      "text/plain": [
       "<IPython.core.display.HTML object>"
      ]
     },
     "metadata": {},
     "output_type": "display_data"
    },
    {
     "name": "stdout",
     "output_type": "stream",
     "text": [
      "\n",
      "*** Feature extraction finished ***\n",
      "*** Feature extraction started ***\n",
      "60\n"
     ]
    },
    {
     "data": {
      "text/html": [
       "\n",
       "              <p>\n",
       "                  Progress: 100% Complete\n",
       "              <p/>            \n",
       "              <progress\n",
       "                  value='60'\n",
       "                  max='60',\n",
       "                  style='width: 25%',\n",
       "              >\n",
       "                  60\n",
       "              </progress>\n",
       "\n",
       "    "
      ],
      "text/plain": [
       "<IPython.core.display.HTML object>"
      ]
     },
     "metadata": {},
     "output_type": "display_data"
    },
    {
     "name": "stdout",
     "output_type": "stream",
     "text": [
      "\n",
      "*** Feature extraction finished ***\n",
      "ParkingBirmingham\n",
      "*** Feature extraction started ***\n",
      "60\n"
     ]
    },
    {
     "data": {
      "text/html": [
       "\n",
       "              <p>\n",
       "                  Progress: 100% Complete\n",
       "              <p/>            \n",
       "              <progress\n",
       "                  value='60'\n",
       "                  max='60',\n",
       "                  style='width: 25%',\n",
       "              >\n",
       "                  60\n",
       "              </progress>\n",
       "\n",
       "    "
      ],
      "text/plain": [
       "<IPython.core.display.HTML object>"
      ]
     },
     "metadata": {},
     "output_type": "display_data"
    },
    {
     "name": "stdout",
     "output_type": "stream",
     "text": [
      "\n",
      "*** Feature extraction finished ***\n",
      "*** Feature extraction started ***\n",
      "60\n"
     ]
    },
    {
     "data": {
      "text/html": [
       "\n",
       "              <p>\n",
       "                  Progress: 100% Complete\n",
       "              <p/>            \n",
       "              <progress\n",
       "                  value='60'\n",
       "                  max='60',\n",
       "                  style='width: 25%',\n",
       "              >\n",
       "                  60\n",
       "              </progress>\n",
       "\n",
       "    "
      ],
      "text/plain": [
       "<IPython.core.display.HTML object>"
      ]
     },
     "metadata": {},
     "output_type": "display_data"
    },
    {
     "name": "stdout",
     "output_type": "stream",
     "text": [
      "\n",
      "*** Feature extraction finished ***\n",
      "*** Feature extraction started ***\n",
      "60\n"
     ]
    },
    {
     "data": {
      "text/html": [
       "\n",
       "              <p>\n",
       "                  Progress: 100% Complete\n",
       "              <p/>            \n",
       "              <progress\n",
       "                  value='60'\n",
       "                  max='60',\n",
       "                  style='width: 25%',\n",
       "              >\n",
       "                  60\n",
       "              </progress>\n",
       "\n",
       "    "
      ],
      "text/plain": [
       "<IPython.core.display.HTML object>"
      ]
     },
     "metadata": {},
     "output_type": "display_data"
    },
    {
     "name": "stdout",
     "output_type": "stream",
     "text": [
      "\n",
      "*** Feature extraction finished ***\n",
      "*** Feature extraction started ***\n",
      "60\n"
     ]
    },
    {
     "data": {
      "text/html": [
       "\n",
       "              <p>\n",
       "                  Progress: 100% Complete\n",
       "              <p/>            \n",
       "              <progress\n",
       "                  value='60'\n",
       "                  max='60',\n",
       "                  style='width: 25%',\n",
       "              >\n",
       "                  60\n",
       "              </progress>\n",
       "\n",
       "    "
      ],
      "text/plain": [
       "<IPython.core.display.HTML object>"
      ]
     },
     "metadata": {},
     "output_type": "display_data"
    },
    {
     "name": "stdout",
     "output_type": "stream",
     "text": [
      "\n",
      "*** Feature extraction finished ***\n",
      "*** Feature extraction started ***\n",
      "60\n"
     ]
    },
    {
     "data": {
      "text/html": [
       "\n",
       "              <p>\n",
       "                  Progress: 100% Complete\n",
       "              <p/>            \n",
       "              <progress\n",
       "                  value='60'\n",
       "                  max='60',\n",
       "                  style='width: 25%',\n",
       "              >\n",
       "                  60\n",
       "              </progress>\n",
       "\n",
       "    "
      ],
      "text/plain": [
       "<IPython.core.display.HTML object>"
      ]
     },
     "metadata": {},
     "output_type": "display_data"
    },
    {
     "name": "stdout",
     "output_type": "stream",
     "text": [
      "\n",
      "*** Feature extraction finished ***\n",
      "*** Feature extraction started ***\n",
      "60\n"
     ]
    },
    {
     "data": {
      "text/html": [
       "\n",
       "              <p>\n",
       "                  Progress: 100% Complete\n",
       "              <p/>            \n",
       "              <progress\n",
       "                  value='60'\n",
       "                  max='60',\n",
       "                  style='width: 25%',\n",
       "              >\n",
       "                  60\n",
       "              </progress>\n",
       "\n",
       "    "
      ],
      "text/plain": [
       "<IPython.core.display.HTML object>"
      ]
     },
     "metadata": {},
     "output_type": "display_data"
    },
    {
     "name": "stdout",
     "output_type": "stream",
     "text": [
      "\n",
      "*** Feature extraction finished ***\n",
      "*** Feature extraction started ***\n",
      "60\n"
     ]
    },
    {
     "data": {
      "text/html": [
       "\n",
       "              <p>\n",
       "                  Progress: 100% Complete\n",
       "              <p/>            \n",
       "              <progress\n",
       "                  value='60'\n",
       "                  max='60',\n",
       "                  style='width: 25%',\n",
       "              >\n",
       "                  60\n",
       "              </progress>\n",
       "\n",
       "    "
      ],
      "text/plain": [
       "<IPython.core.display.HTML object>"
      ]
     },
     "metadata": {},
     "output_type": "display_data"
    },
    {
     "name": "stdout",
     "output_type": "stream",
     "text": [
      "\n",
      "*** Feature extraction finished ***\n",
      "*** Feature extraction started ***\n",
      "60\n"
     ]
    },
    {
     "data": {
      "text/html": [
       "\n",
       "              <p>\n",
       "                  Progress: 100% Complete\n",
       "              <p/>            \n",
       "              <progress\n",
       "                  value='60'\n",
       "                  max='60',\n",
       "                  style='width: 25%',\n",
       "              >\n",
       "                  60\n",
       "              </progress>\n",
       "\n",
       "    "
      ],
      "text/plain": [
       "<IPython.core.display.HTML object>"
      ]
     },
     "metadata": {},
     "output_type": "display_data"
    },
    {
     "name": "stdout",
     "output_type": "stream",
     "text": [
      "\n",
      "*** Feature extraction finished ***\n",
      "*** Feature extraction started ***\n",
      "60\n"
     ]
    },
    {
     "data": {
      "text/html": [
       "\n",
       "              <p>\n",
       "                  Progress: 100% Complete\n",
       "              <p/>            \n",
       "              <progress\n",
       "                  value='60'\n",
       "                  max='60',\n",
       "                  style='width: 25%',\n",
       "              >\n",
       "                  60\n",
       "              </progress>\n",
       "\n",
       "    "
      ],
      "text/plain": [
       "<IPython.core.display.HTML object>"
      ]
     },
     "metadata": {},
     "output_type": "display_data"
    },
    {
     "name": "stdout",
     "output_type": "stream",
     "text": [
      "\n",
      "*** Feature extraction finished ***\n",
      "*** Feature extraction started ***\n",
      "60\n"
     ]
    },
    {
     "data": {
      "text/html": [
       "\n",
       "              <p>\n",
       "                  Progress: 100% Complete\n",
       "              <p/>            \n",
       "              <progress\n",
       "                  value='60'\n",
       "                  max='60',\n",
       "                  style='width: 25%',\n",
       "              >\n",
       "                  60\n",
       "              </progress>\n",
       "\n",
       "    "
      ],
      "text/plain": [
       "<IPython.core.display.HTML object>"
      ]
     },
     "metadata": {},
     "output_type": "display_data"
    },
    {
     "name": "stdout",
     "output_type": "stream",
     "text": [
      "\n",
      "*** Feature extraction finished ***\n",
      "*** Feature extraction started ***\n",
      "60\n"
     ]
    },
    {
     "data": {
      "text/html": [
       "\n",
       "              <p>\n",
       "                  Progress: 100% Complete\n",
       "              <p/>            \n",
       "              <progress\n",
       "                  value='60'\n",
       "                  max='60',\n",
       "                  style='width: 25%',\n",
       "              >\n",
       "                  60\n",
       "              </progress>\n",
       "\n",
       "    "
      ],
      "text/plain": [
       "<IPython.core.display.HTML object>"
      ]
     },
     "metadata": {},
     "output_type": "display_data"
    },
    {
     "name": "stdout",
     "output_type": "stream",
     "text": [
      "\n",
      "*** Feature extraction finished ***\n",
      "*** Feature extraction started ***\n",
      "60\n"
     ]
    },
    {
     "data": {
      "text/html": [
       "\n",
       "              <p>\n",
       "                  Progress: 100% Complete\n",
       "              <p/>            \n",
       "              <progress\n",
       "                  value='60'\n",
       "                  max='60',\n",
       "                  style='width: 25%',\n",
       "              >\n",
       "                  60\n",
       "              </progress>\n",
       "\n",
       "    "
      ],
      "text/plain": [
       "<IPython.core.display.HTML object>"
      ]
     },
     "metadata": {},
     "output_type": "display_data"
    },
    {
     "name": "stdout",
     "output_type": "stream",
     "text": [
      "\n",
      "*** Feature extraction finished ***\n",
      "*** Feature extraction started ***\n",
      "60\n"
     ]
    },
    {
     "data": {
      "text/html": [
       "\n",
       "              <p>\n",
       "                  Progress: 100% Complete\n",
       "              <p/>            \n",
       "              <progress\n",
       "                  value='60'\n",
       "                  max='60',\n",
       "                  style='width: 25%',\n",
       "              >\n",
       "                  60\n",
       "              </progress>\n",
       "\n",
       "    "
      ],
      "text/plain": [
       "<IPython.core.display.HTML object>"
      ]
     },
     "metadata": {},
     "output_type": "display_data"
    },
    {
     "name": "stdout",
     "output_type": "stream",
     "text": [
      "\n",
      "*** Feature extraction finished ***\n",
      "*** Feature extraction started ***\n",
      "60\n"
     ]
    },
    {
     "data": {
      "text/html": [
       "\n",
       "              <p>\n",
       "                  Progress: 100% Complete\n",
       "              <p/>            \n",
       "              <progress\n",
       "                  value='60'\n",
       "                  max='60',\n",
       "                  style='width: 25%',\n",
       "              >\n",
       "                  60\n",
       "              </progress>\n",
       "\n",
       "    "
      ],
      "text/plain": [
       "<IPython.core.display.HTML object>"
      ]
     },
     "metadata": {},
     "output_type": "display_data"
    },
    {
     "name": "stdout",
     "output_type": "stream",
     "text": [
      "\n",
      "*** Feature extraction finished ***\n",
      "PedalMe\n",
      "*** Feature extraction started ***\n",
      "60\n"
     ]
    },
    {
     "data": {
      "text/html": [
       "\n",
       "              <p>\n",
       "                  Progress: 100% Complete\n",
       "              <p/>            \n",
       "              <progress\n",
       "                  value='60'\n",
       "                  max='60',\n",
       "                  style='width: 25%',\n",
       "              >\n",
       "                  60\n",
       "              </progress>\n",
       "\n",
       "    "
      ],
      "text/plain": [
       "<IPython.core.display.HTML object>"
      ]
     },
     "metadata": {},
     "output_type": "display_data"
    },
    {
     "name": "stdout",
     "output_type": "stream",
     "text": [
      "\n",
      "*** Feature extraction finished ***\n",
      "*** Feature extraction started ***\n",
      "60\n"
     ]
    },
    {
     "data": {
      "text/html": [
       "\n",
       "              <p>\n",
       "                  Progress: 100% Complete\n",
       "              <p/>            \n",
       "              <progress\n",
       "                  value='60'\n",
       "                  max='60',\n",
       "                  style='width: 25%',\n",
       "              >\n",
       "                  60\n",
       "              </progress>\n",
       "\n",
       "    "
      ],
      "text/plain": [
       "<IPython.core.display.HTML object>"
      ]
     },
     "metadata": {},
     "output_type": "display_data"
    },
    {
     "name": "stdout",
     "output_type": "stream",
     "text": [
      "\n",
      "*** Feature extraction finished ***\n",
      "*** Feature extraction started ***\n",
      "60\n"
     ]
    },
    {
     "data": {
      "text/html": [
       "\n",
       "              <p>\n",
       "                  Progress: 100% Complete\n",
       "              <p/>            \n",
       "              <progress\n",
       "                  value='60'\n",
       "                  max='60',\n",
       "                  style='width: 25%',\n",
       "              >\n",
       "                  60\n",
       "              </progress>\n",
       "\n",
       "    "
      ],
      "text/plain": [
       "<IPython.core.display.HTML object>"
      ]
     },
     "metadata": {},
     "output_type": "display_data"
    },
    {
     "name": "stdout",
     "output_type": "stream",
     "text": [
      "\n",
      "*** Feature extraction finished ***\n",
      "*** Feature extraction started ***\n",
      "60\n"
     ]
    },
    {
     "data": {
      "text/html": [
       "\n",
       "              <p>\n",
       "                  Progress: 100% Complete\n",
       "              <p/>            \n",
       "              <progress\n",
       "                  value='60'\n",
       "                  max='60',\n",
       "                  style='width: 25%',\n",
       "              >\n",
       "                  60\n",
       "              </progress>\n",
       "\n",
       "    "
      ],
      "text/plain": [
       "<IPython.core.display.HTML object>"
      ]
     },
     "metadata": {},
     "output_type": "display_data"
    },
    {
     "name": "stdout",
     "output_type": "stream",
     "text": [
      "\n",
      "*** Feature extraction finished ***\n",
      "*** Feature extraction started ***\n",
      "60\n"
     ]
    },
    {
     "data": {
      "text/html": [
       "\n",
       "              <p>\n",
       "                  Progress: 100% Complete\n",
       "              <p/>            \n",
       "              <progress\n",
       "                  value='60'\n",
       "                  max='60',\n",
       "                  style='width: 25%',\n",
       "              >\n",
       "                  60\n",
       "              </progress>\n",
       "\n",
       "    "
      ],
      "text/plain": [
       "<IPython.core.display.HTML object>"
      ]
     },
     "metadata": {},
     "output_type": "display_data"
    },
    {
     "name": "stdout",
     "output_type": "stream",
     "text": [
      "\n",
      "*** Feature extraction finished ***\n",
      "*** Feature extraction started ***\n",
      "60\n"
     ]
    },
    {
     "data": {
      "text/html": [
       "\n",
       "              <p>\n",
       "                  Progress: 100% Complete\n",
       "              <p/>            \n",
       "              <progress\n",
       "                  value='60'\n",
       "                  max='60',\n",
       "                  style='width: 25%',\n",
       "              >\n",
       "                  60\n",
       "              </progress>\n",
       "\n",
       "    "
      ],
      "text/plain": [
       "<IPython.core.display.HTML object>"
      ]
     },
     "metadata": {},
     "output_type": "display_data"
    },
    {
     "name": "stdout",
     "output_type": "stream",
     "text": [
      "\n",
      "*** Feature extraction finished ***\n",
      "*** Feature extraction started ***\n",
      "60\n"
     ]
    },
    {
     "data": {
      "text/html": [
       "\n",
       "              <p>\n",
       "                  Progress: 100% Complete\n",
       "              <p/>            \n",
       "              <progress\n",
       "                  value='60'\n",
       "                  max='60',\n",
       "                  style='width: 25%',\n",
       "              >\n",
       "                  60\n",
       "              </progress>\n",
       "\n",
       "    "
      ],
      "text/plain": [
       "<IPython.core.display.HTML object>"
      ]
     },
     "metadata": {},
     "output_type": "display_data"
    },
    {
     "name": "stdout",
     "output_type": "stream",
     "text": [
      "\n",
      "*** Feature extraction finished ***\n",
      "*** Feature extraction started ***\n",
      "60\n"
     ]
    },
    {
     "data": {
      "text/html": [
       "\n",
       "              <p>\n",
       "                  Progress: 100% Complete\n",
       "              <p/>            \n",
       "              <progress\n",
       "                  value='60'\n",
       "                  max='60',\n",
       "                  style='width: 25%',\n",
       "              >\n",
       "                  60\n",
       "              </progress>\n",
       "\n",
       "    "
      ],
      "text/plain": [
       "<IPython.core.display.HTML object>"
      ]
     },
     "metadata": {},
     "output_type": "display_data"
    },
    {
     "name": "stdout",
     "output_type": "stream",
     "text": [
      "\n",
      "*** Feature extraction finished ***\n",
      "*** Feature extraction started ***\n",
      "60\n"
     ]
    },
    {
     "data": {
      "text/html": [
       "\n",
       "              <p>\n",
       "                  Progress: 100% Complete\n",
       "              <p/>            \n",
       "              <progress\n",
       "                  value='60'\n",
       "                  max='60',\n",
       "                  style='width: 25%',\n",
       "              >\n",
       "                  60\n",
       "              </progress>\n",
       "\n",
       "    "
      ],
      "text/plain": [
       "<IPython.core.display.HTML object>"
      ]
     },
     "metadata": {},
     "output_type": "display_data"
    },
    {
     "name": "stdout",
     "output_type": "stream",
     "text": [
      "\n",
      "*** Feature extraction finished ***\n",
      "*** Feature extraction started ***\n",
      "60\n"
     ]
    },
    {
     "data": {
      "text/html": [
       "\n",
       "              <p>\n",
       "                  Progress: 100% Complete\n",
       "              <p/>            \n",
       "              <progress\n",
       "                  value='60'\n",
       "                  max='60',\n",
       "                  style='width: 25%',\n",
       "              >\n",
       "                  60\n",
       "              </progress>\n",
       "\n",
       "    "
      ],
      "text/plain": [
       "<IPython.core.display.HTML object>"
      ]
     },
     "metadata": {},
     "output_type": "display_data"
    },
    {
     "name": "stdout",
     "output_type": "stream",
     "text": [
      "\n",
      "*** Feature extraction finished ***\n",
      "*** Feature extraction started ***\n",
      "60\n"
     ]
    },
    {
     "data": {
      "text/html": [
       "\n",
       "              <p>\n",
       "                  Progress: 100% Complete\n",
       "              <p/>            \n",
       "              <progress\n",
       "                  value='60'\n",
       "                  max='60',\n",
       "                  style='width: 25%',\n",
       "              >\n",
       "                  60\n",
       "              </progress>\n",
       "\n",
       "    "
      ],
      "text/plain": [
       "<IPython.core.display.HTML object>"
      ]
     },
     "metadata": {},
     "output_type": "display_data"
    },
    {
     "name": "stdout",
     "output_type": "stream",
     "text": [
      "\n",
      "*** Feature extraction finished ***\n",
      "*** Feature extraction started ***\n",
      "60\n"
     ]
    },
    {
     "data": {
      "text/html": [
       "\n",
       "              <p>\n",
       "                  Progress: 100% Complete\n",
       "              <p/>            \n",
       "              <progress\n",
       "                  value='60'\n",
       "                  max='60',\n",
       "                  style='width: 25%',\n",
       "              >\n",
       "                  60\n",
       "              </progress>\n",
       "\n",
       "    "
      ],
      "text/plain": [
       "<IPython.core.display.HTML object>"
      ]
     },
     "metadata": {},
     "output_type": "display_data"
    },
    {
     "name": "stdout",
     "output_type": "stream",
     "text": [
      "\n",
      "*** Feature extraction finished ***\n",
      "*** Feature extraction started ***\n",
      "60\n"
     ]
    },
    {
     "data": {
      "text/html": [
       "\n",
       "              <p>\n",
       "                  Progress: 100% Complete\n",
       "              <p/>            \n",
       "              <progress\n",
       "                  value='60'\n",
       "                  max='60',\n",
       "                  style='width: 25%',\n",
       "              >\n",
       "                  60\n",
       "              </progress>\n",
       "\n",
       "    "
      ],
      "text/plain": [
       "<IPython.core.display.HTML object>"
      ]
     },
     "metadata": {},
     "output_type": "display_data"
    },
    {
     "name": "stdout",
     "output_type": "stream",
     "text": [
      "\n",
      "*** Feature extraction finished ***\n",
      "*** Feature extraction started ***\n",
      "60\n"
     ]
    },
    {
     "data": {
      "text/html": [
       "\n",
       "              <p>\n",
       "                  Progress: 100% Complete\n",
       "              <p/>            \n",
       "              <progress\n",
       "                  value='60'\n",
       "                  max='60',\n",
       "                  style='width: 25%',\n",
       "              >\n",
       "                  60\n",
       "              </progress>\n",
       "\n",
       "    "
      ],
      "text/plain": [
       "<IPython.core.display.HTML object>"
      ]
     },
     "metadata": {},
     "output_type": "display_data"
    },
    {
     "name": "stdout",
     "output_type": "stream",
     "text": [
      "\n",
      "*** Feature extraction finished ***\n",
      "*** Feature extraction started ***\n",
      "60\n"
     ]
    },
    {
     "data": {
      "text/html": [
       "\n",
       "              <p>\n",
       "                  Progress: 100% Complete\n",
       "              <p/>            \n",
       "              <progress\n",
       "                  value='60'\n",
       "                  max='60',\n",
       "                  style='width: 25%',\n",
       "              >\n",
       "                  60\n",
       "              </progress>\n",
       "\n",
       "    "
      ],
      "text/plain": [
       "<IPython.core.display.HTML object>"
      ]
     },
     "metadata": {},
     "output_type": "display_data"
    },
    {
     "name": "stdout",
     "output_type": "stream",
     "text": [
      "\n",
      "*** Feature extraction finished ***\n",
      "\n",
      "\n",
      "# bad features =  394  -  394\n",
      "Bad IDs:  [150 151 152 153 154 155 156 157 158 159 160 161 162 163 164]\n"
     ]
    },
    {
     "data": {
      "text/html": [
       "<div>\n",
       "<style scoped>\n",
       "    .dataframe tbody tr th:only-of-type {\n",
       "        vertical-align: middle;\n",
       "    }\n",
       "\n",
       "    .dataframe tbody tr th {\n",
       "        vertical-align: top;\n",
       "    }\n",
       "\n",
       "    .dataframe thead th {\n",
       "        text-align: right;\n",
       "    }\n",
       "</style>\n",
       "<table border=\"1\" class=\"dataframe\">\n",
       "  <thead>\n",
       "    <tr style=\"text-align: right;\">\n",
       "      <th></th>\n",
       "      <th>0_Absolute energy</th>\n",
       "      <th>0_Area under the curve</th>\n",
       "      <th>0_Autocorrelation</th>\n",
       "      <th>0_Centroid</th>\n",
       "      <th>0_ECDF Percentile Count_0</th>\n",
       "      <th>0_ECDF Percentile Count_1</th>\n",
       "      <th>0_ECDF Percentile_0</th>\n",
       "      <th>0_ECDF Percentile_1</th>\n",
       "      <th>0_ECDF_0</th>\n",
       "      <th>0_ECDF_1</th>\n",
       "      <th>...</th>\n",
       "      <th>0_Wavelet variance_4</th>\n",
       "      <th>0_Wavelet variance_5</th>\n",
       "      <th>0_Wavelet variance_6</th>\n",
       "      <th>0_Wavelet variance_7</th>\n",
       "      <th>0_Wavelet variance_8</th>\n",
       "      <th>0_Zero crossing rate</th>\n",
       "      <th>y</th>\n",
       "      <th>ind</th>\n",
       "      <th>data</th>\n",
       "      <th>set</th>\n",
       "    </tr>\n",
       "  </thead>\n",
       "  <tbody>\n",
       "    <tr>\n",
       "      <th>0</th>\n",
       "      <td>1.018308e+06</td>\n",
       "      <td>385.976755</td>\n",
       "      <td>1.018308e+06</td>\n",
       "      <td>7.453691</td>\n",
       "      <td>293.0</td>\n",
       "      <td>1175.0</td>\n",
       "      <td>24.933</td>\n",
       "      <td>27.544</td>\n",
       "      <td>0.000681</td>\n",
       "      <td>0.001361</td>\n",
       "      <td>...</td>\n",
       "      <td>9.908702</td>\n",
       "      <td>11.818393</td>\n",
       "      <td>15.511607</td>\n",
       "      <td>19.854156</td>\n",
       "      <td>24.711775</td>\n",
       "      <td>0.0</td>\n",
       "      <td>24.541</td>\n",
       "      <td>0</td>\n",
       "      <td>GlobalClimate</td>\n",
       "      <td>train</td>\n",
       "    </tr>\n",
       "    <tr>\n",
       "      <th>1</th>\n",
       "      <td>4.564377e+05</td>\n",
       "      <td>258.148830</td>\n",
       "      <td>4.564377e+05</td>\n",
       "      <td>7.489953</td>\n",
       "      <td>293.0</td>\n",
       "      <td>1175.0</td>\n",
       "      <td>16.499</td>\n",
       "      <td>18.806</td>\n",
       "      <td>0.000681</td>\n",
       "      <td>0.001361</td>\n",
       "      <td>...</td>\n",
       "      <td>5.610358</td>\n",
       "      <td>6.420207</td>\n",
       "      <td>8.270321</td>\n",
       "      <td>10.447691</td>\n",
       "      <td>12.859353</td>\n",
       "      <td>0.0</td>\n",
       "      <td>19.005</td>\n",
       "      <td>1</td>\n",
       "      <td>GlobalClimate</td>\n",
       "      <td>train</td>\n",
       "    </tr>\n",
       "    <tr>\n",
       "      <th>2</th>\n",
       "      <td>1.079901e+06</td>\n",
       "      <td>393.072310</td>\n",
       "      <td>1.079901e+06</td>\n",
       "      <td>7.419450</td>\n",
       "      <td>293.0</td>\n",
       "      <td>1175.0</td>\n",
       "      <td>21.879</td>\n",
       "      <td>30.808</td>\n",
       "      <td>0.000681</td>\n",
       "      <td>0.001361</td>\n",
       "      <td>...</td>\n",
       "      <td>25.618010</td>\n",
       "      <td>15.591693</td>\n",
       "      <td>18.513230</td>\n",
       "      <td>23.542617</td>\n",
       "      <td>28.940603</td>\n",
       "      <td>0.0</td>\n",
       "      <td>27.512</td>\n",
       "      <td>2</td>\n",
       "      <td>GlobalClimate</td>\n",
       "      <td>train</td>\n",
       "    </tr>\n",
       "    <tr>\n",
       "      <th>3</th>\n",
       "      <td>5.646992e+05</td>\n",
       "      <td>259.089040</td>\n",
       "      <td>5.646992e+05</td>\n",
       "      <td>7.490859</td>\n",
       "      <td>293.0</td>\n",
       "      <td>1175.0</td>\n",
       "      <td>8.333</td>\n",
       "      <td>26.767</td>\n",
       "      <td>0.000681</td>\n",
       "      <td>0.001361</td>\n",
       "      <td>...</td>\n",
       "      <td>89.282853</td>\n",
       "      <td>19.439414</td>\n",
       "      <td>12.150381</td>\n",
       "      <td>13.789706</td>\n",
       "      <td>16.087042</td>\n",
       "      <td>0.0</td>\n",
       "      <td>29.704</td>\n",
       "      <td>3</td>\n",
       "      <td>GlobalClimate</td>\n",
       "      <td>train</td>\n",
       "    </tr>\n",
       "    <tr>\n",
       "      <th>4</th>\n",
       "      <td>6.518990e+05</td>\n",
       "      <td>301.997510</td>\n",
       "      <td>6.518990e+05</td>\n",
       "      <td>7.468577</td>\n",
       "      <td>293.0</td>\n",
       "      <td>1175.0</td>\n",
       "      <td>15.605</td>\n",
       "      <td>25.492</td>\n",
       "      <td>0.000681</td>\n",
       "      <td>0.001361</td>\n",
       "      <td>...</td>\n",
       "      <td>29.303381</td>\n",
       "      <td>12.000810</td>\n",
       "      <td>12.160605</td>\n",
       "      <td>14.927510</td>\n",
       "      <td>17.993650</td>\n",
       "      <td>0.0</td>\n",
       "      <td>27.453</td>\n",
       "      <td>4</td>\n",
       "      <td>GlobalClimate</td>\n",
       "      <td>train</td>\n",
       "    </tr>\n",
       "    <tr>\n",
       "      <th>...</th>\n",
       "      <td>...</td>\n",
       "      <td>...</td>\n",
       "      <td>...</td>\n",
       "      <td>...</td>\n",
       "      <td>...</td>\n",
       "      <td>...</td>\n",
       "      <td>...</td>\n",
       "      <td>...</td>\n",
       "      <td>...</td>\n",
       "      <td>...</td>\n",
       "      <td>...</td>\n",
       "      <td>...</td>\n",
       "      <td>...</td>\n",
       "      <td>...</td>\n",
       "      <td>...</td>\n",
       "      <td>...</td>\n",
       "      <td>...</td>\n",
       "      <td>...</td>\n",
       "      <td>...</td>\n",
       "      <td>...</td>\n",
       "      <td>...</td>\n",
       "    </tr>\n",
       "    <tr>\n",
       "      <th>160</th>\n",
       "      <td>1.382450e+05</td>\n",
       "      <td>19.640000</td>\n",
       "      <td>1.382450e+05</td>\n",
       "      <td>0.171229</td>\n",
       "      <td>7.0</td>\n",
       "      <td>28.0</td>\n",
       "      <td>35.000</td>\n",
       "      <td>77.000</td>\n",
       "      <td>0.028571</td>\n",
       "      <td>0.057143</td>\n",
       "      <td>...</td>\n",
       "      <td>1270.620797</td>\n",
       "      <td>2143.320347</td>\n",
       "      <td>3202.006523</td>\n",
       "      <td>4078.060984</td>\n",
       "      <td>4632.477282</td>\n",
       "      <td>1.0</td>\n",
       "      <td>2.000</td>\n",
       "      <td>10</td>\n",
       "      <td>PedalMe</td>\n",
       "      <td>train</td>\n",
       "    </tr>\n",
       "    <tr>\n",
       "      <th>161</th>\n",
       "      <td>4.223000e+03</td>\n",
       "      <td>3.000000</td>\n",
       "      <td>4.223000e+03</td>\n",
       "      <td>0.223014</td>\n",
       "      <td>7.0</td>\n",
       "      <td>28.0</td>\n",
       "      <td>4.000</td>\n",
       "      <td>11.000</td>\n",
       "      <td>0.028571</td>\n",
       "      <td>0.057143</td>\n",
       "      <td>...</td>\n",
       "      <td>29.822956</td>\n",
       "      <td>29.172953</td>\n",
       "      <td>39.502138</td>\n",
       "      <td>51.282370</td>\n",
       "      <td>60.615659</td>\n",
       "      <td>1.0</td>\n",
       "      <td>0.000</td>\n",
       "      <td>11</td>\n",
       "      <td>PedalMe</td>\n",
       "      <td>train</td>\n",
       "    </tr>\n",
       "    <tr>\n",
       "      <th>162</th>\n",
       "      <td>2.724000e+03</td>\n",
       "      <td>2.715000</td>\n",
       "      <td>2.724000e+03</td>\n",
       "      <td>0.147070</td>\n",
       "      <td>7.0</td>\n",
       "      <td>28.0</td>\n",
       "      <td>5.000</td>\n",
       "      <td>11.000</td>\n",
       "      <td>0.028571</td>\n",
       "      <td>0.057143</td>\n",
       "      <td>...</td>\n",
       "      <td>16.046289</td>\n",
       "      <td>20.226240</td>\n",
       "      <td>27.730349</td>\n",
       "      <td>36.227363</td>\n",
       "      <td>43.794722</td>\n",
       "      <td>3.0</td>\n",
       "      <td>0.000</td>\n",
       "      <td>12</td>\n",
       "      <td>PedalMe</td>\n",
       "      <td>test</td>\n",
       "    </tr>\n",
       "    <tr>\n",
       "      <th>163</th>\n",
       "      <td>1.453900e+04</td>\n",
       "      <td>6.660000</td>\n",
       "      <td>1.453900e+04</td>\n",
       "      <td>0.160301</td>\n",
       "      <td>7.0</td>\n",
       "      <td>28.0</td>\n",
       "      <td>13.000</td>\n",
       "      <td>24.000</td>\n",
       "      <td>0.028571</td>\n",
       "      <td>0.057143</td>\n",
       "      <td>...</td>\n",
       "      <td>203.513095</td>\n",
       "      <td>191.377244</td>\n",
       "      <td>152.983459</td>\n",
       "      <td>116.471868</td>\n",
       "      <td>95.150429</td>\n",
       "      <td>0.0</td>\n",
       "      <td>1.000</td>\n",
       "      <td>13</td>\n",
       "      <td>PedalMe</td>\n",
       "      <td>test</td>\n",
       "    </tr>\n",
       "    <tr>\n",
       "      <th>164</th>\n",
       "      <td>4.988000e+03</td>\n",
       "      <td>3.615000</td>\n",
       "      <td>4.988000e+03</td>\n",
       "      <td>0.185822</td>\n",
       "      <td>7.0</td>\n",
       "      <td>28.0</td>\n",
       "      <td>5.000</td>\n",
       "      <td>14.000</td>\n",
       "      <td>0.028571</td>\n",
       "      <td>0.057143</td>\n",
       "      <td>...</td>\n",
       "      <td>39.351576</td>\n",
       "      <td>60.690887</td>\n",
       "      <td>95.355627</td>\n",
       "      <td>126.846886</td>\n",
       "      <td>148.174370</td>\n",
       "      <td>1.0</td>\n",
       "      <td>0.000</td>\n",
       "      <td>14</td>\n",
       "      <td>PedalMe</td>\n",
       "      <td>test</td>\n",
       "    </tr>\n",
       "  </tbody>\n",
       "</table>\n",
       "<p>165 rows × 394 columns</p>\n",
       "</div>"
      ],
      "text/plain": [
       "     0_Absolute energy  0_Area under the curve  0_Autocorrelation  0_Centroid  \\\n",
       "0         1.018308e+06              385.976755       1.018308e+06    7.453691   \n",
       "1         4.564377e+05              258.148830       4.564377e+05    7.489953   \n",
       "2         1.079901e+06              393.072310       1.079901e+06    7.419450   \n",
       "3         5.646992e+05              259.089040       5.646992e+05    7.490859   \n",
       "4         6.518990e+05              301.997510       6.518990e+05    7.468577   \n",
       "..                 ...                     ...                ...         ...   \n",
       "160       1.382450e+05               19.640000       1.382450e+05    0.171229   \n",
       "161       4.223000e+03                3.000000       4.223000e+03    0.223014   \n",
       "162       2.724000e+03                2.715000       2.724000e+03    0.147070   \n",
       "163       1.453900e+04                6.660000       1.453900e+04    0.160301   \n",
       "164       4.988000e+03                3.615000       4.988000e+03    0.185822   \n",
       "\n",
       "     0_ECDF Percentile Count_0  0_ECDF Percentile Count_1  \\\n",
       "0                        293.0                     1175.0   \n",
       "1                        293.0                     1175.0   \n",
       "2                        293.0                     1175.0   \n",
       "3                        293.0                     1175.0   \n",
       "4                        293.0                     1175.0   \n",
       "..                         ...                        ...   \n",
       "160                        7.0                       28.0   \n",
       "161                        7.0                       28.0   \n",
       "162                        7.0                       28.0   \n",
       "163                        7.0                       28.0   \n",
       "164                        7.0                       28.0   \n",
       "\n",
       "     0_ECDF Percentile_0  0_ECDF Percentile_1  0_ECDF_0  0_ECDF_1  ...  \\\n",
       "0                 24.933               27.544  0.000681  0.001361  ...   \n",
       "1                 16.499               18.806  0.000681  0.001361  ...   \n",
       "2                 21.879               30.808  0.000681  0.001361  ...   \n",
       "3                  8.333               26.767  0.000681  0.001361  ...   \n",
       "4                 15.605               25.492  0.000681  0.001361  ...   \n",
       "..                   ...                  ...       ...       ...  ...   \n",
       "160               35.000               77.000  0.028571  0.057143  ...   \n",
       "161                4.000               11.000  0.028571  0.057143  ...   \n",
       "162                5.000               11.000  0.028571  0.057143  ...   \n",
       "163               13.000               24.000  0.028571  0.057143  ...   \n",
       "164                5.000               14.000  0.028571  0.057143  ...   \n",
       "\n",
       "     0_Wavelet variance_4  0_Wavelet variance_5  0_Wavelet variance_6  \\\n",
       "0                9.908702             11.818393             15.511607   \n",
       "1                5.610358              6.420207              8.270321   \n",
       "2               25.618010             15.591693             18.513230   \n",
       "3               89.282853             19.439414             12.150381   \n",
       "4               29.303381             12.000810             12.160605   \n",
       "..                    ...                   ...                   ...   \n",
       "160           1270.620797           2143.320347           3202.006523   \n",
       "161             29.822956             29.172953             39.502138   \n",
       "162             16.046289             20.226240             27.730349   \n",
       "163            203.513095            191.377244            152.983459   \n",
       "164             39.351576             60.690887             95.355627   \n",
       "\n",
       "     0_Wavelet variance_7  0_Wavelet variance_8  0_Zero crossing rate       y  \\\n",
       "0               19.854156             24.711775                   0.0  24.541   \n",
       "1               10.447691             12.859353                   0.0  19.005   \n",
       "2               23.542617             28.940603                   0.0  27.512   \n",
       "3               13.789706             16.087042                   0.0  29.704   \n",
       "4               14.927510             17.993650                   0.0  27.453   \n",
       "..                    ...                   ...                   ...     ...   \n",
       "160           4078.060984           4632.477282                   1.0   2.000   \n",
       "161             51.282370             60.615659                   1.0   0.000   \n",
       "162             36.227363             43.794722                   3.0   0.000   \n",
       "163            116.471868             95.150429                   0.0   1.000   \n",
       "164            126.846886            148.174370                   1.0   0.000   \n",
       "\n",
       "     ind           data    set  \n",
       "0      0  GlobalClimate  train  \n",
       "1      1  GlobalClimate  train  \n",
       "2      2  GlobalClimate  train  \n",
       "3      3  GlobalClimate  train  \n",
       "4      4  GlobalClimate  train  \n",
       "..   ...            ...    ...  \n",
       "160   10        PedalMe  train  \n",
       "161   11        PedalMe  train  \n",
       "162   12        PedalMe   test  \n",
       "163   13        PedalMe   test  \n",
       "164   14        PedalMe   test  \n",
       "\n",
       "[165 rows x 394 columns]"
      ]
     },
     "execution_count": 97,
     "metadata": {},
     "output_type": "execute_result"
    }
   ],
   "source": [
    "df = pd.DataFrame()\n",
    "\n",
    "\n",
    "for frame, dataset in zip(plain,datasets):\n",
    "    print(dataset)\n",
    "    \n",
    "    # exclude last element of the series\n",
    "    X = frame.iloc[:,:-4].copy()\n",
    "    info = frame.iloc[:,-4:].copy()\n",
    "    info.columns = ['y', 'ind', 'data', 'set']\n",
    "    \n",
    "    features = TSFel.transform(X)\n",
    "    features = pd.concat([features, info], axis=1)\n",
    "    \n",
    "    df = pd.concat([df, features], ignore_index=True)\n",
    "    \n",
    "# replace infinite values with NaN\n",
    "df.replace([np.inf, -np.inf], np.nan, inplace=True)\n",
    "\n",
    "# remove features with more than 10% NaN\n",
    "k = len(df.loc[0])\n",
    "output_tsfel = df.drop(df.columns[df.apply(lambda col: (col.isnull().sum() / len(df)) > 0.1)], axis=1)\n",
    "\n",
    "print('\\n')\n",
    "print('# bad features = ', k, ' - ', len(output_tsfel.loc[0]))\n",
    "\n",
    "\n",
    "schlechteIDs = output_tsfel[output_tsfel.isna().any(axis=1)].index.values\n",
    "badIDs.append(schlechteIDs)\n",
    "\n",
    "print('Bad IDs: ', schlechteIDs)\n",
    "output_tsfel"
   ]
  },
  {
   "cell_type": "markdown",
   "metadata": {},
   "source": [
    "TSFRESH"
   ]
  },
  {
   "cell_type": "code",
   "execution_count": 98,
   "metadata": {
    "scrolled": false
   },
   "outputs": [
    {
     "name": "stdout",
     "output_type": "stream",
     "text": [
      "GlobalClimate\n"
     ]
    },
    {
     "name": "stderr",
     "output_type": "stream",
     "text": [
      "Feature Extraction: 100%|█████████████████████████████████████████████████████████████████| 1/1 [00:01<00:00,  1.95s/it]\n",
      "Feature Extraction: 100%|█████████████████████████████████████████████████████████████████| 1/1 [00:01<00:00,  1.90s/it]\n",
      "Feature Extraction: 100%|█████████████████████████████████████████████████████████████████| 1/1 [00:01<00:00,  1.90s/it]\n",
      "Feature Extraction: 100%|█████████████████████████████████████████████████████████████████| 1/1 [00:01<00:00,  1.85s/it]\n",
      "Feature Extraction: 100%|█████████████████████████████████████████████████████████████████| 1/1 [00:03<00:00,  3.00s/it]\n",
      "Feature Extraction: 100%|█████████████████████████████████████████████████████████████████| 1/1 [00:01<00:00,  1.90s/it]\n",
      "Feature Extraction: 100%|█████████████████████████████████████████████████████████████████| 1/1 [00:01<00:00,  1.93s/it]\n",
      "Feature Extraction: 100%|█████████████████████████████████████████████████████████████████| 1/1 [00:01<00:00,  1.98s/it]\n",
      "Feature Extraction: 100%|█████████████████████████████████████████████████████████████████| 1/1 [00:02<00:00,  2.15s/it]\n",
      "Feature Extraction: 100%|█████████████████████████████████████████████████████████████████| 1/1 [00:02<00:00,  2.07s/it]\n",
      "Feature Extraction: 100%|█████████████████████████████████████████████████████████████████| 1/1 [00:01<00:00,  1.92s/it]\n",
      "Feature Extraction: 100%|█████████████████████████████████████████████████████████████████| 1/1 [00:02<00:00,  2.19s/it]\n",
      "Feature Extraction: 100%|█████████████████████████████████████████████████████████████████| 1/1 [00:02<00:00,  2.39s/it]\n",
      "Feature Extraction: 100%|█████████████████████████████████████████████████████████████████| 1/1 [00:02<00:00,  2.59s/it]\n",
      "Feature Extraction: 100%|█████████████████████████████████████████████████████████████████| 1/1 [00:02<00:00,  2.24s/it]\n",
      "Feature Extraction: 100%|█████████████████████████████████████████████████████████████████| 1/1 [00:02<00:00,  2.06s/it]\n",
      "Feature Extraction: 100%|█████████████████████████████████████████████████████████████████| 1/1 [00:02<00:00,  2.17s/it]\n",
      "Feature Extraction: 100%|█████████████████████████████████████████████████████████████████| 1/1 [00:01<00:00,  1.92s/it]\n",
      "Feature Extraction: 100%|█████████████████████████████████████████████████████████████████| 1/1 [00:01<00:00,  1.85s/it]\n",
      "Feature Extraction: 100%|█████████████████████████████████████████████████████████████████| 1/1 [00:01<00:00,  1.94s/it]\n",
      "Feature Extraction: 100%|█████████████████████████████████████████████████████████████████| 1/1 [00:01<00:00,  1.94s/it]\n",
      "Feature Extraction: 100%|█████████████████████████████████████████████████████████████████| 1/1 [00:01<00:00,  1.93s/it]\n",
      "Feature Extraction: 100%|█████████████████████████████████████████████████████████████████| 1/1 [00:01<00:00,  1.90s/it]\n",
      "Feature Extraction: 100%|█████████████████████████████████████████████████████████████████| 1/1 [00:01<00:00,  1.86s/it]\n",
      "Feature Extraction: 100%|█████████████████████████████████████████████████████████████████| 1/1 [00:01<00:00,  1.95s/it]\n",
      "Feature Extraction: 100%|█████████████████████████████████████████████████████████████████| 1/1 [00:02<00:00,  2.19s/it]\n",
      "Feature Extraction: 100%|█████████████████████████████████████████████████████████████████| 1/1 [00:02<00:00,  2.27s/it]\n",
      "Feature Extraction: 100%|█████████████████████████████████████████████████████████████████| 1/1 [00:02<00:00,  2.42s/it]\n",
      "Feature Extraction: 100%|█████████████████████████████████████████████████████████████████| 1/1 [00:02<00:00,  2.48s/it]\n",
      "Feature Extraction: 100%|█████████████████████████████████████████████████████████████████| 1/1 [00:02<00:00,  2.10s/it]\n",
      "Feature Extraction: 100%|█████████████████████████████████████████████████████████████████| 1/1 [00:02<00:00,  2.10s/it]\n",
      "Feature Extraction: 100%|█████████████████████████████████████████████████████████████████| 1/1 [00:01<00:00,  1.91s/it]\n",
      "Feature Extraction: 100%|█████████████████████████████████████████████████████████████████| 1/1 [00:01<00:00,  1.89s/it]\n",
      "Feature Extraction: 100%|█████████████████████████████████████████████████████████████████| 1/1 [00:01<00:00,  1.88s/it]\n",
      "Feature Extraction: 100%|█████████████████████████████████████████████████████████████████| 1/1 [00:01<00:00,  1.90s/it]\n",
      "Feature Extraction: 100%|█████████████████████████████████████████████████████████████████| 1/1 [00:01<00:00,  1.88s/it]\n",
      "Feature Extraction: 100%|█████████████████████████████████████████████████████████████████| 1/1 [00:02<00:00,  2.10s/it]\n",
      "Feature Extraction: 100%|█████████████████████████████████████████████████████████████████| 1/1 [00:02<00:00,  2.33s/it]\n",
      "Feature Extraction: 100%|█████████████████████████████████████████████████████████████████| 1/1 [00:02<00:00,  2.80s/it]\n",
      "Feature Extraction: 100%|█████████████████████████████████████████████████████████████████| 1/1 [00:02<00:00,  2.52s/it]\n",
      "Feature Extraction: 100%|█████████████████████████████████████████████████████████████████| 1/1 [00:02<00:00,  2.39s/it]\n",
      "Feature Extraction: 100%|█████████████████████████████████████████████████████████████████| 1/1 [00:01<00:00,  1.92s/it]\n",
      "Feature Extraction: 100%|█████████████████████████████████████████████████████████████████| 1/1 [00:01<00:00,  1.83s/it]\n",
      "Feature Extraction: 100%|█████████████████████████████████████████████████████████████████| 1/1 [00:01<00:00,  1.94s/it]\n",
      "Feature Extraction: 100%|█████████████████████████████████████████████████████████████████| 1/1 [00:02<00:00,  2.03s/it]\n",
      "Feature Extraction: 100%|█████████████████████████████████████████████████████████████████| 1/1 [00:01<00:00,  1.92s/it]\n",
      "Feature Extraction: 100%|█████████████████████████████████████████████████████████████████| 1/1 [00:01<00:00,  1.91s/it]\n",
      "Feature Extraction: 100%|█████████████████████████████████████████████████████████████████| 1/1 [00:01<00:00,  1.90s/it]\n",
      "Feature Extraction: 100%|█████████████████████████████████████████████████████████████████| 1/1 [00:01<00:00,  1.89s/it]\n",
      "Feature Extraction: 100%|█████████████████████████████████████████████████████████████████| 1/1 [00:01<00:00,  1.96s/it]\n",
      "Feature Extraction: 100%|█████████████████████████████████████████████████████████████████| 1/1 [00:01<00:00,  1.90s/it]\n",
      "Feature Extraction: 100%|█████████████████████████████████████████████████████████████████| 1/1 [00:01<00:00,  1.93s/it]\n",
      "Feature Extraction: 100%|█████████████████████████████████████████████████████████████████| 1/1 [00:01<00:00,  1.94s/it]\n",
      "Feature Extraction: 100%|█████████████████████████████████████████████████████████████████| 1/1 [00:01<00:00,  1.89s/it]\n",
      "Feature Extraction: 100%|█████████████████████████████████████████████████████████████████| 1/1 [00:01<00:00,  1.85s/it]\n",
      "Feature Extraction: 100%|█████████████████████████████████████████████████████████████████| 1/1 [00:02<00:00,  2.21s/it]\n",
      "Feature Extraction: 100%|█████████████████████████████████████████████████████████████████| 1/1 [00:02<00:00,  2.42s/it]\n",
      "Feature Extraction: 100%|█████████████████████████████████████████████████████████████████| 1/1 [00:02<00:00,  2.32s/it]\n",
      "Feature Extraction: 100%|█████████████████████████████████████████████████████████████████| 1/1 [00:02<00:00,  2.03s/it]\n",
      "Feature Extraction: 100%|█████████████████████████████████████████████████████████████████| 1/1 [00:01<00:00,  1.93s/it]\n",
      "Feature Extraction: 100%|█████████████████████████████████████████████████████████████████| 1/1 [00:01<00:00,  1.91s/it]\n",
      "Feature Extraction: 100%|█████████████████████████████████████████████████████████████████| 1/1 [00:01<00:00,  1.92s/it]\n",
      "Feature Extraction: 100%|█████████████████████████████████████████████████████████████████| 1/1 [00:01<00:00,  1.93s/it]\n",
      "Feature Extraction: 100%|█████████████████████████████████████████████████████████████████| 1/1 [00:01<00:00,  1.87s/it]\n",
      "Feature Extraction: 100%|█████████████████████████████████████████████████████████████████| 1/1 [00:01<00:00,  1.97s/it]\n",
      "Feature Extraction: 100%|█████████████████████████████████████████████████████████████████| 1/1 [00:01<00:00,  1.90s/it]\n",
      "Feature Extraction: 100%|█████████████████████████████████████████████████████████████████| 1/1 [00:01<00:00,  1.92s/it]\n",
      "Feature Extraction: 100%|█████████████████████████████████████████████████████████████████| 1/1 [00:01<00:00,  1.97s/it]\n",
      "Feature Extraction: 100%|█████████████████████████████████████████████████████████████████| 1/1 [00:03<00:00,  3.01s/it]\n",
      "Feature Extraction: 100%|█████████████████████████████████████████████████████████████████| 1/1 [00:02<00:00,  2.56s/it]\n",
      "Feature Extraction: 100%|█████████████████████████████████████████████████████████████████| 1/1 [00:02<00:00,  2.48s/it]\n",
      "Feature Extraction: 100%|█████████████████████████████████████████████████████████████████| 1/1 [00:02<00:00,  2.16s/it]\n",
      "Feature Extraction: 100%|█████████████████████████████████████████████████████████████████| 1/1 [00:01<00:00,  1.96s/it]\n",
      "Feature Extraction: 100%|█████████████████████████████████████████████████████████████████| 1/1 [00:01<00:00,  1.92s/it]\n",
      "Feature Extraction: 100%|█████████████████████████████████████████████████████████████████| 1/1 [00:01<00:00,  1.88s/it]\n",
      "Feature Extraction: 100%|█████████████████████████████████████████████████████████████████| 1/1 [00:01<00:00,  1.86s/it]\n",
      "Feature Extraction: 100%|█████████████████████████████████████████████████████████████████| 1/1 [00:01<00:00,  1.89s/it]\n",
      "Feature Extraction: 100%|█████████████████████████████████████████████████████████████████| 1/1 [00:01<00:00,  1.94s/it]\n",
      "Feature Extraction: 100%|█████████████████████████████████████████████████████████████████| 1/1 [00:01<00:00,  1.89s/it]\n",
      "Feature Extraction: 100%|█████████████████████████████████████████████████████████████████| 1/1 [00:01<00:00,  1.85s/it]\n",
      "Feature Extraction: 100%|█████████████████████████████████████████████████████████████████| 1/1 [00:01<00:00,  1.86s/it]\n",
      "Feature Extraction: 100%|█████████████████████████████████████████████████████████████████| 1/1 [00:02<00:00,  2.25s/it]\n",
      "Feature Extraction: 100%|█████████████████████████████████████████████████████████████████| 1/1 [00:02<00:00,  2.38s/it]\n",
      "Feature Extraction: 100%|█████████████████████████████████████████████████████████████████| 1/1 [00:02<00:00,  2.49s/it]\n",
      "Feature Extraction: 100%|█████████████████████████████████████████████████████████████████| 1/1 [00:02<00:00,  2.19s/it]\n",
      "Feature Extraction: 100%|█████████████████████████████████████████████████████████████████| 1/1 [00:02<00:00,  2.07s/it]\n",
      "Feature Extraction: 100%|█████████████████████████████████████████████████████████████████| 1/1 [00:01<00:00,  1.91s/it]\n",
      "Feature Extraction: 100%|█████████████████████████████████████████████████████████████████| 1/1 [00:01<00:00,  1.98s/it]\n",
      "Feature Extraction: 100%|█████████████████████████████████████████████████████████████████| 1/1 [00:01<00:00,  1.88s/it]\n",
      "Feature Extraction: 100%|█████████████████████████████████████████████████████████████████| 1/1 [00:01<00:00,  1.88s/it]\n",
      "Feature Extraction: 100%|█████████████████████████████████████████████████████████████████| 1/1 [00:02<00:00,  2.40s/it]\n",
      "Feature Extraction: 100%|█████████████████████████████████████████████████████████████████| 1/1 [00:01<00:00,  1.93s/it]\n",
      "Feature Extraction: 100%|█████████████████████████████████████████████████████████████████| 1/1 [00:01<00:00,  1.91s/it]\n",
      "Feature Extraction: 100%|█████████████████████████████████████████████████████████████████| 1/1 [00:01<00:00,  1.93s/it]\n",
      "Feature Extraction: 100%|█████████████████████████████████████████████████████████████████| 1/1 [00:01<00:00,  1.95s/it]\n",
      "Feature Extraction: 100%|█████████████████████████████████████████████████████████████████| 1/1 [00:02<00:00,  2.28s/it]\n",
      "Feature Extraction: 100%|█████████████████████████████████████████████████████████████████| 1/1 [00:02<00:00,  2.30s/it]\n",
      "Feature Extraction: 100%|█████████████████████████████████████████████████████████████████| 1/1 [00:02<00:00,  2.77s/it]\n",
      "Feature Extraction: 100%|█████████████████████████████████████████████████████████████████| 1/1 [00:02<00:00,  2.90s/it]\n",
      "Feature Extraction: 100%|█████████████████████████████████████████████████████████████████| 1/1 [00:01<00:00,  1.95s/it]"
     ]
    },
    {
     "name": "stdout",
     "output_type": "stream",
     "text": [
      "HumidityHouse\n"
     ]
    },
    {
     "name": "stderr",
     "output_type": "stream",
     "text": [
      "\n",
      "Feature Extraction: 100%|█████████████████████████████████████████████████████████████████| 1/1 [01:25<00:00, 85.75s/it]\n",
      "Feature Extraction: 100%|█████████████████████████████████████████████████████████████████| 1/1 [01:27<00:00, 87.09s/it]\n",
      "Feature Extraction: 100%|█████████████████████████████████████████████████████████████████| 1/1 [01:26<00:00, 86.71s/it]\n",
      "Feature Extraction: 100%|█████████████████████████████████████████████████████████████████| 1/1 [01:25<00:00, 85.75s/it]\n",
      "Feature Extraction: 100%|█████████████████████████████████████████████████████████████████| 1/1 [01:24<00:00, 84.06s/it]\n",
      "Feature Extraction: 100%|█████████████████████████████████████████████████████████████████| 1/1 [01:26<00:00, 86.02s/it]\n",
      "Feature Extraction: 100%|█████████████████████████████████████████████████████████████████| 1/1 [01:24<00:00, 84.71s/it]\n",
      "Feature Extraction: 100%|█████████████████████████████████████████████████████████████████| 1/1 [01:22<00:00, 82.27s/it]\n",
      "Feature Extraction: 100%|█████████████████████████████████████████████████████████████████| 1/1 [01:31<00:00, 91.63s/it]"
     ]
    },
    {
     "name": "stdout",
     "output_type": "stream",
     "text": [
      "HungaryChickenpox\n"
     ]
    },
    {
     "name": "stderr",
     "output_type": "stream",
     "text": [
      "\n",
      "Feature Extraction: 100%|█████████████████████████████████████████████████████████████████| 1/1 [00:00<00:00,  2.46it/s]\n",
      "Feature Extraction: 100%|█████████████████████████████████████████████████████████████████| 1/1 [00:00<00:00,  2.47it/s]\n",
      "Feature Extraction: 100%|█████████████████████████████████████████████████████████████████| 1/1 [00:00<00:00,  2.02it/s]\n",
      "Feature Extraction: 100%|█████████████████████████████████████████████████████████████████| 1/1 [00:00<00:00,  2.30it/s]\n",
      "Feature Extraction: 100%|█████████████████████████████████████████████████████████████████| 1/1 [00:00<00:00,  2.31it/s]\n",
      "Feature Extraction: 100%|█████████████████████████████████████████████████████████████████| 1/1 [00:00<00:00,  2.78it/s]\n",
      "Feature Extraction: 100%|█████████████████████████████████████████████████████████████████| 1/1 [00:00<00:00,  2.58it/s]\n",
      "Feature Extraction: 100%|█████████████████████████████████████████████████████████████████| 1/1 [00:00<00:00,  2.42it/s]\n",
      "Feature Extraction: 100%|█████████████████████████████████████████████████████████████████| 1/1 [00:00<00:00,  2.39it/s]\n",
      "Feature Extraction: 100%|█████████████████████████████████████████████████████████████████| 1/1 [00:00<00:00,  2.49it/s]\n",
      "Feature Extraction: 100%|█████████████████████████████████████████████████████████████████| 1/1 [00:00<00:00,  2.16it/s]\n",
      "Feature Extraction: 100%|█████████████████████████████████████████████████████████████████| 1/1 [00:00<00:00,  2.29it/s]\n",
      "Feature Extraction: 100%|█████████████████████████████████████████████████████████████████| 1/1 [00:00<00:00,  1.90it/s]\n",
      "Feature Extraction: 100%|█████████████████████████████████████████████████████████████████| 1/1 [00:00<00:00,  2.20it/s]\n",
      "Feature Extraction: 100%|█████████████████████████████████████████████████████████████████| 1/1 [00:00<00:00,  1.78it/s]\n",
      "Feature Extraction: 100%|█████████████████████████████████████████████████████████████████| 1/1 [00:00<00:00,  2.95it/s]\n",
      "Feature Extraction: 100%|█████████████████████████████████████████████████████████████████| 1/1 [00:00<00:00,  2.30it/s]\n",
      "Feature Extraction: 100%|█████████████████████████████████████████████████████████████████| 1/1 [00:00<00:00,  1.98it/s]\n",
      "Feature Extraction: 100%|█████████████████████████████████████████████████████████████████| 1/1 [00:00<00:00,  2.52it/s]\n",
      "Feature Extraction: 100%|█████████████████████████████████████████████████████████████████| 1/1 [00:00<00:00,  2.67it/s]"
     ]
    },
    {
     "name": "stdout",
     "output_type": "stream",
     "text": [
      "IstanbulStockExchange\n"
     ]
    },
    {
     "name": "stderr",
     "output_type": "stream",
     "text": [
      "\n",
      "Feature Extraction: 100%|█████████████████████████████████████████████████████████████████| 1/1 [00:00<00:00,  1.96it/s]\n",
      "Feature Extraction: 100%|█████████████████████████████████████████████████████████████████| 1/1 [00:00<00:00,  1.78it/s]\n",
      "Feature Extraction: 100%|█████████████████████████████████████████████████████████████████| 1/1 [00:00<00:00,  1.63it/s]\n",
      "Feature Extraction: 100%|█████████████████████████████████████████████████████████████████| 1/1 [00:00<00:00,  2.07it/s]\n",
      "Feature Extraction: 100%|█████████████████████████████████████████████████████████████████| 1/1 [00:00<00:00,  1.91it/s]\n",
      "Feature Extraction: 100%|█████████████████████████████████████████████████████████████████| 1/1 [00:00<00:00,  1.87it/s]\n",
      "Feature Extraction: 100%|█████████████████████████████████████████████████████████████████| 1/1 [00:00<00:00,  1.96it/s]"
     ]
    },
    {
     "name": "stdout",
     "output_type": "stream",
     "text": [
      "ParkingBirmingham\n"
     ]
    },
    {
     "name": "stderr",
     "output_type": "stream",
     "text": [
      "\n",
      "Feature Extraction: 100%|█████████████████████████████████████████████████████████████████| 1/1 [00:02<00:00,  2.47s/it]\n",
      "Feature Extraction: 100%|█████████████████████████████████████████████████████████████████| 1/1 [00:02<00:00,  2.72s/it]\n",
      "Feature Extraction: 100%|█████████████████████████████████████████████████████████████████| 1/1 [00:02<00:00,  2.74s/it]\n",
      "Feature Extraction: 100%|█████████████████████████████████████████████████████████████████| 1/1 [00:02<00:00,  2.27s/it]\n",
      "Feature Extraction: 100%|█████████████████████████████████████████████████████████████████| 1/1 [00:02<00:00,  2.37s/it]\n",
      "Feature Extraction: 100%|█████████████████████████████████████████████████████████████████| 1/1 [00:01<00:00,  1.94s/it]\n",
      "Feature Extraction: 100%|█████████████████████████████████████████████████████████████████| 1/1 [00:01<00:00,  1.96s/it]\n",
      "Feature Extraction: 100%|█████████████████████████████████████████████████████████████████| 1/1 [00:01<00:00,  2.00s/it]\n",
      "Feature Extraction: 100%|█████████████████████████████████████████████████████████████████| 1/1 [00:01<00:00,  1.60s/it]\n",
      "Feature Extraction: 100%|█████████████████████████████████████████████████████████████████| 1/1 [00:01<00:00,  1.61s/it]\n",
      "Feature Extraction: 100%|█████████████████████████████████████████████████████████████████| 1/1 [00:01<00:00,  1.59s/it]\n",
      "Feature Extraction: 100%|█████████████████████████████████████████████████████████████████| 1/1 [00:01<00:00,  1.83s/it]\n",
      "Feature Extraction: 100%|█████████████████████████████████████████████████████████████████| 1/1 [00:01<00:00,  1.63s/it]\n",
      "Feature Extraction: 100%|█████████████████████████████████████████████████████████████████| 1/1 [00:01<00:00,  1.64s/it]"
     ]
    },
    {
     "name": "stdout",
     "output_type": "stream",
     "text": [
      "PedalMe\n"
     ]
    },
    {
     "name": "stderr",
     "output_type": "stream",
     "text": [
      "\n",
      "Feature Extraction: 100%|█████████████████████████████████████████████████████████████████| 1/1 [00:00<00:00, 14.77it/s]\n",
      "Feature Extraction: 100%|█████████████████████████████████████████████████████████████████| 1/1 [00:00<00:00, 15.98it/s]\n",
      "Feature Extraction: 100%|█████████████████████████████████████████████████████████████████| 1/1 [00:00<00:00, 14.91it/s]\n",
      "Feature Extraction: 100%|█████████████████████████████████████████████████████████████████| 1/1 [00:00<00:00, 15.10it/s]\n",
      "Feature Extraction: 100%|█████████████████████████████████████████████████████████████████| 1/1 [00:00<00:00, 14.44it/s]\n",
      "Feature Extraction: 100%|█████████████████████████████████████████████████████████████████| 1/1 [00:00<00:00, 13.04it/s]\n",
      "Feature Extraction: 100%|█████████████████████████████████████████████████████████████████| 1/1 [00:00<00:00, 13.86it/s]\n",
      "Feature Extraction: 100%|█████████████████████████████████████████████████████████████████| 1/1 [00:00<00:00, 14.81it/s]\n",
      "Feature Extraction: 100%|█████████████████████████████████████████████████████████████████| 1/1 [00:00<00:00, 14.89it/s]\n",
      "Feature Extraction: 100%|█████████████████████████████████████████████████████████████████| 1/1 [00:00<00:00, 12.70it/s]\n",
      "Feature Extraction: 100%|█████████████████████████████████████████████████████████████████| 1/1 [00:00<00:00, 12.00it/s]\n",
      "Feature Extraction: 100%|█████████████████████████████████████████████████████████████████| 1/1 [00:00<00:00, 14.74it/s]\n",
      "Feature Extraction: 100%|█████████████████████████████████████████████████████████████████| 1/1 [00:00<00:00, 13.90it/s]\n",
      "Feature Extraction: 100%|█████████████████████████████████████████████████████████████████| 1/1 [00:00<00:00, 14.52it/s]\n",
      "Feature Extraction: 100%|█████████████████████████████████████████████████████████████████| 1/1 [00:00<00:00, 12.86it/s]\n"
     ]
    },
    {
     "name": "stdout",
     "output_type": "stream",
     "text": [
      "\n",
      "\n",
      "# bad features =  791  -  779\n",
      "Bad IDs:  [150 151 152 153 154 155 156 157 158 159 160 161 162 163 164]\n"
     ]
    },
    {
     "data": {
      "text/html": [
       "<div>\n",
       "<style scoped>\n",
       "    .dataframe tbody tr th:only-of-type {\n",
       "        vertical-align: middle;\n",
       "    }\n",
       "\n",
       "    .dataframe tbody tr th {\n",
       "        vertical-align: top;\n",
       "    }\n",
       "\n",
       "    .dataframe thead th {\n",
       "        text-align: right;\n",
       "    }\n",
       "</style>\n",
       "<table border=\"1\" class=\"dataframe\">\n",
       "  <thead>\n",
       "    <tr style=\"text-align: right;\">\n",
       "      <th></th>\n",
       "      <th>value__variance_larger_than_standard_deviation</th>\n",
       "      <th>value__has_duplicate_max</th>\n",
       "      <th>value__has_duplicate_min</th>\n",
       "      <th>value__has_duplicate</th>\n",
       "      <th>value__sum_values</th>\n",
       "      <th>value__abs_energy</th>\n",
       "      <th>value__mean_abs_change</th>\n",
       "      <th>value__mean_change</th>\n",
       "      <th>value__mean_second_derivative_central</th>\n",
       "      <th>value__median</th>\n",
       "      <th>...</th>\n",
       "      <th>value__fourier_entropy__bins_100</th>\n",
       "      <th>value__permutation_entropy__dimension_3__tau_1</th>\n",
       "      <th>value__permutation_entropy__dimension_4__tau_1</th>\n",
       "      <th>value__permutation_entropy__dimension_5__tau_1</th>\n",
       "      <th>value__permutation_entropy__dimension_6__tau_1</th>\n",
       "      <th>value__permutation_entropy__dimension_7__tau_1</th>\n",
       "      <th>y</th>\n",
       "      <th>ind</th>\n",
       "      <th>data</th>\n",
       "      <th>set</th>\n",
       "    </tr>\n",
       "  </thead>\n",
       "  <tbody>\n",
       "    <tr>\n",
       "      <th>0</th>\n",
       "      <td>1.0</td>\n",
       "      <td>0.0</td>\n",
       "      <td>0.0</td>\n",
       "      <td>1.0</td>\n",
       "      <td>38623.094</td>\n",
       "      <td>1.018308e+06</td>\n",
       "      <td>0.750809</td>\n",
       "      <td>-0.000637</td>\n",
       "      <td>-0.000671</td>\n",
       "      <td>26.438</td>\n",
       "      <td>...</td>\n",
       "      <td>0.456309</td>\n",
       "      <td>1.528101</td>\n",
       "      <td>2.443032</td>\n",
       "      <td>3.369079</td>\n",
       "      <td>4.213701</td>\n",
       "      <td>4.983870</td>\n",
       "      <td>24.541</td>\n",
       "      <td>0</td>\n",
       "      <td>GlobalClimate</td>\n",
       "      <td>train</td>\n",
       "    </tr>\n",
       "    <tr>\n",
       "      <th>1</th>\n",
       "      <td>1.0</td>\n",
       "      <td>0.0</td>\n",
       "      <td>0.0</td>\n",
       "      <td>1.0</td>\n",
       "      <td>25832.366</td>\n",
       "      <td>4.564377e+05</td>\n",
       "      <td>0.700921</td>\n",
       "      <td>0.000906</td>\n",
       "      <td>-0.000445</td>\n",
       "      <td>17.374</td>\n",
       "      <td>...</td>\n",
       "      <td>0.683185</td>\n",
       "      <td>1.683435</td>\n",
       "      <td>2.862616</td>\n",
       "      <td>4.108728</td>\n",
       "      <td>5.213935</td>\n",
       "      <td>6.056496</td>\n",
       "      <td>19.005</td>\n",
       "      <td>1</td>\n",
       "      <td>GlobalClimate</td>\n",
       "      <td>train</td>\n",
       "    </tr>\n",
       "    <tr>\n",
       "      <th>2</th>\n",
       "      <td>1.0</td>\n",
       "      <td>0.0</td>\n",
       "      <td>0.0</td>\n",
       "      <td>1.0</td>\n",
       "      <td>39330.836</td>\n",
       "      <td>1.079901e+06</td>\n",
       "      <td>2.413967</td>\n",
       "      <td>0.006087</td>\n",
       "      <td>-0.001389</td>\n",
       "      <td>27.549</td>\n",
       "      <td>...</td>\n",
       "      <td>0.316475</td>\n",
       "      <td>1.524548</td>\n",
       "      <td>2.378386</td>\n",
       "      <td>3.130081</td>\n",
       "      <td>3.853067</td>\n",
       "      <td>4.449627</td>\n",
       "      <td>27.512</td>\n",
       "      <td>2</td>\n",
       "      <td>GlobalClimate</td>\n",
       "      <td>train</td>\n",
       "    </tr>\n",
       "    <tr>\n",
       "      <th>3</th>\n",
       "      <td>1.0</td>\n",
       "      <td>0.0</td>\n",
       "      <td>0.0</td>\n",
       "      <td>1.0</td>\n",
       "      <td>25926.393</td>\n",
       "      <td>5.646992e+05</td>\n",
       "      <td>4.057554</td>\n",
       "      <td>0.016841</td>\n",
       "      <td>0.000980</td>\n",
       "      <td>18.155</td>\n",
       "      <td>...</td>\n",
       "      <td>0.181214</td>\n",
       "      <td>1.277020</td>\n",
       "      <td>1.920213</td>\n",
       "      <td>2.553140</td>\n",
       "      <td>3.166268</td>\n",
       "      <td>3.726180</td>\n",
       "      <td>29.704</td>\n",
       "      <td>3</td>\n",
       "      <td>GlobalClimate</td>\n",
       "      <td>train</td>\n",
       "    </tr>\n",
       "    <tr>\n",
       "      <th>4</th>\n",
       "      <td>1.0</td>\n",
       "      <td>0.0</td>\n",
       "      <td>0.0</td>\n",
       "      <td>1.0</td>\n",
       "      <td>30219.530</td>\n",
       "      <td>6.518990e+05</td>\n",
       "      <td>2.163718</td>\n",
       "      <td>0.008978</td>\n",
       "      <td>0.000684</td>\n",
       "      <td>20.774</td>\n",
       "      <td>...</td>\n",
       "      <td>0.181214</td>\n",
       "      <td>1.307040</td>\n",
       "      <td>1.974207</td>\n",
       "      <td>2.650485</td>\n",
       "      <td>3.300018</td>\n",
       "      <td>3.912818</td>\n",
       "      <td>27.453</td>\n",
       "      <td>4</td>\n",
       "      <td>GlobalClimate</td>\n",
       "      <td>train</td>\n",
       "    </tr>\n",
       "    <tr>\n",
       "      <th>...</th>\n",
       "      <td>...</td>\n",
       "      <td>...</td>\n",
       "      <td>...</td>\n",
       "      <td>...</td>\n",
       "      <td>...</td>\n",
       "      <td>...</td>\n",
       "      <td>...</td>\n",
       "      <td>...</td>\n",
       "      <td>...</td>\n",
       "      <td>...</td>\n",
       "      <td>...</td>\n",
       "      <td>...</td>\n",
       "      <td>...</td>\n",
       "      <td>...</td>\n",
       "      <td>...</td>\n",
       "      <td>...</td>\n",
       "      <td>...</td>\n",
       "      <td>...</td>\n",
       "      <td>...</td>\n",
       "      <td>...</td>\n",
       "      <td>...</td>\n",
       "    </tr>\n",
       "    <tr>\n",
       "      <th>160</th>\n",
       "      <td>1.0</td>\n",
       "      <td>0.0</td>\n",
       "      <td>0.0</td>\n",
       "      <td>1.0</td>\n",
       "      <td>1971.000</td>\n",
       "      <td>1.382450e+05</td>\n",
       "      <td>22.176471</td>\n",
       "      <td>0.411765</td>\n",
       "      <td>-0.893939</td>\n",
       "      <td>54.000</td>\n",
       "      <td>...</td>\n",
       "      <td>2.505290</td>\n",
       "      <td>1.648321</td>\n",
       "      <td>2.577218</td>\n",
       "      <td>3.193512</td>\n",
       "      <td>3.354988</td>\n",
       "      <td>3.367296</td>\n",
       "      <td>2.000</td>\n",
       "      <td>10</td>\n",
       "      <td>PedalMe</td>\n",
       "      <td>train</td>\n",
       "    </tr>\n",
       "    <tr>\n",
       "      <th>161</th>\n",
       "      <td>1.0</td>\n",
       "      <td>0.0</td>\n",
       "      <td>0.0</td>\n",
       "      <td>1.0</td>\n",
       "      <td>303.000</td>\n",
       "      <td>4.223000e+03</td>\n",
       "      <td>6.294118</td>\n",
       "      <td>0.176471</td>\n",
       "      <td>-0.045455</td>\n",
       "      <td>7.000</td>\n",
       "      <td>...</td>\n",
       "      <td>2.813355</td>\n",
       "      <td>1.689303</td>\n",
       "      <td>2.853499</td>\n",
       "      <td>3.255111</td>\n",
       "      <td>3.401197</td>\n",
       "      <td>3.367296</td>\n",
       "      <td>0.000</td>\n",
       "      <td>11</td>\n",
       "      <td>PedalMe</td>\n",
       "      <td>train</td>\n",
       "    </tr>\n",
       "    <tr>\n",
       "      <th>162</th>\n",
       "      <td>1.0</td>\n",
       "      <td>1.0</td>\n",
       "      <td>1.0</td>\n",
       "      <td>1.0</td>\n",
       "      <td>274.000</td>\n",
       "      <td>2.724000e+03</td>\n",
       "      <td>3.558824</td>\n",
       "      <td>0.147059</td>\n",
       "      <td>-0.060606</td>\n",
       "      <td>7.000</td>\n",
       "      <td>...</td>\n",
       "      <td>2.659323</td>\n",
       "      <td>1.683010</td>\n",
       "      <td>2.653242</td>\n",
       "      <td>3.210391</td>\n",
       "      <td>3.354988</td>\n",
       "      <td>3.367296</td>\n",
       "      <td>0.000</td>\n",
       "      <td>12</td>\n",
       "      <td>PedalMe</td>\n",
       "      <td>test</td>\n",
       "    </tr>\n",
       "    <tr>\n",
       "      <th>163</th>\n",
       "      <td>1.0</td>\n",
       "      <td>0.0</td>\n",
       "      <td>0.0</td>\n",
       "      <td>1.0</td>\n",
       "      <td>677.000</td>\n",
       "      <td>1.453900e+04</td>\n",
       "      <td>6.588235</td>\n",
       "      <td>0.411765</td>\n",
       "      <td>0.030303</td>\n",
       "      <td>20.000</td>\n",
       "      <td>...</td>\n",
       "      <td>2.736339</td>\n",
       "      <td>1.707741</td>\n",
       "      <td>2.690831</td>\n",
       "      <td>3.210391</td>\n",
       "      <td>3.354988</td>\n",
       "      <td>3.367296</td>\n",
       "      <td>1.000</td>\n",
       "      <td>13</td>\n",
       "      <td>PedalMe</td>\n",
       "      <td>test</td>\n",
       "    </tr>\n",
       "    <tr>\n",
       "      <th>164</th>\n",
       "      <td>1.0</td>\n",
       "      <td>0.0</td>\n",
       "      <td>0.0</td>\n",
       "      <td>1.0</td>\n",
       "      <td>366.000</td>\n",
       "      <td>4.988000e+03</td>\n",
       "      <td>4.558824</td>\n",
       "      <td>0.264706</td>\n",
       "      <td>-0.075758</td>\n",
       "      <td>10.000</td>\n",
       "      <td>...</td>\n",
       "      <td>2.553237</td>\n",
       "      <td>1.728878</td>\n",
       "      <td>2.756237</td>\n",
       "      <td>3.148793</td>\n",
       "      <td>3.354988</td>\n",
       "      <td>3.367296</td>\n",
       "      <td>0.000</td>\n",
       "      <td>14</td>\n",
       "      <td>PedalMe</td>\n",
       "      <td>test</td>\n",
       "    </tr>\n",
       "  </tbody>\n",
       "</table>\n",
       "<p>165 rows × 779 columns</p>\n",
       "</div>"
      ],
      "text/plain": [
       "     value__variance_larger_than_standard_deviation  value__has_duplicate_max  \\\n",
       "0                                               1.0                       0.0   \n",
       "1                                               1.0                       0.0   \n",
       "2                                               1.0                       0.0   \n",
       "3                                               1.0                       0.0   \n",
       "4                                               1.0                       0.0   \n",
       "..                                              ...                       ...   \n",
       "160                                             1.0                       0.0   \n",
       "161                                             1.0                       0.0   \n",
       "162                                             1.0                       1.0   \n",
       "163                                             1.0                       0.0   \n",
       "164                                             1.0                       0.0   \n",
       "\n",
       "     value__has_duplicate_min  value__has_duplicate  value__sum_values  \\\n",
       "0                         0.0                   1.0          38623.094   \n",
       "1                         0.0                   1.0          25832.366   \n",
       "2                         0.0                   1.0          39330.836   \n",
       "3                         0.0                   1.0          25926.393   \n",
       "4                         0.0                   1.0          30219.530   \n",
       "..                        ...                   ...                ...   \n",
       "160                       0.0                   1.0           1971.000   \n",
       "161                       0.0                   1.0            303.000   \n",
       "162                       1.0                   1.0            274.000   \n",
       "163                       0.0                   1.0            677.000   \n",
       "164                       0.0                   1.0            366.000   \n",
       "\n",
       "     value__abs_energy  value__mean_abs_change  value__mean_change  \\\n",
       "0         1.018308e+06                0.750809           -0.000637   \n",
       "1         4.564377e+05                0.700921            0.000906   \n",
       "2         1.079901e+06                2.413967            0.006087   \n",
       "3         5.646992e+05                4.057554            0.016841   \n",
       "4         6.518990e+05                2.163718            0.008978   \n",
       "..                 ...                     ...                 ...   \n",
       "160       1.382450e+05               22.176471            0.411765   \n",
       "161       4.223000e+03                6.294118            0.176471   \n",
       "162       2.724000e+03                3.558824            0.147059   \n",
       "163       1.453900e+04                6.588235            0.411765   \n",
       "164       4.988000e+03                4.558824            0.264706   \n",
       "\n",
       "     value__mean_second_derivative_central  value__median  ...  \\\n",
       "0                                -0.000671         26.438  ...   \n",
       "1                                -0.000445         17.374  ...   \n",
       "2                                -0.001389         27.549  ...   \n",
       "3                                 0.000980         18.155  ...   \n",
       "4                                 0.000684         20.774  ...   \n",
       "..                                     ...            ...  ...   \n",
       "160                              -0.893939         54.000  ...   \n",
       "161                              -0.045455          7.000  ...   \n",
       "162                              -0.060606          7.000  ...   \n",
       "163                               0.030303         20.000  ...   \n",
       "164                              -0.075758         10.000  ...   \n",
       "\n",
       "     value__fourier_entropy__bins_100  \\\n",
       "0                            0.456309   \n",
       "1                            0.683185   \n",
       "2                            0.316475   \n",
       "3                            0.181214   \n",
       "4                            0.181214   \n",
       "..                                ...   \n",
       "160                          2.505290   \n",
       "161                          2.813355   \n",
       "162                          2.659323   \n",
       "163                          2.736339   \n",
       "164                          2.553237   \n",
       "\n",
       "     value__permutation_entropy__dimension_3__tau_1  \\\n",
       "0                                          1.528101   \n",
       "1                                          1.683435   \n",
       "2                                          1.524548   \n",
       "3                                          1.277020   \n",
       "4                                          1.307040   \n",
       "..                                              ...   \n",
       "160                                        1.648321   \n",
       "161                                        1.689303   \n",
       "162                                        1.683010   \n",
       "163                                        1.707741   \n",
       "164                                        1.728878   \n",
       "\n",
       "     value__permutation_entropy__dimension_4__tau_1  \\\n",
       "0                                          2.443032   \n",
       "1                                          2.862616   \n",
       "2                                          2.378386   \n",
       "3                                          1.920213   \n",
       "4                                          1.974207   \n",
       "..                                              ...   \n",
       "160                                        2.577218   \n",
       "161                                        2.853499   \n",
       "162                                        2.653242   \n",
       "163                                        2.690831   \n",
       "164                                        2.756237   \n",
       "\n",
       "     value__permutation_entropy__dimension_5__tau_1  \\\n",
       "0                                          3.369079   \n",
       "1                                          4.108728   \n",
       "2                                          3.130081   \n",
       "3                                          2.553140   \n",
       "4                                          2.650485   \n",
       "..                                              ...   \n",
       "160                                        3.193512   \n",
       "161                                        3.255111   \n",
       "162                                        3.210391   \n",
       "163                                        3.210391   \n",
       "164                                        3.148793   \n",
       "\n",
       "     value__permutation_entropy__dimension_6__tau_1  \\\n",
       "0                                          4.213701   \n",
       "1                                          5.213935   \n",
       "2                                          3.853067   \n",
       "3                                          3.166268   \n",
       "4                                          3.300018   \n",
       "..                                              ...   \n",
       "160                                        3.354988   \n",
       "161                                        3.401197   \n",
       "162                                        3.354988   \n",
       "163                                        3.354988   \n",
       "164                                        3.354988   \n",
       "\n",
       "     value__permutation_entropy__dimension_7__tau_1       y  ind  \\\n",
       "0                                          4.983870  24.541    0   \n",
       "1                                          6.056496  19.005    1   \n",
       "2                                          4.449627  27.512    2   \n",
       "3                                          3.726180  29.704    3   \n",
       "4                                          3.912818  27.453    4   \n",
       "..                                              ...     ...  ...   \n",
       "160                                        3.367296   2.000   10   \n",
       "161                                        3.367296   0.000   11   \n",
       "162                                        3.367296   0.000   12   \n",
       "163                                        3.367296   1.000   13   \n",
       "164                                        3.367296   0.000   14   \n",
       "\n",
       "              data    set  \n",
       "0    GlobalClimate  train  \n",
       "1    GlobalClimate  train  \n",
       "2    GlobalClimate  train  \n",
       "3    GlobalClimate  train  \n",
       "4    GlobalClimate  train  \n",
       "..             ...    ...  \n",
       "160        PedalMe  train  \n",
       "161        PedalMe  train  \n",
       "162        PedalMe   test  \n",
       "163        PedalMe   test  \n",
       "164        PedalMe   test  \n",
       "\n",
       "[165 rows x 779 columns]"
      ]
     },
     "execution_count": 98,
     "metadata": {},
     "output_type": "execute_result"
    }
   ],
   "source": [
    "df = pd.DataFrame()\n",
    "\n",
    "\n",
    "for frame, dataset in zip(plain,datasets):\n",
    "    print(dataset)\n",
    "    \n",
    "    # exclude last element of the series\n",
    "    X = frame.iloc[:,:-4].copy()\n",
    "    info = frame.iloc[:,-4:].copy()\n",
    "    info.columns = ['y', 'ind', 'data', 'set']\n",
    "    \n",
    "    features = TSFresh.transform(X)\n",
    "    features = pd.concat([features, info], axis=1)\n",
    "    \n",
    "    df = pd.concat([df, features], ignore_index=True)\n",
    "    \n",
    "# replace infinite values with NaN\n",
    "df.replace([np.inf, -np.inf], np.nan, inplace=True)\n",
    "\n",
    "# remove features with more than 10% NaN\n",
    "k = len(df.loc[0])\n",
    "output_tsfresh = df.drop(df.columns[df.apply(lambda col: (col.isnull().sum() / len(df)) > 0.1)], axis=1)\n",
    "\n",
    "print('\\n')\n",
    "print('# bad features = ', k, ' - ', len(output_tsfresh.loc[0]))\n",
    "\n",
    "\n",
    "schlechteIDs = output_tsfresh[output_tsfresh.isna().any(axis=1)].index.values\n",
    "badIDs.append(schlechteIDs)\n",
    "\n",
    "print('Bad IDs: ', schlechteIDs)\n",
    "output_tsfresh\n"
   ]
  },
  {
   "cell_type": "code",
   "execution_count": 102,
   "metadata": {},
   "outputs": [],
   "source": [
    "frames = [output_catch22,\n",
    "          output_kats,\n",
    "          output_tsfeatures,\n",
    "          output_tsfel,\n",
    "          output_tsfresh]"
   ]
  },
  {
   "cell_type": "code",
   "execution_count": 105,
   "metadata": {},
   "outputs": [],
   "source": [
    "for frame in frames:\n",
    "    frame.replace(np.nan, 0, inplace=True)"
   ]
  },
  {
   "cell_type": "code",
   "execution_count": 107,
   "metadata": {},
   "outputs": [
    {
     "name": "stdout",
     "output_type": "stream",
     "text": [
      "False\n",
      "False\n",
      "False\n",
      "False\n",
      "False\n"
     ]
    }
   ],
   "source": [
    "for frame in frames:\n",
    "    print(frame.isnull().values.any())"
   ]
  },
  {
   "cell_type": "code",
   "execution_count": 108,
   "metadata": {},
   "outputs": [],
   "source": [
    "output_catch22.to_feather('data/output_catch22.feather')\n",
    "output_kats.to_feather('data/output_kats.feather')\n",
    "output_tsfeatures.to_feather('data/output_tsfeatures.feather')\n",
    "output_tsfel.to_feather('data/output_tsfel.feather')\n",
    "output_tsfresh.to_feather('data/output_tsfresh.feather')"
   ]
  },
  {
   "cell_type": "code",
   "execution_count": null,
   "metadata": {},
   "outputs": [],
   "source": []
  },
  {
   "cell_type": "code",
   "execution_count": null,
   "metadata": {},
   "outputs": [],
   "source": []
  },
  {
   "cell_type": "code",
   "execution_count": 32,
   "metadata": {},
   "outputs": [],
   "source": [
    "# list with unique values that contain the indices to be removed\n",
    "toRemove = list(set([item for sublist in badIDs for item in sublist]))\n",
    "toRemove.sort()"
   ]
  },
  {
   "cell_type": "code",
   "execution_count": 101,
   "metadata": {},
   "outputs": [
    {
     "data": {
      "text/plain": [
       "20"
      ]
     },
     "execution_count": 101,
     "metadata": {},
     "output_type": "execute_result"
    }
   ],
   "source": [
    "len(toRemove)"
   ]
  },
  {
   "cell_type": "code",
   "execution_count": 36,
   "metadata": {},
   "outputs": [],
   "source": [
    "# dataframe containing information on 'ind', 'data' and 'set' for the series to be removed \n",
    "bf = output_catch22.iloc[toRemove][['ind', 'data', 'set']].copy()\n",
    "\n",
    "for data, frame in zip(datasets, plain):\n",
    "    \n",
    "    # first remove the bad ones in the training set\n",
    "    badTrainSets = bf.loc[(bf['data'] == data) & (bf['set'] == 'train')]['ind'].values\n",
    "    frame.drop(frame.loc[(frame['ind'].isin(badTrainSets)) & (frame['set'] == 'train')].index, axis=0, inplace=True)\n",
    "    \n",
    "    # the remove the bad ones from the testing set\n",
    "    badTestSets = bf.loc[(bf['data'] == data) & (bf['set'] == 'test')]['ind'].values\n",
    "    frame.drop(frame.loc[(frame['ind'].isin(badTestSets)) & (frame['set'] == 'test')].index, axis=0, inplace=True)\n",
    "    \n",
    "    # reset index\n",
    "    frame.reset_index(drop=True, inplace=True)\n",
    "    \n",
    "    # save file\n",
    "    frame.to_feather('data/' + data +'_plain.feather')\n"
   ]
  },
  {
   "cell_type": "code",
   "execution_count": 37,
   "metadata": {},
   "outputs": [],
   "source": [
    "t = [output_catch22,\n",
    "                 output_kats,\n",
    "                 output_tsfeatures,\n",
    "                 output_tsfel,\n",
    "                 output_tsfresh].copy()"
   ]
  },
  {
   "cell_type": "code",
   "execution_count": 38,
   "metadata": {},
   "outputs": [],
   "source": [
    "# remove the bad series from each feature frame\n",
    "featureFrames = [output_catch22,\n",
    "                 output_kats,\n",
    "                 output_tsfeatures,\n",
    "                 output_tsfel,\n",
    "                 output_tsfresh]\n",
    "\n",
    "for frame in featureFrames:\n",
    "    frame.drop(toRemove, axis=0, inplace=True)\n",
    "    frame.reset_index(drop=True, inplace=True)\n",
    "    \n",
    "output_catch22.to_feather('featureFrames/output_catch22.feather')\n",
    "output_kats.to_feather('featureFrames/output_kats.feather')\n",
    "output_tsfeatures.to_feather('featureFrames/output_tsfeatures.feather')\n",
    "output_tsfel.to_feather('featureFrames/output_tsfel.feather')\n",
    "output_tsfresh.to_feather('featureFrames/output_tsfresh.feather')"
   ]
  },
  {
   "cell_type": "markdown",
   "metadata": {},
   "source": [
    "--------------------------------------"
   ]
  }
 ],
 "metadata": {
  "interpreter": {
   "hash": "9d800c14abb2bd109b7479fe8830174a66f0a4a77373f77c2c7334932e1a4922"
  },
  "kernelspec": {
   "display_name": "Python 3 (ipykernel)",
   "language": "python",
   "name": "python3"
  },
  "language_info": {
   "codemirror_mode": {
    "name": "ipython",
    "version": 3
   },
   "file_extension": ".py",
   "mimetype": "text/x-python",
   "name": "python",
   "nbconvert_exporter": "python",
   "pygments_lexer": "ipython3",
   "version": "3.8.10"
  }
 },
 "nbformat": 4,
 "nbformat_minor": 1
}
