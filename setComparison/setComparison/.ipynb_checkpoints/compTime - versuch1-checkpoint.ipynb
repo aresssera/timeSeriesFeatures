{
 "cells": [
  {
   "cell_type": "markdown",
   "metadata": {},
   "source": [
    "### Import libraries"
   ]
  },
  {
   "cell_type": "code",
   "execution_count": 14,
   "metadata": {},
   "outputs": [],
   "source": [
    "%matplotlib inline\n",
    "import matplotlib.pyplot as plt\n",
    "import seaborn as sns\n",
    "import numpy as np\n",
    "import pandas as pd\n",
    "import time\n",
    "import statistics\n",
    "import glob\n",
    "import math\n",
    "import os\n",
    "sns.set(style=\"whitegrid\")"
   ]
  },
  {
   "cell_type": "code",
   "execution_count": 15,
   "metadata": {},
   "outputs": [],
   "source": [
    "from utilityFuncs import Catch22\n",
    "from utilityFuncs import Kats\n",
    "from utilityFuncs import TSFeatures\n",
    "from utilityFuncs import TSFel\n",
    "from utilityFuncs import TSFresh"
   ]
  },
  {
   "cell_type": "markdown",
   "metadata": {},
   "source": [
    "--------------------------------------"
   ]
  },
  {
   "cell_type": "markdown",
   "metadata": {},
   "source": [
    "### Load time series"
   ]
  },
  {
   "cell_type": "markdown",
   "metadata": {},
   "source": [
    "Load the generated time series of the folder _TimeSeries_."
   ]
  },
  {
   "cell_type": "code",
   "execution_count": 16,
   "metadata": {},
   "outputs": [],
   "source": [
    "timeSeriesLength = [100, 250, 500, 750, 1000]\n",
    "timeSeries = []\n",
    "numberOfSeries = 10\n",
    "\n",
    "for filename in glob.glob('TimeSeries/*.txt'):\n",
    "    with open(os.path.join(os.getcwd(), filename), 'r') as f:\n",
    "        \n",
    "        # saves data in a matrix\n",
    "        tsAsArray = np.loadtxt(f, dtype='float')\n",
    "        \n",
    "        # transform into a dataframe and add to collection\n",
    "        ts= pd.DataFrame(tsAsArray)\n",
    "        timeSeries.append(ts)\n"
   ]
  },
  {
   "cell_type": "markdown",
   "metadata": {},
   "source": [
    "Since the naming is based on the length of the time series, it first loads the 1000 long ones --> needs to be changed."
   ]
  },
  {
   "cell_type": "code",
   "execution_count": 17,
   "metadata": {
    "scrolled": true
   },
   "outputs": [
    {
     "data": {
      "text/plain": [
       "[            0\n",
       " 0   -0.126840\n",
       " 1   -0.847561\n",
       " 2   -0.894438\n",
       " 3   -0.908808\n",
       " 4   -0.931235\n",
       " ..        ...\n",
       " 995  0.601419\n",
       " 996  0.657151\n",
       " 997  0.675447\n",
       " 998  0.720659\n",
       " 999  0.699525\n",
       " \n",
       " [1000 rows x 1 columns],\n",
       "             0\n",
       " 0   -1.169280\n",
       " 1   -1.183570\n",
       " 2   -1.205020\n",
       " 3   -1.226460\n",
       " 4   -1.237180\n",
       " ..        ...\n",
       " 995 -0.440191\n",
       " 996 -0.443765\n",
       " 997 -0.443765\n",
       " 998 -0.447339\n",
       " 999 -0.447339\n",
       " \n",
       " [1000 rows x 1 columns],\n",
       "                 0\n",
       " 0   -1.268020e-12\n",
       " 1   -1.378050e-12\n",
       " 2   -1.488080e-12\n",
       " 3   -1.598100e-12\n",
       " 4   -1.708130e-12\n",
       " ..            ...\n",
       " 995  2.071250e-02\n",
       " 996  2.058080e-02\n",
       " 997  2.044130e-02\n",
       " 998  2.029400e-02\n",
       " 999  2.013940e-02\n",
       " \n",
       " [1000 rows x 1 columns],\n",
       "             0\n",
       " 0   -0.472894\n",
       " 1   -0.189716\n",
       " 2    0.217448\n",
       " 3    0.482014\n",
       " 4    1.242730\n",
       " ..        ...\n",
       " 995 -0.353633\n",
       " 996 -0.679311\n",
       " 997 -0.305339\n",
       " 998 -0.080740\n",
       " 999  0.140574\n",
       " \n",
       " [1000 rows x 1 columns],\n",
       "             0\n",
       " 0    0.532185\n",
       " 1    0.822043\n",
       " 2   -1.529380\n",
       " 3    0.696702\n",
       " 4   -1.137750\n",
       " ..        ...\n",
       " 995  0.297777\n",
       " 996  0.773854\n",
       " 997  0.832758\n",
       " 998 -0.399357\n",
       " 999  0.657106\n",
       " \n",
       " [1000 rows x 1 columns],\n",
       "             0\n",
       " 0   -0.901502\n",
       " 1   -0.902987\n",
       " 2   -0.904189\n",
       " 3   -0.908205\n",
       " 4    0.808402\n",
       " ..        ...\n",
       " 995 -0.140895\n",
       " 996 -0.134819\n",
       " 997 -0.141894\n",
       " 998 -0.141615\n",
       " 999 -0.138774\n",
       " \n",
       " [1000 rows x 1 columns],\n",
       "             0\n",
       " 0   -1.595920\n",
       " 1   -1.622830\n",
       " 2   -1.281990\n",
       " 3   -0.411960\n",
       " 4    0.126205\n",
       " ..        ...\n",
       " 995  0.404257\n",
       " 996  0.467043\n",
       " 997  0.619523\n",
       " 998  0.449104\n",
       " 999  0.915513\n",
       " \n",
       " [1000 rows x 1 columns],\n",
       "             0\n",
       " 0    1.084560\n",
       " 1    0.981835\n",
       " 2    0.840595\n",
       " 3    1.020360\n",
       " 4    0.968995\n",
       " ..        ...\n",
       " 995 -0.738733\n",
       " 996 -0.738733\n",
       " 997 -0.764412\n",
       " 998 -0.764412\n",
       " 999 -0.790092\n",
       " \n",
       " [1000 rows x 1 columns],\n",
       "             0\n",
       " 0    0.866501\n",
       " 1    0.878688\n",
       " 2    0.720260\n",
       " 3    0.683700\n",
       " 4    0.525271\n",
       " ..        ...\n",
       " 995  0.366843\n",
       " 996  0.305909\n",
       " 997  0.232789\n",
       " 998  0.220602\n",
       " 999  0.342470\n",
       " \n",
       " [1000 rows x 1 columns],\n",
       "             0\n",
       " 0   -0.662550\n",
       " 1   -0.913941\n",
       " 2   -0.948856\n",
       " 3   -1.130420\n",
       " 4   -1.137400\n",
       " ..        ...\n",
       " 995 -0.306413\n",
       " 996 -0.515905\n",
       " 997 -0.543838\n",
       " 998 -0.390210\n",
       " 999 -0.809194\n",
       " \n",
       " [1000 rows x 1 columns]]"
      ]
     },
     "execution_count": 17,
     "metadata": {},
     "output_type": "execute_result"
    }
   ],
   "source": [
    "[timeSeries.append(timeSeries[i]) for i in range(numberOfSeries)]\n",
    "[timeSeries.pop(0) for _ in range(numberOfSeries)]"
   ]
  },
  {
   "cell_type": "markdown",
   "metadata": {},
   "source": [
    "--------------------------------------"
   ]
  },
  {
   "cell_type": "markdown",
   "metadata": {},
   "source": [
    "### COMPUTATION TIME BY SERIES"
   ]
  },
  {
   "cell_type": "markdown",
   "metadata": {},
   "source": [
    "Same base function for each feature set:"
   ]
  },
  {
   "cell_type": "code",
   "execution_count": 18,
   "metadata": {},
   "outputs": [],
   "source": [
    "# stores the number of features calculated by each feature set\n",
    "nbrFeats = []\n",
    "\n",
    "def measureTime(featureSet):\n",
    "    \n",
    "    medians = []\n",
    "\n",
    "    for i in range(len(timeSeriesLength)):\n",
    "    \n",
    "        # the first 10 time series are of length 10, the next 10 of length 250 and so on\n",
    "        part = i*numberOfSeries\n",
    "    \n",
    "        timeMeasures = []\n",
    "    \n",
    "        for j in range(numberOfSeries):\n",
    "        \n",
    "            ind = j + part\n",
    "            ts = timeSeries[ind].values.reshape(len(timeSeries[ind]))\n",
    "            \n",
    "            # get the time\n",
    "            start = time.time()\n",
    "            f = featureSet(ts)\n",
    "            end = time.time()\n",
    "        \n",
    "            timeMeasures.append(end-start)\n",
    "        \n",
    "        medians.append(statistics.median(timeMeasures))\n",
    "    \n",
    "    nbrFeats.append(len(f.iloc[0]))\n",
    "    return medians"
   ]
  },
  {
   "cell_type": "markdown",
   "metadata": {},
   "source": [
    "Get time measurements for each feature set:"
   ]
  },
  {
   "cell_type": "code",
   "execution_count": 22,
   "metadata": {},
   "outputs": [
    {
     "name": "stderr",
     "output_type": "stream",
     "text": [
      "WARNING:root:Holt-Winters failed Data must be positive.\n",
      "WARNING:root:Holt-Winters failed Data must be positive.\n",
      "WARNING:root:Holt-Winters failed Data must be positive.\n",
      "WARNING:root:Holt-Winters failed Data must be positive.\n",
      "WARNING:root:Holt-Winters failed Data must be positive.\n",
      "WARNING:root:Holt-Winters failed Data must be positive.\n",
      "WARNING:root:Holt-Winters failed Data must be positive.\n",
      "WARNING:root:Holt-Winters failed Data must be positive.\n",
      "WARNING:root:Holt-Winters failed Data must be positive.\n",
      "WARNING:root:Holt-Winters failed Data must be positive.\n",
      "WARNING:root:Holt-Winters failed Data must be positive.\n",
      "WARNING:root:Holt-Winters failed Data must be positive.\n",
      "WARNING:root:Holt-Winters failed Data must be positive.\n",
      "WARNING:root:Holt-Winters failed Data must be positive.\n",
      "WARNING:root:Holt-Winters failed Data must be positive.\n",
      "WARNING:root:Holt-Winters failed Data must be positive.\n",
      "WARNING:root:Holt-Winters failed Data must be positive.\n",
      "WARNING:root:Holt-Winters failed Data must be positive.\n",
      "WARNING:root:Holt-Winters failed Data must be positive.\n",
      "WARNING:root:Holt-Winters failed Data must be positive.\n",
      "WARNING:root:Holt-Winters failed Data must be positive.\n",
      "WARNING:root:Holt-Winters failed Data must be positive.\n",
      "WARNING:root:Holt-Winters failed Data must be positive.\n",
      "WARNING:root:Holt-Winters failed Data must be positive.\n",
      "WARNING:root:Holt-Winters failed Data must be positive.\n",
      "WARNING:root:Holt-Winters failed Data must be positive.\n",
      "WARNING:root:Holt-Winters failed Data must be positive.\n",
      "WARNING:root:Holt-Winters failed Data must be positive.\n",
      "WARNING:root:Holt-Winters failed Data must be positive.\n",
      "WARNING:root:Holt-Winters failed Data must be positive.\n",
      "WARNING:root:Holt-Winters failed Data must be positive.\n",
      "WARNING:root:Holt-Winters failed Data must be positive.\n",
      "WARNING:root:Holt-Winters failed Data must be positive.\n",
      "WARNING:root:Holt-Winters failed Data must be positive.\n",
      "WARNING:root:Holt-Winters failed Data must be positive.\n",
      "WARNING:root:Holt-Winters failed Data must be positive.\n",
      "WARNING:root:Holt-Winters failed Data must be positive.\n",
      "WARNING:root:Holt-Winters failed Data must be positive.\n",
      "WARNING:root:Holt-Winters failed Data must be positive.\n",
      "WARNING:root:Holt-Winters failed Data must be positive.\n",
      "WARNING:root:Holt-Winters failed Data must be positive.\n",
      "WARNING:root:Holt-Winters failed Data must be positive.\n",
      "WARNING:root:Holt-Winters failed Data must be positive.\n"
     ]
    },
    {
     "name": "stdout",
     "output_type": "stream",
     "text": [
      "*** Feature extraction started ***\n",
      "60\n"
     ]
    },
    {
     "data": {
      "text/html": [
       "\n",
       "              <p>\n",
       "                  Progress: 100% Complete\n",
       "              <p/>            \n",
       "              <progress\n",
       "                  value='60'\n",
       "                  max='60',\n",
       "                  style='width: 25%',\n",
       "              >\n",
       "                  60\n",
       "              </progress>\n",
       "\n",
       "    "
      ],
      "text/plain": [
       "<IPython.core.display.HTML object>"
      ]
     },
     "metadata": {},
     "output_type": "display_data"
    },
    {
     "name": "stdout",
     "output_type": "stream",
     "text": [
      "\n",
      "*** Feature extraction finished ***\n",
      "*** Feature extraction started ***\n",
      "60\n"
     ]
    },
    {
     "data": {
      "text/html": [
       "\n",
       "              <p>\n",
       "                  Progress: 100% Complete\n",
       "              <p/>            \n",
       "              <progress\n",
       "                  value='60'\n",
       "                  max='60',\n",
       "                  style='width: 25%',\n",
       "              >\n",
       "                  60\n",
       "              </progress>\n",
       "\n",
       "    "
      ],
      "text/plain": [
       "<IPython.core.display.HTML object>"
      ]
     },
     "metadata": {},
     "output_type": "display_data"
    },
    {
     "name": "stdout",
     "output_type": "stream",
     "text": [
      "\n",
      "*** Feature extraction finished ***\n",
      "*** Feature extraction started ***\n",
      "60\n"
     ]
    },
    {
     "data": {
      "text/html": [
       "\n",
       "              <p>\n",
       "                  Progress: 100% Complete\n",
       "              <p/>            \n",
       "              <progress\n",
       "                  value='60'\n",
       "                  max='60',\n",
       "                  style='width: 25%',\n",
       "              >\n",
       "                  60\n",
       "              </progress>\n",
       "\n",
       "    "
      ],
      "text/plain": [
       "<IPython.core.display.HTML object>"
      ]
     },
     "metadata": {},
     "output_type": "display_data"
    },
    {
     "name": "stdout",
     "output_type": "stream",
     "text": [
      "\n",
      "*** Feature extraction finished ***\n",
      "*** Feature extraction started ***\n",
      "60\n"
     ]
    },
    {
     "data": {
      "text/html": [
       "\n",
       "              <p>\n",
       "                  Progress: 100% Complete\n",
       "              <p/>            \n",
       "              <progress\n",
       "                  value='60'\n",
       "                  max='60',\n",
       "                  style='width: 25%',\n",
       "              >\n",
       "                  60\n",
       "              </progress>\n",
       "\n",
       "    "
      ],
      "text/plain": [
       "<IPython.core.display.HTML object>"
      ]
     },
     "metadata": {},
     "output_type": "display_data"
    },
    {
     "name": "stdout",
     "output_type": "stream",
     "text": [
      "\n",
      "*** Feature extraction finished ***\n",
      "*** Feature extraction started ***\n",
      "60\n"
     ]
    },
    {
     "data": {
      "text/html": [
       "\n",
       "              <p>\n",
       "                  Progress: 100% Complete\n",
       "              <p/>            \n",
       "              <progress\n",
       "                  value='60'\n",
       "                  max='60',\n",
       "                  style='width: 25%',\n",
       "              >\n",
       "                  60\n",
       "              </progress>\n",
       "\n",
       "    "
      ],
      "text/plain": [
       "<IPython.core.display.HTML object>"
      ]
     },
     "metadata": {},
     "output_type": "display_data"
    },
    {
     "name": "stdout",
     "output_type": "stream",
     "text": [
      "\n",
      "*** Feature extraction finished ***\n",
      "*** Feature extraction started ***\n",
      "60\n"
     ]
    },
    {
     "data": {
      "text/html": [
       "\n",
       "              <p>\n",
       "                  Progress: 100% Complete\n",
       "              <p/>            \n",
       "              <progress\n",
       "                  value='60'\n",
       "                  max='60',\n",
       "                  style='width: 25%',\n",
       "              >\n",
       "                  60\n",
       "              </progress>\n",
       "\n",
       "    "
      ],
      "text/plain": [
       "<IPython.core.display.HTML object>"
      ]
     },
     "metadata": {},
     "output_type": "display_data"
    },
    {
     "name": "stdout",
     "output_type": "stream",
     "text": [
      "\n",
      "*** Feature extraction finished ***\n",
      "*** Feature extraction started ***\n",
      "60\n"
     ]
    },
    {
     "data": {
      "text/html": [
       "\n",
       "              <p>\n",
       "                  Progress: 100% Complete\n",
       "              <p/>            \n",
       "              <progress\n",
       "                  value='60'\n",
       "                  max='60',\n",
       "                  style='width: 25%',\n",
       "              >\n",
       "                  60\n",
       "              </progress>\n",
       "\n",
       "    "
      ],
      "text/plain": [
       "<IPython.core.display.HTML object>"
      ]
     },
     "metadata": {},
     "output_type": "display_data"
    },
    {
     "name": "stdout",
     "output_type": "stream",
     "text": [
      "\n",
      "*** Feature extraction finished ***\n",
      "*** Feature extraction started ***\n",
      "60\n"
     ]
    },
    {
     "data": {
      "text/html": [
       "\n",
       "              <p>\n",
       "                  Progress: 100% Complete\n",
       "              <p/>            \n",
       "              <progress\n",
       "                  value='60'\n",
       "                  max='60',\n",
       "                  style='width: 25%',\n",
       "              >\n",
       "                  60\n",
       "              </progress>\n",
       "\n",
       "    "
      ],
      "text/plain": [
       "<IPython.core.display.HTML object>"
      ]
     },
     "metadata": {},
     "output_type": "display_data"
    },
    {
     "name": "stdout",
     "output_type": "stream",
     "text": [
      "\n",
      "*** Feature extraction finished ***\n",
      "*** Feature extraction started ***\n",
      "60\n"
     ]
    },
    {
     "data": {
      "text/html": [
       "\n",
       "              <p>\n",
       "                  Progress: 100% Complete\n",
       "              <p/>            \n",
       "              <progress\n",
       "                  value='60'\n",
       "                  max='60',\n",
       "                  style='width: 25%',\n",
       "              >\n",
       "                  60\n",
       "              </progress>\n",
       "\n",
       "    "
      ],
      "text/plain": [
       "<IPython.core.display.HTML object>"
      ]
     },
     "metadata": {},
     "output_type": "display_data"
    },
    {
     "name": "stdout",
     "output_type": "stream",
     "text": [
      "\n",
      "*** Feature extraction finished ***\n",
      "*** Feature extraction started ***\n",
      "60\n"
     ]
    },
    {
     "data": {
      "text/html": [
       "\n",
       "              <p>\n",
       "                  Progress: 100% Complete\n",
       "              <p/>            \n",
       "              <progress\n",
       "                  value='60'\n",
       "                  max='60',\n",
       "                  style='width: 25%',\n",
       "              >\n",
       "                  60\n",
       "              </progress>\n",
       "\n",
       "    "
      ],
      "text/plain": [
       "<IPython.core.display.HTML object>"
      ]
     },
     "metadata": {},
     "output_type": "display_data"
    },
    {
     "name": "stdout",
     "output_type": "stream",
     "text": [
      "\n",
      "*** Feature extraction finished ***\n",
      "*** Feature extraction started ***\n",
      "60\n"
     ]
    },
    {
     "data": {
      "text/html": [
       "\n",
       "              <p>\n",
       "                  Progress: 100% Complete\n",
       "              <p/>            \n",
       "              <progress\n",
       "                  value='60'\n",
       "                  max='60',\n",
       "                  style='width: 25%',\n",
       "              >\n",
       "                  60\n",
       "              </progress>\n",
       "\n",
       "    "
      ],
      "text/plain": [
       "<IPython.core.display.HTML object>"
      ]
     },
     "metadata": {},
     "output_type": "display_data"
    },
    {
     "name": "stdout",
     "output_type": "stream",
     "text": [
      "\n",
      "*** Feature extraction finished ***\n",
      "*** Feature extraction started ***\n",
      "60\n"
     ]
    },
    {
     "data": {
      "text/html": [
       "\n",
       "              <p>\n",
       "                  Progress: 100% Complete\n",
       "              <p/>            \n",
       "              <progress\n",
       "                  value='60'\n",
       "                  max='60',\n",
       "                  style='width: 25%',\n",
       "              >\n",
       "                  60\n",
       "              </progress>\n",
       "\n",
       "    "
      ],
      "text/plain": [
       "<IPython.core.display.HTML object>"
      ]
     },
     "metadata": {},
     "output_type": "display_data"
    },
    {
     "name": "stdout",
     "output_type": "stream",
     "text": [
      "\n",
      "*** Feature extraction finished ***\n",
      "*** Feature extraction started ***\n",
      "60\n"
     ]
    },
    {
     "data": {
      "text/html": [
       "\n",
       "              <p>\n",
       "                  Progress: 100% Complete\n",
       "              <p/>            \n",
       "              <progress\n",
       "                  value='60'\n",
       "                  max='60',\n",
       "                  style='width: 25%',\n",
       "              >\n",
       "                  60\n",
       "              </progress>\n",
       "\n",
       "    "
      ],
      "text/plain": [
       "<IPython.core.display.HTML object>"
      ]
     },
     "metadata": {},
     "output_type": "display_data"
    },
    {
     "name": "stdout",
     "output_type": "stream",
     "text": [
      "\n",
      "*** Feature extraction finished ***\n",
      "*** Feature extraction started ***\n",
      "60\n"
     ]
    },
    {
     "data": {
      "text/html": [
       "\n",
       "              <p>\n",
       "                  Progress: 100% Complete\n",
       "              <p/>            \n",
       "              <progress\n",
       "                  value='60'\n",
       "                  max='60',\n",
       "                  style='width: 25%',\n",
       "              >\n",
       "                  60\n",
       "              </progress>\n",
       "\n",
       "    "
      ],
      "text/plain": [
       "<IPython.core.display.HTML object>"
      ]
     },
     "metadata": {},
     "output_type": "display_data"
    },
    {
     "name": "stdout",
     "output_type": "stream",
     "text": [
      "\n",
      "*** Feature extraction finished ***\n",
      "*** Feature extraction started ***\n",
      "60\n"
     ]
    },
    {
     "data": {
      "text/html": [
       "\n",
       "              <p>\n",
       "                  Progress: 100% Complete\n",
       "              <p/>            \n",
       "              <progress\n",
       "                  value='60'\n",
       "                  max='60',\n",
       "                  style='width: 25%',\n",
       "              >\n",
       "                  60\n",
       "              </progress>\n",
       "\n",
       "    "
      ],
      "text/plain": [
       "<IPython.core.display.HTML object>"
      ]
     },
     "metadata": {},
     "output_type": "display_data"
    },
    {
     "name": "stdout",
     "output_type": "stream",
     "text": [
      "\n",
      "*** Feature extraction finished ***\n",
      "*** Feature extraction started ***\n",
      "60\n"
     ]
    },
    {
     "data": {
      "text/html": [
       "\n",
       "              <p>\n",
       "                  Progress: 100% Complete\n",
       "              <p/>            \n",
       "              <progress\n",
       "                  value='60'\n",
       "                  max='60',\n",
       "                  style='width: 25%',\n",
       "              >\n",
       "                  60\n",
       "              </progress>\n",
       "\n",
       "    "
      ],
      "text/plain": [
       "<IPython.core.display.HTML object>"
      ]
     },
     "metadata": {},
     "output_type": "display_data"
    },
    {
     "name": "stdout",
     "output_type": "stream",
     "text": [
      "\n",
      "*** Feature extraction finished ***\n",
      "*** Feature extraction started ***\n",
      "60\n"
     ]
    },
    {
     "data": {
      "text/html": [
       "\n",
       "              <p>\n",
       "                  Progress: 100% Complete\n",
       "              <p/>            \n",
       "              <progress\n",
       "                  value='60'\n",
       "                  max='60',\n",
       "                  style='width: 25%',\n",
       "              >\n",
       "                  60\n",
       "              </progress>\n",
       "\n",
       "    "
      ],
      "text/plain": [
       "<IPython.core.display.HTML object>"
      ]
     },
     "metadata": {},
     "output_type": "display_data"
    },
    {
     "name": "stdout",
     "output_type": "stream",
     "text": [
      "\n",
      "*** Feature extraction finished ***\n",
      "*** Feature extraction started ***\n",
      "60\n"
     ]
    },
    {
     "data": {
      "text/html": [
       "\n",
       "              <p>\n",
       "                  Progress: 100% Complete\n",
       "              <p/>            \n",
       "              <progress\n",
       "                  value='60'\n",
       "                  max='60',\n",
       "                  style='width: 25%',\n",
       "              >\n",
       "                  60\n",
       "              </progress>\n",
       "\n",
       "    "
      ],
      "text/plain": [
       "<IPython.core.display.HTML object>"
      ]
     },
     "metadata": {},
     "output_type": "display_data"
    },
    {
     "name": "stdout",
     "output_type": "stream",
     "text": [
      "\n",
      "*** Feature extraction finished ***\n",
      "*** Feature extraction started ***\n",
      "60\n"
     ]
    },
    {
     "data": {
      "text/html": [
       "\n",
       "              <p>\n",
       "                  Progress: 100% Complete\n",
       "              <p/>            \n",
       "              <progress\n",
       "                  value='60'\n",
       "                  max='60',\n",
       "                  style='width: 25%',\n",
       "              >\n",
       "                  60\n",
       "              </progress>\n",
       "\n",
       "    "
      ],
      "text/plain": [
       "<IPython.core.display.HTML object>"
      ]
     },
     "metadata": {},
     "output_type": "display_data"
    },
    {
     "name": "stdout",
     "output_type": "stream",
     "text": [
      "\n",
      "*** Feature extraction finished ***\n",
      "*** Feature extraction started ***\n",
      "60\n"
     ]
    },
    {
     "data": {
      "text/html": [
       "\n",
       "              <p>\n",
       "                  Progress: 100% Complete\n",
       "              <p/>            \n",
       "              <progress\n",
       "                  value='60'\n",
       "                  max='60',\n",
       "                  style='width: 25%',\n",
       "              >\n",
       "                  60\n",
       "              </progress>\n",
       "\n",
       "    "
      ],
      "text/plain": [
       "<IPython.core.display.HTML object>"
      ]
     },
     "metadata": {},
     "output_type": "display_data"
    },
    {
     "name": "stdout",
     "output_type": "stream",
     "text": [
      "\n",
      "*** Feature extraction finished ***\n",
      "*** Feature extraction started ***\n",
      "60\n"
     ]
    },
    {
     "data": {
      "text/html": [
       "\n",
       "              <p>\n",
       "                  Progress: 100% Complete\n",
       "              <p/>            \n",
       "              <progress\n",
       "                  value='60'\n",
       "                  max='60',\n",
       "                  style='width: 25%',\n",
       "              >\n",
       "                  60\n",
       "              </progress>\n",
       "\n",
       "    "
      ],
      "text/plain": [
       "<IPython.core.display.HTML object>"
      ]
     },
     "metadata": {},
     "output_type": "display_data"
    },
    {
     "name": "stdout",
     "output_type": "stream",
     "text": [
      "\n",
      "*** Feature extraction finished ***\n",
      "*** Feature extraction started ***\n",
      "60\n"
     ]
    },
    {
     "data": {
      "text/html": [
       "\n",
       "              <p>\n",
       "                  Progress: 100% Complete\n",
       "              <p/>            \n",
       "              <progress\n",
       "                  value='60'\n",
       "                  max='60',\n",
       "                  style='width: 25%',\n",
       "              >\n",
       "                  60\n",
       "              </progress>\n",
       "\n",
       "    "
      ],
      "text/plain": [
       "<IPython.core.display.HTML object>"
      ]
     },
     "metadata": {},
     "output_type": "display_data"
    },
    {
     "name": "stdout",
     "output_type": "stream",
     "text": [
      "\n",
      "*** Feature extraction finished ***\n",
      "*** Feature extraction started ***\n",
      "60\n"
     ]
    },
    {
     "data": {
      "text/html": [
       "\n",
       "              <p>\n",
       "                  Progress: 100% Complete\n",
       "              <p/>            \n",
       "              <progress\n",
       "                  value='60'\n",
       "                  max='60',\n",
       "                  style='width: 25%',\n",
       "              >\n",
       "                  60\n",
       "              </progress>\n",
       "\n",
       "    "
      ],
      "text/plain": [
       "<IPython.core.display.HTML object>"
      ]
     },
     "metadata": {},
     "output_type": "display_data"
    },
    {
     "name": "stdout",
     "output_type": "stream",
     "text": [
      "\n",
      "*** Feature extraction finished ***\n",
      "*** Feature extraction started ***\n",
      "60\n"
     ]
    },
    {
     "data": {
      "text/html": [
       "\n",
       "              <p>\n",
       "                  Progress: 100% Complete\n",
       "              <p/>            \n",
       "              <progress\n",
       "                  value='60'\n",
       "                  max='60',\n",
       "                  style='width: 25%',\n",
       "              >\n",
       "                  60\n",
       "              </progress>\n",
       "\n",
       "    "
      ],
      "text/plain": [
       "<IPython.core.display.HTML object>"
      ]
     },
     "metadata": {},
     "output_type": "display_data"
    },
    {
     "name": "stdout",
     "output_type": "stream",
     "text": [
      "\n",
      "*** Feature extraction finished ***\n",
      "*** Feature extraction started ***\n",
      "60\n"
     ]
    },
    {
     "data": {
      "text/html": [
       "\n",
       "              <p>\n",
       "                  Progress: 100% Complete\n",
       "              <p/>            \n",
       "              <progress\n",
       "                  value='60'\n",
       "                  max='60',\n",
       "                  style='width: 25%',\n",
       "              >\n",
       "                  60\n",
       "              </progress>\n",
       "\n",
       "    "
      ],
      "text/plain": [
       "<IPython.core.display.HTML object>"
      ]
     },
     "metadata": {},
     "output_type": "display_data"
    },
    {
     "name": "stdout",
     "output_type": "stream",
     "text": [
      "\n",
      "*** Feature extraction finished ***\n",
      "*** Feature extraction started ***\n",
      "60\n"
     ]
    },
    {
     "data": {
      "text/html": [
       "\n",
       "              <p>\n",
       "                  Progress: 100% Complete\n",
       "              <p/>            \n",
       "              <progress\n",
       "                  value='60'\n",
       "                  max='60',\n",
       "                  style='width: 25%',\n",
       "              >\n",
       "                  60\n",
       "              </progress>\n",
       "\n",
       "    "
      ],
      "text/plain": [
       "<IPython.core.display.HTML object>"
      ]
     },
     "metadata": {},
     "output_type": "display_data"
    },
    {
     "name": "stdout",
     "output_type": "stream",
     "text": [
      "\n",
      "*** Feature extraction finished ***\n",
      "*** Feature extraction started ***\n",
      "60\n"
     ]
    },
    {
     "data": {
      "text/html": [
       "\n",
       "              <p>\n",
       "                  Progress: 100% Complete\n",
       "              <p/>            \n",
       "              <progress\n",
       "                  value='60'\n",
       "                  max='60',\n",
       "                  style='width: 25%',\n",
       "              >\n",
       "                  60\n",
       "              </progress>\n",
       "\n",
       "    "
      ],
      "text/plain": [
       "<IPython.core.display.HTML object>"
      ]
     },
     "metadata": {},
     "output_type": "display_data"
    },
    {
     "name": "stdout",
     "output_type": "stream",
     "text": [
      "\n",
      "*** Feature extraction finished ***\n",
      "*** Feature extraction started ***\n",
      "60\n"
     ]
    },
    {
     "data": {
      "text/html": [
       "\n",
       "              <p>\n",
       "                  Progress: 100% Complete\n",
       "              <p/>            \n",
       "              <progress\n",
       "                  value='60'\n",
       "                  max='60',\n",
       "                  style='width: 25%',\n",
       "              >\n",
       "                  60\n",
       "              </progress>\n",
       "\n",
       "    "
      ],
      "text/plain": [
       "<IPython.core.display.HTML object>"
      ]
     },
     "metadata": {},
     "output_type": "display_data"
    },
    {
     "name": "stdout",
     "output_type": "stream",
     "text": [
      "\n",
      "*** Feature extraction finished ***\n",
      "*** Feature extraction started ***\n",
      "60\n"
     ]
    },
    {
     "data": {
      "text/html": [
       "\n",
       "              <p>\n",
       "                  Progress: 100% Complete\n",
       "              <p/>            \n",
       "              <progress\n",
       "                  value='60'\n",
       "                  max='60',\n",
       "                  style='width: 25%',\n",
       "              >\n",
       "                  60\n",
       "              </progress>\n",
       "\n",
       "    "
      ],
      "text/plain": [
       "<IPython.core.display.HTML object>"
      ]
     },
     "metadata": {},
     "output_type": "display_data"
    },
    {
     "name": "stdout",
     "output_type": "stream",
     "text": [
      "\n",
      "*** Feature extraction finished ***\n",
      "*** Feature extraction started ***\n",
      "60\n"
     ]
    },
    {
     "data": {
      "text/html": [
       "\n",
       "              <p>\n",
       "                  Progress: 100% Complete\n",
       "              <p/>            \n",
       "              <progress\n",
       "                  value='60'\n",
       "                  max='60',\n",
       "                  style='width: 25%',\n",
       "              >\n",
       "                  60\n",
       "              </progress>\n",
       "\n",
       "    "
      ],
      "text/plain": [
       "<IPython.core.display.HTML object>"
      ]
     },
     "metadata": {},
     "output_type": "display_data"
    },
    {
     "name": "stdout",
     "output_type": "stream",
     "text": [
      "\n",
      "*** Feature extraction finished ***\n",
      "*** Feature extraction started ***\n",
      "60\n"
     ]
    },
    {
     "data": {
      "text/html": [
       "\n",
       "              <p>\n",
       "                  Progress: 100% Complete\n",
       "              <p/>            \n",
       "              <progress\n",
       "                  value='60'\n",
       "                  max='60',\n",
       "                  style='width: 25%',\n",
       "              >\n",
       "                  60\n",
       "              </progress>\n",
       "\n",
       "    "
      ],
      "text/plain": [
       "<IPython.core.display.HTML object>"
      ]
     },
     "metadata": {},
     "output_type": "display_data"
    },
    {
     "name": "stdout",
     "output_type": "stream",
     "text": [
      "\n",
      "*** Feature extraction finished ***\n",
      "*** Feature extraction started ***\n",
      "60\n"
     ]
    },
    {
     "data": {
      "text/html": [
       "\n",
       "              <p>\n",
       "                  Progress: 100% Complete\n",
       "              <p/>            \n",
       "              <progress\n",
       "                  value='60'\n",
       "                  max='60',\n",
       "                  style='width: 25%',\n",
       "              >\n",
       "                  60\n",
       "              </progress>\n",
       "\n",
       "    "
      ],
      "text/plain": [
       "<IPython.core.display.HTML object>"
      ]
     },
     "metadata": {},
     "output_type": "display_data"
    },
    {
     "name": "stdout",
     "output_type": "stream",
     "text": [
      "\n",
      "*** Feature extraction finished ***\n",
      "*** Feature extraction started ***\n",
      "60\n"
     ]
    },
    {
     "data": {
      "text/html": [
       "\n",
       "              <p>\n",
       "                  Progress: 100% Complete\n",
       "              <p/>            \n",
       "              <progress\n",
       "                  value='60'\n",
       "                  max='60',\n",
       "                  style='width: 25%',\n",
       "              >\n",
       "                  60\n",
       "              </progress>\n",
       "\n",
       "    "
      ],
      "text/plain": [
       "<IPython.core.display.HTML object>"
      ]
     },
     "metadata": {},
     "output_type": "display_data"
    },
    {
     "name": "stdout",
     "output_type": "stream",
     "text": [
      "\n",
      "*** Feature extraction finished ***\n",
      "*** Feature extraction started ***\n",
      "60\n"
     ]
    },
    {
     "data": {
      "text/html": [
       "\n",
       "              <p>\n",
       "                  Progress: 100% Complete\n",
       "              <p/>            \n",
       "              <progress\n",
       "                  value='60'\n",
       "                  max='60',\n",
       "                  style='width: 25%',\n",
       "              >\n",
       "                  60\n",
       "              </progress>\n",
       "\n",
       "    "
      ],
      "text/plain": [
       "<IPython.core.display.HTML object>"
      ]
     },
     "metadata": {},
     "output_type": "display_data"
    },
    {
     "name": "stdout",
     "output_type": "stream",
     "text": [
      "\n",
      "*** Feature extraction finished ***\n",
      "*** Feature extraction started ***\n",
      "60\n"
     ]
    },
    {
     "data": {
      "text/html": [
       "\n",
       "              <p>\n",
       "                  Progress: 100% Complete\n",
       "              <p/>            \n",
       "              <progress\n",
       "                  value='60'\n",
       "                  max='60',\n",
       "                  style='width: 25%',\n",
       "              >\n",
       "                  60\n",
       "              </progress>\n",
       "\n",
       "    "
      ],
      "text/plain": [
       "<IPython.core.display.HTML object>"
      ]
     },
     "metadata": {},
     "output_type": "display_data"
    },
    {
     "name": "stdout",
     "output_type": "stream",
     "text": [
      "\n",
      "*** Feature extraction finished ***\n",
      "*** Feature extraction started ***\n",
      "60\n"
     ]
    },
    {
     "data": {
      "text/html": [
       "\n",
       "              <p>\n",
       "                  Progress: 100% Complete\n",
       "              <p/>            \n",
       "              <progress\n",
       "                  value='60'\n",
       "                  max='60',\n",
       "                  style='width: 25%',\n",
       "              >\n",
       "                  60\n",
       "              </progress>\n",
       "\n",
       "    "
      ],
      "text/plain": [
       "<IPython.core.display.HTML object>"
      ]
     },
     "metadata": {},
     "output_type": "display_data"
    },
    {
     "name": "stdout",
     "output_type": "stream",
     "text": [
      "\n",
      "*** Feature extraction finished ***\n",
      "*** Feature extraction started ***\n",
      "60\n"
     ]
    },
    {
     "data": {
      "text/html": [
       "\n",
       "              <p>\n",
       "                  Progress: 100% Complete\n",
       "              <p/>            \n",
       "              <progress\n",
       "                  value='60'\n",
       "                  max='60',\n",
       "                  style='width: 25%',\n",
       "              >\n",
       "                  60\n",
       "              </progress>\n",
       "\n",
       "    "
      ],
      "text/plain": [
       "<IPython.core.display.HTML object>"
      ]
     },
     "metadata": {},
     "output_type": "display_data"
    },
    {
     "name": "stdout",
     "output_type": "stream",
     "text": [
      "\n",
      "*** Feature extraction finished ***\n",
      "*** Feature extraction started ***\n",
      "60\n"
     ]
    },
    {
     "data": {
      "text/html": [
       "\n",
       "              <p>\n",
       "                  Progress: 100% Complete\n",
       "              <p/>            \n",
       "              <progress\n",
       "                  value='60'\n",
       "                  max='60',\n",
       "                  style='width: 25%',\n",
       "              >\n",
       "                  60\n",
       "              </progress>\n",
       "\n",
       "    "
      ],
      "text/plain": [
       "<IPython.core.display.HTML object>"
      ]
     },
     "metadata": {},
     "output_type": "display_data"
    },
    {
     "name": "stdout",
     "output_type": "stream",
     "text": [
      "\n",
      "*** Feature extraction finished ***\n",
      "*** Feature extraction started ***\n",
      "60\n"
     ]
    },
    {
     "data": {
      "text/html": [
       "\n",
       "              <p>\n",
       "                  Progress: 100% Complete\n",
       "              <p/>            \n",
       "              <progress\n",
       "                  value='60'\n",
       "                  max='60',\n",
       "                  style='width: 25%',\n",
       "              >\n",
       "                  60\n",
       "              </progress>\n",
       "\n",
       "    "
      ],
      "text/plain": [
       "<IPython.core.display.HTML object>"
      ]
     },
     "metadata": {},
     "output_type": "display_data"
    },
    {
     "name": "stdout",
     "output_type": "stream",
     "text": [
      "\n",
      "*** Feature extraction finished ***\n",
      "*** Feature extraction started ***\n",
      "60\n"
     ]
    },
    {
     "data": {
      "text/html": [
       "\n",
       "              <p>\n",
       "                  Progress: 100% Complete\n",
       "              <p/>            \n",
       "              <progress\n",
       "                  value='60'\n",
       "                  max='60',\n",
       "                  style='width: 25%',\n",
       "              >\n",
       "                  60\n",
       "              </progress>\n",
       "\n",
       "    "
      ],
      "text/plain": [
       "<IPython.core.display.HTML object>"
      ]
     },
     "metadata": {},
     "output_type": "display_data"
    },
    {
     "name": "stdout",
     "output_type": "stream",
     "text": [
      "\n",
      "*** Feature extraction finished ***\n",
      "*** Feature extraction started ***\n",
      "60\n"
     ]
    },
    {
     "data": {
      "text/html": [
       "\n",
       "              <p>\n",
       "                  Progress: 100% Complete\n",
       "              <p/>            \n",
       "              <progress\n",
       "                  value='60'\n",
       "                  max='60',\n",
       "                  style='width: 25%',\n",
       "              >\n",
       "                  60\n",
       "              </progress>\n",
       "\n",
       "    "
      ],
      "text/plain": [
       "<IPython.core.display.HTML object>"
      ]
     },
     "metadata": {},
     "output_type": "display_data"
    },
    {
     "name": "stdout",
     "output_type": "stream",
     "text": [
      "\n",
      "*** Feature extraction finished ***\n",
      "*** Feature extraction started ***\n",
      "60\n"
     ]
    },
    {
     "data": {
      "text/html": [
       "\n",
       "              <p>\n",
       "                  Progress: 100% Complete\n",
       "              <p/>            \n",
       "              <progress\n",
       "                  value='60'\n",
       "                  max='60',\n",
       "                  style='width: 25%',\n",
       "              >\n",
       "                  60\n",
       "              </progress>\n",
       "\n",
       "    "
      ],
      "text/plain": [
       "<IPython.core.display.HTML object>"
      ]
     },
     "metadata": {},
     "output_type": "display_data"
    },
    {
     "name": "stdout",
     "output_type": "stream",
     "text": [
      "\n",
      "*** Feature extraction finished ***\n",
      "*** Feature extraction started ***\n",
      "60\n"
     ]
    },
    {
     "data": {
      "text/html": [
       "\n",
       "              <p>\n",
       "                  Progress: 100% Complete\n",
       "              <p/>            \n",
       "              <progress\n",
       "                  value='60'\n",
       "                  max='60',\n",
       "                  style='width: 25%',\n",
       "              >\n",
       "                  60\n",
       "              </progress>\n",
       "\n",
       "    "
      ],
      "text/plain": [
       "<IPython.core.display.HTML object>"
      ]
     },
     "metadata": {},
     "output_type": "display_data"
    },
    {
     "name": "stdout",
     "output_type": "stream",
     "text": [
      "\n",
      "*** Feature extraction finished ***\n",
      "*** Feature extraction started ***\n",
      "60\n"
     ]
    },
    {
     "data": {
      "text/html": [
       "\n",
       "              <p>\n",
       "                  Progress: 100% Complete\n",
       "              <p/>            \n",
       "              <progress\n",
       "                  value='60'\n",
       "                  max='60',\n",
       "                  style='width: 25%',\n",
       "              >\n",
       "                  60\n",
       "              </progress>\n",
       "\n",
       "    "
      ],
      "text/plain": [
       "<IPython.core.display.HTML object>"
      ]
     },
     "metadata": {},
     "output_type": "display_data"
    },
    {
     "name": "stdout",
     "output_type": "stream",
     "text": [
      "\n",
      "*** Feature extraction finished ***\n",
      "*** Feature extraction started ***\n",
      "60\n"
     ]
    },
    {
     "data": {
      "text/html": [
       "\n",
       "              <p>\n",
       "                  Progress: 100% Complete\n",
       "              <p/>            \n",
       "              <progress\n",
       "                  value='60'\n",
       "                  max='60',\n",
       "                  style='width: 25%',\n",
       "              >\n",
       "                  60\n",
       "              </progress>\n",
       "\n",
       "    "
      ],
      "text/plain": [
       "<IPython.core.display.HTML object>"
      ]
     },
     "metadata": {},
     "output_type": "display_data"
    },
    {
     "name": "stdout",
     "output_type": "stream",
     "text": [
      "\n",
      "*** Feature extraction finished ***\n",
      "*** Feature extraction started ***\n",
      "60\n"
     ]
    },
    {
     "data": {
      "text/html": [
       "\n",
       "              <p>\n",
       "                  Progress: 100% Complete\n",
       "              <p/>            \n",
       "              <progress\n",
       "                  value='60'\n",
       "                  max='60',\n",
       "                  style='width: 25%',\n",
       "              >\n",
       "                  60\n",
       "              </progress>\n",
       "\n",
       "    "
      ],
      "text/plain": [
       "<IPython.core.display.HTML object>"
      ]
     },
     "metadata": {},
     "output_type": "display_data"
    },
    {
     "name": "stdout",
     "output_type": "stream",
     "text": [
      "\n",
      "*** Feature extraction finished ***\n",
      "*** Feature extraction started ***\n",
      "60\n"
     ]
    },
    {
     "data": {
      "text/html": [
       "\n",
       "              <p>\n",
       "                  Progress: 100% Complete\n",
       "              <p/>            \n",
       "              <progress\n",
       "                  value='60'\n",
       "                  max='60',\n",
       "                  style='width: 25%',\n",
       "              >\n",
       "                  60\n",
       "              </progress>\n",
       "\n",
       "    "
      ],
      "text/plain": [
       "<IPython.core.display.HTML object>"
      ]
     },
     "metadata": {},
     "output_type": "display_data"
    },
    {
     "name": "stdout",
     "output_type": "stream",
     "text": [
      "\n",
      "*** Feature extraction finished ***\n",
      "*** Feature extraction started ***\n",
      "60\n"
     ]
    },
    {
     "data": {
      "text/html": [
       "\n",
       "              <p>\n",
       "                  Progress: 100% Complete\n",
       "              <p/>            \n",
       "              <progress\n",
       "                  value='60'\n",
       "                  max='60',\n",
       "                  style='width: 25%',\n",
       "              >\n",
       "                  60\n",
       "              </progress>\n",
       "\n",
       "    "
      ],
      "text/plain": [
       "<IPython.core.display.HTML object>"
      ]
     },
     "metadata": {},
     "output_type": "display_data"
    },
    {
     "name": "stdout",
     "output_type": "stream",
     "text": [
      "\n",
      "*** Feature extraction finished ***\n",
      "*** Feature extraction started ***\n",
      "60\n"
     ]
    },
    {
     "data": {
      "text/html": [
       "\n",
       "              <p>\n",
       "                  Progress: 100% Complete\n",
       "              <p/>            \n",
       "              <progress\n",
       "                  value='60'\n",
       "                  max='60',\n",
       "                  style='width: 25%',\n",
       "              >\n",
       "                  60\n",
       "              </progress>\n",
       "\n",
       "    "
      ],
      "text/plain": [
       "<IPython.core.display.HTML object>"
      ]
     },
     "metadata": {},
     "output_type": "display_data"
    },
    {
     "name": "stdout",
     "output_type": "stream",
     "text": [
      "\n",
      "*** Feature extraction finished ***\n",
      "*** Feature extraction started ***\n",
      "60\n"
     ]
    },
    {
     "data": {
      "text/html": [
       "\n",
       "              <p>\n",
       "                  Progress: 100% Complete\n",
       "              <p/>            \n",
       "              <progress\n",
       "                  value='60'\n",
       "                  max='60',\n",
       "                  style='width: 25%',\n",
       "              >\n",
       "                  60\n",
       "              </progress>\n",
       "\n",
       "    "
      ],
      "text/plain": [
       "<IPython.core.display.HTML object>"
      ]
     },
     "metadata": {},
     "output_type": "display_data"
    },
    {
     "name": "stdout",
     "output_type": "stream",
     "text": [
      "\n",
      "*** Feature extraction finished ***\n"
     ]
    },
    {
     "name": "stderr",
     "output_type": "stream",
     "text": [
      "Feature Extraction: 100%|█████████████████████████████████████████████████████████████████| 1/1 [00:00<00:00, 13.50it/s]\n",
      "Feature Extraction: 100%|█████████████████████████████████████████████████████████████████| 1/1 [00:00<00:00, 10.23it/s]\n",
      "Feature Extraction: 100%|█████████████████████████████████████████████████████████████████| 1/1 [00:00<00:00, 11.72it/s]\n",
      "Feature Extraction: 100%|█████████████████████████████████████████████████████████████████| 1/1 [00:00<00:00, 12.38it/s]\n",
      "Feature Extraction: 100%|█████████████████████████████████████████████████████████████████| 1/1 [00:00<00:00, 12.53it/s]\n",
      "Feature Extraction: 100%|█████████████████████████████████████████████████████████████████| 1/1 [00:00<00:00, 12.76it/s]\n",
      "Feature Extraction: 100%|█████████████████████████████████████████████████████████████████| 1/1 [00:00<00:00, 12.43it/s]\n",
      "Feature Extraction: 100%|█████████████████████████████████████████████████████████████████| 1/1 [00:00<00:00, 13.15it/s]\n",
      "Feature Extraction: 100%|█████████████████████████████████████████████████████████████████| 1/1 [00:00<00:00, 12.30it/s]\n",
      "Feature Extraction: 100%|█████████████████████████████████████████████████████████████████| 1/1 [00:00<00:00, 13.43it/s]\n",
      "Feature Extraction: 100%|█████████████████████████████████████████████████████████████████| 1/1 [00:00<00:00,  7.81it/s]\n",
      "Feature Extraction: 100%|█████████████████████████████████████████████████████████████████| 1/1 [00:00<00:00,  8.09it/s]\n",
      "Feature Extraction: 100%|█████████████████████████████████████████████████████████████████| 1/1 [00:00<00:00,  7.79it/s]\n",
      "Feature Extraction: 100%|█████████████████████████████████████████████████████████████████| 1/1 [00:00<00:00,  7.68it/s]\n",
      "Feature Extraction: 100%|█████████████████████████████████████████████████████████████████| 1/1 [00:00<00:00,  8.07it/s]\n",
      "Feature Extraction: 100%|█████████████████████████████████████████████████████████████████| 1/1 [00:00<00:00,  8.26it/s]\n",
      "Feature Extraction: 100%|█████████████████████████████████████████████████████████████████| 1/1 [00:00<00:00,  8.39it/s]\n",
      "Feature Extraction: 100%|█████████████████████████████████████████████████████████████████| 1/1 [00:00<00:00,  8.64it/s]\n",
      "Feature Extraction: 100%|█████████████████████████████████████████████████████████████████| 1/1 [00:00<00:00,  7.74it/s]\n",
      "Feature Extraction: 100%|█████████████████████████████████████████████████████████████████| 1/1 [00:00<00:00,  8.20it/s]\n",
      "Feature Extraction: 100%|█████████████████████████████████████████████████████████████████| 1/1 [00:00<00:00,  3.19it/s]\n",
      "Feature Extraction: 100%|█████████████████████████████████████████████████████████████████| 1/1 [00:00<00:00,  3.22it/s]\n",
      "Feature Extraction: 100%|█████████████████████████████████████████████████████████████████| 1/1 [00:00<00:00,  2.83it/s]\n",
      "Feature Extraction: 100%|█████████████████████████████████████████████████████████████████| 1/1 [00:00<00:00,  2.85it/s]\n",
      "Feature Extraction: 100%|█████████████████████████████████████████████████████████████████| 1/1 [00:00<00:00,  3.26it/s]\n",
      "Feature Extraction: 100%|█████████████████████████████████████████████████████████████████| 1/1 [00:00<00:00,  3.26it/s]\n",
      "Feature Extraction: 100%|█████████████████████████████████████████████████████████████████| 1/1 [00:00<00:00,  3.28it/s]\n",
      "Feature Extraction: 100%|█████████████████████████████████████████████████████████████████| 1/1 [00:00<00:00,  3.29it/s]\n",
      "Feature Extraction: 100%|█████████████████████████████████████████████████████████████████| 1/1 [00:00<00:00,  3.03it/s]\n",
      "Feature Extraction: 100%|█████████████████████████████████████████████████████████████████| 1/1 [00:00<00:00,  3.20it/s]\n",
      "Feature Extraction: 100%|█████████████████████████████████████████████████████████████████| 1/1 [00:00<00:00,  1.62it/s]\n",
      "Feature Extraction: 100%|█████████████████████████████████████████████████████████████████| 1/1 [00:00<00:00,  1.71it/s]\n",
      "Feature Extraction: 100%|█████████████████████████████████████████████████████████████████| 1/1 [00:00<00:00,  1.86it/s]\n",
      "Feature Extraction: 100%|█████████████████████████████████████████████████████████████████| 1/1 [00:00<00:00,  1.77it/s]\n",
      "Feature Extraction: 100%|█████████████████████████████████████████████████████████████████| 1/1 [00:00<00:00,  1.68it/s]\n",
      "Feature Extraction: 100%|█████████████████████████████████████████████████████████████████| 1/1 [00:00<00:00,  1.60it/s]\n",
      "Feature Extraction: 100%|█████████████████████████████████████████████████████████████████| 1/1 [00:00<00:00,  1.59it/s]\n",
      "Feature Extraction: 100%|█████████████████████████████████████████████████████████████████| 1/1 [00:00<00:00,  1.66it/s]\n",
      "Feature Extraction: 100%|█████████████████████████████████████████████████████████████████| 1/1 [00:00<00:00,  1.73it/s]\n",
      "Feature Extraction: 100%|█████████████████████████████████████████████████████████████████| 1/1 [00:00<00:00,  1.68it/s]\n",
      "Feature Extraction: 100%|█████████████████████████████████████████████████████████████████| 1/1 [00:01<00:00,  1.02s/it]\n",
      "Feature Extraction: 100%|█████████████████████████████████████████████████████████████████| 1/1 [00:01<00:00,  1.13s/it]\n",
      "Feature Extraction: 100%|█████████████████████████████████████████████████████████████████| 1/1 [00:01<00:00,  1.12s/it]\n",
      "Feature Extraction: 100%|█████████████████████████████████████████████████████████████████| 1/1 [00:01<00:00,  1.21s/it]\n",
      "Feature Extraction: 100%|█████████████████████████████████████████████████████████████████| 1/1 [00:01<00:00,  1.12s/it]\n",
      "Feature Extraction: 100%|█████████████████████████████████████████████████████████████████| 1/1 [00:01<00:00,  1.08s/it]\n",
      "Feature Extraction: 100%|█████████████████████████████████████████████████████████████████| 1/1 [00:01<00:00,  1.02s/it]\n",
      "Feature Extraction: 100%|█████████████████████████████████████████████████████████████████| 1/1 [00:00<00:00,  1.07it/s]\n",
      "Feature Extraction: 100%|█████████████████████████████████████████████████████████████████| 1/1 [00:01<00:00,  1.08s/it]\n",
      "Feature Extraction: 100%|█████████████████████████████████████████████████████████████████| 1/1 [00:01<00:00,  1.33s/it]\n"
     ]
    }
   ],
   "source": [
    "catch22Time    = measureTime(Catch22.calcFeats)\n",
    "katsTime       = measureTime(Kats.calcFeats)\n",
    "tsfeaturesTime = measureTime(TSFeatures.calcFeats)\n",
    "tsfelTime      = measureTime(TSFel.calcFeats)\n",
    "tsfreshTime    = measureTime(TSFresh.calcFeats)\n",
    "\n",
    "measurments = [catch22Time,\n",
    "               katsTime,\n",
    "               tsfeaturesTime,\n",
    "               tsfelTime,\n",
    "               tsfreshTime]"
   ]
  },
  {
   "cell_type": "markdown",
   "metadata": {},
   "source": [
    "### Plotting"
   ]
  },
  {
   "cell_type": "code",
   "execution_count": 23,
   "metadata": {},
   "outputs": [
    {
     "data": {
      "image/png": "[encoded data removed]",
      "text/plain": [
       "<Figure size 640x480 with 1 Axes>"
      ]
     },
     "metadata": {},
     "output_type": "display_data"
    }
   ],
   "source": [
    "lw = 2.5\n",
    "colorsXsets = [('catch22', 'firebrick'),\n",
    "               ('kats', 'darkorange'),\n",
    "               ('tsfeatures', 'gold'),\n",
    "               ('tsfel', 'forestgreen'),\n",
    "               ('tsfresh', 'navy')]\n",
    "\n",
    "for y, i in zip(measurments, colorsXsets):\n",
    "    ax = sns.lineplot(x = timeSeriesLength, y = y, color=i[1], label=i[0], linewidth=lw)\n",
    "    \n",
    "ax.set(xlabel='Time series length', ylabel='Computation time (s)')\n",
    "\n",
    "# Shrink current axis by 20%\n",
    "box = ax.get_position()\n",
    "ax.set_position([box.x0, box.y0, box.width * 0.8, box.height])\n",
    "ax.set_yscale('log')\n",
    "ax.set_xscale('log')\n",
    "\n",
    "# Put a legend to the right of the current axis\n",
    "ax.legend(loc='center left', bbox_to_anchor=(1, 0.5))\n",
    "\n",
    "plt.title('Computation time by length of time series')\n",
    "plt.show()"
   ]
  },
  {
   "cell_type": "markdown",
   "metadata": {},
   "source": [
    "--------------------------------------"
   ]
  },
  {
   "cell_type": "markdown",
   "metadata": {},
   "source": [
    "### COMPUTATION TIME PER FEATURE BY SERIES LENGTH"
   ]
  },
  {
   "cell_type": "code",
   "execution_count": 24,
   "metadata": {},
   "outputs": [
    {
     "data": {
      "image/png": "[encoded data removed]",
      "text/plain": [
       "<Figure size 640x480 with 1 Axes>"
      ]
     },
     "metadata": {},
     "output_type": "display_data"
    }
   ],
   "source": [
    "lw = 2.5\n",
    "colorsXsets = [('catch22', 'firebrick'),\n",
    "               ('kats', 'darkorange'),\n",
    "               ('tsfeatures', 'gold'),\n",
    "               ('tsfel', 'forestgreen'),\n",
    "               ('tsfresh', 'navy')]\n",
    "\n",
    "for i in range(len(measurments)):\n",
    "    ax = sns.lineplot(x = timeSeriesLength, y = np.array( measurments[i]) / nbrFeats[i],\n",
    "                      color=colorsXsets[i][1], label=colorsXsets[i][0], linewidth=lw)\n",
    "    \n",
    "ax.set(xlabel='Time series length', ylabel='Computation time per feature (s)')\n",
    "\n",
    "# Shrink current axis by 20%\n",
    "box = ax.get_position()\n",
    "ax.set_position([box.x0, box.y0, box.width * 0.8, box.height])\n",
    "ax.set_yscale('log')\n",
    "ax.set_xscale('log')\n",
    "\n",
    "# Put a legend to the right of the current axis\n",
    "ax.legend(loc='center left', bbox_to_anchor=(1, 0.5))\n",
    "\n",
    "plt.title('Computation time per feature by length of time series')\n",
    "plt.show()"
   ]
  }
 ],
 "metadata": {
  "kernelspec": {
   "display_name": "Python 3 (ipykernel)",
   "language": "python",
   "name": "python3"
  },
  "language_info": {
   "codemirror_mode": {
    "name": "ipython",
    "version": 3
   },
   "file_extension": ".py",
   "mimetype": "text/x-python",
   "name": "python",
   "nbconvert_exporter": "python",
   "pygments_lexer": "ipython3",
   "version": "3.8.10"
  }
 },
 "nbformat": 4,
 "nbformat_minor": 4
}
