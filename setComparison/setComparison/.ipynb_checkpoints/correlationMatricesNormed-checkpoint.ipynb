{
 "cells": [
  {
   "cell_type": "markdown",
   "metadata": {},
   "source": [
    "### Import libraries"
   ]
  },
  {
   "cell_type": "code",
   "execution_count": 1,
   "metadata": {},
   "outputs": [],
   "source": [
    "import numpy as np\n",
    "import pandas as pd\n",
    "#import statistics\n",
    "#import time\n",
    "#import glob\n",
    "#import os\n",
    "import feather\n",
    "import scipy.stats as stats\n",
    "import itertools"
   ]
  },
  {
   "cell_type": "code",
   "execution_count": 2,
   "metadata": {},
   "outputs": [
    {
     "name": "stderr",
     "output_type": "stream",
     "text": [
      "WARNING:root:kats.utils.time_series_parameter_tuning requires ax-platform be installed\n",
      "WARNING:root:kats.models.metalearner.get_metadata requires ax-platform be installed\n"
     ]
    }
   ],
   "source": [
    "from utilityFuncs import get_problematic_features"
   ]
  },
  {
   "cell_type": "markdown",
   "metadata": {},
   "source": [
    "--------------------------------------"
   ]
  },
  {
   "cell_type": "markdown",
   "metadata": {},
   "source": [
    "### Load calculated features"
   ]
  },
  {
   "cell_type": "code",
   "execution_count": 3,
   "metadata": {
    "scrolled": true
   },
   "outputs": [
    {
     "data": {
      "text/html": [
       "<div>\n",
       "<style scoped>\n",
       "    .dataframe tbody tr th:only-of-type {\n",
       "        vertical-align: middle;\n",
       "    }\n",
       "\n",
       "    .dataframe tbody tr th {\n",
       "        vertical-align: top;\n",
       "    }\n",
       "\n",
       "    .dataframe thead th {\n",
       "        text-align: right;\n",
       "    }\n",
       "</style>\n",
       "<table border=\"1\" class=\"dataframe\">\n",
       "  <thead>\n",
       "    <tr style=\"text-align: right;\">\n",
       "      <th></th>\n",
       "      <th>id</th>\n",
       "      <th>group</th>\n",
       "      <th>names</th>\n",
       "      <th>values</th>\n",
       "      <th>method</th>\n",
       "    </tr>\n",
       "  </thead>\n",
       "  <tbody>\n",
       "    <tr>\n",
       "      <th>0</th>\n",
       "      <td>1</td>\n",
       "      <td>airq</td>\n",
       "      <td>SP_Summaries_welch_rect_centroid</td>\n",
       "      <td>0.042951</td>\n",
       "      <td>catch22</td>\n",
       "    </tr>\n",
       "    <tr>\n",
       "      <th>1</th>\n",
       "      <td>2</td>\n",
       "      <td>airq</td>\n",
       "      <td>SP_Summaries_welch_rect_centroid</td>\n",
       "      <td>0.042951</td>\n",
       "      <td>catch22</td>\n",
       "    </tr>\n",
       "    <tr>\n",
       "      <th>2</th>\n",
       "      <td>3</td>\n",
       "      <td>airq</td>\n",
       "      <td>SP_Summaries_welch_rect_centroid</td>\n",
       "      <td>0.042951</td>\n",
       "      <td>catch22</td>\n",
       "    </tr>\n",
       "    <tr>\n",
       "      <th>3</th>\n",
       "      <td>4</td>\n",
       "      <td>airq</td>\n",
       "      <td>SP_Summaries_welch_rect_centroid</td>\n",
       "      <td>0.042951</td>\n",
       "      <td>catch22</td>\n",
       "    </tr>\n",
       "    <tr>\n",
       "      <th>4</th>\n",
       "      <td>5</td>\n",
       "      <td>airq</td>\n",
       "      <td>SP_Summaries_welch_rect_centroid</td>\n",
       "      <td>0.042951</td>\n",
       "      <td>catch22</td>\n",
       "    </tr>\n",
       "    <tr>\n",
       "      <th>...</th>\n",
       "      <td>...</td>\n",
       "      <td>...</td>\n",
       "      <td>...</td>\n",
       "      <td>...</td>\n",
       "      <td>...</td>\n",
       "    </tr>\n",
       "    <tr>\n",
       "      <th>766471</th>\n",
       "      <td>604</td>\n",
       "      <td>synthetic, 1M</td>\n",
       "      <td>beta</td>\n",
       "      <td>0.276522</td>\n",
       "      <td>tsfeatures</td>\n",
       "    </tr>\n",
       "    <tr>\n",
       "      <th>766472</th>\n",
       "      <td>604</td>\n",
       "      <td>synthetic, 1M</td>\n",
       "      <td>arch_r2</td>\n",
       "      <td>0.010751</td>\n",
       "      <td>tsfeatures</td>\n",
       "    </tr>\n",
       "    <tr>\n",
       "      <th>766473</th>\n",
       "      <td>604</td>\n",
       "      <td>synthetic, 1M</td>\n",
       "      <td>arch_lm</td>\n",
       "      <td>0.814753</td>\n",
       "      <td>tsfeatures</td>\n",
       "    </tr>\n",
       "    <tr>\n",
       "      <th>766474</th>\n",
       "      <td>604</td>\n",
       "      <td>synthetic, 1M</td>\n",
       "      <td>arch_acf</td>\n",
       "      <td>0.011818</td>\n",
       "      <td>tsfeatures</td>\n",
       "    </tr>\n",
       "    <tr>\n",
       "      <th>766475</th>\n",
       "      <td>604</td>\n",
       "      <td>synthetic, 1M</td>\n",
       "      <td>alpha</td>\n",
       "      <td>0.571412</td>\n",
       "      <td>tsfeatures</td>\n",
       "    </tr>\n",
       "  </tbody>\n",
       "</table>\n",
       "<p>766476 rows × 5 columns</p>\n",
       "</div>"
      ],
      "text/plain": [
       "         id          group                             names    values  \\\n",
       "0         1           airq  SP_Summaries_welch_rect_centroid  0.042951   \n",
       "1         2           airq  SP_Summaries_welch_rect_centroid  0.042951   \n",
       "2         3           airq  SP_Summaries_welch_rect_centroid  0.042951   \n",
       "3         4           airq  SP_Summaries_welch_rect_centroid  0.042951   \n",
       "4         5           airq  SP_Summaries_welch_rect_centroid  0.042951   \n",
       "...     ...            ...                               ...       ...   \n",
       "766471  604  synthetic, 1M                              beta  0.276522   \n",
       "766472  604  synthetic, 1M                           arch_r2  0.010751   \n",
       "766473  604  synthetic, 1M                           arch_lm  0.814753   \n",
       "766474  604  synthetic, 1M                          arch_acf  0.011818   \n",
       "766475  604  synthetic, 1M                             alpha  0.571412   \n",
       "\n",
       "            method  \n",
       "0          catch22  \n",
       "1          catch22  \n",
       "2          catch22  \n",
       "3          catch22  \n",
       "4          catch22  \n",
       "...            ...  \n",
       "766471  tsfeatures  \n",
       "766472  tsfeatures  \n",
       "766473  tsfeatures  \n",
       "766474  tsfeatures  \n",
       "766475  tsfeatures  \n",
       "\n",
       "[766476 rows x 5 columns]"
      ]
     },
     "execution_count": 3,
     "metadata": {},
     "output_type": "execute_result"
    }
   ],
   "source": [
    "fullFeatMat = feather.read_dataframe('data/EmpFeatMat.feather')\n",
    "fullFeatMat"
   ]
  },
  {
   "cell_type": "code",
   "execution_count": 4,
   "metadata": {},
   "outputs": [
    {
     "name": "stdout",
     "output_type": "stream",
     "text": [
      "catch22  =  22\n",
      "kats  =  40\n",
      "tsfel  =  390\n",
      "tsfresh  =  779\n",
      "tsfeatures  =  38\n"
     ]
    }
   ],
   "source": [
    "for i in fullFeatMat['method'].unique():\n",
    "    \n",
    "    df = fullFeatMat[fullFeatMat.method == i]\n",
    "    \n",
    "    print(i, ' = ', len(df['names'].unique()))"
   ]
  },
  {
   "cell_type": "code",
   "execution_count": 5,
   "metadata": {},
   "outputs": [
    {
     "data": {
      "text/plain": [
       "id         0\n",
       "group      0\n",
       "names      0\n",
       "values    78\n",
       "method     0\n",
       "dtype: int64"
      ]
     },
     "execution_count": 5,
     "metadata": {},
     "output_type": "execute_result"
    }
   ],
   "source": [
    "df = fullFeatMat[fullFeatMat.method == 'tsfeatures']\n",
    "# order that shit\n",
    "df[df.names == 'entropy'].isna().sum()"
   ]
  },
  {
   "cell_type": "code",
   "execution_count": 6,
   "metadata": {},
   "outputs": [
    {
     "data": {
      "text/plain": [
       "id        0\n",
       "group     0\n",
       "names     0\n",
       "values    0\n",
       "method    0\n",
       "dtype: int64"
      ]
     },
     "execution_count": 6,
     "metadata": {},
     "output_type": "execute_result"
    }
   ],
   "source": [
    "fullFeatMat[fullFeatMat.method == 'catch22'].isna().sum()"
   ]
  },
  {
   "cell_type": "code",
   "execution_count": 7,
   "metadata": {},
   "outputs": [
    {
     "data": {
      "text/plain": [
       "'values'"
      ]
     },
     "execution_count": 7,
     "metadata": {},
     "output_type": "execute_result"
    }
   ],
   "source": [
    "fullFeatMat.columns.values[3]"
   ]
  },
  {
   "cell_type": "code",
   "execution_count": 8,
   "metadata": {},
   "outputs": [
    {
     "name": "stdout",
     "output_type": "stream",
     "text": [
      "The Column Header : ['id', 'group', 'names', 'values', 'method']\n"
     ]
    }
   ],
   "source": [
    "# Get the list of all column names from headers\n",
    "column_headers = list(fullFeatMat.columns.values)\n",
    "print(\"The Column Header :\", column_headers)"
   ]
  },
  {
   "cell_type": "markdown",
   "metadata": {},
   "source": [
    "--------------------------------------"
   ]
  },
  {
   "cell_type": "markdown",
   "metadata": {},
   "source": [
    "### Some functions"
   ]
  },
  {
   "cell_type": "code",
   "execution_count": 9,
   "metadata": {},
   "outputs": [],
   "source": [
    "# checks if the given columns has more than 90% NaN values\n",
    "\n",
    "def procentNaN(col):\n",
    "    return (col.isna().sum() / 604) > 0.1"
   ]
  },
  {
   "cell_type": "code",
   "execution_count": 10,
   "metadata": {},
   "outputs": [],
   "source": [
    "def myZscore(df):\n",
    "    df['values'] = stats.zscore(df['values'].values, nan_policy='omit')\n",
    "    return df"
   ]
  },
  {
   "cell_type": "code",
   "execution_count": 11,
   "metadata": {},
   "outputs": [],
   "source": [
    "# returns a dataframe with all the features that have not more than 10% NaN's\n",
    "\n",
    "def remove_problematic_features(d):\n",
    "    \n",
    "    goodFeats = {}\n",
    "    \n",
    "    for i in d['method'].unique():\n",
    "        \n",
    "        # the values need to be normed with z-score (grouped by feature name)\n",
    "        methodFrame = d.loc[d['method'] == i].groupby('names').apply(myZscore)\n",
    "        \n",
    "        # rows are time series', columns are features\n",
    "        tmpFrame = pd.pivot_table(methodFrame, index=['id'], columns=['names'])\n",
    "        \n",
    "        # checks if more than 90% are NaN\n",
    "        l = tmpFrame.apply(procentNaN)\n",
    "        \n",
    "        # returns a list with all feature names that have not more than 90% NaN\n",
    "        goodFeatsList = list(list(zip(*l.index[l == False].tolist()))[1])\n",
    "        \n",
    "        # store the names of the good features\n",
    "        goodFeats[i] = goodFeatsList\n",
    "        \n",
    "        \n",
    "    return goodFeats"
   ]
  },
  {
   "cell_type": "code",
   "execution_count": 12,
   "metadata": {},
   "outputs": [
    {
     "name": "stdout",
     "output_type": "stream",
     "text": [
      "catch22 22\n",
      "kats 36\n",
      "tsfel 378\n",
      "tsfresh 744\n",
      "tsfeatures 31\n"
     ]
    }
   ],
   "source": [
    "goodFeats1 = remove_problematic_features(fullFeatMat)\n",
    "\n",
    "for method in goodFeats1:\n",
    "    print(method, len(goodFeats1[method]))"
   ]
  },
  {
   "cell_type": "code",
   "execution_count": 13,
   "metadata": {},
   "outputs": [
    {
     "name": "stdout",
     "output_type": "stream",
     "text": [
      "catch22 22\n",
      "kats 37\n",
      "tsfel 390\n",
      "tsfresh 779\n",
      "tsfeatures 34\n"
     ]
    }
   ],
   "source": [
    "\n",
    "\n",
    "goodFeats2 = get_problematic_features(fullFeatMat)\n",
    "\n",
    "for method in goodFeats2:\n",
    "    print(method, len(goodFeats2[method]))"
   ]
  },
  {
   "cell_type": "code",
   "execution_count": 14,
   "metadata": {},
   "outputs": [
    {
     "data": {
      "text/plain": [
       "array(['id', 'group', 'names', 'values', 'method'], dtype=object)"
      ]
     },
     "execution_count": 14,
     "metadata": {},
     "output_type": "execute_result"
    }
   ],
   "source": [
    "fullFeatMat.columns.values"
   ]
  },
  {
   "cell_type": "code",
   "execution_count": 15,
   "metadata": {},
   "outputs": [
    {
     "data": {
      "text/plain": [
       "['alpha',\n",
       " 'arch_acf',\n",
       " 'arch_lm',\n",
       " 'arch_r2',\n",
       " 'beta',\n",
       " 'crossing_points',\n",
       " 'curvature',\n",
       " 'diff1_acf1',\n",
       " 'diff1_acf10',\n",
       " 'diff1x_pacf5',\n",
       " 'diff2_acf1',\n",
       " 'diff2_acf10',\n",
       " 'diff2x_pacf5',\n",
       " 'e_acf1',\n",
       " 'e_acf10',\n",
       " 'flat_spots',\n",
       " 'garch_acf',\n",
       " 'garch_r2',\n",
       " 'hurst',\n",
       " 'linearity',\n",
       " 'lumpiness',\n",
       " 'nonlinearity',\n",
       " 'spike',\n",
       " 'stability',\n",
       " 'trend',\n",
       " 'unique_id',\n",
       " 'unitroot_kpss',\n",
       " 'unitroot_pp',\n",
       " 'x_acf1',\n",
       " 'x_acf10',\n",
       " 'x_pacf5']"
      ]
     },
     "execution_count": 15,
     "metadata": {},
     "output_type": "execute_result"
    }
   ],
   "source": [
    "goodFeats1['tsfeatures']"
   ]
  },
  {
   "cell_type": "code",
   "execution_count": 17,
   "metadata": {},
   "outputs": [
    {
     "data": {
      "text/plain": [
       "['alpha',\n",
       " 'arch_acf',\n",
       " 'arch_lm',\n",
       " 'arch_r2',\n",
       " 'beta',\n",
       " 'crossing_points',\n",
       " 'curvature',\n",
       " 'diff1_acf1',\n",
       " 'diff1_acf10',\n",
       " 'diff1x_pacf5',\n",
       " 'diff2_acf1',\n",
       " 'diff2_acf10',\n",
       " 'diff2x_pacf5',\n",
       " 'e_acf1',\n",
       " 'e_acf10',\n",
       " 'flat_spots',\n",
       " 'garch_acf',\n",
       " 'garch_r2',\n",
       " 'hurst',\n",
       " 'linearity',\n",
       " 'lumpiness',\n",
       " 'nonlinearity',\n",
       " 'nperiods',\n",
       " 'seasonal_period',\n",
       " 'series_length',\n",
       " 'spike',\n",
       " 'stability',\n",
       " 'trend',\n",
       " 'unique_id',\n",
       " 'unitroot_kpss',\n",
       " 'unitroot_pp',\n",
       " 'x_acf1',\n",
       " 'x_acf10',\n",
       " 'x_pacf5']"
      ]
     },
     "execution_count": 17,
     "metadata": {},
     "output_type": "execute_result"
    }
   ],
   "source": [
    "goodFeats2['tsfeatures']"
   ]
  },
  {
   "cell_type": "markdown",
   "metadata": {},
   "source": [
    "Remove bad features and bad IDs."
   ]
  },
  {
   "cell_type": "code",
   "execution_count": 25,
   "metadata": {},
   "outputs": [],
   "source": [
    "# returns a list with the ID's of all the 'good' time series' and the filtered version of the raw dataset\n",
    "\n",
    "def remove_problematic_datasets(d):\n",
    "    \n",
    "    # returns a dictionary with a list of good features for each method\n",
    "    goodFeats = remove_problematic_features(d)\n",
    "    \n",
    "    # removes infinite values\n",
    "    infID = d[abs(d['values']) == np.inf]['id'].unique()\n",
    "    d = d.loc[~d['id'].isin(infID)]\n",
    "\n",
    "    #---------------------------------------------\n",
    "    # remove the bad features\n",
    "   \n",
    "    filtered = pd.DataFrame()\n",
    "    \n",
    "    for method in d['method'].unique():\n",
    "        \n",
    "        # then remove all the features that are not mentioned\n",
    "        \n",
    "        temp = d.loc[(d['method'] == method) & (d['names'].isin(goodFeats[method]))]\n",
    "        filtered = pd.concat([filtered, temp], ignore_index=True)\n",
    "    \n",
    "    #----------------------------------------------------------------------------------------\n",
    "    # now that the bad features are removed, we need to remove any time series that has a NaN\n",
    "    \n",
    "    badIDs = []\n",
    "    \n",
    "    for method in filtered['method'].unique():\n",
    "        \n",
    "        # normalizing the values\n",
    "        methodFrame = filtered.loc[filtered['method'] == method].groupby('names').apply(myZscore)\n",
    "        \n",
    "        # rows are time series', columns are features\n",
    "        tmpFrame = pd.pivot_table(methodFrame, index=['id'], columns=['names'])\n",
    "        badIDs = badIDs + np.where(tmpFrame.isna().any(axis=1))[0].tolist()\n",
    "    \n",
    "    badIDs = list(set(badIDs))\n",
    "    \n",
    "    # this will store all the good features and all the good id's in the dataframe 'filtered'\n",
    "    filtered = filtered.loc[~filtered['id'].isin(badIDs)]\n",
    "    \n",
    "    goodIDs = filtered['id'].unique()\n",
    "    \n",
    "    return filtered, goodIDs\n",
    "    "
   ]
  },
  {
   "cell_type": "code",
   "execution_count": 26,
   "metadata": {},
   "outputs": [],
   "source": [
    "filt1, goodIDs = remove_problematic_datasets(fullFeatMat)"
   ]
  },
  {
   "cell_type": "code",
   "execution_count": 27,
   "metadata": {},
   "outputs": [
    {
     "name": "stderr",
     "output_type": "stream",
     "text": [
      "C:\\Users\\stoja\\AppData\\Local\\Temp\\ipykernel_2316\\1665319450.py:1: DeprecationWarning: elementwise comparison failed; this will raise an error in the future.\n",
      "  fullFeatMat['id'].unique() in goodIDs\n"
     ]
    },
    {
     "data": {
      "text/plain": [
       "False"
      ]
     },
     "execution_count": 27,
     "metadata": {},
     "output_type": "execute_result"
    }
   ],
   "source": [
    "fullFeatMat['id'].unique() in goodIDs"
   ]
  },
  {
   "cell_type": "code",
   "execution_count": 28,
   "metadata": {},
   "outputs": [
    {
     "data": {
      "text/plain": [
       "513"
      ]
     },
     "execution_count": 28,
     "metadata": {},
     "output_type": "execute_result"
    }
   ],
   "source": [
    "len(goodIDs)"
   ]
  },
  {
   "cell_type": "code",
   "execution_count": 29,
   "metadata": {},
   "outputs": [
    {
     "data": {
      "text/html": [
       "<div>\n",
       "<style scoped>\n",
       "    .dataframe tbody tr th:only-of-type {\n",
       "        vertical-align: middle;\n",
       "    }\n",
       "\n",
       "    .dataframe tbody tr th {\n",
       "        vertical-align: top;\n",
       "    }\n",
       "\n",
       "    .dataframe thead th {\n",
       "        text-align: right;\n",
       "    }\n",
       "</style>\n",
       "<table border=\"1\" class=\"dataframe\">\n",
       "  <thead>\n",
       "    <tr style=\"text-align: right;\">\n",
       "      <th></th>\n",
       "      <th>id</th>\n",
       "      <th>group</th>\n",
       "      <th>names</th>\n",
       "      <th>values</th>\n",
       "      <th>method</th>\n",
       "    </tr>\n",
       "  </thead>\n",
       "  <tbody>\n",
       "    <tr>\n",
       "      <th>0</th>\n",
       "      <td>1</td>\n",
       "      <td>airq</td>\n",
       "      <td>SP_Summaries_welch_rect_centroid</td>\n",
       "      <td>0.042951</td>\n",
       "      <td>catch22</td>\n",
       "    </tr>\n",
       "    <tr>\n",
       "      <th>1</th>\n",
       "      <td>2</td>\n",
       "      <td>airq</td>\n",
       "      <td>SP_Summaries_welch_rect_centroid</td>\n",
       "      <td>0.042951</td>\n",
       "      <td>catch22</td>\n",
       "    </tr>\n",
       "    <tr>\n",
       "      <th>2</th>\n",
       "      <td>3</td>\n",
       "      <td>airq</td>\n",
       "      <td>SP_Summaries_welch_rect_centroid</td>\n",
       "      <td>0.042951</td>\n",
       "      <td>catch22</td>\n",
       "    </tr>\n",
       "    <tr>\n",
       "      <th>3</th>\n",
       "      <td>6</td>\n",
       "      <td>airq</td>\n",
       "      <td>SP_Summaries_welch_rect_centroid</td>\n",
       "      <td>1.497165</td>\n",
       "      <td>catch22</td>\n",
       "    </tr>\n",
       "    <tr>\n",
       "      <th>4</th>\n",
       "      <td>7</td>\n",
       "      <td>airq</td>\n",
       "      <td>SP_Summaries_welch_rect_centroid</td>\n",
       "      <td>1.503301</td>\n",
       "      <td>catch22</td>\n",
       "    </tr>\n",
       "    <tr>\n",
       "      <th>...</th>\n",
       "      <td>...</td>\n",
       "      <td>...</td>\n",
       "      <td>...</td>\n",
       "      <td>...</td>\n",
       "      <td>...</td>\n",
       "    </tr>\n",
       "    <tr>\n",
       "      <th>621751</th>\n",
       "      <td>604</td>\n",
       "      <td>synthetic, 1M</td>\n",
       "      <td>beta</td>\n",
       "      <td>0.276522</td>\n",
       "      <td>tsfeatures</td>\n",
       "    </tr>\n",
       "    <tr>\n",
       "      <th>621752</th>\n",
       "      <td>604</td>\n",
       "      <td>synthetic, 1M</td>\n",
       "      <td>arch_r2</td>\n",
       "      <td>0.010751</td>\n",
       "      <td>tsfeatures</td>\n",
       "    </tr>\n",
       "    <tr>\n",
       "      <th>621753</th>\n",
       "      <td>604</td>\n",
       "      <td>synthetic, 1M</td>\n",
       "      <td>arch_lm</td>\n",
       "      <td>0.814753</td>\n",
       "      <td>tsfeatures</td>\n",
       "    </tr>\n",
       "    <tr>\n",
       "      <th>621754</th>\n",
       "      <td>604</td>\n",
       "      <td>synthetic, 1M</td>\n",
       "      <td>arch_acf</td>\n",
       "      <td>0.011818</td>\n",
       "      <td>tsfeatures</td>\n",
       "    </tr>\n",
       "    <tr>\n",
       "      <th>621755</th>\n",
       "      <td>604</td>\n",
       "      <td>synthetic, 1M</td>\n",
       "      <td>alpha</td>\n",
       "      <td>0.571412</td>\n",
       "      <td>tsfeatures</td>\n",
       "    </tr>\n",
       "  </tbody>\n",
       "</table>\n",
       "<p>621756 rows × 5 columns</p>\n",
       "</div>"
      ],
      "text/plain": [
       "         id          group                             names    values  \\\n",
       "0         1           airq  SP_Summaries_welch_rect_centroid  0.042951   \n",
       "1         2           airq  SP_Summaries_welch_rect_centroid  0.042951   \n",
       "2         3           airq  SP_Summaries_welch_rect_centroid  0.042951   \n",
       "3         6           airq  SP_Summaries_welch_rect_centroid  1.497165   \n",
       "4         7           airq  SP_Summaries_welch_rect_centroid  1.503301   \n",
       "...     ...            ...                               ...       ...   \n",
       "621751  604  synthetic, 1M                              beta  0.276522   \n",
       "621752  604  synthetic, 1M                           arch_r2  0.010751   \n",
       "621753  604  synthetic, 1M                           arch_lm  0.814753   \n",
       "621754  604  synthetic, 1M                          arch_acf  0.011818   \n",
       "621755  604  synthetic, 1M                             alpha  0.571412   \n",
       "\n",
       "            method  \n",
       "0          catch22  \n",
       "1          catch22  \n",
       "2          catch22  \n",
       "3          catch22  \n",
       "4          catch22  \n",
       "...            ...  \n",
       "621751  tsfeatures  \n",
       "621752  tsfeatures  \n",
       "621753  tsfeatures  \n",
       "621754  tsfeatures  \n",
       "621755  tsfeatures  \n",
       "\n",
       "[621756 rows x 5 columns]"
      ]
     },
     "execution_count": 29,
     "metadata": {},
     "output_type": "execute_result"
    }
   ],
   "source": [
    "# Change the row indexes\n",
    "filt1.index = list(range(len(filt1)))\n",
    "filt1"
   ]
  },
  {
   "cell_type": "markdown",
   "metadata": {},
   "source": [
    "Norm the values by each feature for each method."
   ]
  },
  {
   "cell_type": "code",
   "execution_count": 30,
   "metadata": {},
   "outputs": [
    {
     "data": {
      "text/html": [
       "<div>\n",
       "<style scoped>\n",
       "    .dataframe tbody tr th:only-of-type {\n",
       "        vertical-align: middle;\n",
       "    }\n",
       "\n",
       "    .dataframe tbody tr th {\n",
       "        vertical-align: top;\n",
       "    }\n",
       "\n",
       "    .dataframe thead th {\n",
       "        text-align: right;\n",
       "    }\n",
       "</style>\n",
       "<table border=\"1\" class=\"dataframe\">\n",
       "  <thead>\n",
       "    <tr style=\"text-align: right;\">\n",
       "      <th></th>\n",
       "      <th>id</th>\n",
       "      <th>group</th>\n",
       "      <th>names</th>\n",
       "      <th>values</th>\n",
       "      <th>method</th>\n",
       "    </tr>\n",
       "  </thead>\n",
       "  <tbody>\n",
       "    <tr>\n",
       "      <th>0</th>\n",
       "      <td>1</td>\n",
       "      <td>airq</td>\n",
       "      <td>SP_Summaries_welch_rect_centroid</td>\n",
       "      <td>-0.459488</td>\n",
       "      <td>catch22</td>\n",
       "    </tr>\n",
       "    <tr>\n",
       "      <th>1</th>\n",
       "      <td>2</td>\n",
       "      <td>airq</td>\n",
       "      <td>SP_Summaries_welch_rect_centroid</td>\n",
       "      <td>-0.459488</td>\n",
       "      <td>catch22</td>\n",
       "    </tr>\n",
       "    <tr>\n",
       "      <th>2</th>\n",
       "      <td>3</td>\n",
       "      <td>airq</td>\n",
       "      <td>SP_Summaries_welch_rect_centroid</td>\n",
       "      <td>-0.459488</td>\n",
       "      <td>catch22</td>\n",
       "    </tr>\n",
       "    <tr>\n",
       "      <th>3</th>\n",
       "      <td>6</td>\n",
       "      <td>airq</td>\n",
       "      <td>SP_Summaries_welch_rect_centroid</td>\n",
       "      <td>2.624249</td>\n",
       "      <td>catch22</td>\n",
       "    </tr>\n",
       "    <tr>\n",
       "      <th>4</th>\n",
       "      <td>7</td>\n",
       "      <td>airq</td>\n",
       "      <td>SP_Summaries_welch_rect_centroid</td>\n",
       "      <td>2.637261</td>\n",
       "      <td>catch22</td>\n",
       "    </tr>\n",
       "    <tr>\n",
       "      <th>...</th>\n",
       "      <td>...</td>\n",
       "      <td>...</td>\n",
       "      <td>...</td>\n",
       "      <td>...</td>\n",
       "      <td>...</td>\n",
       "    </tr>\n",
       "    <tr>\n",
       "      <th>621751</th>\n",
       "      <td>604</td>\n",
       "      <td>synthetic, 1M</td>\n",
       "      <td>beta</td>\n",
       "      <td>0.305495</td>\n",
       "      <td>tsfeatures</td>\n",
       "    </tr>\n",
       "    <tr>\n",
       "      <th>621752</th>\n",
       "      <td>604</td>\n",
       "      <td>synthetic, 1M</td>\n",
       "      <td>arch_r2</td>\n",
       "      <td>-0.466958</td>\n",
       "      <td>tsfeatures</td>\n",
       "    </tr>\n",
       "    <tr>\n",
       "      <th>621753</th>\n",
       "      <td>604</td>\n",
       "      <td>synthetic, 1M</td>\n",
       "      <td>arch_lm</td>\n",
       "      <td>0.829934</td>\n",
       "      <td>tsfeatures</td>\n",
       "    </tr>\n",
       "    <tr>\n",
       "      <th>621754</th>\n",
       "      <td>604</td>\n",
       "      <td>synthetic, 1M</td>\n",
       "      <td>arch_acf</td>\n",
       "      <td>-0.471774</td>\n",
       "      <td>tsfeatures</td>\n",
       "    </tr>\n",
       "    <tr>\n",
       "      <th>621755</th>\n",
       "      <td>604</td>\n",
       "      <td>synthetic, 1M</td>\n",
       "      <td>alpha</td>\n",
       "      <td>0.044504</td>\n",
       "      <td>tsfeatures</td>\n",
       "    </tr>\n",
       "  </tbody>\n",
       "</table>\n",
       "<p>621756 rows × 5 columns</p>\n",
       "</div>"
      ],
      "text/plain": [
       "         id          group                             names    values  \\\n",
       "0         1           airq  SP_Summaries_welch_rect_centroid -0.459488   \n",
       "1         2           airq  SP_Summaries_welch_rect_centroid -0.459488   \n",
       "2         3           airq  SP_Summaries_welch_rect_centroid -0.459488   \n",
       "3         6           airq  SP_Summaries_welch_rect_centroid  2.624249   \n",
       "4         7           airq  SP_Summaries_welch_rect_centroid  2.637261   \n",
       "...     ...            ...                               ...       ...   \n",
       "621751  604  synthetic, 1M                              beta  0.305495   \n",
       "621752  604  synthetic, 1M                           arch_r2 -0.466958   \n",
       "621753  604  synthetic, 1M                           arch_lm  0.829934   \n",
       "621754  604  synthetic, 1M                          arch_acf -0.471774   \n",
       "621755  604  synthetic, 1M                             alpha  0.044504   \n",
       "\n",
       "            method  \n",
       "0          catch22  \n",
       "1          catch22  \n",
       "2          catch22  \n",
       "3          catch22  \n",
       "4          catch22  \n",
       "...            ...  \n",
       "621751  tsfeatures  \n",
       "621752  tsfeatures  \n",
       "621753  tsfeatures  \n",
       "621754  tsfeatures  \n",
       "621755  tsfeatures  \n",
       "\n",
       "[621756 rows x 5 columns]"
      ]
     },
     "execution_count": 30,
     "metadata": {},
     "output_type": "execute_result"
    }
   ],
   "source": [
    "filt2 = pd.DataFrame()\n",
    "\n",
    "for method in filt1['method'].unique():\n",
    "\n",
    "    methodFrame = filt1[filt1['method'] == method]\n",
    "    normedFrame = methodFrame.groupby('names').apply(myZscore)\n",
    "    \n",
    "    filt2 = pd.concat([filt2, normedFrame], ignore_index=True)\n",
    "    \n",
    "filt2"
   ]
  },
  {
   "cell_type": "code",
   "execution_count": 13,
   "metadata": {},
   "outputs": [],
   "source": [
    "# store to use for PCA\n",
    "#filt2.to_feather('divers/versuch02.feather')\n",
    "filt2.to_feather('divers/versuch02_exp.feather')"
   ]
  },
  {
   "cell_type": "markdown",
   "metadata": {},
   "source": [
    "--------------------------------------"
   ]
  },
  {
   "cell_type": "markdown",
   "metadata": {},
   "source": [
    "Now adding a column called _comb_id_ which stores the method name combined with the feature name."
   ]
  },
  {
   "cell_type": "code",
   "execution_count": 31,
   "metadata": {},
   "outputs": [],
   "source": [
    "def combine_method_and_name(row):\n",
    "    return row['method'] + '_' + row['names']"
   ]
  },
  {
   "cell_type": "code",
   "execution_count": 32,
   "metadata": {},
   "outputs": [],
   "source": [
    "filt2['comb_id'] = filt2.apply(lambda row: combine_method_and_name(row), axis=1)\n",
    "filt3 = filt2.copy()\n",
    "#del filt1, filt2"
   ]
  },
  {
   "cell_type": "code",
   "execution_count": 33,
   "metadata": {},
   "outputs": [
    {
     "data": {
      "text/html": [
       "<div>\n",
       "<style scoped>\n",
       "    .dataframe tbody tr th:only-of-type {\n",
       "        vertical-align: middle;\n",
       "    }\n",
       "\n",
       "    .dataframe tbody tr th {\n",
       "        vertical-align: top;\n",
       "    }\n",
       "\n",
       "    .dataframe thead th {\n",
       "        text-align: right;\n",
       "    }\n",
       "</style>\n",
       "<table border=\"1\" class=\"dataframe\">\n",
       "  <thead>\n",
       "    <tr style=\"text-align: right;\">\n",
       "      <th></th>\n",
       "      <th>id</th>\n",
       "      <th>group</th>\n",
       "      <th>names</th>\n",
       "      <th>values</th>\n",
       "      <th>method</th>\n",
       "      <th>comb_id</th>\n",
       "    </tr>\n",
       "  </thead>\n",
       "  <tbody>\n",
       "    <tr>\n",
       "      <th>0</th>\n",
       "      <td>1</td>\n",
       "      <td>airq</td>\n",
       "      <td>SP_Summaries_welch_rect_centroid</td>\n",
       "      <td>-0.459488</td>\n",
       "      <td>catch22</td>\n",
       "      <td>catch22_SP_Summaries_welch_rect_centroid</td>\n",
       "    </tr>\n",
       "    <tr>\n",
       "      <th>1</th>\n",
       "      <td>2</td>\n",
       "      <td>airq</td>\n",
       "      <td>SP_Summaries_welch_rect_centroid</td>\n",
       "      <td>-0.459488</td>\n",
       "      <td>catch22</td>\n",
       "      <td>catch22_SP_Summaries_welch_rect_centroid</td>\n",
       "    </tr>\n",
       "    <tr>\n",
       "      <th>2</th>\n",
       "      <td>3</td>\n",
       "      <td>airq</td>\n",
       "      <td>SP_Summaries_welch_rect_centroid</td>\n",
       "      <td>-0.459488</td>\n",
       "      <td>catch22</td>\n",
       "      <td>catch22_SP_Summaries_welch_rect_centroid</td>\n",
       "    </tr>\n",
       "    <tr>\n",
       "      <th>3</th>\n",
       "      <td>6</td>\n",
       "      <td>airq</td>\n",
       "      <td>SP_Summaries_welch_rect_centroid</td>\n",
       "      <td>2.624249</td>\n",
       "      <td>catch22</td>\n",
       "      <td>catch22_SP_Summaries_welch_rect_centroid</td>\n",
       "    </tr>\n",
       "    <tr>\n",
       "      <th>4</th>\n",
       "      <td>7</td>\n",
       "      <td>airq</td>\n",
       "      <td>SP_Summaries_welch_rect_centroid</td>\n",
       "      <td>2.637261</td>\n",
       "      <td>catch22</td>\n",
       "      <td>catch22_SP_Summaries_welch_rect_centroid</td>\n",
       "    </tr>\n",
       "    <tr>\n",
       "      <th>...</th>\n",
       "      <td>...</td>\n",
       "      <td>...</td>\n",
       "      <td>...</td>\n",
       "      <td>...</td>\n",
       "      <td>...</td>\n",
       "      <td>...</td>\n",
       "    </tr>\n",
       "    <tr>\n",
       "      <th>621751</th>\n",
       "      <td>604</td>\n",
       "      <td>synthetic, 1M</td>\n",
       "      <td>beta</td>\n",
       "      <td>0.305495</td>\n",
       "      <td>tsfeatures</td>\n",
       "      <td>tsfeatures_beta</td>\n",
       "    </tr>\n",
       "    <tr>\n",
       "      <th>621752</th>\n",
       "      <td>604</td>\n",
       "      <td>synthetic, 1M</td>\n",
       "      <td>arch_r2</td>\n",
       "      <td>-0.466958</td>\n",
       "      <td>tsfeatures</td>\n",
       "      <td>tsfeatures_arch_r2</td>\n",
       "    </tr>\n",
       "    <tr>\n",
       "      <th>621753</th>\n",
       "      <td>604</td>\n",
       "      <td>synthetic, 1M</td>\n",
       "      <td>arch_lm</td>\n",
       "      <td>0.829934</td>\n",
       "      <td>tsfeatures</td>\n",
       "      <td>tsfeatures_arch_lm</td>\n",
       "    </tr>\n",
       "    <tr>\n",
       "      <th>621754</th>\n",
       "      <td>604</td>\n",
       "      <td>synthetic, 1M</td>\n",
       "      <td>arch_acf</td>\n",
       "      <td>-0.471774</td>\n",
       "      <td>tsfeatures</td>\n",
       "      <td>tsfeatures_arch_acf</td>\n",
       "    </tr>\n",
       "    <tr>\n",
       "      <th>621755</th>\n",
       "      <td>604</td>\n",
       "      <td>synthetic, 1M</td>\n",
       "      <td>alpha</td>\n",
       "      <td>0.044504</td>\n",
       "      <td>tsfeatures</td>\n",
       "      <td>tsfeatures_alpha</td>\n",
       "    </tr>\n",
       "  </tbody>\n",
       "</table>\n",
       "<p>621756 rows × 6 columns</p>\n",
       "</div>"
      ],
      "text/plain": [
       "         id          group                             names    values  \\\n",
       "0         1           airq  SP_Summaries_welch_rect_centroid -0.459488   \n",
       "1         2           airq  SP_Summaries_welch_rect_centroid -0.459488   \n",
       "2         3           airq  SP_Summaries_welch_rect_centroid -0.459488   \n",
       "3         6           airq  SP_Summaries_welch_rect_centroid  2.624249   \n",
       "4         7           airq  SP_Summaries_welch_rect_centroid  2.637261   \n",
       "...     ...            ...                               ...       ...   \n",
       "621751  604  synthetic, 1M                              beta  0.305495   \n",
       "621752  604  synthetic, 1M                           arch_r2 -0.466958   \n",
       "621753  604  synthetic, 1M                           arch_lm  0.829934   \n",
       "621754  604  synthetic, 1M                          arch_acf -0.471774   \n",
       "621755  604  synthetic, 1M                             alpha  0.044504   \n",
       "\n",
       "            method                                   comb_id  \n",
       "0          catch22  catch22_SP_Summaries_welch_rect_centroid  \n",
       "1          catch22  catch22_SP_Summaries_welch_rect_centroid  \n",
       "2          catch22  catch22_SP_Summaries_welch_rect_centroid  \n",
       "3          catch22  catch22_SP_Summaries_welch_rect_centroid  \n",
       "4          catch22  catch22_SP_Summaries_welch_rect_centroid  \n",
       "...            ...                                       ...  \n",
       "621751  tsfeatures                           tsfeatures_beta  \n",
       "621752  tsfeatures                        tsfeatures_arch_r2  \n",
       "621753  tsfeatures                        tsfeatures_arch_lm  \n",
       "621754  tsfeatures                       tsfeatures_arch_acf  \n",
       "621755  tsfeatures                          tsfeatures_alpha  \n",
       "\n",
       "[621756 rows x 6 columns]"
      ]
     },
     "execution_count": 33,
     "metadata": {},
     "output_type": "execute_result"
    }
   ],
   "source": [
    "filt3"
   ]
  },
  {
   "cell_type": "markdown",
   "metadata": {},
   "source": [
    "--------------------------------------"
   ]
  },
  {
   "cell_type": "markdown",
   "metadata": {},
   "source": [
    "### Compute correlation"
   ]
  },
  {
   "cell_type": "markdown",
   "metadata": {},
   "source": [
    "Next step: take every possible combination of 2 methods and calculate the spearman correlation between all features of the two methods."
   ]
  },
  {
   "cell_type": "code",
   "execution_count": 34,
   "metadata": {
    "scrolled": true
   },
   "outputs": [
    {
     "name": "stdout",
     "output_type": "stream",
     "text": [
      "Doing:  ('catch22', 'kats')\n",
      "Doing:  ('catch22', 'tsfel')\n",
      "Doing:  ('catch22', 'tsfresh')\n",
      "Doing:  ('catch22', 'tsfeatures')\n",
      "Doing:  ('kats', 'tsfel')\n",
      "Doing:  ('kats', 'tsfresh')\n",
      "Doing:  ('kats', 'tsfeatures')\n",
      "Doing:  ('tsfel', 'tsfresh')\n",
      "Doing:  ('tsfel', 'tsfeatures')\n",
      "Doing:  ('tsfresh', 'tsfeatures')\n"
     ]
    }
   ],
   "source": [
    "# create a list with all the methods used and get all the possible combinations\n",
    "# take every possible combination of 2 methods and calculate the spearman correlation between all features of the two methods\n",
    "methods = filt3['method'].unique()\n",
    "methodCombinations = list(itertools.combinations(methods, r=2))\n",
    "\n",
    "i = 0\n",
    "\n",
    "# compute the spearman correlation of each method combination\n",
    "for combination in methodCombinations:\n",
    "    \n",
    "    print('Doing: ', combination)\n",
    "    \n",
    "    corrDF = pd.DataFrame(columns=['method1', 'method2', 'feat1', 'feat2', 'corr'])\n",
    "    \n",
    "    # stores the feature names of method 1\n",
    "    frame1 = pd.pivot_table(filt3[filt3['method'] == combination[0]], index=['id'], columns=['comb_id'])\n",
    "    frame2 = pd.pivot_table(filt3[filt3['method'] == combination[1]], index=['id'], columns=['comb_id'])\n",
    "    \n",
    "    # stores all the correlations between each pair of features\n",
    "    allCorr = pd.concat([frame1, frame2], axis=1).corr(method='spearman').filter(frame2.columns).filter(frame1.columns, axis=0)\n",
    "    \n",
    "    # having the correlations in on columne, the feature names as indeces\n",
    "    tmpDF = allCorr.stack()\n",
    "    \n",
    "    # rename indeces and column to be able to reset the index\n",
    "    tmpDF.index.names = [None, 'feat1', 'feat2']\n",
    "    tmpDF.columns = ['corr']\n",
    "    corrDF = tmpDF.reset_index().iloc[: , 1:]\n",
    "    \n",
    "    # adds the method names\n",
    "    l = len(corrDF)\n",
    "    corrDF.insert(loc=0, column='method2', value=l * [combination[1]])\n",
    "    corrDF.insert(loc=0, column='method1', value=l * [combination[0]])\n",
    "    \n",
    "    #corrDF.to_feather('corrMatsNorm/corrMat' + str(i) + '.feather')\n",
    "    corrDF.to_feather('test/corrMat' + str(i) + '.feather')\n",
    "    i += 1\n"
   ]
  },
  {
   "cell_type": "code",
   "execution_count": null,
   "metadata": {},
   "outputs": [],
   "source": []
  }
 ],
 "metadata": {
  "kernelspec": {
   "display_name": "Python 3 (ipykernel)",
   "language": "python",
   "name": "python3"
  },
  "language_info": {
   "codemirror_mode": {
    "name": "ipython",
    "version": 3
   },
   "file_extension": ".py",
   "mimetype": "text/x-python",
   "name": "python",
   "nbconvert_exporter": "python",
   "pygments_lexer": "ipython3",
   "version": "3.8.10"
  }
 },
 "nbformat": 4,
 "nbformat_minor": 4
}
