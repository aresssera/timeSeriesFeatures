{
 "cells": [
  {
   "cell_type": "markdown",
   "metadata": {},
   "source": [
    "### Import libraries"
   ]
  },
  {
   "cell_type": "code",
   "execution_count": null,
   "metadata": {
    "scrolled": false
   },
   "outputs": [],
   "source": [
    "%matplotlib inline\n",
    "import matplotlib.pyplot as plt\n",
    "import seaborn as sns\n",
    "import numpy as np\n",
    "import pandas as pd\n",
    "import glob\n",
    "import os\n",
    "import feather\n",
    "from sklearn.decomposition import PCA\n",
    "sns.set(style=\"whitegrid\")"
   ]
  },
  {
   "cell_type": "markdown",
   "metadata": {},
   "source": [
    "--------------------------------------"
   ]
  },
  {
   "cell_type": "markdown",
   "metadata": {},
   "source": [
    "### Load calculated features"
   ]
  },
  {
   "cell_type": "code",
   "execution_count": null,
   "metadata": {
    "scrolled": true
   },
   "outputs": [],
   "source": [
    "fullFeatMat = feather.read_dataframe('data/EmpFeatMat.feather')\n",
    "filt        = feather.read_dataframe('data/fullFeatMatFilt.feather')"
   ]
  },
  {
   "cell_type": "markdown",
   "metadata": {},
   "source": [
    "--------------------------------------"
   ]
  },
  {
   "cell_type": "markdown",
   "metadata": {},
   "source": [
    "### Compute PCA"
   ]
  },
  {
   "cell_type": "code",
   "execution_count": null,
   "metadata": {
    "scrolled": false
   },
   "outputs": [],
   "source": [
    "def getVariances(df, totalLength):\n",
    "    pca = PCA().fit(df)\n",
    "    \n",
    "    # calculates all variances\n",
    "    variances = pca.explained_variance_ratio_\n",
    "\n",
    "    variance_values = totalLength * [1]\n",
    "\n",
    "    j = 0\n",
    "    for i in range(1,len(variances)+1):\n",
    "        variance_values[j] = np.sum(variances[:i])\n",
    "        j += 1\n",
    "        \n",
    "    atLeast90 = [i for i in variance_values if i >= 0.9]\n",
    "    smallestOne = min(atLeast90)\n",
    "    \n",
    "    # stores the smallest number of PCs necessary to cover at least 90% of the variance\n",
    "    smallestPC = (variance_values.index(smallestOne)+1) / totalLength * 100\n",
    "    \n",
    "    # for plotting\n",
    "    percentage = [(i / totalLength)*100 for i in list(range(1, totalLength+1))]\n",
    "    \n",
    "    # in Prozent\n",
    "    variance_values = [i * 100 for i in variance_values]\n",
    "        \n",
    "    return smallestPC, variance_values, percentage"
   ]
  },
  {
   "cell_type": "code",
   "execution_count": null,
   "metadata": {
    "scrolled": false
   },
   "outputs": [],
   "source": [
    "methods = fullFeatMat['method'].unique()\n",
    "\n",
    "# stores the smallest #PC of the corresponding method\n",
    "smallestPC_value = []\n",
    "all_varianceValues = []\n",
    "all_percentages = []\n",
    "\n",
    "for method in methods:\n",
    "    print('Doing ', method)\n",
    "    \n",
    "    # features as columns, a row correspond to a time series\n",
    "    tempFrame = pd.pivot_table(filt[filt['method'] == method], index=['id'], columns=['names'])\n",
    "    tempFrame = tempFrame.dropna()\n",
    "    \n",
    "    # how many feature the method has in total\n",
    "    nbrFeats = len(fullFeatMat[fullFeatMat['method'] == method]['names'].unique())\n",
    "    \n",
    "    smallestPC, varianceValues, percentage = getVariances(tempFrame, nbrFeats)\n",
    "    \n",
    "    smallestPC_value.append(smallestPC)\n",
    "    all_varianceValues.append(varianceValues)\n",
    "    all_percentages.append(percentage)\n",
    "    \n",
    "# sort descending\n",
    "tp = [(m, v) for m,v in zip(methods, smallestPC_value)]\n",
    "tp.sort(key=lambda x: x[1], reverse=True)"
   ]
  },
  {
   "cell_type": "markdown",
   "metadata": {},
   "source": [
    "--------------------------------------"
   ]
  },
  {
   "cell_type": "markdown",
   "metadata": {},
   "source": [
    "### Plot barplot"
   ]
  },
  {
   "cell_type": "code",
   "execution_count": null,
   "metadata": {
    "scrolled": false
   },
   "outputs": [],
   "source": [
    "fig, ax = plt.subplots()\n",
    "\n",
    "y_pos = np.arange(len(methods))\n",
    "colours = ['navy', 'turquoise', 'gold', 'forestgreen', 'darkorange']\n",
    "\n",
    "# Create bars\n",
    "plt.bar(y_pos, [v for (m,v) in tp], color=colours)\n",
    "\n",
    "# Create names on the x-axis\n",
    "plt.xticks(y_pos, [m for (m,v) in tp])\n",
    "\n",
    "# Show graphic\n",
    "plt.xlabel('Feature set')\n",
    "plt.ylabel('% of principal components for 90% variance')\n",
    "plt.show()\n",
    "\n",
    "fig.savefig('outputs/pca1.pdf')"
   ]
  },
  {
   "cell_type": "code",
   "execution_count": null,
   "metadata": {
    "scrolled": false
   },
   "outputs": [],
   "source": [
    "fig, ax = plt.subplots()\n",
    "\n",
    "for i in range(len(all_varianceValues)):\n",
    "    ax = sns.lineplot(x=all_percentages[i], y=all_varianceValues[i], color=colours[i])\n",
    "\n",
    "plt.axhline(y = 90, color = 'black', linestyle = 'dotted')\n",
    "plt.xlabel('% of principal components')\n",
    "plt.ylabel('Cummulative variance explained (%)')\n",
    "plt.show()\n",
    "\n",
    "fig.savefig('outputs/pca2.pdf')"
   ]
  },
  {
   "cell_type": "markdown",
   "metadata": {},
   "source": [
    "--------------------------------------"
   ]
  }
 ],
 "metadata": {
  "kernelspec": {
   "display_name": "Python 3 (ipykernel)",
   "language": "python",
   "name": "python3"
  },
  "language_info": {
   "codemirror_mode": {
    "name": "ipython",
    "version": 3
   },
   "file_extension": ".py",
   "mimetype": "text/x-python",
   "name": "python",
   "nbconvert_exporter": "python",
   "pygments_lexer": "ipython3",
   "version": "3.8.10"
  }
 },
 "nbformat": 4,
 "nbformat_minor": 4
}
