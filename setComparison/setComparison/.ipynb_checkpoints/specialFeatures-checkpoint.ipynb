{
 "cells": [
  {
   "cell_type": "markdown",
   "metadata": {},
   "source": [
    "### Import libraries"
   ]
  },
  {
   "cell_type": "code",
   "execution_count": null,
   "metadata": {},
   "outputs": [],
   "source": [
    "%matplotlib inline\n",
    "import matplotlib.pyplot as plt\n",
    "import seaborn as sns\n",
    "import numpy as np\n",
    "import pandas as pd\n",
    "import time\n",
    "import feather\n",
    "from os import listdir\n",
    "from os.path import join, isfile\n",
    "sns.set(style=\"whitegrid\")\n",
    "pd.options.mode.chained_assignment = None "
   ]
  },
  {
   "cell_type": "markdown",
   "metadata": {},
   "source": [
    "--------------------------------------"
   ]
  },
  {
   "cell_type": "markdown",
   "metadata": {},
   "source": [
    "### Load correlation matrices"
   ]
  },
  {
   "cell_type": "code",
   "execution_count": null,
   "metadata": {},
   "outputs": [],
   "source": [
    "fileList = ['corrMats/' + f for f in listdir('corrMats/') if isfile(join('corrMats/', f))]\n",
    "fileList"
   ]
  },
  {
   "cell_type": "markdown",
   "metadata": {},
   "source": [
    "--------------------------------------"
   ]
  },
  {
   "cell_type": "code",
   "execution_count": null,
   "metadata": {},
   "outputs": [],
   "source": [
    "df = feather.read_dataframe(fileList[2])\n",
    "df"
   ]
  },
  {
   "cell_type": "markdown",
   "metadata": {},
   "source": [
    "### Add title"
   ]
  },
  {
   "cell_type": "code",
   "execution_count": null,
   "metadata": {},
   "outputs": [],
   "source": [
    "def compute_max_corr(absMat, feat_i):\n",
    "    \n",
    "    # for each feature in the method, take the maximum correlation\n",
    "    featList = absMat[feat_i].unique()\n",
    "    maxList = []\n",
    "    \n",
    "    for feat in featList:\n",
    "        \n",
    "        maxList.append(absMat[absMat[feat_i] == feat]['corr'].max())\n",
    "    \n",
    "    return sorted(maxList, reverse=True), featList\n",
    "\n",
    "\n",
    "def corr_for_each_feat(corrMat, first=False, second=False):\n",
    "    \n",
    "    # drop all rows with NaN value\n",
    "    absMat = corrMat.dropna()\n",
    "    absMat['corr'] = absMat['corr'].abs()\n",
    "    \n",
    "    if first:\n",
    "        method1 = corrMat['method1'].unique()[0]\n",
    "        method2 = corrMat['method2'].unique()[0]\n",
    "        \n",
    "        maxList, featList = compute_max_corr(absMat, 'feat1')\n",
    "        data = {'method': [method1] * len(maxList), 'feat': featList, 'maxCorr': maxList}\n",
    "        \n",
    "    elif second:\n",
    "        method2 = corrMat['method1'].unique()[0]\n",
    "        method1 = corrMat['method2'].unique()[0]\n",
    "        \n",
    "        maxList, featList = compute_max_corr(absMat, 'feat2')\n",
    "        l = len(featList)\n",
    "        data = {'method1': [method1] * l, 'method2': [method2] * l, 'feat': featList, 'maxCorr': maxList}\n",
    "        \n",
    "    return pd.DataFrame.from_dict(data)\n",
    "    \n",
    "    \n",
    "def plot_maxAbs(df, title=' '):\n",
    "    \n",
    "    method1 = df['method1'].unique()[0]\n",
    "    method2 = df['method2'].unique()[0]\n",
    "    \n",
    "    y_pos = np.arange(len(df))\n",
    "    \n",
    "    # Create bars\n",
    "    plt.bar(y_pos, df['maxCorr'], color='navy')\n",
    "    \n",
    "    # Create names on the x-axis\n",
    "    if title != ' ':\n",
    "        plt.xticks(y_pos, df['feat'].unique(),rotation='vertical')\n",
    "\n",
    "    # Show graphic\n",
    "    plt.xlabel(method1 + ' feature')\n",
    "    plt.ylabel('Max. Abs. Correlation')\n",
    "    # displaying the title\n",
    "    plt.suptitle(\"Distribution of \" + method1 + \" max abs correlation by feature with \" + method2)\n",
    "    plt.title(title)\n",
    "    plt.show()\n",
    "    "
   ]
  },
  {
   "cell_type": "code",
   "execution_count": null,
   "metadata": {},
   "outputs": [],
   "source": [
    "df = feather.read_dataframe(fileList[7])\n",
    "a = corr_for_each_feat(df, second=True)\n",
    "plot_maxAbs(a)"
   ]
  },
  {
   "cell_type": "code",
   "execution_count": null,
   "metadata": {},
   "outputs": [],
   "source": [
    "b = a.drop(a[a.maxCorr >= 0.2].index)\n",
    "b"
   ]
  },
  {
   "cell_type": "code",
   "execution_count": null,
   "metadata": {},
   "outputs": [],
   "source": [
    "for i in b['feat'].unique():\n",
    "    print(i)"
   ]
  },
  {
   "cell_type": "code",
   "execution_count": null,
   "metadata": {},
   "outputs": [],
   "source": [
    "b = a.drop(a[a.maxCorr >= 0.2].index)\n",
    "plot_maxAbs(b, \"Only features with < 0.2 max. abs. correlation\")"
   ]
  },
  {
   "cell_type": "code",
   "execution_count": null,
   "metadata": {},
   "outputs": [],
   "source": [
    "c = a.drop(a[a.maxCorr <= 0.9].index)\n",
    "plot_maxAbs(c, \"Only features with > 0.9 max. abs. correlation\")"
   ]
  },
  {
   "cell_type": "markdown",
   "metadata": {},
   "source": [
    "--------------------------------------"
   ]
  }
 ],
 "metadata": {
  "kernelspec": {
   "display_name": "Python 3 (ipykernel)",
   "language": "python",
   "name": "python3"
  },
  "language_info": {
   "codemirror_mode": {
    "name": "ipython",
    "version": 3
   },
   "file_extension": ".py",
   "mimetype": "text/x-python",
   "name": "python",
   "nbconvert_exporter": "python",
   "pygments_lexer": "ipython3",
   "version": "3.8.10"
  }
 },
 "nbformat": 4,
 "nbformat_minor": 4
}
