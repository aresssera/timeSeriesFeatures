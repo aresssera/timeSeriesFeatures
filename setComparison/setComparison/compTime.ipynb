{
 "cells": [
  {
   "cell_type": "markdown",
   "metadata": {},
   "source": [
    "### Import libraries"
   ]
  },
  {
   "cell_type": "code",
   "execution_count": null,
   "metadata": {},
   "outputs": [],
   "source": [
    "%matplotlib inline\n",
    "import matplotlib.pyplot as plt\n",
    "import seaborn as sns\n",
    "import numpy as np\n",
    "import pandas as pd\n",
    "import time\n",
    "import statistics\n",
    "import glob\n",
    "import math\n",
    "import os\n",
    "sns.set(style=\"whitegrid\")"
   ]
  },
  {
   "cell_type": "code",
   "execution_count": null,
   "metadata": {},
   "outputs": [],
   "source": [
    "from utilityFuncs import Catch22\n",
    "from utilityFuncs import Kats\n",
    "from utilityFuncs import TSFeatures\n",
    "from utilityFuncs import TSFel\n",
    "from utilityFuncs import TSFresh"
   ]
  },
  {
   "cell_type": "markdown",
   "metadata": {},
   "source": [
    "--------------------------------------"
   ]
  },
  {
   "cell_type": "markdown",
   "metadata": {},
   "source": [
    "### Load time series"
   ]
  },
  {
   "cell_type": "markdown",
   "metadata": {},
   "source": [
    "Load the generated time series of the folder _TimeSeries_."
   ]
  },
  {
   "cell_type": "code",
   "execution_count": null,
   "metadata": {},
   "outputs": [],
   "source": [
    "timeSeriesLength = [100, 250, 500, 750, 1000]\n",
    "timeSeries = []\n",
    "numberOfSeries = 10\n",
    "\n",
    "for filename in glob.glob('TimeSeries/*.txt'):\n",
    "    with open(os.path.join(os.getcwd(), filename), 'r') as f:\n",
    "        \n",
    "        # saves data in a matrix\n",
    "        tsAsArray = np.loadtxt(f, dtype='float')\n",
    "        \n",
    "        # transform into a dataframe and add to collection\n",
    "        ts= pd.DataFrame(tsAsArray)\n",
    "        timeSeries.append(ts)\n"
   ]
  },
  {
   "cell_type": "markdown",
   "metadata": {},
   "source": [
    "Since the naming is based on the length of the time series, it first loads the 1000 long ones --> needs to be changed."
   ]
  },
  {
   "cell_type": "code",
   "execution_count": null,
   "metadata": {
    "scrolled": true
   },
   "outputs": [],
   "source": [
    "[timeSeries.append(timeSeries[i]) for i in range(numberOfSeries)]\n",
    "[timeSeries.pop(0) for _ in range(numberOfSeries)]"
   ]
  },
  {
   "cell_type": "markdown",
   "metadata": {},
   "source": [
    "--------------------------------------"
   ]
  },
  {
   "cell_type": "markdown",
   "metadata": {},
   "source": [
    "### COMPUTATION TIME BY SERIES"
   ]
  },
  {
   "cell_type": "markdown",
   "metadata": {},
   "source": [
    "Same base function for each feature set:"
   ]
  },
  {
   "cell_type": "code",
   "execution_count": null,
   "metadata": {},
   "outputs": [],
   "source": [
    "# stores the number of features calculated by each feature set\n",
    "nbrFeats = []\n",
    "\n",
    "def measureTime(featureSet):\n",
    "    \n",
    "    medians = []\n",
    "\n",
    "    for i in range(len(timeSeriesLength)):\n",
    "    \n",
    "        # the first 10 time series are of length 10, the next 10 of length 250 and so on\n",
    "        part = i*numberOfSeries\n",
    "    \n",
    "        timeMeasures = []\n",
    "    \n",
    "        for j in range(numberOfSeries):\n",
    "        \n",
    "            ind = j + part\n",
    "            ts = timeSeries[ind].values.reshape(len(timeSeries[ind]))\n",
    "            \n",
    "            # get the time\n",
    "            start = time.time()\n",
    "            f = featureSet(ts)\n",
    "            end = time.time()\n",
    "        \n",
    "            timeMeasures.append(end-start)\n",
    "        \n",
    "        medians.append(statistics.median(timeMeasures))\n",
    "    \n",
    "    nbrFeats.append(len(f.iloc[0]))\n",
    "    return medians"
   ]
  },
  {
   "cell_type": "markdown",
   "metadata": {},
   "source": [
    "Get time measurements for each feature set:"
   ]
  },
  {
   "cell_type": "code",
   "execution_count": null,
   "metadata": {},
   "outputs": [],
   "source": [
    "catch22Time    = measureTime(Catch22.calcFeats)\n",
    "katsTime       = measureTime(Kats.calcFeats)\n",
    "tsfeaturesTime = measureTime(TSFeatures.calcFeats)\n",
    "tsfelTime      = measureTime(TSFel.calcFeats)\n",
    "tsfreshTime    = measureTime(TSFresh.calcFeats)\n",
    "\n",
    "measurments = [catch22Time,\n",
    "               katsTime,\n",
    "               tsfeaturesTime,\n",
    "               tsfelTime,\n",
    "               tsfreshTime]"
   ]
  },
  {
   "cell_type": "markdown",
   "metadata": {},
   "source": [
    "### Plotting"
   ]
  },
  {
   "cell_type": "code",
   "execution_count": null,
   "metadata": {},
   "outputs": [],
   "source": [
    "fig, ax = plt.subplots()\n",
    "lw = 2.5\n",
    "colorsXsets = [('catch22', 'firebrick'),\n",
    "               ('kats', 'darkorange'),\n",
    "               ('tsfeatures', 'gold'),\n",
    "               ('tsfel', 'forestgreen'),\n",
    "               ('tsfresh', 'navy')]\n",
    "\n",
    "for y, i in zip(measurments, colorsXsets):\n",
    "    ax = sns.lineplot(x = timeSeriesLength, y = y, color=i[1], label=i[0], linewidth=lw)\n",
    "    \n",
    "ax.set(xlabel='Time series length', ylabel='Computation time (s)')\n",
    "\n",
    "# Shrink current axis by 20%\n",
    "box = ax.get_position()\n",
    "ax.set_position([box.x0, box.y0, box.width * 0.8, box.height])\n",
    "ax.set_yscale('log')\n",
    "ax.set_xscale('log')\n",
    "\n",
    "# Put a legend to the right of the current axis\n",
    "ax.legend(loc='center left', bbox_to_anchor=(1, 0.5))\n",
    "\n",
    "plt.title('Computation time by length of time series')\n",
    "plt.show()\n",
    "\n",
    "fig.savefig('outputs/compTime1.pdf')"
   ]
  },
  {
   "cell_type": "markdown",
   "metadata": {},
   "source": [
    "--------------------------------------"
   ]
  },
  {
   "cell_type": "markdown",
   "metadata": {},
   "source": [
    "### COMPUTATION TIME PER FEATURE BY SERIES LENGTH"
   ]
  },
  {
   "cell_type": "code",
   "execution_count": null,
   "metadata": {},
   "outputs": [],
   "source": [
    "fig, ax = plt.subplots()\n",
    "lw = 2.5\n",
    "colorsXsets = [('catch22', 'firebrick'),\n",
    "               ('kats', 'darkorange'),\n",
    "               ('tsfeatures', 'gold'),\n",
    "               ('tsfel', 'forestgreen'),\n",
    "               ('tsfresh', 'navy')]\n",
    "\n",
    "for i in range(len(measurments)):\n",
    "    ax = sns.lineplot(x = timeSeriesLength, y = np.array( measurments[i]) / nbrFeats[i],\n",
    "                      color=colorsXsets[i][1], label=colorsXsets[i][0], linewidth=lw)\n",
    "    \n",
    "ax.set(xlabel='Time series length', ylabel='Computation time per feature (s)')\n",
    "\n",
    "# Shrink current axis by 20%\n",
    "box = ax.get_position()\n",
    "ax.set_position([box.x0, box.y0, box.width * 0.8, box.height])\n",
    "ax.set_yscale('log')\n",
    "ax.set_xscale('log')\n",
    "\n",
    "# Put a legend to the right of the current axis\n",
    "ax.legend(loc='center left', bbox_to_anchor=(1, 0.5))\n",
    "\n",
    "plt.title('Computation time per feature by length of time series')\n",
    "plt.show()\n",
    "\n",
    "fig.savefig('outputs/compTime2.pdf')"
   ]
  }
 ],
 "metadata": {
  "kernelspec": {
   "display_name": "Python 3 (ipykernel)",
   "language": "python",
   "name": "python3"
  },
  "language_info": {
   "codemirror_mode": {
    "name": "ipython",
    "version": 3
   },
   "file_extension": ".py",
   "mimetype": "text/x-python",
   "name": "python",
   "nbconvert_exporter": "python",
   "pygments_lexer": "ipython3",
   "version": "3.8.10"
  }
 },
 "nbformat": 4,
 "nbformat_minor": 4
}
