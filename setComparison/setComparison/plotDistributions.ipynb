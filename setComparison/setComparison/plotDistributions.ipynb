{
 "cells": [
  {
   "cell_type": "markdown",
   "metadata": {},
   "source": [
    "### Import libraries"
   ]
  },
  {
   "cell_type": "code",
   "execution_count": null,
   "metadata": {},
   "outputs": [],
   "source": [
    "%matplotlib inline\n",
    "import matplotlib.pyplot as plt\n",
    "import seaborn as sns\n",
    "import numpy as np\n",
    "import pandas as pd\n",
    "import feather\n",
    "from os import listdir\n",
    "from os.path import join, isfile\n",
    "sns.set(style=\"whitegrid\")\n",
    "pd.options.mode.chained_assignment = None "
   ]
  },
  {
   "cell_type": "markdown",
   "metadata": {},
   "source": [
    "--------------------------------------"
   ]
  },
  {
   "cell_type": "markdown",
   "metadata": {},
   "source": [
    "### Load correlation matrices"
   ]
  },
  {
   "cell_type": "code",
   "execution_count": null,
   "metadata": {},
   "outputs": [],
   "source": [
    "fileList = ['corrMats/' + f for f in listdir('corrMats/') if isfile(join('corrMats/', f))]\n",
    "fileList"
   ]
  },
  {
   "cell_type": "markdown",
   "metadata": {},
   "source": [
    "--------------------------------------"
   ]
  },
  {
   "cell_type": "markdown",
   "metadata": {},
   "source": [
    "### Compute the max-abs-mean correlation"
   ]
  },
  {
   "cell_type": "markdown",
   "metadata": {},
   "source": [
    "Functions used to compute the correlation between two methods, calculating 2 ways:\n",
    "1. method1 as test, method2 as benchmark\n",
    "2. method2 as test, method1 as benchmark"
   ]
  },
  {
   "cell_type": "code",
   "execution_count": null,
   "metadata": {},
   "outputs": [],
   "source": [
    "fig, ax = plt.subplots(int(np.ceil(len(fileList)/3)), 3, figsize=(20, 25))\n",
    "\n",
    "# using padding\n",
    "fig.tight_layout(pad=5.0)\n",
    "\n",
    "n = 3\n",
    "\n",
    "axes = ax.flatten()\n",
    "for file, a in zip(fileList, axes):\n",
    "    \n",
    "    df = feather.read_dataframe(file)\n",
    "    a.hist(df['corr'], bins=40, color='darkgreen')\n",
    "    #a.set_title(\"Distribution of feature correlations between \" + df['method1'].unique()[0] + \" and \" +  df['method2'].unique()[0])\n",
    "    a.set_title(df['method1'].unique()[0] + \" & \" +  df['method2'].unique()[0])\n",
    "    a.title.set_size(15)\n",
    "\n",
    "fs = 20\n",
    "fig.supxlabel('Correlation Coefficient', fontsize=fs, weight='bold')\n",
    "fig.supylabel('Frequency', fontsize=fs, weight='bold')\n",
    "fig.savefig('outputs/corrDistributions.pdf')"
   ]
  }
 ],
 "metadata": {
  "kernelspec": {
   "display_name": "Python 3 (ipykernel)",
   "language": "python",
   "name": "python3"
  },
  "language_info": {
   "codemirror_mode": {
    "name": "ipython",
    "version": 3
   },
   "file_extension": ".py",
   "mimetype": "text/x-python",
   "name": "python",
   "nbconvert_exporter": "python",
   "pygments_lexer": "ipython3",
   "version": "3.8.10"
  }
 },
 "nbformat": 4,
 "nbformat_minor": 4
}
